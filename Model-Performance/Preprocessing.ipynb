{
 "cells": [
  {
   "cell_type": "code",
   "execution_count": 2,
   "metadata": {},
   "outputs": [],
   "source": [
    "import pandas as pd\n",
    "import matplotlib.pyplot as plt\n",
    "import numpy as np\n",
    "import pickle\n",
    "\n",
    "import time\n",
    "import math\n",
    "import random\n",
    "from tqdm import tqdm\n",
    "import regex as re\n",
    "from collections import Counter\n",
    "import warnings\n",
    "warnings.filterwarnings('ignore')"
   ]
  },
  {
   "cell_type": "markdown",
   "metadata": {},
   "source": [
    "## Identify sequences that have always patterns and those who don't"
   ]
  },
  {
   "cell_type": "code",
   "execution_count": 2,
   "metadata": {},
   "outputs": [],
   "source": [
    "always_patterns = pd.read_csv(r\"C:\\Users\\MIND_DS\\Dropbox (Partners HealthCare)\\NLP\\Tanish\\APOE-SLAT\\EDA\\Data\\always_patterns_8_1.csv\")"
   ]
  },
  {
   "cell_type": "code",
   "execution_count": 3,
   "metadata": {},
   "outputs": [],
   "source": [
    "always_pattern_regex = always_patterns[\"Pattern\"].to_list()"
   ]
  },
  {
   "cell_type": "code",
   "execution_count": 4,
   "metadata": {},
   "outputs": [],
   "source": [
    "for i in range(len(always_pattern_regex)):\n",
    "    always_pattern_regex[i] = re.compile(always_pattern_regex[i], re.IGNORECASE)"
   ]
  },
  {
   "cell_type": "code",
   "execution_count": 6,
   "metadata": {},
   "outputs": [
    {
     "data": {
      "text/html": [
       "<div>\n",
       "<style scoped>\n",
       "    .dataframe tbody tr th:only-of-type {\n",
       "        vertical-align: middle;\n",
       "    }\n",
       "\n",
       "    .dataframe tbody tr th {\n",
       "        vertical-align: top;\n",
       "    }\n",
       "\n",
       "    .dataframe thead th {\n",
       "        text-align: right;\n",
       "    }\n",
       "</style>\n",
       "<table border=\"1\" class=\"dataframe\">\n",
       "  <thead>\n",
       "    <tr style=\"text-align: right;\">\n",
       "      <th></th>\n",
       "      <th>Unnamed: 0</th>\n",
       "      <th>patient_id</th>\n",
       "      <th>sequence</th>\n",
       "      <th>original</th>\n",
       "      <th>label</th>\n",
       "    </tr>\n",
       "  </thead>\n",
       "  <tbody>\n",
       "    <tr>\n",
       "      <th>0</th>\n",
       "      <td>0</td>\n",
       "      <td>Z15564314</td>\n",
       "      <td>s other free text-see phs viewer social histor...</td>\n",
       "      <td>s other free text-see phs viewer Social Histor...</td>\n",
       "      <td>1</td>\n",
       "    </tr>\n",
       "    <tr>\n",
       "      <th>1</th>\n",
       "      <td>1</td>\n",
       "      <td>Z10171706</td>\n",
       "      <td>------- fusion: no sleep disturbance: no socia...</td>\n",
       "      <td>------- fusion: No Sleep disturbance: No Socia...</td>\n",
       "      <td>1</td>\n",
       "    </tr>\n",
       "    <tr>\n",
       "      <th>2</th>\n",
       "      <td>2</td>\n",
       "      <td>Z8935348</td>\n",
       "      <td>ain spasm). 30 tablet 0 unknown (outside pharm...</td>\n",
       "      <td>ain/spasm). 30 tablet 0 Unknown (outside pharm...</td>\n",
       "      <td>1</td>\n",
       "    </tr>\n",
       "    <tr>\n",
       "      <th>3</th>\n",
       "      <td>3</td>\n",
       "      <td>Z12212893</td>\n",
       "      <td>------- on 112mcg dose. maria will check dose ...</td>\n",
       "      <td>-------  on 112mcg dose. Maria will check dos...</td>\n",
       "      <td>2</td>\n",
       "    </tr>\n",
       "    <tr>\n",
       "      <th>4</th>\n",
       "      <td>4</td>\n",
       "      <td>Z9598376</td>\n",
       "      <td>------- (vibramycin) 100 mg capsule take 1 cap...</td>\n",
       "      <td>------- (VIBRAMYCIN) 100 MG capsule Take 1 ca...</td>\n",
       "      <td>1</td>\n",
       "    </tr>\n",
       "  </tbody>\n",
       "</table>\n",
       "</div>"
      ],
      "text/plain": [
       "   Unnamed: 0 patient_id                                           sequence  \\\n",
       "0           0  Z15564314  s other free text-see phs viewer social histor...   \n",
       "1           1  Z10171706  ------- fusion: no sleep disturbance: no socia...   \n",
       "2           2   Z8935348  ain spasm). 30 tablet 0 unknown (outside pharm...   \n",
       "3           3  Z12212893  ------- on 112mcg dose. maria will check dose ...   \n",
       "4           4   Z9598376  ------- (vibramycin) 100 mg capsule take 1 cap...   \n",
       "\n",
       "                                            original  label  \n",
       "0  s other free text-see phs viewer Social Histor...      1  \n",
       "1  ------- fusion: No Sleep disturbance: No Socia...      1  \n",
       "2  ain/spasm). 30 tablet 0 Unknown (outside pharm...      1  \n",
       "3   -------  on 112mcg dose. Maria will check dos...      2  \n",
       "4   ------- (VIBRAMYCIN) 100 MG capsule Take 1 ca...      1  "
      ]
     },
     "execution_count": 6,
     "metadata": {},
     "output_type": "execute_result"
    }
   ],
   "source": [
    "train_df = pd.read_csv(\"Storage/Data/input.csv\") \n",
    "\n",
    "train_df = train_df[['Unnamed: 0', 'patient_id', 'sequence','original', 'label']]\n",
    "#train_df.columns = ['Unnamed: 0', 'patient_id', 'sequence','original', 'annotator_label']\n",
    "train_df.head()"
   ]
  },
  {
   "cell_type": "code",
   "execution_count": 10,
   "metadata": {},
   "outputs": [
    {
     "name": "stderr",
     "output_type": "stream",
     "text": [
      "100%|████████████████████████████████████████████████████████████████████████████| 8656/8656 [00:07<00:00, 1152.80it/s]\n"
     ]
    }
   ],
   "source": [
    "a = []\n",
    "c = []\n",
    "counter = 0\n",
    "\n",
    "for seq in tqdm(train_df[\"original\"]):\n",
    "    curr = []\n",
    "    classes = []\n",
    "    conversion = {2: \"Yes\", 1 : \"Neither\", 0: \"No\"}\n",
    "    \n",
    "    for p in (always_pattern_regex):\n",
    "        m = list(set(re.findall(p, seq)))\n",
    "        m = list(set(map(str.lower, m)))\n",
    "        if (m != []):\n",
    "            curr.append(\"\".join(m))\n",
    "            label = int(train_df.loc[counter]['label'])\n",
    "            classes.append(conversion[label])\n",
    "            classes = list(set(classes))\n",
    "            \n",
    "    a.append(curr)\n",
    "    c.append(classes)\n",
    "    counter += 1\n",
    "\n",
    "train_df[\"always_pattern_match\"] = a\n",
    "train_df[\"always_pattern_classes\"] = c"
   ]
  },
  {
   "cell_type": "code",
   "execution_count": 12,
   "metadata": {},
   "outputs": [
    {
     "data": {
      "text/html": [
       "<div>\n",
       "<style scoped>\n",
       "    .dataframe tbody tr th:only-of-type {\n",
       "        vertical-align: middle;\n",
       "    }\n",
       "\n",
       "    .dataframe tbody tr th {\n",
       "        vertical-align: top;\n",
       "    }\n",
       "\n",
       "    .dataframe thead th {\n",
       "        text-align: right;\n",
       "    }\n",
       "</style>\n",
       "<table border=\"1\" class=\"dataframe\">\n",
       "  <thead>\n",
       "    <tr style=\"text-align: right;\">\n",
       "      <th></th>\n",
       "      <th>Unnamed: 0</th>\n",
       "      <th>patient_id</th>\n",
       "      <th>sequence</th>\n",
       "      <th>original</th>\n",
       "      <th>label</th>\n",
       "      <th>always_pattern_match</th>\n",
       "      <th>always_pattern_classes</th>\n",
       "    </tr>\n",
       "  </thead>\n",
       "  <tbody>\n",
       "    <tr>\n",
       "      <th>0</th>\n",
       "      <td>0</td>\n",
       "      <td>Z15564314</td>\n",
       "      <td>s other free text-see phs viewer social histor...</td>\n",
       "      <td>s other free text-see phs viewer Social Histor...</td>\n",
       "      <td>1</td>\n",
       "      <td>[father, uncle, their first cousin, and his ma...</td>\n",
       "      <td>[Neither]</td>\n",
       "    </tr>\n",
       "    <tr>\n",
       "      <th>1</th>\n",
       "      <td>1</td>\n",
       "      <td>Z10171706</td>\n",
       "      <td>------- fusion: no sleep disturbance: no socia...</td>\n",
       "      <td>------- fusion: No Sleep disturbance: No Socia...</td>\n",
       "      <td>1</td>\n",
       "      <td>[father with alzheimer's disease, father with ...</td>\n",
       "      <td>[Neither]</td>\n",
       "    </tr>\n",
       "    <tr>\n",
       "      <th>2</th>\n",
       "      <td>2</td>\n",
       "      <td>Z8935348</td>\n",
       "      <td>ain spasm). 30 tablet 0 unknown (outside pharm...</td>\n",
       "      <td>ain/spasm). 30 tablet 0 Unknown (outside pharm...</td>\n",
       "      <td>1</td>\n",
       "      <td>[family history: family history problem relati...</td>\n",
       "      <td>[Neither]</td>\n",
       "    </tr>\n",
       "    <tr>\n",
       "      <th>3</th>\n",
       "      <td>3</td>\n",
       "      <td>Z12212893</td>\n",
       "      <td>------- on 112mcg dose. maria will check dose ...</td>\n",
       "      <td>-------  on 112mcg dose. Maria will check dos...</td>\n",
       "      <td>2</td>\n",
       "      <td>[cognitive deficits]</td>\n",
       "      <td>[Yes]</td>\n",
       "    </tr>\n",
       "    <tr>\n",
       "      <th>4</th>\n",
       "      <td>4</td>\n",
       "      <td>Z9598376</td>\n",
       "      <td>------- (vibramycin) 100 mg capsule take 1 cap...</td>\n",
       "      <td>------- (VIBRAMYCIN) 100 MG capsule Take 1 ca...</td>\n",
       "      <td>1</td>\n",
       "      <td>[father history social history • marital statu...</td>\n",
       "      <td>[Neither]</td>\n",
       "    </tr>\n",
       "  </tbody>\n",
       "</table>\n",
       "</div>"
      ],
      "text/plain": [
       "   Unnamed: 0 patient_id                                           sequence  \\\n",
       "0           0  Z15564314  s other free text-see phs viewer social histor...   \n",
       "1           1  Z10171706  ------- fusion: no sleep disturbance: no socia...   \n",
       "2           2   Z8935348  ain spasm). 30 tablet 0 unknown (outside pharm...   \n",
       "3           3  Z12212893  ------- on 112mcg dose. maria will check dose ...   \n",
       "4           4   Z9598376  ------- (vibramycin) 100 mg capsule take 1 cap...   \n",
       "\n",
       "                                            original  label  \\\n",
       "0  s other free text-see phs viewer Social Histor...      1   \n",
       "1  ------- fusion: No Sleep disturbance: No Socia...      1   \n",
       "2  ain/spasm). 30 tablet 0 Unknown (outside pharm...      1   \n",
       "3   -------  on 112mcg dose. Maria will check dos...      2   \n",
       "4   ------- (VIBRAMYCIN) 100 MG capsule Take 1 ca...      1   \n",
       "\n",
       "                                always_pattern_match always_pattern_classes  \n",
       "0  [father, uncle, their first cousin, and his ma...              [Neither]  \n",
       "1  [father with alzheimer's disease, father with ...              [Neither]  \n",
       "2  [family history: family history problem relati...              [Neither]  \n",
       "3                               [cognitive deficits]                  [Yes]  \n",
       "4  [father history social history • marital statu...              [Neither]  "
      ]
     },
     "execution_count": 12,
     "metadata": {},
     "output_type": "execute_result"
    }
   ],
   "source": [
    "train_df.head()"
   ]
  },
  {
   "cell_type": "code",
   "execution_count": 14,
   "metadata": {},
   "outputs": [
    {
     "data": {
      "text/html": [
       "<div>\n",
       "<style scoped>\n",
       "    .dataframe tbody tr th:only-of-type {\n",
       "        vertical-align: middle;\n",
       "    }\n",
       "\n",
       "    .dataframe tbody tr th {\n",
       "        vertical-align: top;\n",
       "    }\n",
       "\n",
       "    .dataframe thead th {\n",
       "        text-align: right;\n",
       "    }\n",
       "</style>\n",
       "<table border=\"1\" class=\"dataframe\">\n",
       "  <thead>\n",
       "    <tr style=\"text-align: right;\">\n",
       "      <th></th>\n",
       "      <th>Unnamed: 0</th>\n",
       "      <th>patient_id</th>\n",
       "      <th>sequence</th>\n",
       "      <th>original</th>\n",
       "      <th>label</th>\n",
       "      <th>always_pattern_match</th>\n",
       "      <th>always_pattern_classes</th>\n",
       "    </tr>\n",
       "  </thead>\n",
       "  <tbody>\n",
       "    <tr>\n",
       "      <th>75</th>\n",
       "      <td>75</td>\n",
       "      <td>Z10504958</td>\n",
       "      <td>ndings: general: no apparent distress. surgica...</td>\n",
       "      <td>ndings: General: No apparent distress. Surgica...</td>\n",
       "      <td>0</td>\n",
       "      <td>[]</td>\n",
       "      <td>[]</td>\n",
       "    </tr>\n",
       "    <tr>\n",
       "      <th>77</th>\n",
       "      <td>77</td>\n",
       "      <td>Z6411816</td>\n",
       "      <td>edness, no syncope, no dyspnea endocrine no po...</td>\n",
       "      <td>edness, No Syncope, No Dyspnea Endocrine No Po...</td>\n",
       "      <td>2</td>\n",
       "      <td>[]</td>\n",
       "      <td>[]</td>\n",
       "    </tr>\n",
       "    <tr>\n",
       "      <th>87</th>\n",
       "      <td>87</td>\n",
       "      <td>Z6813204</td>\n",
       "      <td>5 reps calibrated hand gripper with silver spr...</td>\n",
       "      <td>5 reps Calibrated hand gripper with silver sp...</td>\n",
       "      <td>0</td>\n",
       "      <td>[]</td>\n",
       "      <td>[]</td>\n",
       "    </tr>\n",
       "    <tr>\n",
       "      <th>95</th>\n",
       "      <td>95</td>\n",
       "      <td>Z10492528</td>\n",
       "      <td>nancial management services: none healthcare p...</td>\n",
       "      <td>nancial management Services: none Healthcare p...</td>\n",
       "      <td>0</td>\n",
       "      <td>[]</td>\n",
       "      <td>[]</td>\n",
       "    </tr>\n",
       "    <tr>\n",
       "      <th>106</th>\n",
       "      <td>106</td>\n",
       "      <td>Z7656517</td>\n",
       "      <td>2 | 1 time: 1 | 0 time: 0) 3. “are there any r...</td>\n",
       "      <td>2 | 1 time: 1 | 0 time: 0) 3. “Are there any r...</td>\n",
       "      <td>0</td>\n",
       "      <td>[]</td>\n",
       "      <td>[]</td>\n",
       "    </tr>\n",
       "  </tbody>\n",
       "</table>\n",
       "</div>"
      ],
      "text/plain": [
       "     Unnamed: 0 patient_id                                           sequence  \\\n",
       "75           75  Z10504958  ndings: general: no apparent distress. surgica...   \n",
       "77           77   Z6411816  edness, no syncope, no dyspnea endocrine no po...   \n",
       "87           87   Z6813204  5 reps calibrated hand gripper with silver spr...   \n",
       "95           95  Z10492528  nancial management services: none healthcare p...   \n",
       "106         106   Z7656517  2 | 1 time: 1 | 0 time: 0) 3. “are there any r...   \n",
       "\n",
       "                                              original  label  \\\n",
       "75   ndings: General: No apparent distress. Surgica...      0   \n",
       "77   edness, No Syncope, No Dyspnea Endocrine No Po...      2   \n",
       "87    5 reps Calibrated hand gripper with silver sp...      0   \n",
       "95   nancial management Services: none Healthcare p...      0   \n",
       "106  2 | 1 time: 1 | 0 time: 0) 3. “Are there any r...      0   \n",
       "\n",
       "    always_pattern_match always_pattern_classes  \n",
       "75                    []                     []  \n",
       "77                    []                     []  \n",
       "87                    []                     []  \n",
       "95                    []                     []  \n",
       "106                   []                     []  "
      ]
     },
     "execution_count": 14,
     "metadata": {},
     "output_type": "execute_result"
    }
   ],
   "source": [
    "# get sequences that were manually reviewed\n",
    "manual_review = train_df[train_df[\"always_pattern_classes\"].str.len() == 0]\n",
    "manual_review.head()"
   ]
  },
  {
   "cell_type": "code",
   "execution_count": 18,
   "metadata": {},
   "outputs": [
    {
     "data": {
      "text/plain": [
       "8050"
      ]
     },
     "execution_count": 18,
     "metadata": {},
     "output_type": "execute_result"
    }
   ],
   "source": [
    "# get sequences that were annotated by always patterns \n",
    "always_patterns = train_df.drop(manual_review.index)\n",
    "len(always_patterns)"
   ]
  },
  {
   "cell_type": "code",
   "execution_count": 23,
   "metadata": {},
   "outputs": [],
   "source": [
    "further_review = train_df[\"further_review\"] = np.where((len(train_df[\"always_pattern_classes\"]) > 1), 'N', 'Y')\n",
    "further_review = train_df[train_df[\"further_review\"] == \"Y\"]"
   ]
  },
  {
   "cell_type": "code",
   "execution_count": 24,
   "metadata": {},
   "outputs": [
    {
     "data": {
      "text/html": [
       "<div>\n",
       "<style scoped>\n",
       "    .dataframe tbody tr th:only-of-type {\n",
       "        vertical-align: middle;\n",
       "    }\n",
       "\n",
       "    .dataframe tbody tr th {\n",
       "        vertical-align: top;\n",
       "    }\n",
       "\n",
       "    .dataframe thead th {\n",
       "        text-align: right;\n",
       "    }\n",
       "</style>\n",
       "<table border=\"1\" class=\"dataframe\">\n",
       "  <thead>\n",
       "    <tr style=\"text-align: right;\">\n",
       "      <th></th>\n",
       "      <th>Unnamed: 0</th>\n",
       "      <th>patient_id</th>\n",
       "      <th>sequence</th>\n",
       "      <th>original</th>\n",
       "      <th>label</th>\n",
       "      <th>always_pattern_match</th>\n",
       "      <th>always_pattern_classes</th>\n",
       "      <th>further_review</th>\n",
       "    </tr>\n",
       "  </thead>\n",
       "  <tbody>\n",
       "  </tbody>\n",
       "</table>\n",
       "</div>"
      ],
      "text/plain": [
       "Empty DataFrame\n",
       "Columns: [Unnamed: 0, patient_id, sequence, original, label, always_pattern_match, always_pattern_classes, further_review]\n",
       "Index: []"
      ]
     },
     "execution_count": 24,
     "metadata": {},
     "output_type": "execute_result"
    }
   ],
   "source": [
    "further_review"
   ]
  },
  {
   "cell_type": "code",
   "execution_count": 25,
   "metadata": {},
   "outputs": [],
   "source": [
    "manual_review.to_csv(r\"C:\\Users\\MIND_DS\\Dropbox (Partners HealthCare)\\NLP\\Tanish\\APOE-SLAT\\Modeling\\Storage\\Data\\manual_review.csv\", index = False)"
   ]
  },
  {
   "cell_type": "code",
   "execution_count": 26,
   "metadata": {},
   "outputs": [],
   "source": [
    "always_patterns.to_csv(r\"C:\\Users\\MIND_DS\\Dropbox (Partners HealthCare)\\NLP\\Tanish\\APOE-SLAT\\Modeling\\Storage\\Data\\always_patterns.csv\", index = False)"
   ]
  },
  {
   "cell_type": "markdown",
   "metadata": {},
   "source": [
    "## Clean 20K Sample"
   ]
  },
  {
   "cell_type": "code",
   "execution_count": 27,
   "metadata": {},
   "outputs": [],
   "source": [
    "df = pd.read_csv(r\"C:\\Users\\MIND_DS\\Dropbox (Partners HealthCare)\\NLP\\Tanish\\BigDataSets\\Regex_match\\Diversity_Sampling\\20K_sample_8_9.csv\")"
   ]
  },
  {
   "cell_type": "code",
   "execution_count": 28,
   "metadata": {},
   "outputs": [],
   "source": [
    "def clean_sequence(seq):\n",
    "    #getting rid of special characters\n",
    "    specials = '/' #etc\n",
    "    seq_no_special_chars = seq.translate(str.maketrans(specials, ' '*len(specials)))\n",
    "    \n",
    "    #having only 1 space between words\n",
    "    n = 1\n",
    "    seq_no_spaces = (' '*n).join(seq_no_special_chars.split())\n",
    "    \n",
    "    return seq_no_spaces.lower()"
   ]
  },
  {
   "cell_type": "code",
   "execution_count": 29,
   "metadata": {},
   "outputs": [],
   "source": [
    "for i in range(len(df)):\n",
    "    df.loc[i, \"regex_sent\"] = clean_sequence(df.loc[i][\"regex_sent\"][7:len(df.loc[i][\"regex_sent\"]) - 5])"
   ]
  },
  {
   "cell_type": "code",
   "execution_count": 34,
   "metadata": {},
   "outputs": [],
   "source": [
    "df = df[['PatientID', 'regex_sent']]"
   ]
  },
  {
   "cell_type": "code",
   "execution_count": 35,
   "metadata": {},
   "outputs": [],
   "source": [
    "df.to_csv(r\"C:\\Users\\MIND_DS\\Dropbox (Partners HealthCare)\\NLP\\Tanish\\APOE-SLAT\\Modeling\\Storage\\Data\\20K_sample.csv\", index = False)"
   ]
  },
  {
   "cell_type": "markdown",
   "metadata": {},
   "source": [
    "## Select new sample cohort (all sequences for all patients except those that were included in inital 8656)"
   ]
  },
  {
   "cell_type": "code",
   "execution_count": 9,
   "metadata": {},
   "outputs": [],
   "source": [
    "entire = pd.read_csv(r\"C:\\Users\\MIND_DS\\Dropbox (Partners HealthCare)\\NLP\\Tanish\\APOE-SLAT\\nlp_annotator-dev\\app\\load_data\\slat_8_16.csv\", header = None)"
   ]
  },
  {
   "cell_type": "code",
   "execution_count": 46,
   "metadata": {},
   "outputs": [
    {
     "data": {
      "text/plain": [
       "(279224, 8656)"
      ]
     },
     "execution_count": 46,
     "metadata": {},
     "output_type": "execute_result"
    }
   ],
   "source": [
    "len(entire), len(train_df)"
   ]
  },
  {
   "cell_type": "code",
   "execution_count": 47,
   "metadata": {},
   "outputs": [],
   "source": [
    "patient_id_included = train_df[\"patient_id\"].unique().tolist()"
   ]
  },
  {
   "cell_type": "code",
   "execution_count": 48,
   "metadata": {},
   "outputs": [],
   "source": [
    "entire[\"include\"] = np.where(entire[\"PatientID\"].isin(patient_id_included), 'Y', 'N')"
   ]
  },
  {
   "cell_type": "code",
   "execution_count": 49,
   "metadata": {},
   "outputs": [],
   "source": [
    "new_sample = entire[entire[\"include\"] == \"N\"]"
   ]
  },
  {
   "cell_type": "code",
   "execution_count": 51,
   "metadata": {},
   "outputs": [
    {
     "data": {
      "text/plain": [
       "(13941, 186730)"
      ]
     },
     "execution_count": 51,
     "metadata": {},
     "output_type": "execute_result"
    }
   ],
   "source": [
    "len(new_sample[\"PatientID\"].unique().tolist()), len(new_sample)"
   ]
  },
  {
   "cell_type": "code",
   "execution_count": 53,
   "metadata": {},
   "outputs": [],
   "source": [
    "new_sample.to_csv(r\"C:\\Users\\MIND_DS\\Dropbox (Partners HealthCare)\\NLP\\Tanish\\BigDataSets\\Sampling\\sample_8_12.csv\", index = False)"
   ]
  },
  {
   "cell_type": "markdown",
   "metadata": {},
   "source": [
    "## Ensuring All Sequences are Padded"
   ]
  },
  {
   "cell_type": "code",
   "execution_count": 3,
   "metadata": {},
   "outputs": [],
   "source": [
    "train = pd.read_csv(r\"C:\\Users\\MIND_DS\\Dropbox (Partners HealthCare)\\NLP\\Tanish\\APOE-SLAT\\Modeling\\Storage\\Data\\train_full.csv\")\n",
    "test = pd.read_csv(r\"C:\\Users\\MIND_DS\\Dropbox (Partners HealthCare)\\NLP\\Tanish\\APOE-SLAT\\Modeling\\Storage\\Data\\test_full.csv\")"
   ]
  },
  {
   "cell_type": "code",
   "execution_count": 4,
   "metadata": {},
   "outputs": [
    {
     "data": {
      "text/plain": [
       "8656"
      ]
     },
     "execution_count": 4,
     "metadata": {},
     "output_type": "execute_result"
    }
   ],
   "source": [
    "len(train) + len(test)"
   ]
  },
  {
   "cell_type": "code",
   "execution_count": 13,
   "metadata": {},
   "outputs": [
    {
     "data": {
      "text/html": [
       "<div>\n",
       "<style scoped>\n",
       "    .dataframe tbody tr th:only-of-type {\n",
       "        vertical-align: middle;\n",
       "    }\n",
       "\n",
       "    .dataframe tbody tr th {\n",
       "        vertical-align: top;\n",
       "    }\n",
       "\n",
       "    .dataframe thead th {\n",
       "        text-align: right;\n",
       "    }\n",
       "</style>\n",
       "<table border=\"1\" class=\"dataframe\">\n",
       "  <thead>\n",
       "    <tr style=\"text-align: right;\">\n",
       "      <th></th>\n",
       "      <th>patient_id</th>\n",
       "      <th>sequence</th>\n",
       "      <th>label</th>\n",
       "    </tr>\n",
       "  </thead>\n",
       "  <tbody>\n",
       "    <tr>\n",
       "      <th>0</th>\n",
       "      <td>Z7805001</td>\n",
       "      <td>pleasant psychomotor: no abnormal movements st...</td>\n",
       "      <td>0</td>\n",
       "    </tr>\n",
       "    <tr>\n",
       "      <th>1</th>\n",
       "      <td>Z8435677</td>\n",
       "      <td>unknown (outside pharmacy) • oseltamivir (tami...</td>\n",
       "      <td>1</td>\n",
       "    </tr>\n",
       "    <tr>\n",
       "      <th>2</th>\n",
       "      <td>Z6738861</td>\n",
       "      <td>------- 7), pulmonary emboli (2 27 2017), squa...</td>\n",
       "      <td>1</td>\n",
       "    </tr>\n",
       "    <tr>\n",
       "      <th>3</th>\n",
       "      <td>Z11869179</td>\n",
       "      <td>------- e reminded of their traumatic experien...</td>\n",
       "      <td>2</td>\n",
       "    </tr>\n",
       "    <tr>\n",
       "      <th>4</th>\n",
       "      <td>Z6545690</td>\n",
       "      <td>ately mental functions: arousal: intact orient...</td>\n",
       "      <td>0</td>\n",
       "    </tr>\n",
       "    <tr>\n",
       "      <th>...</th>\n",
       "      <td>...</td>\n",
       "      <td>...</td>\n",
       "      <td>...</td>\n",
       "    </tr>\n",
       "    <tr>\n",
       "      <th>8297</th>\n",
       "      <td>Z9337741</td>\n",
       "      <td>8 °c (98.2 °f) (12 01 18 1118) | heart rate: (...</td>\n",
       "      <td>0</td>\n",
       "    </tr>\n",
       "    <tr>\n",
       "      <th>8298</th>\n",
       "      <td>Z8146700</td>\n",
       "      <td>today past 24 hour overnight events: pt seen a...</td>\n",
       "      <td>0</td>\n",
       "    </tr>\n",
       "    <tr>\n",
       "      <th>8299</th>\n",
       "      <td>Z9328738</td>\n",
       "      <td>rmittently with tenderness to palpation in shi...</td>\n",
       "      <td>0</td>\n",
       "    </tr>\n",
       "    <tr>\n",
       "      <th>8300</th>\n",
       "      <td>Z8447004</td>\n",
       "      <td>------- ith ecg of 30-aug-2018 12:00, sinus rh...</td>\n",
       "      <td>0</td>\n",
       "    </tr>\n",
       "    <tr>\n",
       "      <th>8301</th>\n",
       "      <td>Z8929456</td>\n",
       "      <td>------- ----------------------physical therapy...</td>\n",
       "      <td>0</td>\n",
       "    </tr>\n",
       "  </tbody>\n",
       "</table>\n",
       "<p>8302 rows × 3 columns</p>\n",
       "</div>"
      ],
      "text/plain": [
       "     patient_id                                           sequence  label\n",
       "0      Z7805001  pleasant psychomotor: no abnormal movements st...      0\n",
       "1      Z8435677  unknown (outside pharmacy) • oseltamivir (tami...      1\n",
       "2      Z6738861  ------- 7), pulmonary emboli (2 27 2017), squa...      1\n",
       "3     Z11869179  ------- e reminded of their traumatic experien...      2\n",
       "4      Z6545690  ately mental functions: arousal: intact orient...      0\n",
       "...         ...                                                ...    ...\n",
       "8297   Z9337741  8 °c (98.2 °f) (12 01 18 1118) | heart rate: (...      0\n",
       "8298   Z8146700  today past 24 hour overnight events: pt seen a...      0\n",
       "8299   Z9328738  rmittently with tenderness to palpation in shi...      0\n",
       "8300   Z8447004  ------- ith ecg of 30-aug-2018 12:00, sinus rh...      0\n",
       "8301   Z8929456  ------- ----------------------physical therapy...      0\n",
       "\n",
       "[8302 rows x 3 columns]"
      ]
     },
     "execution_count": 13,
     "metadata": {},
     "output_type": "execute_result"
    }
   ],
   "source": [
    "train"
   ]
  },
  {
   "cell_type": "code",
   "execution_count": 11,
   "metadata": {},
   "outputs": [],
   "source": [
    "entire.columns = [\"seq_number\", \"sequence\", \"note_id\"]"
   ]
  },
  {
   "cell_type": "code",
   "execution_count": 20,
   "metadata": {},
   "outputs": [
    {
     "data": {
      "text/html": [
       "<div>\n",
       "<style scoped>\n",
       "    .dataframe tbody tr th:only-of-type {\n",
       "        vertical-align: middle;\n",
       "    }\n",
       "\n",
       "    .dataframe tbody tr th {\n",
       "        vertical-align: top;\n",
       "    }\n",
       "\n",
       "    .dataframe thead th {\n",
       "        text-align: right;\n",
       "    }\n",
       "</style>\n",
       "<table border=\"1\" class=\"dataframe\">\n",
       "  <thead>\n",
       "    <tr style=\"text-align: right;\">\n",
       "      <th></th>\n",
       "      <th>patient_id</th>\n",
       "      <th>sequence</th>\n",
       "      <th>label</th>\n",
       "    </tr>\n",
       "  </thead>\n",
       "  <tbody>\n",
       "    <tr>\n",
       "      <th>166</th>\n",
       "      <td>Z8500820</td>\n",
       "      <td>----------------------------------------------...</td>\n",
       "      <td>2</td>\n",
       "    </tr>\n",
       "    <tr>\n",
       "      <th>234</th>\n",
       "      <td>Z8662811</td>\n",
       "      <td>----------------------------------------------...</td>\n",
       "      <td>1</td>\n",
       "    </tr>\n",
       "    <tr>\n",
       "      <th>263</th>\n",
       "      <td>Z8857259</td>\n",
       "      <td>----------------------------------------------...</td>\n",
       "      <td>0</td>\n",
       "    </tr>\n",
       "    <tr>\n",
       "      <th>301</th>\n",
       "      <td>Z8875000</td>\n",
       "      <td>----------------------------------------------...</td>\n",
       "      <td>0</td>\n",
       "    </tr>\n",
       "  </tbody>\n",
       "</table>\n",
       "</div>"
      ],
      "text/plain": [
       "    patient_id                                           sequence  label\n",
       "166   Z8500820  ----------------------------------------------...      2\n",
       "234   Z8662811  ----------------------------------------------...      1\n",
       "263   Z8857259  ----------------------------------------------...      0\n",
       "301   Z8875000  ----------------------------------------------...      0"
      ]
     },
     "execution_count": 20,
     "metadata": {},
     "output_type": "execute_result"
    }
   ],
   "source": [
    "test[test[\"sequence\"].str.len() < 500]"
   ]
  }
 ],
 "metadata": {
  "kernelspec": {
   "display_name": "Python 3",
   "language": "python",
   "name": "python3"
  },
  "language_info": {
   "codemirror_mode": {
    "name": "ipython",
    "version": 3
   },
   "file_extension": ".py",
   "mimetype": "text/x-python",
   "name": "python",
   "nbconvert_exporter": "python",
   "pygments_lexer": "ipython3",
   "version": "3.8.5"
  }
 },
 "nbformat": 4,
 "nbformat_minor": 4
}
