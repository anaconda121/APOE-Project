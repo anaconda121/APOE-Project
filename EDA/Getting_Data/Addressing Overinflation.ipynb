{
 "cells": [
  {
   "cell_type": "code",
   "execution_count": 3,
   "metadata": {},
   "outputs": [],
   "source": [
    "import pandas as pd\n",
    "import pandas.io.sql as psql\n",
    "import os\n",
    "import sys\n",
    "from datetime import date\n",
    "current_date = date.today()\n",
    "#%load_ext autotime\n",
    "import re\n",
    "import csv\n",
    "import pandas as pd\n",
    "import numpy as np\n",
    "import os\n",
    "from glob import glob\n",
    "from tqdm import tqdm\n",
    "import matplotlib.pyplot as plt\n",
    "#from matplotlib_venn import venn2, venn3\n",
    "import warnings\n",
    "import time\n",
    "import datetime as dt\n",
    "import itertools\n",
    "from more_itertools import unique_everseen\n",
    "warnings.filterwarnings(\"ignore\")\n",
    "#import pandasql as ps\n",
    "import seaborn as sns\n",
    "import json\n",
    "from ast import literal_eval\n",
    "import ast\n",
    "from fuzzywuzzy import process\n",
    "from nltk.corpus import words"
   ]
  },
  {
   "cell_type": "markdown",
   "metadata": {},
   "source": [
    "## Initial Experiments"
   ]
  },
  {
   "cell_type": "code",
   "execution_count": null,
   "metadata": {},
   "outputs": [],
   "source": [
    "total = pd.read_csv(r\"C:\\Users\\MIND_DS\\Dropbox (Partners HealthCare)\\NLP\\Tanish\\BigDataSets\\Regex_match\\total_summary_stats_updated.csv\")"
   ]
  },
  {
   "cell_type": "code",
   "execution_count": null,
   "metadata": {},
   "outputs": [],
   "source": [
    "patient_id = total[\"patient_id\"].to_list()\n",
    "patient_id = patient_id[:10]"
   ]
  },
  {
   "cell_type": "code",
   "execution_count": null,
   "metadata": {},
   "outputs": [],
   "source": [
    "matches = pd.read_csv(r\"C:\\Users\\MIND_DS\\Dropbox (Partners HealthCare)\\NLP\\Tanish\\BigDataSets\\Regex_match\\1\\apoe_1_matches.csv\")"
   ]
  },
  {
   "cell_type": "code",
   "execution_count": null,
   "metadata": {},
   "outputs": [],
   "source": [
    "# ONLY RUN ONCE #\n",
    "\n",
    "# vertifying that all match records can be found\n",
    "for i in range(len(patient_id)):\n",
    "    specific_matches = matches[matches[\"PatientID\"] == patient_id[i]]\n",
    "    if (len(specific_matches) <= 0):\n",
    "        print(\"NOT FOUND: \", patient_id[i])\n",
    "    #specific_matches.to_csv(r\"C:\\Users\\MIND_DS\\Dropbox (Partners HealthCare)\\NLP\\Tanish\\BigDataSets\\Regex_match\\1\\Specific_Matches\\patient_{}.csv\".format(i+1))"
   ]
  },
  {
   "cell_type": "code",
   "execution_count": null,
   "metadata": {},
   "outputs": [],
   "source": [
    "p1 = pd.read_csv(r\"C:\\Users\\MIND_DS\\Dropbox (Partners HealthCare)\\NLP\\Tanish\\BigDataSets\\Regex_match\\1\\Specific_Matches\\patient_1.csv\")"
   ]
  },
  {
   "cell_type": "code",
   "execution_count": null,
   "metadata": {},
   "outputs": [],
   "source": [
    "unique_ids = matches[\"PatientID\"].unique().tolist()\n",
    "print(len(unique_ids))"
   ]
  },
  {
   "cell_type": "code",
   "execution_count": null,
   "metadata": {},
   "outputs": [],
   "source": [
    "# interesting match cases\n",
    "# patient_2 in specific study row 6, cream that has mci inside it"
   ]
  },
  {
   "cell_type": "code",
   "execution_count": null,
   "metadata": {},
   "outputs": [],
   "source": [
    "print(subset_loc_clone)"
   ]
  },
  {
   "cell_type": "markdown",
   "metadata": {},
   "source": [
    "## Final Code"
   ]
  },
  {
   "cell_type": "code",
   "execution_count": null,
   "metadata": {},
   "outputs": [],
   "source": [
    "p1 = pd.read_csv(r\"C:\\Users\\MIND_DS\\Dropbox (Partners HealthCare)\\NLP\\Tanish\\BigDataSets\\Regex_match\\4\\apoe_4_matches.csv\")"
   ]
  },
  {
   "cell_type": "code",
   "execution_count": null,
   "metadata": {},
   "outputs": [],
   "source": [
    "regex = pd.read_csv(r\"C:\\Users\\MIND_DS\\Dropbox (Partners HealthCare)\\NLP\\Tanish\\Sentence-Analysis\\EDA\\Getting_Data\\keywords.csv\")"
   ]
  },
  {
   "cell_type": "code",
   "execution_count": null,
   "metadata": {},
   "outputs": [],
   "source": [
    "regex"
   ]
  },
  {
   "cell_type": "code",
   "execution_count": null,
   "metadata": {},
   "outputs": [],
   "source": [
    "len(p1)"
   ]
  },
  {
   "cell_type": "code",
   "execution_count": null,
   "metadata": {},
   "outputs": [],
   "source": [
    "locations = []\n",
    "for r in tqdm(p1['regex_sent']):\n",
    "    try:\n",
    "        locations.append([match.span() \\\n",
    "                  for match in re.finditer(re.compile(\"|\".join(regex[\"REGEX\"]), \n",
    "                                                  re.IGNORECASE),r)])\n",
    "    except:\n",
    "        locations.append([])\n",
    "        \n",
    "p1[\"pruned_regex_location\"] = locations"
   ]
  },
  {
   "cell_type": "code",
   "execution_count": null,
   "metadata": {},
   "outputs": [],
   "source": [
    "len(p1)"
   ]
  },
  {
   "cell_type": "code",
   "execution_count": null,
   "metadata": {},
   "outputs": [],
   "source": [
    "p1 = p1[p1[\"pruned_regex_location\"].str.len() != 0]\n",
    "len(p1)"
   ]
  },
  {
   "cell_type": "code",
   "execution_count": null,
   "metadata": {},
   "outputs": [],
   "source": [
    "total_merged = []\n",
    "\n",
    "for index, row in p1.iterrows():\n",
    "    curr = str(row[\"regex_location\"])\n",
    "    curr = curr[1:len(curr) - 1]\n",
    "    curr = list((eval(curr)))\n",
    "    #print(\"CURR: \", len(curr))\n",
    "    # print(curr)\n",
    "    merged = []\n",
    "\n",
    "    start = 0\n",
    "    end = 0\n",
    "    length = 0\n",
    "    \n",
    "    if (len(curr) == 2 and isinstance(curr[1], int)):\n",
    "        start = curr[0]\n",
    "        end = curr[1]\n",
    "        #print(start, end)\n",
    "        length = len(row[\"NoteTXT\"])\n",
    "        if (start < 100):\n",
    "            start = 100\n",
    "        elif (end > length - 100):\n",
    "            end = length - 100\n",
    "        curr = [(start - 100, end + 100)]\n",
    "        \n",
    "    else:\n",
    "        loc_list = []\n",
    "        for j in range(len(curr)):\n",
    "            start = curr[j][0]\n",
    "            end = curr[j][1]\n",
    "            loc_list.append((start, end))\n",
    "        length = len(row[\"NoteTXT\"])\n",
    "        for k in range(len(loc_list)):\n",
    "            start = loc_list[k][0]\n",
    "            end = loc_list[k][1]\n",
    "            if (start < 100):\n",
    "                start = 100\n",
    "            elif (end > length - 100):\n",
    "                end = length - 100\n",
    "            loc_list[k] = (start - 100, end + 100)\n",
    "        curr = loc_list\n",
    "        \n",
    "    for interval in curr:\n",
    "        if not merged:\n",
    "            merged.append(interval)\n",
    "            continue\n",
    "\n",
    "        prevInterval = merged.pop()\n",
    "        if prevInterval[0] <= interval[0] <= prevInterval[1]:\n",
    "            startTime = prevInterval[0]\n",
    "            endTime = prevInterval[1] if prevInterval[1] > interval[1] else interval[1]\n",
    "            merged.append((startTime, endTime))\n",
    "        else:\n",
    "            merged.append(prevInterval)\n",
    "            merged.append(interval)\n",
    "            \n",
    "    total_merged.append(merged)\n",
    "p1[\"merged_row_location\"] = total_merged"
   ]
  },
  {
   "cell_type": "code",
   "execution_count": null,
   "metadata": {},
   "outputs": [],
   "source": [
    "p1"
   ]
  },
  {
   "cell_type": "code",
   "execution_count": null,
   "metadata": {},
   "outputs": [],
   "source": [
    "total_merged_note_txt = []\n",
    "for index, row in p1.iterrows():\n",
    "    curr = row[\"merged_row_location\"]\n",
    "    merged_note_txt = \"\"\n",
    "    \n",
    "    for i in range(len(curr)):\n",
    "        start = curr[i][0]\n",
    "        end = curr[i][1]\n",
    "        \n",
    "        merged_note_txt += \" ------- \" + row[\"NoteTXT\"][start:end]\n",
    "    total_merged_note_txt.append(merged_note_txt)\n",
    "    \n",
    "p1[\"merged_regex_sent\"] = total_merged_note_txt"
   ]
  },
  {
   "cell_type": "code",
   "execution_count": null,
   "metadata": {},
   "outputs": [],
   "source": [
    "len(p1)"
   ]
  },
  {
   "cell_type": "code",
   "execution_count": null,
   "metadata": {},
   "outputs": [],
   "source": [
    "p1['merged_regex_sent'] = p1['merged_regex_sent'].str.split(' ',1).str[1].str.rpartition(' ')[0]"
   ]
  },
  {
   "cell_type": "code",
   "execution_count": null,
   "metadata": {},
   "outputs": [],
   "source": [
    "#p1['NoteTXT'] = p1['NoteTXT'].astype(str)\n",
    "p1 = p1.drop_duplicates(subset='merged_regex_sent', keep=\"first\")\n",
    "p1 = p1.replace(r'^\\s*$', np.NaN, regex=True)\n",
    "p1.reset_index(drop = True)"
   ]
  },
  {
   "cell_type": "code",
   "execution_count": null,
   "metadata": {},
   "outputs": [],
   "source": [
    "p1.to_csv(r\"C:\\Users\\MIND_DS\\Dropbox (Partners HealthCare)\\NLP\\Tanish\\BigDataSets\\Regex_match\\4\\apoe_4_matches_updated_pruned.csv\", index = False)"
   ]
  },
  {
   "cell_type": "markdown",
   "metadata": {},
   "source": [
    "## Getting #  of Unique Encounters per Patient"
   ]
  },
  {
   "cell_type": "code",
   "execution_count": 31,
   "metadata": {},
   "outputs": [],
   "source": [
    "## getting number of unique encounters per patient\n",
    "df = pd.read_csv(r\"C:\\Users\\MIND_DS\\Dropbox (Partners HealthCare)\\NLP\\Tanish\\BigDataSets\\Regex_match\\1\\apoe_1_matches_updated_pruned.csv\")"
   ]
  },
  {
   "cell_type": "code",
   "execution_count": 32,
   "metadata": {},
   "outputs": [],
   "source": [
    "df = df.drop_duplicates(subset = 'PatientEncounterID', keep = \"first\")"
   ]
  },
  {
   "cell_type": "code",
   "execution_count": 33,
   "metadata": {},
   "outputs": [
    {
     "data": {
      "text/html": [
       "<div>\n",
       "<style scoped>\n",
       "    .dataframe tbody tr th:only-of-type {\n",
       "        vertical-align: middle;\n",
       "    }\n",
       "\n",
       "    .dataframe tbody tr th {\n",
       "        vertical-align: top;\n",
       "    }\n",
       "\n",
       "    .dataframe thead th {\n",
       "        text-align: right;\n",
       "    }\n",
       "</style>\n",
       "<table border=\"1\" class=\"dataframe\">\n",
       "  <thead>\n",
       "    <tr style=\"text-align: right;\">\n",
       "      <th></th>\n",
       "      <th>PatientID</th>\n",
       "      <th>PatientEncounterID</th>\n",
       "    </tr>\n",
       "  </thead>\n",
       "  <tbody>\n",
       "    <tr>\n",
       "      <th>0</th>\n",
       "      <td>Z12913885</td>\n",
       "      <td>8</td>\n",
       "    </tr>\n",
       "    <tr>\n",
       "      <th>1</th>\n",
       "      <td>Z17028069</td>\n",
       "      <td>9</td>\n",
       "    </tr>\n",
       "    <tr>\n",
       "      <th>2</th>\n",
       "      <td>Z6352398</td>\n",
       "      <td>10</td>\n",
       "    </tr>\n",
       "    <tr>\n",
       "      <th>3</th>\n",
       "      <td>Z6352614</td>\n",
       "      <td>6</td>\n",
       "    </tr>\n",
       "    <tr>\n",
       "      <th>4</th>\n",
       "      <td>Z6352700</td>\n",
       "      <td>5</td>\n",
       "    </tr>\n",
       "    <tr>\n",
       "      <th>...</th>\n",
       "      <td>...</td>\n",
       "      <td>...</td>\n",
       "    </tr>\n",
       "    <tr>\n",
       "      <th>2773</th>\n",
       "      <td>Z8712370</td>\n",
       "      <td>9</td>\n",
       "    </tr>\n",
       "    <tr>\n",
       "      <th>2774</th>\n",
       "      <td>Z8713474</td>\n",
       "      <td>1</td>\n",
       "    </tr>\n",
       "    <tr>\n",
       "      <th>2775</th>\n",
       "      <td>Z8713489</td>\n",
       "      <td>1</td>\n",
       "    </tr>\n",
       "    <tr>\n",
       "      <th>2776</th>\n",
       "      <td>Z8713893</td>\n",
       "      <td>18</td>\n",
       "    </tr>\n",
       "    <tr>\n",
       "      <th>2777</th>\n",
       "      <td>Z8714148</td>\n",
       "      <td>15</td>\n",
       "    </tr>\n",
       "  </tbody>\n",
       "</table>\n",
       "<p>2778 rows × 2 columns</p>\n",
       "</div>"
      ],
      "text/plain": [
       "      PatientID  PatientEncounterID\n",
       "0     Z12913885                   8\n",
       "1     Z17028069                   9\n",
       "2      Z6352398                  10\n",
       "3      Z6352614                   6\n",
       "4      Z6352700                   5\n",
       "...         ...                 ...\n",
       "2773   Z8712370                   9\n",
       "2774   Z8713474                   1\n",
       "2775   Z8713489                   1\n",
       "2776   Z8713893                  18\n",
       "2777   Z8714148                  15\n",
       "\n",
       "[2778 rows x 2 columns]"
      ]
     },
     "execution_count": 33,
     "metadata": {},
     "output_type": "execute_result"
    }
   ],
   "source": [
    "summary_stats_1 = df.groupby(['EMPI'])[\"PatientEncounterID\"].count().reset_index()\n",
    "summary_stats_1"
   ]
  },
  {
   "cell_type": "code",
   "execution_count": 23,
   "metadata": {},
   "outputs": [],
   "source": [
    "summary_stats_1.to_csv(r\"C:\\Users\\MIND_DS\\Dropbox (Partners HealthCare)\\NLP\\Tanish\\BigDataSets\\Regex_match\\1\\apoe_1_summary_stats_updated.csv\")"
   ]
  },
  {
   "cell_type": "code",
   "execution_count": 24,
   "metadata": {},
   "outputs": [],
   "source": [
    "s1 = pd.read_csv(r\"C:\\Users\\MIND_DS\\Dropbox (Partners HealthCare)\\NLP\\Tanish\\BigDataSets\\Regex_match\\1\\apoe_1_summary_stats_updated.csv\")\n",
    "s2 = pd.read_csv(r\"C:\\Users\\MIND_DS\\Dropbox (Partners HealthCare)\\NLP\\Tanish\\BigDataSets\\Regex_match\\2\\apoe_2_summary_stats_updated.csv\")\n",
    "s3 = pd.read_csv(r\"C:\\Users\\MIND_DS\\Dropbox (Partners HealthCare)\\NLP\\Tanish\\BigDataSets\\Regex_match\\3\\apoe_3_summary_stats_updated.csv\")\n",
    "s4 = pd.read_csv(r\"C:\\Users\\MIND_DS\\Dropbox (Partners HealthCare)\\NLP\\Tanish\\BigDataSets\\Regex_match\\4\\apoe_4_summary_stats_updated.csv\")\n",
    "s5 = pd.read_csv(r\"C:\\Users\\MIND_DS\\Dropbox (Partners HealthCare)\\NLP\\Tanish\\BigDataSets\\Regex_match\\5\\apoe_5_summary_stats_updated.csv\")"
   ]
  },
  {
   "cell_type": "code",
   "execution_count": 25,
   "metadata": {},
   "outputs": [
    {
     "data": {
      "text/plain": [
       "2778"
      ]
     },
     "execution_count": 25,
     "metadata": {},
     "output_type": "execute_result"
    }
   ],
   "source": [
    "len(s1)"
   ]
  },
  {
   "cell_type": "code",
   "execution_count": 26,
   "metadata": {},
   "outputs": [
    {
     "data": {
      "text/plain": [
       "3335"
      ]
     },
     "execution_count": 26,
     "metadata": {},
     "output_type": "execute_result"
    }
   ],
   "source": [
    "len(s2)"
   ]
  },
  {
   "cell_type": "code",
   "execution_count": 27,
   "metadata": {},
   "outputs": [
    {
     "data": {
      "text/plain": [
       "3499"
      ]
     },
     "execution_count": 27,
     "metadata": {},
     "output_type": "execute_result"
    }
   ],
   "source": [
    "len(s3)"
   ]
  },
  {
   "cell_type": "code",
   "execution_count": 28,
   "metadata": {},
   "outputs": [
    {
     "data": {
      "text/plain": [
       "3431"
      ]
     },
     "execution_count": 28,
     "metadata": {},
     "output_type": "execute_result"
    }
   ],
   "source": [
    "len(s4)"
   ]
  },
  {
   "cell_type": "code",
   "execution_count": 29,
   "metadata": {},
   "outputs": [
    {
     "data": {
      "text/plain": [
       "3918"
      ]
     },
     "execution_count": 29,
     "metadata": {},
     "output_type": "execute_result"
    }
   ],
   "source": [
    "len(s5)"
   ]
  },
  {
   "cell_type": "code",
   "execution_count": 36,
   "metadata": {},
   "outputs": [
    {
     "data": {
      "text/plain": [
       "16961"
      ]
     },
     "execution_count": 36,
     "metadata": {},
     "output_type": "execute_result"
    }
   ],
   "source": [
    "2778+3335+3499+3431+3918"
   ]
  },
  {
   "cell_type": "code",
   "execution_count": 34,
   "metadata": {},
   "outputs": [],
   "source": [
    "frames = [s1, s2, s3, s4, s5]\n",
    "total = pd.concat(frames)"
   ]
  },
  {
   "cell_type": "code",
   "execution_count": 35,
   "metadata": {
    "scrolled": true
   },
   "outputs": [
    {
     "data": {
      "text/html": [
       "<div>\n",
       "<style scoped>\n",
       "    .dataframe tbody tr th:only-of-type {\n",
       "        vertical-align: middle;\n",
       "    }\n",
       "\n",
       "    .dataframe tbody tr th {\n",
       "        vertical-align: top;\n",
       "    }\n",
       "\n",
       "    .dataframe thead th {\n",
       "        text-align: right;\n",
       "    }\n",
       "</style>\n",
       "<table border=\"1\" class=\"dataframe\">\n",
       "  <thead>\n",
       "    <tr style=\"text-align: right;\">\n",
       "      <th></th>\n",
       "      <th>Unnamed: 0</th>\n",
       "      <th>EMPI</th>\n",
       "      <th>PatientEncounterID</th>\n",
       "    </tr>\n",
       "  </thead>\n",
       "  <tbody>\n",
       "    <tr>\n",
       "      <th>0</th>\n",
       "      <td>0</td>\n",
       "      <td>100000272</td>\n",
       "      <td>10</td>\n",
       "    </tr>\n",
       "    <tr>\n",
       "      <th>1</th>\n",
       "      <td>1</td>\n",
       "      <td>100000521</td>\n",
       "      <td>6</td>\n",
       "    </tr>\n",
       "    <tr>\n",
       "      <th>2</th>\n",
       "      <td>2</td>\n",
       "      <td>100000623</td>\n",
       "      <td>5</td>\n",
       "    </tr>\n",
       "    <tr>\n",
       "      <th>3</th>\n",
       "      <td>3</td>\n",
       "      <td>100000894</td>\n",
       "      <td>7</td>\n",
       "    </tr>\n",
       "    <tr>\n",
       "      <th>4</th>\n",
       "      <td>4</td>\n",
       "      <td>100000920</td>\n",
       "      <td>3</td>\n",
       "    </tr>\n",
       "    <tr>\n",
       "      <th>...</th>\n",
       "      <td>...</td>\n",
       "      <td>...</td>\n",
       "      <td>...</td>\n",
       "    </tr>\n",
       "    <tr>\n",
       "      <th>16956</th>\n",
       "      <td>3913</td>\n",
       "      <td>113714475</td>\n",
       "      <td>7</td>\n",
       "    </tr>\n",
       "    <tr>\n",
       "      <th>16957</th>\n",
       "      <td>3914</td>\n",
       "      <td>113716850</td>\n",
       "      <td>4</td>\n",
       "    </tr>\n",
       "    <tr>\n",
       "      <th>16958</th>\n",
       "      <td>3915</td>\n",
       "      <td>113722466</td>\n",
       "      <td>5</td>\n",
       "    </tr>\n",
       "    <tr>\n",
       "      <th>16959</th>\n",
       "      <td>3916</td>\n",
       "      <td>113722742</td>\n",
       "      <td>12</td>\n",
       "    </tr>\n",
       "    <tr>\n",
       "      <th>16960</th>\n",
       "      <td>3917</td>\n",
       "      <td>113727131</td>\n",
       "      <td>1</td>\n",
       "    </tr>\n",
       "  </tbody>\n",
       "</table>\n",
       "<p>16961 rows × 3 columns</p>\n",
       "</div>"
      ],
      "text/plain": [
       "       Unnamed: 0       EMPI  PatientEncounterID\n",
       "0               0  100000272                  10\n",
       "1               1  100000521                   6\n",
       "2               2  100000623                   5\n",
       "3               3  100000894                   7\n",
       "4               4  100000920                   3\n",
       "...           ...        ...                 ...\n",
       "16956        3913  113714475                   7\n",
       "16957        3914  113716850                   4\n",
       "16958        3915  113722466                   5\n",
       "16959        3916  113722742                  12\n",
       "16960        3917  113727131                   1\n",
       "\n",
       "[16961 rows x 3 columns]"
      ]
     },
     "execution_count": 35,
     "metadata": {},
     "output_type": "execute_result"
    }
   ],
   "source": [
    "total.reset_index(drop = True)"
   ]
  },
  {
   "cell_type": "code",
   "execution_count": 38,
   "metadata": {},
   "outputs": [],
   "source": [
    "total.to_csv(r\"C:\\Users\\MIND_DS\\Dropbox (Partners HealthCare)\\NLP\\Tanish\\BigDataSets\\Regex_match\\total_summary_stats_updated_7_5_2021.csv\")"
   ]
  },
  {
   "cell_type": "code",
   "execution_count": 39,
   "metadata": {},
   "outputs": [],
   "source": [
    "subset = pd.read_csv(r\"C:\\Users\\MIND_DS\\Dropbox (Partners HealthCare)\\NLP\\Tanish\\BigDataSets\\Regex_match\\1\\apoe_1_matches_updated.csv\")"
   ]
  },
  {
   "cell_type": "code",
   "execution_count": 41,
   "metadata": {},
   "outputs": [
    {
     "data": {
      "text/html": [
       "<div>\n",
       "<style scoped>\n",
       "    .dataframe tbody tr th:only-of-type {\n",
       "        vertical-align: middle;\n",
       "    }\n",
       "\n",
       "    .dataframe tbody tr th {\n",
       "        vertical-align: top;\n",
       "    }\n",
       "\n",
       "    .dataframe thead th {\n",
       "        text-align: right;\n",
       "    }\n",
       "</style>\n",
       "<table border=\"1\" class=\"dataframe\">\n",
       "  <thead>\n",
       "    <tr style=\"text-align: right;\">\n",
       "      <th></th>\n",
       "      <th>Unnamed: 0</th>\n",
       "      <th>Unnamed: 0.1</th>\n",
       "      <th>EMPI</th>\n",
       "      <th>MRN</th>\n",
       "      <th>PatientID</th>\n",
       "      <th>PatientEncounterID</th>\n",
       "      <th>ContactDTS</th>\n",
       "      <th>EncounterTypeDSC</th>\n",
       "      <th>NoteID</th>\n",
       "      <th>InpatientNoteTypeDSC</th>\n",
       "      <th>buckets</th>\n",
       "      <th>NoteCSNID</th>\n",
       "      <th>LineNBR</th>\n",
       "      <th>NoteTXT</th>\n",
       "      <th>regex_location</th>\n",
       "      <th>regex_sent</th>\n",
       "      <th>regex_match</th>\n",
       "      <th>match_count</th>\n",
       "      <th>merged_row_location</th>\n",
       "      <th>merged_regex_sent</th>\n",
       "    </tr>\n",
       "  </thead>\n",
       "  <tbody>\n",
       "    <tr>\n",
       "      <th>0</th>\n",
       "      <td>0</td>\n",
       "      <td>0</td>\n",
       "      <td>100000272</td>\n",
       "      <td>10040002098</td>\n",
       "      <td>Z6352398</td>\n",
       "      <td>3.076070e+09</td>\n",
       "      <td>2015-06-17 00:00:00.0000000</td>\n",
       "      <td>Office Visit</td>\n",
       "      <td>471433064</td>\n",
       "      <td>Progress Notes</td>\n",
       "      <td>1</td>\n",
       "      <td>4.532520e+08</td>\n",
       "      <td>1.0</td>\n",
       "      <td>----------------------------------------------...</td>\n",
       "      <td>[(5850, 5858)]</td>\n",
       "      <td>'ncer. She passed secondary to this. He does n...</td>\n",
       "      <td>['cerebral']</td>\n",
       "      <td>1</td>\n",
       "      <td>[(5750, 5958)]</td>\n",
       "      <td>------- ncer. She passed secondary to this. He...</td>\n",
       "    </tr>\n",
       "    <tr>\n",
       "      <th>1</th>\n",
       "      <td>1</td>\n",
       "      <td>1</td>\n",
       "      <td>100000272</td>\n",
       "      <td>10040002098</td>\n",
       "      <td>Z6352398</td>\n",
       "      <td>3.076214e+09</td>\n",
       "      <td>2015-07-16 00:00:00.0000000</td>\n",
       "      <td>Office Visit</td>\n",
       "      <td>513142600</td>\n",
       "      <td>Progress Notes</td>\n",
       "      <td>1</td>\n",
       "      <td>4.924833e+08</td>\n",
       "      <td>1.0</td>\n",
       "      <td>----------------------------------------------...</td>\n",
       "      <td>[(3643, 3649)]</td>\n",
       "      <td>'a. Skin: No rashes or lesions. Neurological: ...</td>\n",
       "      <td>['memory']</td>\n",
       "      <td>1</td>\n",
       "      <td>[(3543, 3749)]</td>\n",
       "      <td>------- a. Skin: No rashes or lesions. Neurolo...</td>\n",
       "    </tr>\n",
       "    <tr>\n",
       "      <th>2</th>\n",
       "      <td>13</td>\n",
       "      <td>13</td>\n",
       "      <td>100000272</td>\n",
       "      <td>10040002098</td>\n",
       "      <td>Z6352398</td>\n",
       "      <td>3.161459e+09</td>\n",
       "      <td>2017-06-23 00:00:00.0000000</td>\n",
       "      <td>Hospital Encounter</td>\n",
       "      <td>1562613299</td>\n",
       "      <td>ED Provider Notes</td>\n",
       "      <td>1</td>\n",
       "      <td>1.508556e+09</td>\n",
       "      <td>1.0</td>\n",
       "      <td>----------------------------------------------...</td>\n",
       "      <td>[(3947, 3950)]</td>\n",
       "      <td>'cular: Normal rate. Pulmonary/Chest: Effort n...</td>\n",
       "      <td>['mci']</td>\n",
       "      <td>1</td>\n",
       "      <td>[(3847, 4050)]</td>\n",
       "      <td>------- cular: Normal rate. Pulmonary/Chest: E...</td>\n",
       "    </tr>\n",
       "    <tr>\n",
       "      <th>3</th>\n",
       "      <td>14</td>\n",
       "      <td>14</td>\n",
       "      <td>100000272</td>\n",
       "      <td>10040002098</td>\n",
       "      <td>Z6352398</td>\n",
       "      <td>3.242118e+09</td>\n",
       "      <td>2019-03-14 00:00:00.0000000</td>\n",
       "      <td>Office Visit</td>\n",
       "      <td>2370049295</td>\n",
       "      <td>Progress Notes</td>\n",
       "      <td>1</td>\n",
       "      <td>2.338373e+09</td>\n",
       "      <td>1.0</td>\n",
       "      <td>----------------------------------------------...</td>\n",
       "      <td>[(8741, 8749)]</td>\n",
       "      <td>'ractures, obesity, insulin resistance, dyslip...</td>\n",
       "      <td>['dementia']</td>\n",
       "      <td>1</td>\n",
       "      <td>[(8641, 8849)]</td>\n",
       "      <td>------- ractures, obesity, insulin resistance,...</td>\n",
       "    </tr>\n",
       "    <tr>\n",
       "      <th>4</th>\n",
       "      <td>15</td>\n",
       "      <td>15</td>\n",
       "      <td>100000272</td>\n",
       "      <td>10040002098</td>\n",
       "      <td>Z6352398</td>\n",
       "      <td>3.322836e+09</td>\n",
       "      <td>2020-12-04 00:00:00.0000000</td>\n",
       "      <td>Telemedicine - audio only</td>\n",
       "      <td>4959788710</td>\n",
       "      <td>Progress Notes</td>\n",
       "      <td>1</td>\n",
       "      <td>4.951007e+09</td>\n",
       "      <td>1.0</td>\n",
       "      <td>----------------------------------------------...</td>\n",
       "      <td>[(1048, 1052), (4878, 4887), (5104, 5110), (51...</td>\n",
       "      <td>' accept for this week when he ran out and use...</td>\n",
       "      <td>['MOCA']</td>\n",
       "      <td>1</td>\n",
       "      <td>[(948, 1152), (4778, 4987), (5004, 5331)]</td>\n",
       "      <td>-------  accept for this week when he ran out ...</td>\n",
       "    </tr>\n",
       "    <tr>\n",
       "      <th>...</th>\n",
       "      <td>...</td>\n",
       "      <td>...</td>\n",
       "      <td>...</td>\n",
       "      <td>...</td>\n",
       "      <td>...</td>\n",
       "      <td>...</td>\n",
       "      <td>...</td>\n",
       "      <td>...</td>\n",
       "      <td>...</td>\n",
       "      <td>...</td>\n",
       "      <td>...</td>\n",
       "      <td>...</td>\n",
       "      <td>...</td>\n",
       "      <td>...</td>\n",
       "      <td>...</td>\n",
       "      <td>...</td>\n",
       "      <td>...</td>\n",
       "      <td>...</td>\n",
       "      <td>...</td>\n",
       "      <td>...</td>\n",
       "    </tr>\n",
       "    <tr>\n",
       "      <th>4995</th>\n",
       "      <td>15753</td>\n",
       "      <td>15753</td>\n",
       "      <td>100022711</td>\n",
       "      <td>10040441759</td>\n",
       "      <td>Z6377427</td>\n",
       "      <td>3.172188e+09</td>\n",
       "      <td>2017-09-23 00:00:00.0000000</td>\n",
       "      <td>Hospital Encounter</td>\n",
       "      <td>1670437880</td>\n",
       "      <td>ED Provider Notes</td>\n",
       "      <td>1</td>\n",
       "      <td>1.629873e+09</td>\n",
       "      <td>1.0</td>\n",
       "      <td>----------------------------------------------...</td>\n",
       "      <td>[(1845, 1853), (6933, 6936)]</td>\n",
       "      <td>' 1 diabetes mellitus • Disease of nail • Corn...</td>\n",
       "      <td>['cortical']</td>\n",
       "      <td>1</td>\n",
       "      <td>[(1745, 1953), (6833, 7036)]</td>\n",
       "      <td>-------  1 diabetes mellitus • Disease of nail...</td>\n",
       "    </tr>\n",
       "    <tr>\n",
       "      <th>4996</th>\n",
       "      <td>15755</td>\n",
       "      <td>15755</td>\n",
       "      <td>100022711</td>\n",
       "      <td>10040441759</td>\n",
       "      <td>Z6377427</td>\n",
       "      <td>3.172188e+09</td>\n",
       "      <td>2017-09-23 00:00:00.0000000</td>\n",
       "      <td>Hospital Encounter</td>\n",
       "      <td>1670444460</td>\n",
       "      <td>ED AVS Snapshot</td>\n",
       "      <td>1</td>\n",
       "      <td>1.619571e+09</td>\n",
       "      <td>1.0</td>\n",
       "      <td>----------------------------------------------...</td>\n",
       "      <td>[(4159, 4162), (4317, 4320), (9407, 9415)]</td>\n",
       "      <td>'yrg 1 Syringe by Miscellaneous route once as ...</td>\n",
       "      <td>['mci']</td>\n",
       "      <td>1</td>\n",
       "      <td>[(4059, 4420), (9307, 9515)]</td>\n",
       "      <td>------- yrg 1 Syringe by Miscellaneous route o...</td>\n",
       "    </tr>\n",
       "    <tr>\n",
       "      <th>4997</th>\n",
       "      <td>15761</td>\n",
       "      <td>15761</td>\n",
       "      <td>100022711</td>\n",
       "      <td>10040441759</td>\n",
       "      <td>Z6377427</td>\n",
       "      <td>3.173014e+09</td>\n",
       "      <td>2017-10-04 00:00:00.0000000</td>\n",
       "      <td>Office Visit</td>\n",
       "      <td>1704055180</td>\n",
       "      <td>Progress Notes</td>\n",
       "      <td>1</td>\n",
       "      <td>1.653777e+09</td>\n",
       "      <td>1.0</td>\n",
       "      <td>----------------------------------------------...</td>\n",
       "      <td>[(703, 711)]</td>\n",
       "      <td>'08/04/2017 • Hypotension 08/03/2017 • Otitis ...</td>\n",
       "      <td>['cortical']</td>\n",
       "      <td>1</td>\n",
       "      <td>[(603, 811)]</td>\n",
       "      <td>------- 08/04/2017 • Hypotension 08/03/2017 • ...</td>\n",
       "    </tr>\n",
       "    <tr>\n",
       "      <th>4998</th>\n",
       "      <td>15762</td>\n",
       "      <td>15762</td>\n",
       "      <td>100022711</td>\n",
       "      <td>10040441759</td>\n",
       "      <td>Z6377427</td>\n",
       "      <td>3.173885e+09</td>\n",
       "      <td>2017-10-06 00:00:00.0000000</td>\n",
       "      <td>Hospital Encounter</td>\n",
       "      <td>1693732551</td>\n",
       "      <td>ED Provider Notes</td>\n",
       "      <td>1</td>\n",
       "      <td>1.660490e+09</td>\n",
       "      <td>1.0</td>\n",
       "      <td>----------------------------------------------...</td>\n",
       "      <td>[(2073, 2081), (6604, 6607)]</td>\n",
       "      <td>'s • Microalbuminuria • Closed fracture of hea...</td>\n",
       "      <td>['cortical']</td>\n",
       "      <td>1</td>\n",
       "      <td>[(1973, 2181), (6504, 6707)]</td>\n",
       "      <td>------- s • Microalbuminuria • Closed fracture...</td>\n",
       "    </tr>\n",
       "    <tr>\n",
       "      <th>4999</th>\n",
       "      <td>15764</td>\n",
       "      <td>15764</td>\n",
       "      <td>100022711</td>\n",
       "      <td>10040441759</td>\n",
       "      <td>Z6377427</td>\n",
       "      <td>3.173889e+09</td>\n",
       "      <td>2017-10-06 00:00:00.0000000</td>\n",
       "      <td>Hospital Encounter</td>\n",
       "      <td>1694271456</td>\n",
       "      <td>ED Provider Notes</td>\n",
       "      <td>1</td>\n",
       "      <td>1.644591e+09</td>\n",
       "      <td>1.0</td>\n",
       "      <td>----------------------------------------------...</td>\n",
       "      <td>[(2030, 2038)]</td>\n",
       "      <td>'lving left tentorium and left frontal convexi...</td>\n",
       "      <td>['cortical']</td>\n",
       "      <td>1</td>\n",
       "      <td>[(1930, 2138)]</td>\n",
       "      <td>------- lving left tentorium and left frontal ...</td>\n",
       "    </tr>\n",
       "  </tbody>\n",
       "</table>\n",
       "<p>5000 rows × 20 columns</p>\n",
       "</div>"
      ],
      "text/plain": [
       "      Unnamed: 0  Unnamed: 0.1       EMPI          MRN PatientID  \\\n",
       "0              0             0  100000272  10040002098  Z6352398   \n",
       "1              1             1  100000272  10040002098  Z6352398   \n",
       "2             13            13  100000272  10040002098  Z6352398   \n",
       "3             14            14  100000272  10040002098  Z6352398   \n",
       "4             15            15  100000272  10040002098  Z6352398   \n",
       "...          ...           ...        ...          ...       ...   \n",
       "4995       15753         15753  100022711  10040441759  Z6377427   \n",
       "4996       15755         15755  100022711  10040441759  Z6377427   \n",
       "4997       15761         15761  100022711  10040441759  Z6377427   \n",
       "4998       15762         15762  100022711  10040441759  Z6377427   \n",
       "4999       15764         15764  100022711  10040441759  Z6377427   \n",
       "\n",
       "      PatientEncounterID                   ContactDTS  \\\n",
       "0           3.076070e+09  2015-06-17 00:00:00.0000000   \n",
       "1           3.076214e+09  2015-07-16 00:00:00.0000000   \n",
       "2           3.161459e+09  2017-06-23 00:00:00.0000000   \n",
       "3           3.242118e+09  2019-03-14 00:00:00.0000000   \n",
       "4           3.322836e+09  2020-12-04 00:00:00.0000000   \n",
       "...                  ...                          ...   \n",
       "4995        3.172188e+09  2017-09-23 00:00:00.0000000   \n",
       "4996        3.172188e+09  2017-09-23 00:00:00.0000000   \n",
       "4997        3.173014e+09  2017-10-04 00:00:00.0000000   \n",
       "4998        3.173885e+09  2017-10-06 00:00:00.0000000   \n",
       "4999        3.173889e+09  2017-10-06 00:00:00.0000000   \n",
       "\n",
       "               EncounterTypeDSC      NoteID InpatientNoteTypeDSC  buckets  \\\n",
       "0                  Office Visit   471433064       Progress Notes        1   \n",
       "1                  Office Visit   513142600       Progress Notes        1   \n",
       "2            Hospital Encounter  1562613299    ED Provider Notes        1   \n",
       "3                  Office Visit  2370049295       Progress Notes        1   \n",
       "4     Telemedicine - audio only  4959788710       Progress Notes        1   \n",
       "...                         ...         ...                  ...      ...   \n",
       "4995         Hospital Encounter  1670437880    ED Provider Notes        1   \n",
       "4996         Hospital Encounter  1670444460      ED AVS Snapshot        1   \n",
       "4997               Office Visit  1704055180       Progress Notes        1   \n",
       "4998         Hospital Encounter  1693732551    ED Provider Notes        1   \n",
       "4999         Hospital Encounter  1694271456    ED Provider Notes        1   \n",
       "\n",
       "         NoteCSNID  LineNBR  \\\n",
       "0     4.532520e+08      1.0   \n",
       "1     4.924833e+08      1.0   \n",
       "2     1.508556e+09      1.0   \n",
       "3     2.338373e+09      1.0   \n",
       "4     4.951007e+09      1.0   \n",
       "...            ...      ...   \n",
       "4995  1.629873e+09      1.0   \n",
       "4996  1.619571e+09      1.0   \n",
       "4997  1.653777e+09      1.0   \n",
       "4998  1.660490e+09      1.0   \n",
       "4999  1.644591e+09      1.0   \n",
       "\n",
       "                                                NoteTXT  \\\n",
       "0     ----------------------------------------------...   \n",
       "1     ----------------------------------------------...   \n",
       "2     ----------------------------------------------...   \n",
       "3     ----------------------------------------------...   \n",
       "4     ----------------------------------------------...   \n",
       "...                                                 ...   \n",
       "4995  ----------------------------------------------...   \n",
       "4996  ----------------------------------------------...   \n",
       "4997  ----------------------------------------------...   \n",
       "4998  ----------------------------------------------...   \n",
       "4999  ----------------------------------------------...   \n",
       "\n",
       "                                         regex_location  \\\n",
       "0                                        [(5850, 5858)]   \n",
       "1                                        [(3643, 3649)]   \n",
       "2                                        [(3947, 3950)]   \n",
       "3                                        [(8741, 8749)]   \n",
       "4     [(1048, 1052), (4878, 4887), (5104, 5110), (51...   \n",
       "...                                                 ...   \n",
       "4995                       [(1845, 1853), (6933, 6936)]   \n",
       "4996         [(4159, 4162), (4317, 4320), (9407, 9415)]   \n",
       "4997                                       [(703, 711)]   \n",
       "4998                       [(2073, 2081), (6604, 6607)]   \n",
       "4999                                     [(2030, 2038)]   \n",
       "\n",
       "                                             regex_sent   regex_match  \\\n",
       "0     'ncer. She passed secondary to this. He does n...  ['cerebral']   \n",
       "1     'a. Skin: No rashes or lesions. Neurological: ...    ['memory']   \n",
       "2     'cular: Normal rate. Pulmonary/Chest: Effort n...       ['mci']   \n",
       "3     'ractures, obesity, insulin resistance, dyslip...  ['dementia']   \n",
       "4     ' accept for this week when he ran out and use...      ['MOCA']   \n",
       "...                                                 ...           ...   \n",
       "4995  ' 1 diabetes mellitus • Disease of nail • Corn...  ['cortical']   \n",
       "4996  'yrg 1 Syringe by Miscellaneous route once as ...       ['mci']   \n",
       "4997  '08/04/2017 • Hypotension 08/03/2017 • Otitis ...  ['cortical']   \n",
       "4998  's • Microalbuminuria • Closed fracture of hea...  ['cortical']   \n",
       "4999  'lving left tentorium and left frontal convexi...  ['cortical']   \n",
       "\n",
       "      match_count                        merged_row_location  \\\n",
       "0               1                             [(5750, 5958)]   \n",
       "1               1                             [(3543, 3749)]   \n",
       "2               1                             [(3847, 4050)]   \n",
       "3               1                             [(8641, 8849)]   \n",
       "4               1  [(948, 1152), (4778, 4987), (5004, 5331)]   \n",
       "...           ...                                        ...   \n",
       "4995            1               [(1745, 1953), (6833, 7036)]   \n",
       "4996            1               [(4059, 4420), (9307, 9515)]   \n",
       "4997            1                               [(603, 811)]   \n",
       "4998            1               [(1973, 2181), (6504, 6707)]   \n",
       "4999            1                             [(1930, 2138)]   \n",
       "\n",
       "                                      merged_regex_sent  \n",
       "0     ------- ncer. She passed secondary to this. He...  \n",
       "1     ------- a. Skin: No rashes or lesions. Neurolo...  \n",
       "2     ------- cular: Normal rate. Pulmonary/Chest: E...  \n",
       "3     ------- ractures, obesity, insulin resistance,...  \n",
       "4     -------  accept for this week when he ran out ...  \n",
       "...                                                 ...  \n",
       "4995  -------  1 diabetes mellitus • Disease of nail...  \n",
       "4996  ------- yrg 1 Syringe by Miscellaneous route o...  \n",
       "4997  ------- 08/04/2017 • Hypotension 08/03/2017 • ...  \n",
       "4998  ------- s • Microalbuminuria • Closed fracture...  \n",
       "4999  ------- lving left tentorium and left frontal ...  \n",
       "\n",
       "[5000 rows x 20 columns]"
      ]
     },
     "execution_count": 41,
     "metadata": {},
     "output_type": "execute_result"
    }
   ],
   "source": [
    "subset = subset.iloc[0:5000]\n",
    "subset"
   ]
  },
  {
   "cell_type": "code",
   "execution_count": 42,
   "metadata": {},
   "outputs": [],
   "source": [
    "subset.to_csv(r\"C:\\Users\\MIND_DS\\Dropbox (Partners HealthCare)\\NLP\\Tanish\\BigDataSets\\Regex_match\\1\\apoe_1_matches_updated_snippet.csv\")"
   ]
  },
  {
   "cell_type": "markdown",
   "metadata": {},
   "source": [
    "## Cleaning up Similar Encounters on Patient Level"
   ]
  },
  {
   "cell_type": "code",
   "execution_count": 1,
   "metadata": {},
   "outputs": [
    {
     "ename": "NameError",
     "evalue": "name 'pd' is not defined",
     "output_type": "error",
     "traceback": [
      "\u001b[1;31m---------------------------------------------------------------------------\u001b[0m",
      "\u001b[1;31mNameError\u001b[0m                                 Traceback (most recent call last)",
      "\u001b[1;32m<ipython-input-1-feeb5892ce83>\u001b[0m in \u001b[0;36m<module>\u001b[1;34m\u001b[0m\n\u001b[1;32m----> 1\u001b[1;33m \u001b[0mdf\u001b[0m \u001b[1;33m=\u001b[0m \u001b[0mpd\u001b[0m\u001b[1;33m.\u001b[0m\u001b[0mread_csv\u001b[0m\u001b[1;33m(\u001b[0m\u001b[1;34mr\"C:\\Users\\MIND_DS\\Dropbox (Partners HealthCare)\\NLP\\Tanish\\BigDataSets\\Regex_match\\4\\apoe_4_matches_updated_pruned.csv\"\u001b[0m\u001b[1;33m)\u001b[0m\u001b[1;33m\u001b[0m\u001b[1;33m\u001b[0m\u001b[0m\n\u001b[0m",
      "\u001b[1;31mNameError\u001b[0m: name 'pd' is not defined"
     ]
    }
   ],
   "source": [
    "df = pd.read_csv(r\"C:\\Users\\MIND_DS\\Dropbox (Partners HealthCare)\\NLP\\Tanish\\BigDataSets\\Regex_match\\4\\apoe_4_matches_updated_pruned.csv\")"
   ]
  },
  {
   "cell_type": "code",
   "execution_count": 2,
   "metadata": {},
   "outputs": [
    {
     "ename": "NameError",
     "evalue": "name 'df' is not defined",
     "output_type": "error",
     "traceback": [
      "\u001b[1;31m---------------------------------------------------------------------------\u001b[0m",
      "\u001b[1;31mNameError\u001b[0m                                 Traceback (most recent call last)",
      "\u001b[1;32m<ipython-input-2-c42a15b2c7cf>\u001b[0m in \u001b[0;36m<module>\u001b[1;34m\u001b[0m\n\u001b[1;32m----> 1\u001b[1;33m \u001b[0mdf\u001b[0m\u001b[1;33m.\u001b[0m\u001b[0mhead\u001b[0m\u001b[1;33m(\u001b[0m\u001b[1;33m)\u001b[0m\u001b[1;33m\u001b[0m\u001b[1;33m\u001b[0m\u001b[0m\n\u001b[0m",
      "\u001b[1;31mNameError\u001b[0m: name 'df' is not defined"
     ]
    }
   ],
   "source": [
    "df.head()"
   ]
  },
  {
   "cell_type": "code",
   "execution_count": null,
   "metadata": {},
   "outputs": [],
   "source": [
    "# total_merged_sequences = []\n",
    "\n",
    "# for i in tqdm(unique_empi):\n",
    "#     merged_sequences = df[df[\"EMPI\"] == i][\"merged_regex_sent\"].values\n",
    "#     #print(\"MERGED: \", merged_sequences, \"\\n\")\n",
    "\n",
    "#     counter = 0\n",
    "#     for j in merged_sequences:\n",
    "# #         choices = []\n",
    "        \n",
    "# #         for k in merged_sequences:\n",
    "# #             if (k != j):\n",
    "# #                 choices.append(k)\n",
    "# #         choices = merged_sequences[0:counter]\n",
    "# #         choices += merged_sequences[counter+1:]\n",
    "#         #print(\"\\n------------------\")\n",
    "#         choices = list(merged_sequences[0:counter]) + list(merged_sequences[counter+1:])\n",
    "#         result = get_match(j, choices)\n",
    "#         score = result[0][1]\n",
    "#         txt = result[0][0]\n",
    "        \n",
    "#         if (score >= 90):\n",
    "#             # 90 is duplicate string threshold\n",
    "#             idx = df[df[\"merged_regex_sent\"] == str(txt)].index[0]\n",
    "#             df.drop([idx])\n",
    "        \n",
    "#         counter += 1"
   ]
  },
  {
   "cell_type": "code",
   "execution_count": null,
   "metadata": {},
   "outputs": [],
   "source": [
    "len(df)"
   ]
  },
  {
   "cell_type": "code",
   "execution_count": null,
   "metadata": {},
   "outputs": [],
   "source": [
    "df[\"PatientEncounterID\"].nunique()"
   ]
  },
  {
   "cell_type": "code",
   "execution_count": null,
   "metadata": {},
   "outputs": [],
   "source": [
    "df[\"PatientEncounterID\"].isna().sum()"
   ]
  },
  {
   "cell_type": "code",
   "execution_count": null,
   "metadata": {},
   "outputs": [],
   "source": [
    "df = df.drop_duplicates(subset='merged_regex_sent', keep=\"first\")"
   ]
  },
  {
   "cell_type": "code",
   "execution_count": null,
   "metadata": {},
   "outputs": [],
   "source": [
    "len(df)"
   ]
  },
  {
   "cell_type": "markdown",
   "metadata": {},
   "source": [
    "## Data Visualization"
   ]
  },
  {
   "cell_type": "code",
   "execution_count": null,
   "metadata": {},
   "outputs": [],
   "source": []
  },
  {
   "cell_type": "code",
   "execution_count": null,
   "metadata": {},
   "outputs": [],
   "source": [
    "x = ((7509, 7518), (7735, 7741), (7745, 7754), (7858, 7862))\n",
    "y = []\n",
    "for i in range(len(x)):\n",
    "    a = x[i][0]\n",
    "    b = x[i][1]\n",
    "    y.append((a,b))\n",
    "print(str(y))\n",
    "z = len(p1[(p1[\"regex_location\"] == str(y)) & (p1[\"PatientEncounterID\"] == int(encounters[21]))]['NoteTXT'].values[1])\n",
    "z"
   ]
  },
  {
   "cell_type": "code",
   "execution_count": null,
   "metadata": {},
   "outputs": [],
   "source": [
    "x = [(181, 390),\n",
    "  (479, 688),\n",
    "  (2048, 2269),\n",
    "  (6184, 6390),\n",
    "  (6584, 6821),\n",
    "  (7450, 7659),\n",
    "  (7716, 7932),\n",
    "  (9864, 10072),\n",
    "  (11192, 11648),\n",
    "  (12118, 12627)]\n",
    "y = []\n",
    "for i in range(len(x)):\n",
    "    a = x[i][0]\n",
    "    b = x[i][1]\n",
    "    y.append((a,b))\n",
    "print(y)"
   ]
  },
  {
   "cell_type": "code",
   "execution_count": null,
   "metadata": {},
   "outputs": [],
   "source": [
    "len(p1[(p1[\"regex_location\"] == \"[\" +str(subset_loc[1]) + \"]\") & (p1[\"PatientEncounterID\"] == int(encounters[1]))]['NoteTXT'].values[0])"
   ]
  }
 ],
 "metadata": {
  "kernelspec": {
   "display_name": "Python 3",
   "language": "python",
   "name": "python3"
  },
  "language_info": {
   "codemirror_mode": {
    "name": "ipython",
    "version": 3
   },
   "file_extension": ".py",
   "mimetype": "text/x-python",
   "name": "python",
   "nbconvert_exporter": "python",
   "pygments_lexer": "ipython3",
   "version": "3.8.5"
  }
 },
 "nbformat": 4,
 "nbformat_minor": 4
}
