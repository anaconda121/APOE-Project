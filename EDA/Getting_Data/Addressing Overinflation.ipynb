{
 "cells": [
  {
   "cell_type": "code",
   "execution_count": 1,
   "metadata": {},
   "outputs": [],
   "source": [
    "import pandas as pd\n",
    "import pandas.io.sql as psql\n",
    "import os\n",
    "import sys\n",
    "from datetime import date\n",
    "current_date = date.today()\n",
    "#%load_ext autotime\n",
    "import re\n",
    "import csv\n",
    "import pandas as pd\n",
    "import numpy as np\n",
    "import os\n",
    "from glob import glob\n",
    "from tqdm import tqdm\n",
    "import matplotlib.pyplot as plt\n",
    "#from matplotlib_venn import venn2, venn3\n",
    "import warnings\n",
    "import time\n",
    "import datetime as dt\n",
    "import itertools\n",
    "from more_itertools import unique_everseen\n",
    "warnings.filterwarnings(\"ignore\")\n",
    "#import pandasql as ps\n",
    "import seaborn as sns\n",
    "import json\n",
    "from ast import literal_eval\n",
    "import ast\n",
    "from fuzzywuzzy import process\n",
    "from nltk.corpus import words"
   ]
  },
  {
   "cell_type": "code",
   "execution_count": 2,
   "metadata": {},
   "outputs": [],
   "source": [
    "total = pd.read_csv(r\"C:\\Users\\MIND_DS\\Dropbox (Partners HealthCare)\\NLP\\Tanish\\BigDataSets\\Regex_match\\total_summary_stats_updated.csv\")"
   ]
  },
  {
   "cell_type": "code",
   "execution_count": 3,
   "metadata": {},
   "outputs": [],
   "source": [
    "patient_id = total[\"patient_id\"].to_list()\n",
    "patient_id = patient_id[:10]"
   ]
  },
  {
   "cell_type": "code",
   "execution_count": 4,
   "metadata": {},
   "outputs": [],
   "source": [
    "matches = pd.read_csv(r\"C:\\Users\\MIND_DS\\Dropbox (Partners HealthCare)\\NLP\\Tanish\\BigDataSets\\Regex_match\\1\\apoe_1_matches.csv\")"
   ]
  },
  {
   "cell_type": "code",
   "execution_count": null,
   "metadata": {},
   "outputs": [],
   "source": [
    "# ONLY RUN ONCE #\n",
    "\n",
    "# vertifying that all match records can be found\n",
    "for i in range(len(patient_id)):\n",
    "    specific_matches = matches[matches[\"PatientID\"] == patient_id[i]]\n",
    "    if (len(specific_matches) <= 0):\n",
    "        print(\"NOT FOUND: \", patient_id[i])\n",
    "    #specific_matches.to_csv(r\"C:\\Users\\MIND_DS\\Dropbox (Partners HealthCare)\\NLP\\Tanish\\BigDataSets\\Regex_match\\1\\Specific_Matches\\patient_{}.csv\".format(i+1))"
   ]
  },
  {
   "cell_type": "code",
   "execution_count": 5,
   "metadata": {},
   "outputs": [],
   "source": [
    "p1 = pd.read_csv(r\"C:\\Users\\MIND_DS\\Dropbox (Partners HealthCare)\\NLP\\Tanish\\BigDataSets\\Regex_match\\1\\Specific_Matches\\patient_1.csv\")"
   ]
  },
  {
   "cell_type": "code",
   "execution_count": 6,
   "metadata": {},
   "outputs": [
    {
     "name": "stdout",
     "output_type": "stream",
     "text": [
      "2890\n"
     ]
    }
   ],
   "source": [
    "unique_ids = matches[\"PatientID\"].unique().tolist()\n",
    "print(len(unique_ids))"
   ]
  },
  {
   "cell_type": "code",
   "execution_count": 7,
   "metadata": {},
   "outputs": [],
   "source": [
    "def get_match(query, choices, limit = 1):\n",
    "    results = process.extract(query, choices, limit = limit)\n",
    "    return results"
   ]
  },
  {
   "cell_type": "code",
   "execution_count": 9,
   "metadata": {},
   "outputs": [],
   "source": [
    "# interesting match cases\n",
    "# patient_2 in specific study row 6, cream that has mci inside it"
   ]
  },
  {
   "cell_type": "code",
   "execution_count": 46,
   "metadata": {},
   "outputs": [
    {
     "name": "stdout",
     "output_type": "stream",
     "text": [
      "[(5850, 5858), (3643, 3649), (6049, 6057), (3810, 3816), (5554, 5562), (5634, 5642), (5492, 5500), (5891, 5899), (5790, 5798), (6170, 6178), (6128, 6136), (6061, 6069), (6355, 6363), (3947, 3950), (8741, 8749), ((1048, 1052), (4878, 4887), (5104, 5110), (5114, 5123), (5227, 5231)), ((5467, 5476), (5693, 5699), (5703, 5712)), (1984, 1990), (859, 862), ((281, 290), (579, 588), (2148, 2154), (2163, 2169), (6284, 6290), (6684, 6693), (6718, 6721), (7550, 7559), (7816, 7820), (7828, 7832), (9964, 9972), (11292, 11301), (11383, 11403), (11514, 11523), (11544, 11548), (12218, 12238), (12383, 12392), (12487, 12507), (12509, 12512), (12519, 12527)), (313, 319), ((7509, 7518), (7735, 7741), (7745, 7754), (7858, 7862)), (1473, 1476)]\n",
      "\n",
      " 5850\n"
     ]
    }
   ],
   "source": [
    "# for i in tqdm(range(len(unique_ids))):\n",
    "subset_loc = p1[p1[\"PatientID\"] == 'Z6352398']['regex_location'].to_list()\n",
    "#print(subset_loc)\n",
    "encounters = p1[p1[\"PatientID\"] == 'Z6352398']['PatientEncounterID'].unique().tolist()\n",
    "\n",
    "#print(len(subset_loc))\n",
    "#print(subset_loc)\n",
    "#print(subset_loc[0])\n",
    "for i in range(len(subset_loc)):\n",
    "    subset_loc[i] = subset_loc[i][1:len(subset_loc[i]) - 1]\n",
    "    subset_loc[i] = eval(subset_loc[i])\n",
    "    #subset_loc[i] = tuple(map(int, subset_loc[i].split(\", \")))\n",
    "    \n",
    "subset_loc = pd.Series(subset_loc)\n",
    "subset_loc = subset_loc.unique().tolist()\n",
    "\n",
    "print(subset_loc)\n",
    "print(\"\\n\", subset_loc[0][0])\n",
    "\n",
    "if (len(subset_loc) != len(encounters)):\n",
    "    print(\"Houston, we got a problem\", i, len(subset_loc), len(encounters))"
   ]
  },
  {
   "cell_type": "code",
   "execution_count": 47,
   "metadata": {},
   "outputs": [],
   "source": [
    "def merge_intervals(s, j):\n",
    "    merged = []\n",
    "    #print(s)\n",
    "    #print(type(s))\n",
    "    for i in range(len(s)):\n",
    "        s0 = s[i][0]\n",
    "        s1 = s[i][1]\n",
    "        print(\"s0\", s0)\n",
    "        print(\"s1\", s1)\n",
    "        print(\"matches, \", p1[(p1[\"regex_location\"] == \"[\" +str(subset_loc[j]) + \"]\") & (p1[\"PatientEncounterID\"] == int(encounters[j]))]['NoteTXT'].values)\n",
    "        length = len(p1[(p1[\"regex_location\"] == \"[\" +str(subset_loc[j]) + \"]\") & (p1[\"PatientEncounterID\"] == int(encounters[j]))]['NoteTXT'].values[0])\n",
    "        print(\"length, \", length)\n",
    "        if (s0 < 100):\n",
    "            s0 = 100\n",
    "        elif (s1 > length - 100):\n",
    "            s1 = length - 100\n",
    "        s[i] = (s0 - 100, s1 + 100)\n",
    "    \n",
    "    s.sort(key = lambda x : x[0])\n",
    "    for interval in s:\n",
    "        if not merged:\n",
    "            merged.append(interval)\n",
    "            continue\n",
    "\n",
    "        prevInterval = merged.pop()\n",
    "        if prevInterval[0] <= interval[0] <= prevInterval[1]:\n",
    "            startTime = prevInterval[0]\n",
    "            endTime = prevInterval[1] if prevInterval[1] > interval[1] else interval[1]\n",
    "            merged.append([startTime, endTime])\n",
    "        else:\n",
    "            merged.append(prevInterval)\n",
    "            merged.append(interval)\n",
    "    \n",
    "    return merged"
   ]
  },
  {
   "cell_type": "code",
   "execution_count": 96,
   "metadata": {},
   "outputs": [
    {
     "name": "stdout",
     "output_type": "stream",
     "text": [
      "[(5850, 5858), (3643, 3649), (6049, 6057), (3810, 3816), (5554, 5562), (5634, 5642), (5492, 5500), (5891, 5899), (5790, 5798), (6170, 6178), (6128, 6136), (6061, 6069), (6355, 6363), (3947, 3950), (8741, 8749), ((1048, 1052), (4878, 4887), (5104, 5110), (5114, 5123), (5227, 5231)), ((5467, 5476), (5693, 5699), (5703, 5712)), (1984, 1990), (859, 862), ((281, 290), (579, 588), (2148, 2154), (2163, 2169), (6284, 6290), (6684, 6693), (6718, 6721), (7550, 7559), (7816, 7820), (7828, 7832), (9964, 9972), (11292, 11301), (11383, 11403), (11514, 11523), (11544, 11548), (12218, 12238), (12383, 12392), (12487, 12507), (12509, 12512), (12519, 12527)), (313, 319), ((7509, 7518), (7735, 7741), (7745, 7754), (7858, 7862)), (1473, 1476)]\n",
      "\n",
      " 5850\n",
      "23\n",
      "\n",
      "SUBSET_LOC [(5750, 5958)]\n",
      "\n",
      "SUBSET_LOC [(3543, 3749)]\n",
      "\n",
      "SUBSET_LOC [(5949, 6157)]\n",
      "\n",
      "SUBSET_LOC [(3710, 3916)]\n",
      "\n",
      "SUBSET_LOC [(5454, 5662)]\n",
      "\n",
      "SUBSET_LOC [(5534, 5742)]\n",
      "\n",
      "SUBSET_LOC [(5392, 5600)]\n",
      "\n",
      "SUBSET_LOC [(5791, 5999)]\n",
      "\n",
      "SUBSET_LOC [(5690, 5898)]\n",
      "\n",
      "SUBSET_LOC [(6070, 6278)]\n",
      "\n",
      "SUBSET_LOC [(6028, 6236)]\n",
      "\n",
      "SUBSET_LOC [(5961, 6169)]\n",
      "\n",
      "SUBSET_LOC [(6255, 6463)]\n",
      "\n",
      "SUBSET_LOC [(3847, 4050)]\n",
      "\n",
      "SUBSET_LOC [(8641, 8849)]\n",
      "\n",
      "SUBSET_LOC [(948, 1152), (4778, 4987), (5004, 5210), (5014, 5223), (5127, 5331)]\n"
     ]
    },
    {
     "ename": "TypeError",
     "evalue": "'<=' not supported between instances of 'tuple' and 'int'",
     "output_type": "error",
     "traceback": [
      "\u001b[1;31m---------------------------------------------------------------------------\u001b[0m",
      "\u001b[1;31mTypeError\u001b[0m                                 Traceback (most recent call last)",
      "\u001b[1;32m<ipython-input-96-4384b9f57fe8>\u001b[0m in \u001b[0;36m<module>\u001b[1;34m\u001b[0m\n\u001b[0;32m     70\u001b[0m \u001b[1;33m\u001b[0m\u001b[0m\n\u001b[0;32m     71\u001b[0m         \u001b[0mprevInterval\u001b[0m \u001b[1;33m=\u001b[0m \u001b[0mmerged\u001b[0m\u001b[1;33m.\u001b[0m\u001b[0mpop\u001b[0m\u001b[1;33m(\u001b[0m\u001b[1;33m)\u001b[0m\u001b[1;33m\u001b[0m\u001b[1;33m\u001b[0m\u001b[0m\n\u001b[1;32m---> 72\u001b[1;33m         \u001b[1;32mif\u001b[0m \u001b[0mprevInterval\u001b[0m\u001b[1;33m[\u001b[0m\u001b[1;36m0\u001b[0m\u001b[1;33m]\u001b[0m \u001b[1;33m<=\u001b[0m \u001b[0minterval\u001b[0m\u001b[1;33m[\u001b[0m\u001b[1;36m0\u001b[0m\u001b[1;33m]\u001b[0m \u001b[1;33m<=\u001b[0m \u001b[0mprevInterval\u001b[0m\u001b[1;33m[\u001b[0m\u001b[1;36m1\u001b[0m\u001b[1;33m]\u001b[0m\u001b[1;33m:\u001b[0m\u001b[1;33m\u001b[0m\u001b[1;33m\u001b[0m\u001b[0m\n\u001b[0m\u001b[0;32m     73\u001b[0m             \u001b[0mstartTime\u001b[0m \u001b[1;33m=\u001b[0m \u001b[0mprevInterval\u001b[0m\u001b[1;33m[\u001b[0m\u001b[1;36m0\u001b[0m\u001b[1;33m]\u001b[0m\u001b[1;33m\u001b[0m\u001b[1;33m\u001b[0m\u001b[0m\n\u001b[0;32m     74\u001b[0m             \u001b[0mendTime\u001b[0m \u001b[1;33m=\u001b[0m \u001b[0mprevInterval\u001b[0m\u001b[1;33m[\u001b[0m\u001b[1;36m1\u001b[0m\u001b[1;33m]\u001b[0m \u001b[1;32mif\u001b[0m \u001b[0mprevInterval\u001b[0m\u001b[1;33m[\u001b[0m\u001b[1;36m1\u001b[0m\u001b[1;33m]\u001b[0m \u001b[1;33m>\u001b[0m \u001b[0minterval\u001b[0m\u001b[1;33m[\u001b[0m\u001b[1;36m1\u001b[0m\u001b[1;33m]\u001b[0m \u001b[1;32melse\u001b[0m \u001b[0minterval\u001b[0m\u001b[1;33m[\u001b[0m\u001b[1;36m1\u001b[0m\u001b[1;33m]\u001b[0m\u001b[1;33m\u001b[0m\u001b[1;33m\u001b[0m\u001b[0m\n",
      "\u001b[1;31mTypeError\u001b[0m: '<=' not supported between instances of 'tuple' and 'int'"
     ]
    }
   ],
   "source": [
    "subset_loc = p1[p1[\"PatientID\"] == 'Z6352398']['regex_location'].to_list()\n",
    "#print(subset_loc)\n",
    "encounters = p1[p1[\"PatientID\"] == 'Z6352398']['PatientEncounterID'].unique().tolist()\n",
    "\n",
    "#print(len(subset_loc))\n",
    "#print(subset_loc)\n",
    "#print(subset_loc[0])\n",
    "for i in range(len(subset_loc)):\n",
    "    subset_loc[i] = subset_loc[i][1:len(subset_loc[i]) - 1]\n",
    "    subset_loc[i] = eval(subset_loc[i])\n",
    "    #subset_loc[i] = tuple(map(int, subset_loc[i].split(\", \")))\n",
    "    \n",
    "subset_loc = pd.Series(subset_loc)\n",
    "subset_loc = subset_loc.unique().tolist()\n",
    "\n",
    "subset_loc_clone = subset_loc\n",
    "\n",
    "print(subset_loc)\n",
    "print(\"\\n\", subset_loc[0][0])\n",
    "print(len(subset_loc))\n",
    "if (len(subset_loc) != len(encounters)):\n",
    "    print(\"Houston, we got a problem\", i, len(subset_loc), len(encounters))\n",
    "\n",
    "total_merged = []  \n",
    "\n",
    "for i in range(len(subset_loc)):\n",
    "    merged = []\n",
    "\n",
    "    start = 0\n",
    "    end = 0\n",
    "    length = 0\n",
    "    \n",
    "    if (len(subset_loc[i]) == 2):\n",
    "        start = subset_loc[i][0]\n",
    "        end = subset_loc[i][1]\n",
    "        length = len(p1[(p1[\"regex_location\"] == \"[\" +str(subset_loc[i]) + \"]\") & (p1[\"PatientEncounterID\"] == int(encounters[i]))]['NoteTXT'].values[0])\n",
    "        if (start < 100):\n",
    "            start = 100\n",
    "        elif (end > length - 100):\n",
    "             end = length - 100\n",
    "        subset_loc[i] = [(start - 100, end + 100)]\n",
    "        \n",
    "    else:\n",
    "        loc_list = []\n",
    "        for j in range(len(subset_loc[i])):\n",
    "            start = subset_loc[i][j][0]\n",
    "            end = subset_loc[i][j][1]\n",
    "            loc_list.append((start, end))\n",
    "        length = len(p1[(p1[\"regex_location\"] == str(loc_list)) & (p1[\"PatientEncounterID\"] == int(encounters[i]))]['NoteTXT'].values[1])\n",
    "        for k in range(len(loc_list)):\n",
    "            start = loc_list[k][0]\n",
    "            end = loc_list[k][1]\n",
    "            if (start < 100):\n",
    "                start = 100\n",
    "            elif (end > length - 100):\n",
    "                end = length - 100\n",
    "            loc_list[k] = (start - 100, end + 100)\n",
    "        subset_loc[i] = loc_list\n",
    "    \n",
    "\n",
    "    \n",
    "    subset_loc[i].sort(key = lambda x : x[0])\n",
    "    \n",
    "    print(\"\\nSUBSET_LOC\", subset_loc[i])\n",
    "    \n",
    "    for interval in subset_loc[i]:\n",
    "        if not merged:\n",
    "            merged.append(interval)\n",
    "            continue\n",
    "\n",
    "        prevInterval = merged.pop()\n",
    "        if prevInterval[0] <= interval[0] <= prevInterval[1]:\n",
    "            startTime = prevInterval[0]\n",
    "            endTime = prevInterval[1] if prevInterval[1] > interval[1] else interval[1]\n",
    "            merged.append([startTime, endTime])\n",
    "        else:\n",
    "            merged.append([prevInterval, interval])\n",
    "            #merged.append(interval)\n",
    "    total_merged.append(merged)\n",
    "total_merged\n",
    "#     print(\"start\", start)\n",
    "#     print(\"end\", end)\n",
    "    #print(\"matches, \", p1[(p1[\"regex_location\"] == \"[\" +str(subset_loc[j]) + \"]\") & (p1[\"PatientEncounterID\"] == int(encounters[j]))]['NoteTXT'].values)\n",
    "    #print(\"length, \", length) \n",
    "    "
   ]
  },
  {
   "cell_type": "code",
   "execution_count": 81,
   "metadata": {},
   "outputs": [
    {
     "name": "stdout",
     "output_type": "stream",
     "text": [
      "[(7509, 7518), (7735, 7741), (7745, 7754), (7858, 7862)]\n"
     ]
    },
    {
     "data": {
      "text/plain": [
       "9187"
      ]
     },
     "execution_count": 81,
     "metadata": {},
     "output_type": "execute_result"
    }
   ],
   "source": [
    "x = ((7509, 7518), (7735, 7741), (7745, 7754), (7858, 7862))\n",
    "y = []\n",
    "for i in range(len(x)):\n",
    "    a = x[i][0]\n",
    "    b = x[i][1]\n",
    "    y.append((a,b))\n",
    "print(str(y))\n",
    "z = len(p1[(p1[\"regex_location\"] == str(y)) & (p1[\"PatientEncounterID\"] == int(encounters[21]))]['NoteTXT'].values[1])\n",
    "z"
   ]
  },
  {
   "cell_type": "code",
   "execution_count": 49,
   "metadata": {},
   "outputs": [
    {
     "name": "stdout",
     "output_type": "stream",
     "text": [
      "j 0\n",
      "s0 5750\n",
      "s1 5958\n",
      "matches,  []\n"
     ]
    },
    {
     "ename": "IndexError",
     "evalue": "index 0 is out of bounds for axis 0 with size 0",
     "output_type": "error",
     "traceback": [
      "\u001b[1;31m---------------------------------------------------------------------------\u001b[0m",
      "\u001b[1;31mIndexError\u001b[0m                                Traceback (most recent call last)",
      "\u001b[1;32m<ipython-input-49-b223168ce114>\u001b[0m in \u001b[0;36m<module>\u001b[1;34m\u001b[0m\n\u001b[0;32m     12\u001b[0m     \u001b[0mprint\u001b[0m\u001b[1;33m(\u001b[0m\u001b[1;34m\"j\"\u001b[0m\u001b[1;33m,\u001b[0m \u001b[0mj\u001b[0m\u001b[1;33m)\u001b[0m\u001b[1;33m\u001b[0m\u001b[1;33m\u001b[0m\u001b[0m\n\u001b[0;32m     13\u001b[0m     \u001b[1;31m#print(subset_loc[j][0], subset_loc[j][1])\u001b[0m\u001b[1;33m\u001b[0m\u001b[1;33m\u001b[0m\u001b[1;33m\u001b[0m\u001b[0m\n\u001b[1;32m---> 14\u001b[1;33m     \u001b[0mmerged\u001b[0m \u001b[1;33m=\u001b[0m \u001b[0mmerge_intervals\u001b[0m\u001b[1;33m(\u001b[0m\u001b[0msubset_loc\u001b[0m\u001b[1;33m,\u001b[0m \u001b[0mj\u001b[0m\u001b[1;33m)\u001b[0m\u001b[1;33m\u001b[0m\u001b[1;33m\u001b[0m\u001b[0m\n\u001b[0m\u001b[0;32m     15\u001b[0m     \u001b[0mtotal_merged\u001b[0m\u001b[1;33m.\u001b[0m\u001b[0mappend\u001b[0m\u001b[1;33m(\u001b[0m\u001b[0mmerged\u001b[0m\u001b[1;33m)\u001b[0m\u001b[1;33m\u001b[0m\u001b[1;33m\u001b[0m\u001b[0m\n\u001b[0;32m     16\u001b[0m \u001b[1;33m\u001b[0m\u001b[0m\n",
      "\u001b[1;32m<ipython-input-47-d3b63450cdb8>\u001b[0m in \u001b[0;36mmerge_intervals\u001b[1;34m(s, j)\u001b[0m\n\u001b[0;32m      9\u001b[0m         \u001b[0mprint\u001b[0m\u001b[1;33m(\u001b[0m\u001b[1;34m\"s1\"\u001b[0m\u001b[1;33m,\u001b[0m \u001b[0ms1\u001b[0m\u001b[1;33m)\u001b[0m\u001b[1;33m\u001b[0m\u001b[1;33m\u001b[0m\u001b[0m\n\u001b[0;32m     10\u001b[0m         \u001b[0mprint\u001b[0m\u001b[1;33m(\u001b[0m\u001b[1;34m\"matches, \"\u001b[0m\u001b[1;33m,\u001b[0m \u001b[0mp1\u001b[0m\u001b[1;33m[\u001b[0m\u001b[1;33m(\u001b[0m\u001b[0mp1\u001b[0m\u001b[1;33m[\u001b[0m\u001b[1;34m\"regex_location\"\u001b[0m\u001b[1;33m]\u001b[0m \u001b[1;33m==\u001b[0m \u001b[1;34m\"[\"\u001b[0m \u001b[1;33m+\u001b[0m\u001b[0mstr\u001b[0m\u001b[1;33m(\u001b[0m\u001b[0msubset_loc\u001b[0m\u001b[1;33m[\u001b[0m\u001b[0mj\u001b[0m\u001b[1;33m]\u001b[0m\u001b[1;33m)\u001b[0m \u001b[1;33m+\u001b[0m \u001b[1;34m\"]\"\u001b[0m\u001b[1;33m)\u001b[0m \u001b[1;33m&\u001b[0m \u001b[1;33m(\u001b[0m\u001b[0mp1\u001b[0m\u001b[1;33m[\u001b[0m\u001b[1;34m\"PatientEncounterID\"\u001b[0m\u001b[1;33m]\u001b[0m \u001b[1;33m==\u001b[0m \u001b[0mint\u001b[0m\u001b[1;33m(\u001b[0m\u001b[0mencounters\u001b[0m\u001b[1;33m[\u001b[0m\u001b[0mj\u001b[0m\u001b[1;33m]\u001b[0m\u001b[1;33m)\u001b[0m\u001b[1;33m)\u001b[0m\u001b[1;33m]\u001b[0m\u001b[1;33m[\u001b[0m\u001b[1;34m'NoteTXT'\u001b[0m\u001b[1;33m]\u001b[0m\u001b[1;33m.\u001b[0m\u001b[0mvalues\u001b[0m\u001b[1;33m)\u001b[0m\u001b[1;33m\u001b[0m\u001b[1;33m\u001b[0m\u001b[0m\n\u001b[1;32m---> 11\u001b[1;33m         \u001b[0mlength\u001b[0m \u001b[1;33m=\u001b[0m \u001b[0mlen\u001b[0m\u001b[1;33m(\u001b[0m\u001b[0mp1\u001b[0m\u001b[1;33m[\u001b[0m\u001b[1;33m(\u001b[0m\u001b[0mp1\u001b[0m\u001b[1;33m[\u001b[0m\u001b[1;34m\"regex_location\"\u001b[0m\u001b[1;33m]\u001b[0m \u001b[1;33m==\u001b[0m \u001b[1;34m\"[\"\u001b[0m \u001b[1;33m+\u001b[0m\u001b[0mstr\u001b[0m\u001b[1;33m(\u001b[0m\u001b[0msubset_loc\u001b[0m\u001b[1;33m[\u001b[0m\u001b[0mj\u001b[0m\u001b[1;33m]\u001b[0m\u001b[1;33m)\u001b[0m \u001b[1;33m+\u001b[0m \u001b[1;34m\"]\"\u001b[0m\u001b[1;33m)\u001b[0m \u001b[1;33m&\u001b[0m \u001b[1;33m(\u001b[0m\u001b[0mp1\u001b[0m\u001b[1;33m[\u001b[0m\u001b[1;34m\"PatientEncounterID\"\u001b[0m\u001b[1;33m]\u001b[0m \u001b[1;33m==\u001b[0m \u001b[0mint\u001b[0m\u001b[1;33m(\u001b[0m\u001b[0mencounters\u001b[0m\u001b[1;33m[\u001b[0m\u001b[0mj\u001b[0m\u001b[1;33m]\u001b[0m\u001b[1;33m)\u001b[0m\u001b[1;33m)\u001b[0m\u001b[1;33m]\u001b[0m\u001b[1;33m[\u001b[0m\u001b[1;34m'NoteTXT'\u001b[0m\u001b[1;33m]\u001b[0m\u001b[1;33m.\u001b[0m\u001b[0mvalues\u001b[0m\u001b[1;33m[\u001b[0m\u001b[1;36m0\u001b[0m\u001b[1;33m]\u001b[0m\u001b[1;33m)\u001b[0m\u001b[1;33m\u001b[0m\u001b[1;33m\u001b[0m\u001b[0m\n\u001b[0m\u001b[0;32m     12\u001b[0m         \u001b[0mprint\u001b[0m\u001b[1;33m(\u001b[0m\u001b[1;34m\"length, \"\u001b[0m\u001b[1;33m,\u001b[0m \u001b[0mlength\u001b[0m\u001b[1;33m)\u001b[0m\u001b[1;33m\u001b[0m\u001b[1;33m\u001b[0m\u001b[0m\n\u001b[0;32m     13\u001b[0m         \u001b[1;32mif\u001b[0m \u001b[1;33m(\u001b[0m\u001b[0ms0\u001b[0m \u001b[1;33m<\u001b[0m \u001b[1;36m100\u001b[0m\u001b[1;33m)\u001b[0m\u001b[1;33m:\u001b[0m\u001b[1;33m\u001b[0m\u001b[1;33m\u001b[0m\u001b[0m\n",
      "\u001b[1;31mIndexError\u001b[0m: index 0 is out of bounds for axis 0 with size 0"
     ]
    }
   ],
   "source": [
    "# #print(subset_loc[0])\n",
    "# #print(int(encounters[0]))\n",
    "# #len(matches[(matches[\"regex_location\"] == str(subset_loc[16])) & (matches[\"PatientEncounterID\"] == int(encounters[16]))]['NoteTXT'].values[0])\n",
    "\n",
    "# print(len(subset_loc[16]))\n",
    "# print(subset_loc[16])\n",
    "\n",
    "# print(\"-----\")\n",
    "\n",
    "total_merged = []\n",
    "for j in range(len(subset_loc)):\n",
    "    print(\"j\", j)\n",
    "    #print(subset_loc[j][0], subset_loc[j][1])\n",
    "    merged = merge_intervals(subset_loc, j)\n",
    "    total_merged.append(merged)\n",
    "    \n",
    "total_merged"
   ]
  },
  {
   "cell_type": "code",
   "execution_count": 40,
   "metadata": {},
   "outputs": [
    {
     "data": {
      "text/plain": [
       "5850"
      ]
     },
     "execution_count": 40,
     "metadata": {},
     "output_type": "execute_result"
    }
   ],
   "source": [
    "len(p1[(p1[\"regex_location\"] == \"[\" +str(subset_loc[1]) + \"]\") & (p1[\"PatientEncounterID\"] == int(encounters[1]))]['NoteTXT'].values[0])"
   ]
  },
  {
   "cell_type": "code",
   "execution_count": null,
   "metadata": {},
   "outputs": [],
   "source": [
    "p1[p1[\"regex_location\"] == \"[\" +str(subset_loc[0]) + \"]\"]"
   ]
  },
  {
   "cell_type": "code",
   "execution_count": null,
   "metadata": {},
   "outputs": [],
   "source": [
    "p1[\"regex_location\"].values[0]"
   ]
  },
  {
   "cell_type": "code",
   "execution_count": null,
   "metadata": {},
   "outputs": [],
   "source": [
    "type(p1[\"PatientEncounterID\"].values[0])"
   ]
  },
  {
   "cell_type": "code",
   "execution_count": null,
   "metadata": {},
   "outputs": [],
   "source": [
    "p1[p1[\"PatientEncounterID\"] == encounters[0]]"
   ]
  },
  {
   "cell_type": "code",
   "execution_count": null,
   "metadata": {},
   "outputs": [],
   "source": [
    "p1[(p1[\"regex_location\"] == str(\"[\" + str(subset_loc[0]) + \"]\"))]"
   ]
  },
  {
   "cell_type": "code",
   "execution_count": null,
   "metadata": {},
   "outputs": [],
   "source": [
    "str(\"[\" + str(subset_loc[0]) + \"]\")"
   ]
  }
 ],
 "metadata": {
  "kernelspec": {
   "display_name": "Python 3",
   "language": "python",
   "name": "python3"
  },
  "language_info": {
   "codemirror_mode": {
    "name": "ipython",
    "version": 3
   },
   "file_extension": ".py",
   "mimetype": "text/x-python",
   "name": "python",
   "nbconvert_exporter": "python",
   "pygments_lexer": "ipython3",
   "version": "3.8.5"
  }
 },
 "nbformat": 4,
 "nbformat_minor": 4
}
