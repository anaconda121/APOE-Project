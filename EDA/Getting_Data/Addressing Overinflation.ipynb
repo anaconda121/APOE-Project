{
 "cells": [
  {
   "cell_type": "code",
   "execution_count": 1,
   "metadata": {},
   "outputs": [],
   "source": [
    "import pandas as pd\n",
    "import pandas.io.sql as psql\n",
    "import os\n",
    "import sys\n",
    "from datetime import date\n",
    "current_date = date.today()\n",
    "#%load_ext autotime\n",
    "import re\n",
    "import csv\n",
    "import pandas as pd\n",
    "import numpy as np\n",
    "import os\n",
    "from glob import glob\n",
    "from tqdm import tqdm\n",
    "import matplotlib.pyplot as plt\n",
    "#from matplotlib_venn import venn2, venn3\n",
    "import warnings\n",
    "import time\n",
    "import datetime as dt\n",
    "import itertools\n",
    "from more_itertools import unique_everseen\n",
    "warnings.filterwarnings(\"ignore\")\n",
    "#import pandasql as ps\n",
    "import seaborn as sns\n",
    "import json\n",
    "from ast import literal_eval\n",
    "import ast\n",
    "from fuzzywuzzy import process\n",
    "from nltk.corpus import words"
   ]
  },
  {
   "cell_type": "code",
   "execution_count": 2,
   "metadata": {},
   "outputs": [],
   "source": [
    "total = pd.read_csv(r\"C:\\Users\\MIND_DS\\Dropbox (Partners HealthCare)\\NLP\\Tanish\\BigDataSets\\Regex_match\\total_summary_stats_updated.csv\")"
   ]
  },
  {
   "cell_type": "code",
   "execution_count": 3,
   "metadata": {},
   "outputs": [],
   "source": [
    "patient_id = total[\"patient_id\"].to_list()\n",
    "patient_id = patient_id[:10]"
   ]
  },
  {
   "cell_type": "code",
   "execution_count": 4,
   "metadata": {},
   "outputs": [],
   "source": [
    "matches = pd.read_csv(r\"C:\\Users\\MIND_DS\\Dropbox (Partners HealthCare)\\NLP\\Tanish\\BigDataSets\\Regex_match\\1\\apoe_1_matches.csv\")"
   ]
  },
  {
   "cell_type": "code",
   "execution_count": null,
   "metadata": {},
   "outputs": [],
   "source": [
    "# ONLY RUN ONCE #\n",
    "\n",
    "# vertifying that all match records can be found\n",
    "for i in range(len(patient_id)):\n",
    "    specific_matches = matches[matches[\"PatientID\"] == patient_id[i]]\n",
    "    if (len(specific_matches) <= 0):\n",
    "        print(\"NOT FOUND: \", patient_id[i])\n",
    "    #specific_matches.to_csv(r\"C:\\Users\\MIND_DS\\Dropbox (Partners HealthCare)\\NLP\\Tanish\\BigDataSets\\Regex_match\\1\\Specific_Matches\\patient_{}.csv\".format(i+1))"
   ]
  },
  {
   "cell_type": "code",
   "execution_count": 160,
   "metadata": {},
   "outputs": [],
   "source": [
    "p1 = pd.read_csv(r\"C:\\Users\\MIND_DS\\Dropbox (Partners HealthCare)\\NLP\\Tanish\\BigDataSets\\Regex_match\\1\\Specific_Matches\\patient_1.csv\")"
   ]
  },
  {
   "cell_type": "code",
   "execution_count": 6,
   "metadata": {},
   "outputs": [
    {
     "name": "stdout",
     "output_type": "stream",
     "text": [
      "2890\n"
     ]
    }
   ],
   "source": [
    "unique_ids = matches[\"PatientID\"].unique().tolist()\n",
    "print(len(unique_ids))"
   ]
  },
  {
   "cell_type": "code",
   "execution_count": 7,
   "metadata": {},
   "outputs": [],
   "source": [
    "def get_match(query, choices, limit = 1):\n",
    "    results = process.extract(query, choices, limit = limit)\n",
    "    return results"
   ]
  },
  {
   "cell_type": "code",
   "execution_count": 9,
   "metadata": {},
   "outputs": [],
   "source": [
    "# interesting match cases\n",
    "# patient_2 in specific study row 6, cream that has mci inside it"
   ]
  },
  {
   "cell_type": "code",
   "execution_count": 111,
   "metadata": {},
   "outputs": [
    {
     "name": "stdout",
     "output_type": "stream",
     "text": [
      "CLONE:  [(5850, 5858), (3643, 3649), (6049, 6057), (3810, 3816), (5554, 5562), (5634, 5642), (5492, 5500), (5891, 5899), (5790, 5798), (6170, 6178), (6128, 6136), (6061, 6069), (6355, 6363), (3947, 3950), (8741, 8749), ((1048, 1052), (4878, 4887), (5104, 5110), (5114, 5123), (5227, 5231)), ((5467, 5476), (5693, 5699), (5703, 5712)), (1984, 1990), (859, 862), ((281, 290), (579, 588), (2148, 2154), (2163, 2169), (6284, 6290), (6684, 6693), (6718, 6721), (7550, 7559), (7816, 7820), (7828, 7832), (9964, 9972), (11292, 11301), (11383, 11403), (11514, 11523), (11544, 11548), (12218, 12238), (12383, 12392), (12487, 12507), (12509, 12512), (12519, 12527)), (313, 319), ((7509, 7518), (7735, 7741), (7745, 7754), (7858, 7862)), (1473, 1476)]\n",
      "[(5850, 5858), (3643, 3649), (6049, 6057), (3810, 3816), (5554, 5562), (5634, 5642), (5492, 5500), (5891, 5899), (5790, 5798), (6170, 6178), (6128, 6136), (6061, 6069), (6355, 6363), (3947, 3950), (8741, 8749), ((1048, 1052), (4878, 4887), (5104, 5110), (5114, 5123), (5227, 5231)), ((5467, 5476), (5693, 5699), (5703, 5712)), (1984, 1990), (859, 862), ((281, 290), (579, 588), (2148, 2154), (2163, 2169), (6284, 6290), (6684, 6693), (6718, 6721), (7550, 7559), (7816, 7820), (7828, 7832), (9964, 9972), (11292, 11301), (11383, 11403), (11514, 11523), (11544, 11548), (12218, 12238), (12383, 12392), (12487, 12507), (12509, 12512), (12519, 12527)), (313, 319), ((7509, 7518), (7735, 7741), (7745, 7754), (7858, 7862)), (1473, 1476)]\n",
      "\n",
      " 5850\n",
      "23\n",
      "\n",
      "SUBSET_LOC [(5750, 5958)]\n",
      "\n",
      "SUBSET_LOC [(3543, 3749)]\n",
      "\n",
      "SUBSET_LOC [(5949, 6157)]\n",
      "\n",
      "SUBSET_LOC [(3710, 3916)]\n",
      "\n",
      "SUBSET_LOC [(5454, 5662)]\n",
      "\n",
      "SUBSET_LOC [(5534, 5742)]\n",
      "\n",
      "SUBSET_LOC [(5392, 5600)]\n",
      "\n",
      "SUBSET_LOC [(5791, 5999)]\n",
      "\n",
      "SUBSET_LOC [(5690, 5898)]\n",
      "\n",
      "SUBSET_LOC [(6070, 6278)]\n",
      "\n",
      "SUBSET_LOC [(6028, 6236)]\n",
      "\n",
      "SUBSET_LOC [(5961, 6169)]\n",
      "\n",
      "SUBSET_LOC [(6255, 6463)]\n",
      "\n",
      "SUBSET_LOC [(3847, 4050)]\n",
      "\n",
      "SUBSET_LOC [(8641, 8849)]\n",
      "\n",
      "SUBSET_LOC [(948, 1152), (4778, 4987), (5004, 5210), (5014, 5223), (5127, 5331)]\n",
      "\n",
      "SUBSET_LOC [(5367, 5576), (5593, 5799), (5603, 5812)]\n",
      "\n",
      "SUBSET_LOC [(1884, 2090)]\n",
      "\n",
      "SUBSET_LOC [(759, 962)]\n",
      "\n",
      "SUBSET_LOC [(181, 390), (479, 688), (2048, 2254), (2063, 2269), (6184, 6390), (6584, 6793), (6618, 6821), (7450, 7659), (7716, 7920), (7728, 7932), (9864, 10072), (11192, 11401), (11283, 11503), (11414, 11623), (11444, 11648), (12118, 12338), (12283, 12492), (12387, 12607), (12409, 12612), (12419, 12627)]\n",
      "\n",
      "SUBSET_LOC [(213, 419)]\n",
      "\n",
      "SUBSET_LOC [(7409, 7618), (7635, 7841), (7645, 7854), (7758, 7962)]\n",
      "\n",
      "SUBSET_LOC [(1373, 1576)]\n"
     ]
    },
    {
     "data": {
      "text/plain": [
       "[[(5750, 5958)],\n",
       " [(3543, 3749)],\n",
       " [(5949, 6157)],\n",
       " [(3710, 3916)],\n",
       " [(5454, 5662)],\n",
       " [(5534, 5742)],\n",
       " [(5392, 5600)],\n",
       " [(5791, 5999)],\n",
       " [(5690, 5898)],\n",
       " [(6070, 6278)],\n",
       " [(6028, 6236)],\n",
       " [(5961, 6169)],\n",
       " [(6255, 6463)],\n",
       " [(3847, 4050)],\n",
       " [(8641, 8849)],\n",
       " [(948, 1152), (4778, 4987), (5004, 5331)],\n",
       " [(5367, 5576), (5593, 5812)],\n",
       " [(1884, 2090)],\n",
       " [(759, 962)],\n",
       " [(181, 390),\n",
       "  (479, 688),\n",
       "  (2048, 2269),\n",
       "  (6184, 6390),\n",
       "  (6584, 6821),\n",
       "  (7450, 7659),\n",
       "  (7716, 7932),\n",
       "  (9864, 10072),\n",
       "  (11192, 11648),\n",
       "  (12118, 12627)],\n",
       " [(213, 419)],\n",
       " [(7409, 7618), (7635, 7962)],\n",
       " [(1373, 1576)]]"
      ]
     },
     "execution_count": 111,
     "metadata": {},
     "output_type": "execute_result"
    }
   ],
   "source": [
    "subset_loc = p1[p1[\"PatientID\"] == 'Z6352398']['regex_location'].to_list()\n",
    "subset_loc_clone = p1[p1[\"PatientID\"] == 'Z6352398']['regex_location'].to_list()\n",
    "#print(subset_loc)\n",
    "encounters = p1[p1[\"PatientID\"] == 'Z6352398']['PatientEncounterID'].unique().tolist()\n",
    "\n",
    "#print(len(subset_loc))\n",
    "#print(subset_loc)\n",
    "#print(subset_loc[0])\n",
    "for i in range(len(subset_loc)):\n",
    "    subset_loc[i] = subset_loc[i][1:len(subset_loc[i]) - 1]\n",
    "    subset_loc[i] = eval(subset_loc[i])\n",
    "    #subset_loc[i] = tuple(map(int, subset_loc[i].split(\", \")))\n",
    "    subset_loc_clone[i] = subset_loc_clone[i][1:len(subset_loc_clone[i]) - 1]\n",
    "    subset_loc_clone[i] = eval(subset_loc_clone[i])\n",
    "    \n",
    "subset_loc = pd.Series(subset_loc)\n",
    "subset_loc = subset_loc.unique().tolist()\n",
    "\n",
    "subset_loc_clone = pd.Series(subset_loc_clone)\n",
    "subset_loc_clone = subset_loc_clone.unique().tolist()\n",
    "\n",
    "print(\"CLONE: \", subset_loc_clone)\n",
    "print(subset_loc)\n",
    "print(\"\\n\", subset_loc[0][0])\n",
    "print(len(subset_loc))\n",
    "if (len(subset_loc) != len(encounters)):\n",
    "    print(\"Houston, we got a problem\", i, len(subset_loc), len(encounters))\n",
    "\n",
    "total_merged = []  \n",
    "\n",
    "for i in range(len(subset_loc)):\n",
    "    merged = []\n",
    "\n",
    "    start = 0\n",
    "    end = 0\n",
    "    length = 0\n",
    "    \n",
    "    if (len(subset_loc[i]) == 2):\n",
    "        start = subset_loc[i][0]\n",
    "        end = subset_loc[i][1]\n",
    "        length = len(p1[(p1[\"regex_location\"] == \"[\" +str(subset_loc[i]) + \"]\") & (p1[\"PatientEncounterID\"] == int(encounters[i]))]['NoteTXT'].values[0])\n",
    "        if (start < 100):\n",
    "            start = 100\n",
    "        elif (end > length - 100):\n",
    "             end = length - 100\n",
    "        subset_loc[i] = [(start - 100, end + 100)]\n",
    "        \n",
    "    else:\n",
    "        loc_list = []\n",
    "        for j in range(len(subset_loc[i])):\n",
    "            start = subset_loc[i][j][0]\n",
    "            end = subset_loc[i][j][1]\n",
    "            loc_list.append((start, end))\n",
    "        length = len(p1[(p1[\"regex_location\"] == str(loc_list)) & (p1[\"PatientEncounterID\"] == int(encounters[i]))]['NoteTXT'].values[1])\n",
    "        for k in range(len(loc_list)):\n",
    "            start = loc_list[k][0]\n",
    "            end = loc_list[k][1]\n",
    "            if (start < 100):\n",
    "                start = 100\n",
    "            elif (end > length - 100):\n",
    "                end = length - 100\n",
    "            loc_list[k] = (start - 100, end + 100)\n",
    "        subset_loc[i] = loc_list\n",
    "    \n",
    "    subset_loc[i].sort(key = lambda x : x[0])\n",
    "    \n",
    "    print(\"\\nSUBSET_LOC\", subset_loc[i])\n",
    "    \n",
    "    for interval in subset_loc[i]:\n",
    "        if not merged:\n",
    "            merged.append(interval)\n",
    "            continue\n",
    "\n",
    "        prevInterval = merged.pop()\n",
    "        if prevInterval[0] <= interval[0] <= prevInterval[1]:\n",
    "            startTime = prevInterval[0]\n",
    "            endTime = prevInterval[1] if prevInterval[1] > interval[1] else interval[1]\n",
    "            merged.append((startTime, endTime))\n",
    "        else:\n",
    "            merged.append(prevInterval)\n",
    "            merged.append(interval)\n",
    "    total_merged.append(merged)\n",
    "    \n",
    "total_merged\n",
    "#     print(\"start\", start)\n",
    "#     print(\"end\", end)\n",
    "    #print(\"matches, \", p1[(p1[\"regex_location\"] == \"[\" +str(subset_loc[j]) + \"]\") & (p1[\"PatientEncounterID\"] == int(encounters[j]))]['NoteTXT'].values)\n",
    "    #print(\"length, \", length) \n",
    "    "
   ]
  },
  {
   "cell_type": "code",
   "execution_count": 112,
   "metadata": {},
   "outputs": [
    {
     "name": "stdout",
     "output_type": "stream",
     "text": [
      "[(5850, 5858), (3643, 3649), (6049, 6057), (3810, 3816), (5554, 5562), (5634, 5642), (5492, 5500), (5891, 5899), (5790, 5798), (6170, 6178), (6128, 6136), (6061, 6069), (6355, 6363), (3947, 3950), (8741, 8749), ((1048, 1052), (4878, 4887), (5104, 5110), (5114, 5123), (5227, 5231)), ((5467, 5476), (5693, 5699), (5703, 5712)), (1984, 1990), (859, 862), ((281, 290), (579, 588), (2148, 2154), (2163, 2169), (6284, 6290), (6684, 6693), (6718, 6721), (7550, 7559), (7816, 7820), (7828, 7832), (9964, 9972), (11292, 11301), (11383, 11403), (11514, 11523), (11544, 11548), (12218, 12238), (12383, 12392), (12487, 12507), (12509, 12512), (12519, 12527)), (313, 319), ((7509, 7518), (7735, 7741), (7745, 7754), (7858, 7862)), (1473, 1476)]\n"
     ]
    }
   ],
   "source": [
    "print(subset_loc_clone)"
   ]
  },
  {
   "cell_type": "code",
   "execution_count": 130,
   "metadata": {},
   "outputs": [
    {
     "name": "stdout",
     "output_type": "stream",
     "text": [
      "23\n"
     ]
    },
    {
     "data": {
      "text/plain": [
       "['ncer. She passed secondary to this. He does not know his father. He thinks his father passed from a cerebral hemorrage. His niece had breast cancer diagnosed in her 50s. He had one sister who passed from a fi',\n",
       " 'a. Skin: No rashes or lesions. Neurological: Awake, alert and oriented x 3. Attention, language and memory are intact. Cranial nerve II-XII are grossly intact. Strength and sensation are grossly intact. Psy',\n",
       " 'ncer. She passed secondary to this. He does not know his father. He thinks his father passed from a cerebral hemorrage. His niece had breast cancer diagnosed in her 50s. He had one sister who passed from a fi',\n",
       " 'a. Skin: No rashes or lesions. Neurological: Awake, alert and oriented x 3. Attention, language and memory are intact. Cranial nerve II-XII are grossly intact. Strength and sensation are grossly intact. Psy',\n",
       " 'ncer. She passed secondary to this. He does not know his father. He thinks his father passed from a cerebral hemorrage. His niece had breast cancer diagnosed in her 50s. He had one sister who passed from a fi',\n",
       " 'ncer. She passed secondary to this. He does not know his father. He thinks his father passed from a cerebral hemorrage. His niece had breast cancer diagnosed in her 50s. He had one sister who passed from a fi',\n",
       " 'ncer. She passed secondary to this. He does not know his father. He thinks his father passed from a cerebral hemorrage. His niece had breast cancer diagnosed in her 50s. He had one sister who passed from a fi',\n",
       " 'ncer. She passed secondary to this. He does not know his father. He thinks his father passed from a cerebral hemorrage. His niece had breast cancer diagnosed in her 50s. He had one sister who passed from a fi',\n",
       " 'ncer. She passed secondary to this. He does not know his father. He thinks his father passed from a cerebral hemorrage. His niece had breast cancer diagnosed in her 50s. He had one sister who passed from a fi',\n",
       " 'ncer. She passed secondary to this. He does not know his father. He thinks his father passed from a cerebral hemorrage. His niece had breast cancer diagnosed in her 50s. He had one sister who passed from a fi',\n",
       " 'ncer. She passed secondary to this. He does not know his father. He thinks his father passed from a cerebral hemorrage. His niece had breast cancer diagnosed in her 50s. He had one sister who passed from a fi',\n",
       " 'ncer. She passed secondary to this. He does not know his father. He thinks his father passed from a cerebral hemorrage. His niece had breast cancer diagnosed in her 50s. He had one sister who passed from a fi',\n",
       " 'ncer. She passed secondary to this. He does not know his father. He thinks his father passed from a cerebral hemorrage. His niece had breast cancer diagnosed in her 50s. He had one sister who passed from a fi',\n",
       " 'cular: Normal rate. Pulmonary/Chest: Effort normal. No stridor. Genitourinary: Penis normal. Uncircumcised. No penile erythema. No discharge found. Musculoskeletal: Normal range of motion. He exhibits no',\n",
       " 'ractures, obesity, insulin resistance, dyslipidemia, greater risk for diabetes, CVD and concern for dementia. While the safety of IAD is well established for men starting ADT in the absence of visible metasta',\n",
       " '',\n",
       " '',\n",
       " 'ions Thought Content: Appropriate to situation Sensorium: Alert, Oriented to person, place and time Memory: No deficits noted Fund of Knowledge: Appropriate for age Insight: Intact Judgement: Fair Psychosoc',\n",
       " ' status post R CHOP, currently in remission. TECHNIQUE: Radiopharmaceutical: Tc-99m MDP. Dose: 27.5 mCi. Image acquisition: Approximately three hours following the intravenous administration of radiophar',\n",
       " '',\n",
       " 'are the results from your recent visit. We did this CT scan to evaluate some of the changes in your memory and thinking. The scan shows some changes that are common with getting older. We can review these r',\n",
       " '',\n",
       " 'at sleeping with his legs elevated on a pillow at night does help his leg swelling. Recommended Triamcinolone 0.1% ointment every morning and Mupirocin ointment at night, risks/benefits reviewed. Pathoph']"
      ]
     },
     "execution_count": 130,
     "metadata": {},
     "output_type": "execute_result"
    }
   ],
   "source": [
    "total_note_txt = []\n",
    "print(len(total_merged))\n",
    "for i in range(len(total_merged)):\n",
    "    curr = \"\"\n",
    "    if (len(total_merged[i]) == 1):\n",
    "        note = p1[(p1[\"regex_location\"] == \"[\" +str(subset_loc_clone[i]) + \"]\") & (p1[\"PatientEncounterID\"] == int(encounters[i]))]['NoteTXT'].values[0]\n",
    "        #print(note)\n",
    "        #print(total_merged[i][0][0], total_merged[i][0][1])\n",
    "        curr = note[total_merged[i][0][0]:total_merged[i][0][1]]\n",
    "    else:\n",
    "        for j in range(len())\n",
    "    total_note_txt.append(curr)\n",
    "    \n",
    "total_note_txt"
   ]
  },
  {
   "cell_type": "code",
   "execution_count": null,
   "metadata": {},
   "outputs": [],
   "source": []
  },
  {
   "cell_type": "code",
   "execution_count": 138,
   "metadata": {},
   "outputs": [],
   "source": [
    "df = pd.DataFrame(total_note_txt, columns = [\"text\"])\n",
    "df = df.drop_duplicates(subset='text', keep=\"first\")\n",
    "df = df.replace(r'^\\s*$', np.NaN, regex=True)\n",
    "df.dropna()\n",
    "total_note_txt = df[\"text\"].to_list()"
   ]
  },
  {
   "cell_type": "code",
   "execution_count": 139,
   "metadata": {},
   "outputs": [
    {
     "data": {
      "text/plain": [
       "['ncer. She passed secondary to this. He does not know his father. He thinks his father passed from a cerebral hemorrage. His niece had breast cancer diagnosed in her 50s. He had one sister who passed from a fi',\n",
       " 'a. Skin: No rashes or lesions. Neurological: Awake, alert and oriented x 3. Attention, language and memory are intact. Cranial nerve II-XII are grossly intact. Strength and sensation are grossly intact. Psy',\n",
       " 'cular: Normal rate. Pulmonary/Chest: Effort normal. No stridor. Genitourinary: Penis normal. Uncircumcised. No penile erythema. No discharge found. Musculoskeletal: Normal range of motion. He exhibits no',\n",
       " 'ractures, obesity, insulin resistance, dyslipidemia, greater risk for diabetes, CVD and concern for dementia. While the safety of IAD is well established for men starting ADT in the absence of visible metasta',\n",
       " nan,\n",
       " 'ions Thought Content: Appropriate to situation Sensorium: Alert, Oriented to person, place and time Memory: No deficits noted Fund of Knowledge: Appropriate for age Insight: Intact Judgement: Fair Psychosoc',\n",
       " ' status post R CHOP, currently in remission. TECHNIQUE: Radiopharmaceutical: Tc-99m MDP. Dose: 27.5 mCi. Image acquisition: Approximately three hours following the intravenous administration of radiophar',\n",
       " 'are the results from your recent visit. We did this CT scan to evaluate some of the changes in your memory and thinking. The scan shows some changes that are common with getting older. We can review these r',\n",
       " 'at sleeping with his legs elevated on a pillow at night does help his leg swelling. Recommended Triamcinolone 0.1% ointment every morning and Mupirocin ointment at night, risks/benefits reviewed. Pathoph']"
      ]
     },
     "execution_count": 139,
     "metadata": {},
     "output_type": "execute_result"
    }
   ],
   "source": [
    "total_note_txt"
   ]
  },
  {
   "cell_type": "code",
   "execution_count": 277,
   "metadata": {},
   "outputs": [],
   "source": [
    "p1 = pd.read_csv(r\"C:\\Users\\MIND_DS\\Dropbox (Partners HealthCare)\\NLP\\Tanish\\BigDataSets\\Regex_match\\1\\Specific_Matches\\patient_1.csv\")"
   ]
  },
  {
   "cell_type": "code",
   "execution_count": 278,
   "metadata": {},
   "outputs": [],
   "source": [
    "p1['regex_sent'] = p1['regex_sent'].str.split(' ',1).str[1].str.rpartition(' ')[0]"
   ]
  },
  {
   "cell_type": "code",
   "execution_count": 279,
   "metadata": {},
   "outputs": [],
   "source": [
    "p1['NoteTXT'] = p1['NoteTXT'].astype(str)\n",
    "p1 = p1.drop_duplicates(subset='regex_sent', keep=\"first\")\n",
    "p1 = p1.replace(r'^\\s*$', np.NaN, regex=True)\n",
    "p1.reset_index(drop = True)\n",
    "p1['regex_sent'] = p1.groupby(['PatientEncounterID'])['regex_sent'].transform(lambda x : ' ----- '.join(x))\n",
    "p1 = p1.drop_duplicates(subset='PatientEncounterID', keep=\"first\")"
   ]
  },
  {
   "cell_type": "code",
   "execution_count": 272,
   "metadata": {},
   "outputs": [],
   "source": [
    "p1 = p1.replace(r'^\\s*$', np.NaN, regex=True)\n",
    "p1.reset_index(drop = True)\n",
    "p1['regex_sent'] = p1.groupby(['PatientEncounterID'])['regex_sent'].transform(lambda x : ' ----- '.join(x))"
   ]
  },
  {
   "cell_type": "code",
   "execution_count": 273,
   "metadata": {},
   "outputs": [],
   "source": [
    "p1[\"regex_location\"] = p1[\"regex_location\"].astype(str)"
   ]
  },
  {
   "cell_type": "code",
   "execution_count": 280,
   "metadata": {},
   "outputs": [
    {
     "data": {
      "text/plain": [
       "0                                        [(5850, 5858)]\n",
       "1                                        [(3643, 3649)]\n",
       "13                                       [(3947, 3950)]\n",
       "14                                       [(8741, 8749)]\n",
       "15    [(1048, 1052), (4878, 4887), (5104, 5110), (51...\n",
       "20           [(5467, 5476), (5693, 5699), (5703, 5712)]\n",
       "23                                       [(1984, 1990)]\n",
       "24                                         [(859, 862)]\n",
       "25    [(281, 290), (579, 588), (2148, 2154), (2163, ...\n",
       "45                                         [(313, 319)]\n",
       "46    [(7509, 7518), (7735, 7741), (7745, 7754), (78...\n",
       "50                                       [(1473, 1476)]\n",
       "Name: regex_location, dtype: object"
      ]
     },
     "execution_count": 280,
     "metadata": {},
     "output_type": "execute_result"
    }
   ],
   "source": [
    "p1[\"regex_location\"]"
   ]
  },
  {
   "cell_type": "code",
   "execution_count": 275,
   "metadata": {},
   "outputs": [
    {
     "data": {
      "text/plain": [
       "23"
      ]
     },
     "execution_count": 275,
     "metadata": {},
     "output_type": "execute_result"
    }
   ],
   "source": [
    "p1 = p1.drop_duplicates(subset='PatientEncounterID', keep=\"first\")\n",
    "len(p1)"
   ]
  },
  {
   "cell_type": "code",
   "execution_count": 281,
   "metadata": {},
   "outputs": [],
   "source": [
    "p1.to_csv(r\"C:\\Users\\MIND_DS\\Dropbox (Partners HealthCare)\\NLP\\Tanish\\BigDataSets\\Regex_match\\1\\Specific_Matches\\p1_updated_9_correct.csv\", index = False)"
   ]
  },
  {
   "cell_type": "code",
   "execution_count": 81,
   "metadata": {},
   "outputs": [
    {
     "name": "stdout",
     "output_type": "stream",
     "text": [
      "[(7509, 7518), (7735, 7741), (7745, 7754), (7858, 7862)]\n"
     ]
    },
    {
     "data": {
      "text/plain": [
       "9187"
      ]
     },
     "execution_count": 81,
     "metadata": {},
     "output_type": "execute_result"
    }
   ],
   "source": [
    "x = ((7509, 7518), (7735, 7741), (7745, 7754), (7858, 7862))\n",
    "y = []\n",
    "for i in range(len(x)):\n",
    "    a = x[i][0]\n",
    "    b = x[i][1]\n",
    "    y.append((a,b))\n",
    "print(str(y))\n",
    "z = len(p1[(p1[\"regex_location\"] == str(y)) & (p1[\"PatientEncounterID\"] == int(encounters[21]))]['NoteTXT'].values[1])\n",
    "z"
   ]
  },
  {
   "cell_type": "code",
   "execution_count": 99,
   "metadata": {},
   "outputs": [
    {
     "name": "stdout",
     "output_type": "stream",
     "text": [
      "[(181, 390), (479, 688), (2048, 2269), (6184, 6390), (6584, 6821), (7450, 7659), (7716, 7932), (9864, 10072), (11192, 11648), (12118, 12627)]\n"
     ]
    }
   ],
   "source": [
    "x = [(181, 390),\n",
    "  (479, 688),\n",
    "  (2048, 2269),\n",
    "  (6184, 6390),\n",
    "  (6584, 6821),\n",
    "  (7450, 7659),\n",
    "  (7716, 7932),\n",
    "  (9864, 10072),\n",
    "  (11192, 11648),\n",
    "  (12118, 12627)]\n",
    "y = []\n",
    "for i in range(len(x)):\n",
    "    a = x[i][0]\n",
    "    b = x[i][1]\n",
    "    y.append((a,b))\n",
    "print(y)"
   ]
  },
  {
   "cell_type": "code",
   "execution_count": 40,
   "metadata": {},
   "outputs": [
    {
     "data": {
      "text/plain": [
       "5850"
      ]
     },
     "execution_count": 40,
     "metadata": {},
     "output_type": "execute_result"
    }
   ],
   "source": [
    "len(p1[(p1[\"regex_location\"] == \"[\" +str(subset_loc[1]) + \"]\") & (p1[\"PatientEncounterID\"] == int(encounters[1]))]['NoteTXT'].values[0])"
   ]
  },
  {
   "cell_type": "code",
   "execution_count": 108,
   "metadata": {},
   "outputs": [
    {
     "name": "stdout",
     "output_type": "stream",
     "text": [
      "[[(5750, 5958)], [(3543, 3749)], [(5949, 6157)], [(3710, 3916)], [(5454, 5662)], [(5534, 5742)], [(5392, 5600)], [(5791, 5999)], [(5690, 5898)], [(6070, 6278)], [(6028, 6236)], [(5961, 6169)], [(6255, 6463)], [(3847, 4050)], [(8641, 8849)], [(948, 1152), (4778, 4987), (5004, 5210), (5014, 5223), (5127, 5331)], [(5367, 5576), (5593, 5799), (5603, 5812)], [(1884, 2090)], [(759, 962)], [(181, 390), (479, 688), (2048, 2254), (2063, 2269), (6184, 6390), (6584, 6793), (6618, 6821), (7450, 7659), (7716, 7920), (7728, 7932), (9864, 10072), (11192, 11401), (11283, 11503), (11414, 11623), (11444, 11648), (12118, 12338), (12283, 12492), (12387, 12607), (12409, 12612), (12419, 12627)], [(213, 419)], [(7409, 7618), (7635, 7841), (7645, 7854), (7758, 7962)], [(1373, 1576)]]\n"
     ]
    }
   ],
   "source": [
    "print(subset_loc_clone)"
   ]
  }
 ],
 "metadata": {
  "kernelspec": {
   "display_name": "Python 3",
   "language": "python",
   "name": "python3"
  },
  "language_info": {
   "codemirror_mode": {
    "name": "ipython",
    "version": 3
   },
   "file_extension": ".py",
   "mimetype": "text/x-python",
   "name": "python",
   "nbconvert_exporter": "python",
   "pygments_lexer": "ipython3",
   "version": "3.8.5"
  }
 },
 "nbformat": 4,
 "nbformat_minor": 4
}
