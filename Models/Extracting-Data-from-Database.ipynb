{
 "cells": [
  {
   "cell_type": "code",
   "execution_count": null,
   "id": "d04b56ba",
   "metadata": {},
   "outputs": [],
   "source": [
    "#  \n",
    "#  Author: Tanish Tyagi\n",
    "#  \n",
    "\n",
    "import sqlite3\n",
    "import pandas as pd\n",
    "import numpy as np\n",
    "from tqdm import tqdm\n",
    "import regex as re\n",
    "\n",
    "import nltk\n",
    "from nltk.stem import PorterStemmer\n",
    "from nltk.tokenize import word_tokenize\n",
    "import warnings\n",
    "warnings.filterwarnings('ignore')"
   ]
  },
  {
   "cell_type": "code",
   "execution_count": null,
   "id": "1c634a86",
   "metadata": {},
   "outputs": [],
   "source": [
    "db = sqlite3.connect(r\"C:\\Users\\MIND_DS\\Dropbox (Partners HealthCare)\\NLP\\Tanish\\SLAT\\app\\db - Copy.sqlite3\")"
   ]
  },
  {
   "cell_type": "markdown",
   "id": "cf84fa5d",
   "metadata": {},
   "source": [
    "## Tables of Use\n",
    "\n",
    "### Data to Feed into Model\n",
    "1. gui_alwaysregex to get all the always patterns\n",
    "2. gui_sentenceannotation to get labels\n",
    "3. gui_sentence to get sentences\n",
    "4. gui_sentence_always_regex to get all sentences that matched with always patterns (gives extra 1284 sentences)\n",
    "\n",
    "### EDA Purposes\n",
    "1. gui_sentencealwaysregex to see which always expressions get flagged most often\n",
    "2. gui_seedregex to get list of matched phrases\n",
    "2. gui_sentenceseedregex to see which expressions in general get flagged most often"
   ]
  },
  {
   "cell_type": "markdown",
   "id": "1f14ac49",
   "metadata": {},
   "source": [
    "## Extracting Data for Model"
   ]
  },
  {
   "cell_type": "code",
   "execution_count": null,
   "id": "3b7460e3",
   "metadata": {},
   "outputs": [],
   "source": [
    "always_patterns = pd.read_sql_query(\"Select * from gui_alwaysregex\", db)\n",
    "always_patterns"
   ]
  },
  {
   "cell_type": "code",
   "execution_count": null,
   "id": "8c1074d7",
   "metadata": {},
   "outputs": [],
   "source": [
    "always_patterns.to_csv(r\"C:\\Users\\MIND_DS\\Dropbox (Partners HealthCare)\\NLP\\Tanish\\APOE-SLAT\\EDA\\Data\\always_patterns_8_1.csv\", index = False)"
   ]
  },
  {
   "cell_type": "code",
   "execution_count": null,
   "id": "076b9220",
   "metadata": {},
   "outputs": [],
   "source": [
    "labels = pd.read_sql_query(\"Select * from gui_sentenceannotation\", db)\n",
    "#labels = labels.sort_values([\"Sentence_id\"])\n",
    "labels"
   ]
  },
  {
   "cell_type": "code",
   "execution_count": null,
   "id": "da596cfb",
   "metadata": {},
   "outputs": [],
   "source": [
    "sentences = pd.read_sql_query(\"Select * from gui_sentence\", db)\n",
    "sentences"
   ]
  },
  {
   "cell_type": "code",
   "execution_count": null,
   "id": "852f2ba8",
   "metadata": {},
   "outputs": [],
   "source": [
    "sentences[sentences['Contents'].str.len() < 700]"
   ]
  },
  {
   "cell_type": "code",
   "execution_count": null,
   "id": "3a58a92f",
   "metadata": {},
   "outputs": [],
   "source": [
    "always_pattern_sentences = pd.read_sql_query(\"Select * from gui_sentencealwaysregex\", db)\n",
    "always_pattern_sentences"
   ]
  },
  {
   "cell_type": "markdown",
   "id": "4d1d62d9",
   "metadata": {},
   "source": [
    "## Constructing Model Matrix"
   ]
  },
  {
   "cell_type": "code",
   "execution_count": null,
   "id": "3401132d",
   "metadata": {},
   "outputs": [],
   "source": [
    "note = pd.read_sql_query(\"Select * from gui_note\", db)\n",
    "note"
   ]
  },
  {
   "cell_type": "code",
   "execution_count": null,
   "id": "18e1772f",
   "metadata": {},
   "outputs": [],
   "source": [
    "def clean_sequence(seq):\n",
    "    #getting rid of special characters\n",
    "    specials = '/' #etc\n",
    "    seq_no_special_chars = seq.translate(str.maketrans(specials, ' '*len(specials)))\n",
    "            \n",
    "    #having only 1 space between words\n",
    "    n = 1\n",
    "    seq_no_spaces = (' '*n).join(seq_no_special_chars.split())\n",
    "    \n",
    "    return seq_no_spaces.lower()"
   ]
  },
  {
   "cell_type": "code",
   "execution_count": null,
   "id": "2ee751b7",
   "metadata": {},
   "outputs": [],
   "source": [
    "#getting sentence ids\n",
    "sentence_id = labels[\"Sentence_id\"].to_list()\n",
    "#print(len(sentence_id))\n",
    "sentence_id += always_pattern_sentences[\"Sentence_id\"].to_list()\n",
    "#print(len(sentence_id))\n",
    "\n",
    "# defining model matrix and setting dimensions\n",
    "model_matrix = pd.DataFrame(columns = [\"patient_id\", \"sequence\", \"original\", \"label\"])\n",
    "model_matrix[\"patient_id\"] = [0] * int(len(sentence_id))\n",
    "#model_matrix[\"note_id\"] = [0] * int(len(sentence_id))\n",
    "model_matrix[\"sequence\"] = [\" \"] * int(len(sentence_id))\n",
    "model_matrix[\"original\"] = [\" \"] * int(len(sentence_id))\n",
    "model_matrix[\"label\"] = [\" \"] * int(len(sentence_id))\n",
    "model_matrix[\"sentence_id\"] = [\" \"] * int(len(sentence_id))"
   ]
  },
  {
   "cell_type": "code",
   "execution_count": null,
   "id": "89d757b0",
   "metadata": {},
   "outputs": [],
   "source": [
    "#extracting necessary data\n",
    "idx = 0\n",
    "for i in range(int(len(labels[\"Sentence_id\"].to_list()))):\n",
    "    #if (i < len(labels[\"Sentence_id\"].to_list())):\n",
    "    # getting all info from sentences that were manually annotated\n",
    "    curr_note_id = sentences[sentences['id'] == sentence_id[i]]['Note_id'].values\n",
    "    curr_patient_id = note.loc[note['id'] == curr_note_id[0]]['PatientID'].values\n",
    "    curr_seq = sentences[sentences['Note_id'] == sentence_id[i]]['Contents'].values\n",
    "    curr_label = labels[labels[\"Sentence_id\"] == sentence_id[i]]['Label'].values\n",
    "    original = curr_seq[0]\n",
    "    curr_seq[0] = clean_sequence(curr_seq[0])\n",
    "    # print(labels[labels[\"Sentence_id\"] == sentence_id[i]][\"Sentence_id\"])\n",
    "    model_matrix.iloc[i] = (curr_patient_id[0], curr_seq[0], original, curr_label[0], sentence_id)\n",
    "\n",
    "    idx += 1\n",
    "\n",
    "#print(idx) \n",
    "\n",
    "j = 1    \n",
    "while (idx < len(sentence_id)): \n",
    "    #getting info from sentences that got auto annotated through always pattern matches\n",
    "    #curr_sentence_id = always_pattern_sentences[always_pattern_sentences['id'] == j]['Sentence_id'].values\n",
    "    curr_seq = sentences[sentences['id'] == sentence_id[idx]]['Contents'].values\n",
    "    #print(curr_seq[0])\n",
    "    curr_note_id = sentences[sentences['id'] == sentence_id[idx]]['Note_id'].values\n",
    "    curr_patient_id = note.loc[note['id'] == curr_note_id[0]]['PatientID'].values\n",
    "    #print(curr_patient_id)\n",
    "    curr_always_regex_id = always_pattern_sentences[always_pattern_sentences['Sentence_id'] == sentence_id[idx]]['AlwaysRegex_id'].values\n",
    "    #print(curr_always_regex_id)\n",
    "    curr_label = always_patterns[always_patterns['id'] == curr_always_regex_id[0]]['Annotation'].values\n",
    "    original = curr_seq[0]\n",
    "    curr_seq[0] = clean_sequence(curr_seq[0])\n",
    "    sentence_id = always_pattern_sentences[always_pattern_sentences['Sentence_id'] == sentence_id[idx]][\"Sentence_id\"]\n",
    "    model_matrix.iloc[idx] = (curr_patient_id[0], curr_seq[0], original, curr_label[0], sentence_id)\n",
    "\n",
    "    j += 1\n",
    "    idx += 1\n",
    "\n",
    "# yes = model_matrix[model_matrix['label'] == 3]\n",
    "# neither = model_matrix[model_matrix['label'] == 2]\n",
    "# no = model_matrix[model_matrix['label'] == 1]\n",
    "\n",
    "# yes = yes.to_csv(\"yes.csv\")\n",
    "# neither = neither.to_csv(\"neither.csv\")\n",
    "# no = no.to_csv(\"no.csv\""
   ]
  },
  {
   "cell_type": "code",
   "execution_count": null,
   "id": "81601465",
   "metadata": {},
   "outputs": [],
   "source": [
    "model_matrix.at[0, \"original\"]"
   ]
  },
  {
   "cell_type": "code",
   "execution_count": null,
   "id": "6a4c9af8",
   "metadata": {},
   "outputs": [],
   "source": [
    "model_matrix.at[0, \"sequence\"]"
   ]
  },
  {
   "cell_type": "code",
   "execution_count": null,
   "id": "e9833b95",
   "metadata": {},
   "outputs": [],
   "source": [
    "model_matrix.at[0, \"label\"]"
   ]
  },
  {
   "cell_type": "code",
   "execution_count": null,
   "id": "dd01fa34",
   "metadata": {},
   "outputs": [],
   "source": [
    "always_patterns"
   ]
  },
  {
   "cell_type": "code",
   "execution_count": null,
   "id": "4ddf7216",
   "metadata": {},
   "outputs": [],
   "source": [
    "#converting yes,no,ntr labels to numerical equivalents\n",
    "mappings = {\"NO\" : 0, \"NTR\" : 1, \"YES\" : 2, \"N\": 0, \"T\": 1, \"Y\": 2}\n",
    "model_matrix.label = [mappings[item] for item in model_matrix.label]\n",
    "\n",
    "model_matrix = model_matrix.sample(frac=1).reset_index(drop=True) #shuffling model_matrix"
   ]
  },
  {
   "cell_type": "code",
   "execution_count": null,
   "id": "b12483d3",
   "metadata": {},
   "outputs": [],
   "source": [
    "model_matrix[model_matrix[\"sequence\"].str.len() < 500]"
   ]
  },
  {
   "cell_type": "code",
   "execution_count": null,
   "id": "0ffca865",
   "metadata": {},
   "outputs": [],
   "source": [
    "# model_matrix.to_csv(r\"../Modeling/Storage/Data/model_matrix.csv\", index = False)"
   ]
  },
  {
   "cell_type": "code",
   "execution_count": null,
   "id": "711ee43f",
   "metadata": {},
   "outputs": [],
   "source": [
    "def find_always_pattern_matches(df, col, always_pattern_regex):\n",
    "    a = []\n",
    "    for seq in (df[col]):\n",
    "        curr = []\n",
    "        for regex_pattern in always_pattern_regex:\n",
    "            match = regex_pattern.search(seq)\n",
    "            if (match is not None):\n",
    "                curr.append(match.group())\n",
    "        a.append(curr)\n",
    "    \n",
    "    df[\"always_pattern_match\"] = a\n",
    "    \n",
    "    return df"
   ]
  },
  {
   "cell_type": "code",
   "execution_count": null,
   "id": "6837f644",
   "metadata": {},
   "outputs": [],
   "source": [
    "always_pattern_regex = pd.read_csv(r\"Data/always_patterns_8_1.csv\")\n",
    "always_pattern_regex = always_pattern_regex[\"Pattern\"].to_list()\n",
    "#for i in range(len(always_pattern_regex)):\n",
    "#    always_pattern_regex[i] = re.compile(always_pattern_regex[i], re.IGNORECASE)\n",
    "#    model_matrix[\"original\"].str.findall(always_pattern_regex[i])"
   ]
  },
  {
   "cell_type": "code",
   "execution_count": null,
   "id": "0be2b9e2",
   "metadata": {},
   "outputs": [],
   "source": [
    "model_matrix = find_always_pattern_matches(model_matrix, \"original\", always_pattern_regex)"
   ]
  },
  {
   "cell_type": "code",
   "execution_count": null,
   "id": "1f1811ea",
   "metadata": {},
   "outputs": [],
   "source": [
    "always_pattern_regex[0]"
   ]
  },
  {
   "cell_type": "code",
   "execution_count": null,
   "id": "aefef436",
   "metadata": {},
   "outputs": [],
   "source": [
    "# cpy = model_matrix.copy()\n",
    "for i in range(len(always_pattern_regex)):\n",
    "    matches = cpy[\"original\"].str.findall(always_pattern_regex[i], re.IGNORECASE)\n",
    "    matches = matches[matches.str.len() != 0]\n",
    "    #print(matches.index)\n",
    "    cpy = cpy.drop(list(matches.index))\n",
    "    cpy.reset_index(drop = True)\n",
    "print(len(cpy))"
   ]
  },
  {
   "cell_type": "code",
   "execution_count": null,
   "id": "b3ee8f8d",
   "metadata": {},
   "outputs": [],
   "source": [
    "cpy.at[272, \"original\"]"
   ]
  },
  {
   "cell_type": "code",
   "execution_count": null,
   "id": "f56d6dd8",
   "metadata": {},
   "outputs": [],
   "source": [
    "cpy.at[272, \"sequence\"]"
   ]
  },
  {
   "cell_type": "code",
   "execution_count": null,
   "id": "9885cab6",
   "metadata": {},
   "outputs": [],
   "source": [
    "cpy.at[272, \"label\"]"
   ]
  },
  {
   "cell_type": "code",
   "execution_count": null,
   "id": "19597718",
   "metadata": {},
   "outputs": [],
   "source": [
    "model_matrix"
   ]
  },
  {
   "cell_type": "code",
   "execution_count": null,
   "id": "31788072",
   "metadata": {},
   "outputs": [],
   "source": [
    "count = 0\n",
    "for i in range(len(labels)):\n",
    "    seq = sentences.at[labels.at[i, \"Sentence_id\"], \"Contents\"]\n",
    "    if (seq not in cpy[\"original\"].to_list()):\n",
    "        count += 1"
   ]
  },
  {
   "cell_type": "code",
   "execution_count": null,
   "id": "4c461a30",
   "metadata": {},
   "outputs": [],
   "source": [
    "count"
   ]
  },
  {
   "cell_type": "code",
   "execution_count": null,
   "id": "e88edf32",
   "metadata": {},
   "outputs": [],
   "source": [
    "hand_label = model_matrix[model_matrix[\"always_pattern_match\"].str.len() == 0]"
   ]
  },
  {
   "cell_type": "code",
   "execution_count": null,
   "id": "504c3563",
   "metadata": {},
   "outputs": [],
   "source": [
    "x = hand_label.index.to_list()"
   ]
  },
  {
   "cell_type": "code",
   "execution_count": null,
   "id": "3483c19f",
   "metadata": {},
   "outputs": [],
   "source": [
    "y = labels[\"Sentence_id\"].to_list()"
   ]
  },
  {
   "cell_type": "code",
   "execution_count": null,
   "id": "6cfc628b",
   "metadata": {},
   "outputs": [],
   "source": [
    "sentences.at[y[1],\"Contents\"]"
   ]
  },
  {
   "cell_type": "code",
   "execution_count": null,
   "id": "b43eee51",
   "metadata": {},
   "outputs": [],
   "source": [
    "for i in tqdm(range(len(x))):\n",
    "    mm = model_matrix.at[x[i], \"original\"]\n",
    "    found_match = False\n",
    "    for j in tqdm(range(len(y))):\n",
    "        seq = sentences.at[y[j], \"Contents\"]\n",
    "        if (mm == seq):\n",
    "            found_match = True\n",
    "            y.remove(y[j])\n",
    "    if (found_match is False):\n",
    "        print(mm)"
   ]
  },
  {
   "cell_type": "markdown",
   "id": "a1453bf7",
   "metadata": {},
   "source": [
    "## Verification of Results"
   ]
  },
  {
   "cell_type": "code",
   "execution_count": null,
   "id": "14571e4e",
   "metadata": {},
   "outputs": [],
   "source": [
    "clean_seq = clean_sequence(str(sentences[sentences['Note_id'] == sentence_id[0]]['Contents'].values[0]))\n",
    "model_matrix[model_matrix['sequence'] == clean_seq]"
   ]
  },
  {
   "cell_type": "code",
   "execution_count": null,
   "id": "9814200e",
   "metadata": {},
   "outputs": [],
   "source": [
    "s_id = sentences[sentences['Contents'] == str(sentences[sentences['Note_id'] == sentence_id[0]]['Contents'].values[0])]['id'].values[0]\n",
    "labels[labels['Sentence_id'] == s_id]['Label'].values[0]"
   ]
  },
  {
   "cell_type": "code",
   "execution_count": null,
   "id": "b999d978",
   "metadata": {},
   "outputs": [],
   "source": [
    "#exporting data to csv's\n",
    "model_matrix.to_csv(\"../Modeling/Data/input.csv\")"
   ]
  },
  {
   "cell_type": "markdown",
   "id": "4bf48809",
   "metadata": {},
   "source": [
    "## EDA"
   ]
  },
  {
   "cell_type": "code",
   "execution_count": null,
   "id": "43d4ed4f",
   "metadata": {},
   "outputs": [],
   "source": [
    "regex_phrases = pd.read_sql_query(\"Select * from gui_seedregex\", db)\n",
    "phrase_matches = pd.read_sql_query(\"Select * from gui_sentenceseedregex\", db)\n",
    "freq = phrase_matches['SeedRegex_id'].value_counts().to_dict()\n",
    "counter = 1\n",
    "for key, value in freq.items():\n",
    "    print(\"Match #\", counter)\n",
    "    print(\"Id: \", key)\n",
    "    print(\"Pattern:\", regex_phrases[regex_phrases['id'] == key]['Pattern'].values)\n",
    "    print(\"Count: \", value, \"\\n\")\n",
    "    counter += 1"
   ]
  },
  {
   "cell_type": "code",
   "execution_count": null,
   "id": "f6e78a82",
   "metadata": {},
   "outputs": [],
   "source": [
    "# Printing out frequencies of always pattern matches \n",
    "always_pattern_matches = pd.read_sql_query(\"Select * from gui_sentencealwaysregex\", db)\n",
    "freq = always_pattern_matches['AlwaysRegex_id'].value_counts().to_dict()\n",
    "counter = 1\n",
    "for key, value in freq.items():\n",
    "    print(\"Match #\", counter)\n",
    "    print(\"Id: \", key)\n",
    "    print(\"Pattern:\", always_patterns[always_patterns['id'] == key]['Pattern'].values)\n",
    "    print(\"Count: \", value, \"\\n\")\n",
    "    counter += 1"
   ]
  },
  {
   "cell_type": "code",
   "execution_count": null,
   "id": "156abca4",
   "metadata": {},
   "outputs": [],
   "source": []
  }
 ],
 "metadata": {
  "kernelspec": {
   "display_name": "Python 3",
   "language": "python",
   "name": "python3"
  },
  "language_info": {
   "codemirror_mode": {
    "name": "ipython",
    "version": 3
   },
   "file_extension": ".py",
   "mimetype": "text/x-python",
   "name": "python",
   "nbconvert_exporter": "python",
   "pygments_lexer": "ipython3",
   "version": "3.8.5"
  }
 },
 "nbformat": 4,
 "nbformat_minor": 5
}
