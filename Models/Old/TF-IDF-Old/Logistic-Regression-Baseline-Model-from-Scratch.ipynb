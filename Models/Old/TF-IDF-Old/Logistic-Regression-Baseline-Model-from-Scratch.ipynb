{
 "cells": [
  {
   "cell_type": "code",
   "execution_count": null,
   "id": "ccbaf996",
   "metadata": {},
   "outputs": [],
   "source": [
    "import pandas as pd\n",
    "import numpy as np\n",
    "import seaborn as sns\n",
    "import matplotlib.pyplot as plt\n",
    "import nltk\n",
    "from nltk.stem import PorterStemmer\n",
    "from nltk.tokenize import word_tokenize\n",
    "from nltk.corpus import stopwords\n",
    "import string\n",
    "\n",
    "import warnings\n",
    "warnings.filterwarnings('ignore')"
   ]
  },
  {
   "cell_type": "code",
   "execution_count": null,
   "id": "19151c31",
   "metadata": {},
   "outputs": [],
   "source": [
    "nltk.download('punkt')"
   ]
  },
  {
   "cell_type": "code",
   "execution_count": null,
   "id": "a6a6194b",
   "metadata": {},
   "outputs": [],
   "source": [
    "yes = pd.read_csv(\"yes.csv\")\n",
    "yes = yes[\"sequence\"].to_list()\n",
    "\n",
    "no = pd.read_csv(\"no.csv\")\n",
    "no = no[\"sequence\"].to_list()\n",
    "\n",
    "neither = pd.read_csv(\"neither.csv\")\n",
    "neither = neither[\"sequence\"].to_list()"
   ]
  },
  {
   "cell_type": "code",
   "execution_count": null,
   "id": "5753ac38",
   "metadata": {},
   "outputs": [],
   "source": [
    "# creating train and test partitions for sequences\n",
    "train_yes = yes[:int(0.85 * len(yes))]\n",
    "test_yes = yes[int(0.85 * len(yes)):]\n",
    "\n",
    "train_no = no[:int(0.85 * len(no))]\n",
    "test_no = no[int(0.85 * len(no)):]\n",
    "\n",
    "train_neither = neither[:int(0.85 * len(neither))]\n",
    "test_neither = neither[int(0.85 * len(neither)):]\n",
    "\n",
    "train_x = train_yes + train_no + train_neither\n",
    "test_x = test_yes + test_no + test_neither"
   ]
  },
  {
   "cell_type": "code",
   "execution_count": null,
   "id": "537c06d5",
   "metadata": {},
   "outputs": [],
   "source": [
    "# creating train and test partitions for labels\n",
    "t_y = np.full(len(train_yes), 1)\n",
    "test_y = np.full(len(test_yes), 1)\n",
    "\n",
    "t_n = np.full((len(train_neither)), 0.5)\n",
    "test_n = np.full((len(test_neither)), 0.5)\n",
    "\n",
    "t_no = np.full((len(train_no)), 0)\n",
    "test_no_ = np.full(len(test_no), 0)\n",
    "\n",
    "train_y = np.concatenate((t_y, t_no, t_n), axis=0)\n",
    "test_y = np.concatenate((test_y, test_no_, test_n), axis=0)"
   ]
  },
  {
   "cell_type": "code",
   "execution_count": null,
   "id": "0c6fb09e",
   "metadata": {},
   "outputs": [],
   "source": [
    "# converting to proper shape - ONLY RUN ONCE\n",
    "#train_y = train_y[..., None] \n",
    "# test_y = test_y[..., None]"
   ]
  },
  {
   "cell_type": "code",
   "execution_count": null,
   "id": "a6e09b78",
   "metadata": {},
   "outputs": [],
   "source": [
    "def process(sequence):\n",
    "    stemmer = PorterStemmer()\n",
    "    stopwords_english = stopwords.words('english')\n",
    "    \n",
    "    # tokenize sequences\n",
    "    tokens = word_tokenize(sequence)\n",
    "\n",
    "    sequences_clean = []\n",
    "    for word in tokens:\n",
    "        if (word not in stopwords_english and  # remove stopwords\n",
    "                word not in string.punctuation):  # remove punctuation\n",
    "            stem_word = stemmer.stem(word)  # stemming word\n",
    "            sequences_clean.append(stem_word)\n",
    "\n",
    "    return sequences_clean"
   ]
  },
  {
   "cell_type": "code",
   "execution_count": null,
   "id": "1d74a171",
   "metadata": {},
   "outputs": [],
   "source": [
    "def build_freqs(sequences, ys):\n",
    "    \"\"\"Build frequencies.\n",
    "    Input:\n",
    "        sequences: sequences\n",
    "        ys: an m x 1 array with the sentiment label of each tweet\n",
    "            (either 0/0.5/1)\n",
    "    Output:\n",
    "        freqs: a dictionary mapping each (word, sentiment) pair to its\n",
    "        frequency\n",
    "    \"\"\"\n",
    "    # Convert np array to list since zip needs an iterable.\n",
    "    # The squeeze is necessary or the list ends up with one element.\n",
    "    # Also note that this is just a NOP if ys is already a list.\n",
    "    yslist = np.squeeze(ys).tolist()\n",
    "\n",
    "    # Start with an empty dictionary and populate it by looping over all tweets\n",
    "    # and over all processed words in each tweet.\n",
    "    freqs = {}\n",
    "    for y, seq in zip(yslist, sequences):\n",
    "        for word in process(seq):\n",
    "            pair = (word, y)\n",
    "            if pair in freqs:\n",
    "                freqs[pair] += 1\n",
    "            else:\n",
    "                freqs[pair] = 1\n",
    "\n",
    "    return freqs"
   ]
  },
  {
   "cell_type": "code",
   "execution_count": null,
   "id": "048d9c42",
   "metadata": {},
   "outputs": [],
   "source": [
    "# create frequency dictionary\n",
    "freqs = build_freqs(train_x, train_y)\n",
    "\n",
    "# check the output\n",
    "print(\"type(freqs) = \" + str(type(freqs)))\n",
    "print(\"len(freqs) = \" + str(len(freqs.keys())))"
   ]
  },
  {
   "cell_type": "code",
   "execution_count": null,
   "id": "c08f8960",
   "metadata": {},
   "outputs": [],
   "source": [
    "print('This is an example of a positive tweet: \\n', train_x[0])\n",
    "print('\\nThis is an example of the processed version of the tweet: \\n', process(train_x[0]))"
   ]
  },
  {
   "cell_type": "code",
   "execution_count": null,
   "id": "07130650",
   "metadata": {},
   "outputs": [],
   "source": [
    "def sigmoid(z): \n",
    "    # calculate the sigmoid of z\n",
    "    h = 1/(1+np.exp(-z))\n",
    "    return h"
   ]
  },
  {
   "cell_type": "code",
   "execution_count": null,
   "id": "c0e34452",
   "metadata": {},
   "outputs": [],
   "source": [
    "def gradientDescent(x, y, theta, alpha, num_iters):\n",
    "    '''\n",
    "    Input:\n",
    "        x: matrix of features which is (m,n+1)\n",
    "        y: corresponding labels of the input matrix x, dimensions (m,1)\n",
    "        theta: weight vector of dimension (n+1,1)\n",
    "        alpha: learning rate\n",
    "        num_iters: number of iterations you want to train your model for\n",
    "    Output:\n",
    "        J: the final cost\n",
    "        theta: your final weight vector\n",
    "        '''\n",
    "    # get 'm', the number of rows in matrix x\n",
    "    m = len(x)\n",
    "    \n",
    "    for i in range(0, num_iters):\n",
    "        # get z, the dot product of x and theta\n",
    "        z = np.dot(x,theta)\n",
    "        # get the sigmoid of z\n",
    "        h = sigmoid(z)\n",
    "        # calculate the cost function\n",
    "        J = float(-(1/m) * (np.dot(np.transpose(y), np.log(h)) +  np.dot(np.transpose(1-y), np.log(1-h))))\n",
    "        # update the weights theta\n",
    "        theta = theta - (alpha/m)*(np.dot(np.transpose(x),(h-y)))\n",
    "        #print(\"J: \", J)\n",
    "    J = float(J)\n",
    "    return J, theta"
   ]
  },
  {
   "cell_type": "code",
   "execution_count": null,
   "id": "677c1027",
   "metadata": {},
   "outputs": [],
   "source": [
    "np.random.seed(1)\n",
    "# X input is 10 x 3 with ones for the bias terms\n",
    "tmp_X = np.append(np.ones((10, 1)), np.random.rand(10, 2) * 2000, axis=1)\n",
    "# Y Labels are 10 x 1\n",
    "tmp_Y = (np.random.rand(10, 1) > 0.35).astype(float)\n",
    "\n",
    "# Apply gradient descent\n",
    "tmp_J, tmp_theta = gradientDescent(tmp_X, tmp_Y, np.zeros((3, 1)), 1e-8, 700)\n",
    "print(f\"The cost after training is {tmp_J:.8f}.\")\n",
    "print(f\"The resulting vector of weights is {[round(t, 8) for t in np.squeeze(tmp_theta)]}\")"
   ]
  },
  {
   "cell_type": "code",
   "execution_count": null,
   "id": "1303ab11",
   "metadata": {},
   "outputs": [],
   "source": [
    "def extract_features(sequence, freqs):\n",
    "    '''\n",
    "    Input: \n",
    "        tweet: a list of words for one tweet\n",
    "        freqs: a dictionary corresponding to the frequencies of each tuple (word, label)\n",
    "    Output: \n",
    "        x: a feature vector of dimension (1,3)\n",
    "    '''\n",
    "    # process_tweet tokenizes, stems, and removes stopwords\n",
    "    word_l = process(sequence)\n",
    "    \n",
    "    # 3 elements in the form of a 1 x 3 vector\n",
    "    x = np.zeros((1, 3)) \n",
    "    \n",
    "    #bias term is set to 1\n",
    "    x[0,0] = 1 \n",
    "       \n",
    "    # loop through each word in the list of words\n",
    "    for word in word_l:\n",
    "        # increment the word count for the positive label 1\n",
    "        if (word, 1) in freqs:\n",
    "            x[0,1] += freqs[(word, 1)]\n",
    "        # increment the word count for the negative label 0\n",
    "        if (word, 0) in freqs:\n",
    "            x[0,2] += freqs[(word, 0)]\n",
    "                \n",
    "    assert(x.shape == (1, 3))\n",
    "    return x"
   ]
  },
  {
   "cell_type": "code",
   "execution_count": null,
   "id": "002b8cfb",
   "metadata": {},
   "outputs": [],
   "source": [
    "tmp2 = extract_features('blorb bleeeeb bloooob', freqs)\n",
    "print(tmp2)"
   ]
  },
  {
   "cell_type": "code",
   "execution_count": null,
   "id": "649b8fb1",
   "metadata": {},
   "outputs": [],
   "source": [
    "X = np.zeros((len(train_x), 3))\n",
    "for i in range(len(train_x)):\n",
    "    X[i, :]= extract_features(train_x[i], freqs)\n",
    "\n",
    "# training labels corresponding to X\n",
    "Y = np.array(train_y)\n",
    "\n",
    "#print(\"X: \", X)\n",
    "#print(\"Y:\", Y, type(Y), Y.shape)\n",
    "\n",
    "# Apply gradient descent\n",
    "J, theta = gradientDescent(X, Y, np.zeros((3, 1)), 1e-9, 1500)\n",
    "print(f\"The cost after training is {J:.8f}.\")\n",
    "print(f\"The resulting vector of weights is {[round(t, 8) for t in np.squeeze(theta)]}\")"
   ]
  },
  {
   "cell_type": "code",
   "execution_count": null,
   "id": "93ef9a64",
   "metadata": {},
   "outputs": [],
   "source": [
    "def predict(sequence, freqs, theta):\n",
    "    '''\n",
    "    Input: \n",
    "        tweet: a string\n",
    "        freqs: a dictionary corresponding to the frequencies of each tuple (word, label)\n",
    "        theta: (3,1) vector of weights\n",
    "    Output: \n",
    "        y_pred: the probability of a tweet being positive or negative\n",
    "    '''\n",
    "    \n",
    "    # extract the features of the tweet and store it into x\n",
    "    x = extract_features(sequence, freqs)\n",
    "    \n",
    "    # make the prediction using x and theta\n",
    "    y_pred = sigmoid(np.dot(x,theta))\n",
    "    return y_pred"
   ]
  },
  {
   "cell_type": "code",
   "execution_count": null,
   "id": "4b4323de",
   "metadata": {},
   "outputs": [],
   "source": [
    "for seq in ['PHQ-2 Score: 0 Cognition Negative: no evidence of cognitive decline noted by patient or family; no memory problems causing dysfunction in daily activities Falls risk Time to rise from, walk 10 feet,', \n",
    "                       'depression, but certainly does not appear depressed on exam - Dementia: MMSE on 5/21/16 23/30 c/w Mild cognitive impairment, which is NOT c/w profound weight loss - Gastroparesis: Hx of diabetes']:\n",
    "    print( '%s -> %f' % (seq, predict(seq, freqs, theta)))"
   ]
  },
  {
   "cell_type": "code",
   "execution_count": null,
   "id": "a38dca85",
   "metadata": {},
   "outputs": [],
   "source": [
    "def test_logistic_regression(test_x, test_y, freqs, theta):\n",
    "    \"\"\"\n",
    "    Input: \n",
    "        test_x: a list of tweets\n",
    "        test_y: (m, 1) vector with the corresponding labels for the list of tweets\n",
    "        freqs: a dictionary with the frequency of each pair (or tuple)\n",
    "        theta: weight vector of dimension (3, 1)\n",
    "    Output: \n",
    "        accuracy: (# of tweets classified correctly) / (total # of tweets)\n",
    "    \"\"\"\n",
    "        \n",
    "    # the list for storing predictions\n",
    "    y_hat = []\n",
    "    \n",
    "    for seq in test_x:\n",
    "        # get the label prediction for the tweet\n",
    "        y_pred = predict(seq, freqs, theta)\n",
    "        \n",
    "        if y_pred > 0.52:\n",
    "            y_hat.append(1)\n",
    "        elif y_pred < 0.52 and y_pred >= 0.5:\n",
    "            y_hat.append(0.5)\n",
    "        else:\n",
    "            y_pred.append(0)\n",
    "    \n",
    "    y_hat = np.asarray(y_hat)\n",
    "    test_y = np.squeeze(test_y)\n",
    "    # With the above implementation, y_hat is a list, but test_y is (m,1) array\n",
    "    # convert both to one-dimensional arrays in order to compare them using the '==' operator\n",
    "    count = 0\n",
    "    for i in range(len(test_y)):\n",
    "        if (test_y[i] == y_hat[i]):\n",
    "            count = count+ 1\n",
    "        else:\n",
    "            count\n",
    "\n",
    "    accuracy = count/(len(test_y))\n",
    "    return accuracy"
   ]
  },
  {
   "cell_type": "code",
   "execution_count": null,
   "id": "9cf0d302",
   "metadata": {},
   "outputs": [],
   "source": [
    "tmp_accuracy = test_logistic_regression(test_x, test_y, freqs, theta)\n",
    "print(f\"Logistic regression model's accuracy = {tmp_accuracy:.4f}\")"
   ]
  },
  {
   "cell_type": "code",
   "execution_count": null,
   "id": "28f5876e",
   "metadata": {},
   "outputs": [],
   "source": []
  }
 ],
 "metadata": {
  "kernelspec": {
   "display_name": "spacy_env",
   "language": "python",
   "name": "spacy_env"
  },
  "language_info": {
   "codemirror_mode": {
    "name": "ipython",
    "version": 3
   },
   "file_extension": ".py",
   "mimetype": "text/x-python",
   "name": "python",
   "nbconvert_exporter": "python",
   "pygments_lexer": "ipython3",
   "version": "3.7.10"
  }
 },
 "nbformat": 4,
 "nbformat_minor": 5
}
