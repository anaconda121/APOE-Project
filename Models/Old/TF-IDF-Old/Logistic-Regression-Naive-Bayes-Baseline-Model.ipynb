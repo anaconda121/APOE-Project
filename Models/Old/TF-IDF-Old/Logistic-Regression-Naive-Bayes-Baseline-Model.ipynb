{
 "cells": [
  {
   "cell_type": "code",
   "execution_count": null,
   "id": "03bcb634",
   "metadata": {},
   "outputs": [],
   "source": [
    "import pandas as pd\n",
    "import numpy as np\n",
    "import seaborn as sns\n",
    "import matplotlib.pyplot as plt\n",
    "import nltk\n",
    "\n",
    "from sklearn.pipeline import Pipeline\n",
    "from sklearn.feature_extraction.text import CountVectorizer, TfidfTransformer\n",
    "from sklearn.linear_model import LogisticRegression\n",
    "from sklearn.metrics import classification_report, multilabel_confusion_matrix, confusion_matrix\n",
    "from sklearn.metrics import precision_recall_fscore_support as score\n",
    "from sklearn.naive_bayes import MultinomialNB\n",
    "\n",
    "import warnings\n",
    "warnings.filterwarnings('ignore')"
   ]
  },
  {
   "cell_type": "code",
   "execution_count": null,
   "id": "0cd516eb",
   "metadata": {},
   "outputs": [],
   "source": [
    "nltk.download('stopwords')"
   ]
  },
  {
   "cell_type": "code",
   "execution_count": null,
   "id": "80e8f34b",
   "metadata": {},
   "outputs": [],
   "source": [
    "train_df = pd.read_csv(\"input.csv\")\n",
    "\n",
    "train_df.drop(columns=['Unnamed: 0'])\n",
    "\n",
    "# yes = pd.read_csv(\"yes.csv\")\n",
    "# yes = yes[\"sequence\"].to_list()\n",
    "\n",
    "# no = pd.read_csv(\"no.csv\")\n",
    "# no = no[\"sequence\"].to_list()\n",
    "\n",
    "# neither = pd.read_csv(\"neither.csv\")\n",
    "# neither = neither[\"sequence\"].to_list()"
   ]
  },
  {
   "cell_type": "code",
   "execution_count": null,
   "id": "855bdf95",
   "metadata": {},
   "outputs": [],
   "source": [
    "test_df = pd.read_csv(\"input_test.csv\")\n",
    "\n",
    "test_df.drop(columns=['Unnamed: 0'])"
   ]
  },
  {
   "cell_type": "code",
   "execution_count": null,
   "id": "c2f10869",
   "metadata": {},
   "outputs": [],
   "source": [
    "# train_yes = yes[:int(0.85 * len(yes))]\n",
    "# test_yes = yes[int(0.85 * len(yes)):]\n",
    "\n",
    "# train_no = no[:int(0.85 * len(no))]\n",
    "# test_no = no[int(0.85 * len(no)):]\n",
    "\n",
    "# train_neither = neither[:int(0.85 * len(neither))]\n",
    "# test_neither = neither[int(0.85 * len(neither)):]\n",
    "\n",
    "# train_x = train_yes + train_no + train_neither\n",
    "# test_x = test_yes + test_no + test_neither\n",
    "\n",
    "# train_y = np.append(np.ones((len(train_yes), 1)), np.zeros((len(train_neg), 1)), axis=0)\n",
    "# test_y = np.append(np.ones((len(test_pos), 1)), np.zeros((len(test_neg), 1)), axis=0)"
   ]
  },
  {
   "cell_type": "code",
   "execution_count": null,
   "id": "70c50306",
   "metadata": {},
   "outputs": [],
   "source": [
    "# Create a transformation pipeline\n",
    "# The pipeline sequentially applies a list of transforms and as a final estimator logistic regression \n",
    "pipeline_log = Pipeline([\n",
    "                    ('count', CountVectorizer()),\n",
    "                    ('tfidf', TfidfTransformer()),\n",
    "                    ('clf', LogisticRegression(solver='lbfgs', multi_class='auto')),\n",
    "                ])\n",
    "\n",
    "# Train model using the created sklearn pipeline\n",
    "model_name = 'logistic regression classifier'\n",
    "model_lgr = pipeline_log.fit(train_df['sequence'], train_df['label'])"
   ]
  },
  {
   "cell_type": "code",
   "execution_count": null,
   "id": "f124e6b2",
   "metadata": {},
   "outputs": [],
   "source": [
    "def evaluate_results(model, test_df):\n",
    "    # Predict class labels using the learner function\n",
    "    test_df['pred'] = model_lgr.predict(test_df['sequence'])\n",
    "    y_true = test_df['label']\n",
    "    y_pred = test_df['pred']\n",
    "    target_names = ['NO', 'NTR', 'YES']\n",
    "\n",
    "    # Print the Confusion Matrix\n",
    "    results_log = classification_report(y_true, y_pred, target_names=target_names, output_dict=True)\n",
    "    results_df_log = pd.DataFrame(results_log).transpose()\n",
    "    print(results_df_log)\n",
    "    matrix = confusion_matrix(y_true,  y_pred)\n",
    "    sns.heatmap(pd.DataFrame(matrix), \n",
    "                annot=True, fmt=\"d\", linewidths=.5, cmap=\"YlGnBu\")\n",
    "    plt.xlabel('Predictions')\n",
    "    plt.xlabel('Actual')\n",
    "\n",
    "    model_score = score(y_pred, y_true, average='macro')\n",
    "    return model_score"
   ]
  },
  {
   "cell_type": "code",
   "execution_count": null,
   "id": "33a5c5c3",
   "metadata": {},
   "outputs": [],
   "source": [
    "# Evaluate model performance\n",
    "model_score = evaluate_results(model_lgr, test_df)\n",
    "performance_df = pd.DataFrame().append({'model_name': model_name, \n",
    "                                    'f1_score': model_score[0], \n",
    "                                    'precision': model_score[1], \n",
    "                                    'recall': model_score[2]}, ignore_index=True) "
   ]
  },
  {
   "cell_type": "code",
   "execution_count": null,
   "id": "8c8a7fcf",
   "metadata": {},
   "outputs": [],
   "source": [
    "model_name = 'bayes classifier'\n",
    "\n",
    "pipeline_bayes = Pipeline([\n",
    "                    ('count', CountVectorizer()),\n",
    "                    ('tfidf', TfidfTransformer()),\n",
    "                    ('gnb', MultinomialNB()),\n",
    "                ])\n",
    "\n",
    "# Train model using the created sklearn pipeline\n",
    "model_bayes = pipeline_bayes.fit(train_df['sequence'], train_df['label'])\n",
    "\n",
    "# Evaluate model performance\n",
    "model_score = evaluate_results(model_bayes, test_df)\n",
    "performance_df = performance_df.append({'model_name': model_name, \n",
    "                                    'f1_score': model_score[0], \n",
    "                                    'precision': model_score[1], \n",
    "                                    'recall': model_score[2]}, ignore_index=True)"
   ]
  },
  {
   "cell_type": "code",
   "execution_count": null,
   "id": "76cbc4a4",
   "metadata": {},
   "outputs": [],
   "source": [
    "prediction_sequences = ['PHQ-2 Score: 0 Cognition Negative: no evidence of cognitive decline noted by patient or family; no memory problems causing dysfunction in daily activities Falls risk Time to rise from, walk 10 feet,', \n",
    "                       'depression, but certainly does not appear depressed on exam - Dementia: MMSE on 5/21/16 23/30 c/w Mild cognitive impairment, which is NOT c/w profound weight loss - Gastroparesis: Hx of diabetes',\n",
    "                       'THEY DO NOT HAVE DEMENTIA',\n",
    "                       'tojguiegbhutrebjg bljtmhtnoery0og[wob erjbgt4iu5gbyi ]']\n",
    "for seq in prediction_sequences:\n",
    "    ans = model_lgr.predict([seq])\n",
    "    d = {1: 'Negative', 2: 'Neither', 3: 'Positive'}\n",
    "    print(seq + '-> ' + d[ans[0]], \"\\n\")"
   ]
  },
  {
   "cell_type": "code",
   "execution_count": null,
   "id": "cad5e8b5",
   "metadata": {},
   "outputs": [],
   "source": [
    "prediction_sequences = ['PHQ-2 Score: 0 Cognition Negative: no evidence of cognitive decline noted by patient or family; no memory problems causing dysfunction in daily activities Falls risk Time to rise from, walk 10 feet,', \n",
    "                       'depression, but certainly does not appear depressed on exam - Dementia: MMSE on 5/21/16 23/30 c/w Mild cognitive impairment, which is NOT c/w profound weight loss - Gastroparesis: Hx of diabetes',\n",
    "                       'THEY DO NOT HAVE DEMENTIA',\n",
    "                       'tojguiegbhutrebjg bljtmhtnoery0og[wob erjbgt4iu5gbyi ]']\n",
    "for seq in prediction_sequences:\n",
    "    ans = model_bayes.predict([seq])\n",
    "    d = {1: 'Negative', 2: 'Neither', 3: 'Positive'}\n",
    "    print(seq + '-> ' + d[ans[0]], \"\\n\")"
   ]
  }
 ],
 "metadata": {
  "kernelspec": {
   "display_name": "spacy_env",
   "language": "python",
   "name": "spacy_env"
  },
  "language_info": {
   "codemirror_mode": {
    "name": "ipython",
    "version": 3
   },
   "file_extension": ".py",
   "mimetype": "text/x-python",
   "name": "python",
   "nbconvert_exporter": "python",
   "pygments_lexer": "ipython3",
   "version": "3.7.10"
  }
 },
 "nbformat": 4,
 "nbformat_minor": 5
}
