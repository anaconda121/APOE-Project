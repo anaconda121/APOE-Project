{
 "cells": [
  {
   "cell_type": "code",
   "execution_count": 1,
   "metadata": {},
   "outputs": [],
   "source": [
    "import pandas as pd\n",
    "from tqdm import tqdm\n",
    "import pickle\n",
    "import numpy as np\n",
    "import regex as re\n",
    "import math \n",
    "\n",
    "from sklearn.feature_extraction.text import CountVectorizer\n",
    "from sklearn.model_selection import train_test_split\n",
    "from sklearn.feature_extraction.text import TfidfVectorizer\n",
    "from sklearn import linear_model\n",
    "from sklearn import metrics\n",
    "from sklearn.model_selection import cross_validate\n",
    "from sklearn.metrics import confusion_matrix, average_precision_score, classification_report\n",
    "from sklearn.linear_model import LogisticRegression\n",
    "from sklearn.ensemble import RandomForestClassifier\n",
    "from sklearn.svm import LinearSVC\n",
    "from sklearn.svm import SVC\n",
    "from sklearn.utils import shuffle\n",
    "from sklearn import preprocessing\n",
    "import seaborn as sns\n",
    "from sklearn.metrics import roc_auc_score, matthews_corrcoef, accuracy_score\n",
    "from sklearn.multiclass import OneVsRestClassifier\n",
    "from sklearn.model_selection import cross_val_score"
   ]
  },
  {
   "cell_type": "code",
   "execution_count": 3,
   "metadata": {},
   "outputs": [],
   "source": [
    "entire = pd.read_csv(r\"C:\\Users\\MIND_DS\\Dropbox (Partners HealthCare)\\NLP\\Tanish\\APOE-SLAT\\Modeling\\Storage\\Data\\Sequences\\slat_8_16.csv\", header = None)\n",
    "entire.columns = [\"sequence_number\", \"sequence\", \"note_number\"]"
   ]
  },
  {
   "cell_type": "markdown",
   "metadata": {},
   "source": [
    "## Testing Model Generability"
   ]
  },
  {
   "cell_type": "markdown",
   "metadata": {},
   "source": [
    "## Running Multi-Class Model on Test Set to examine whether sequence level predictions are sound"
   ]
  },
  {
   "cell_type": "code",
   "execution_count": 18,
   "metadata": {},
   "outputs": [],
   "source": [
    "tfidf_train = pd.read_csv(r\"C:\\Users\\MIND_DS\\Dropbox (Partners HealthCare)\\NLP\\Tanish\\APOE-SLAT\\Modeling\\Storage\\Data\\TFIDF\\tfidf_train_8_12.csv\")"
   ]
  },
  {
   "cell_type": "code",
   "execution_count": 19,
   "metadata": {},
   "outputs": [],
   "source": [
    "y_train = pd.read_csv(r\"C:\\Users\\MIND_DS\\Dropbox (Partners HealthCare)\\NLP\\Tanish\\APOE-SLAT\\Modeling\\Storage\\Data\\TFIDF\\y_train_8_12.csv\")"
   ]
  },
  {
   "cell_type": "code",
   "execution_count": 20,
   "metadata": {},
   "outputs": [],
   "source": [
    "tfidf_train_features_df = pd.concat([tfidf_train, y_train.reset_index(drop=True)], axis = 1)"
   ]
  },
  {
   "cell_type": "code",
   "execution_count": 21,
   "metadata": {},
   "outputs": [],
   "source": [
    "def filter_features_by_cor(df):\n",
    "    m = len(df.columns)\n",
    "    output = df.iloc[:,m-1] \n",
    "    output_list = output.tolist()\n",
    "    corrcoef_array = []\n",
    "\n",
    "    for i in range(0,m-2):\n",
    "        input_list = df.iloc[:,i].tolist()\n",
    "        cols = [input_list, output_list]\n",
    "        corrcoef = abs(np.corrcoef(cols)) \n",
    "        corrcoef_array = np.append(corrcoef_array,corrcoef[0,1])\n",
    "\n",
    "    feature_names = list(df)\n",
    "    feature_names = feature_names[0:m-2]\n",
    "    \n",
    "    output_df = pd.DataFrame(feature_names, columns=['Features'])\n",
    "    output_df['CorrCoef'] = corrcoef_array\n",
    "    output_df = output_df.sort_values('CorrCoef')\n",
    "    output_df = output_df.reset_index()\n",
    "    output_df = output_df.drop(columns = \"index\")\n",
    "    \n",
    "    return output_df"
   ]
  },
  {
   "cell_type": "code",
   "execution_count": 22,
   "metadata": {},
   "outputs": [],
   "source": [
    "tfidf_output_df = filter_features_by_cor(tfidf_train_features_df)\n",
    "tfidf_output_df = tfidf_output_df.sort_values(by = ['CorrCoef'], ascending = False)"
   ]
  },
  {
   "cell_type": "code",
   "execution_count": null,
   "metadata": {},
   "outputs": [],
   "source": [
    "tfidf_output_df.to_csv(r\"C:\\Users\\MIND_DS\\Dropbox (Partners HealthCare)\\NLP\\Tanish\\APOE-SLAT\\Modeling\\Storage\\Data\\Feature Selection\\tfidf_output_df_8_12.csv\", index = False)"
   ]
  },
  {
   "cell_type": "code",
   "execution_count": 23,
   "metadata": {},
   "outputs": [],
   "source": [
    "top_tfidf_features_df_sample = tfidf_output_df[tfidf_output_df['CorrCoef'] > 0.01]"
   ]
  },
  {
   "cell_type": "code",
   "execution_count": 24,
   "metadata": {},
   "outputs": [],
   "source": [
    "tfidf_test = pd.read_csv(r\"C:\\Users\\MIND_DS\\Dropbox (Partners HealthCare)\\NLP\\Tanish\\APOE-SLAT\\Modeling\\Storage\\Data\\TFIDF\\tfidf_test_8_12.csv\")"
   ]
  },
  {
   "cell_type": "code",
   "execution_count": 25,
   "metadata": {},
   "outputs": [],
   "source": [
    "model = pickle.load(open(r\"C:\\Users\\MIND_DS\\Dropbox (Partners HealthCare)\\NLP\\Tanish\\APOE-SLAT\\Modeling\\Storage\\model_8_11.sav\", 'rb'))"
   ]
  },
  {
   "cell_type": "code",
   "execution_count": 26,
   "metadata": {},
   "outputs": [],
   "source": [
    "test_predictions = model.predict(tfidf_test.filter(items = top_tfidf_features_df_sample['Features']))"
   ]
  },
  {
   "cell_type": "code",
   "execution_count": 27,
   "metadata": {},
   "outputs": [],
   "source": [
    "test_sequences = pd.read_csv(r\"C:\\Users\\MIND_DS\\Dropbox (Partners HealthCare)\\NLP\\Tanish\\APOE-SLAT\\Modeling\\Storage\\Data\\Train Test Split\\test_full.csv\")"
   ]
  },
  {
   "cell_type": "code",
   "execution_count": 28,
   "metadata": {},
   "outputs": [],
   "source": [
    "test_sequences = pd.concat([test_sequences, pd.Series(test_predictions)], axis = 1)"
   ]
  },
  {
   "cell_type": "code",
   "execution_count": 29,
   "metadata": {},
   "outputs": [],
   "source": [
    "test_sequences.to_csv(r\"C:\\Users\\MIND_DS\\Dropbox (Partners HealthCare)\\NLP\\Tanish\\APOE-SLAT\\Modeling\\Storage\\Predictions\\test_set_preds_8_25.csv\", index = False)"
   ]
  },
  {
   "cell_type": "markdown",
   "metadata": {},
   "source": [
    "## Seeing if there are discrepancies between ACC of sequences that have matched with and without always patterns"
   ]
  },
  {
   "cell_type": "code",
   "execution_count": 30,
   "metadata": {},
   "outputs": [],
   "source": [
    "test_sequences = pd.read_csv(r\"C:\\Users\\MIND_DS\\Dropbox (Partners HealthCare)\\NLP\\Tanish\\APOE-SLAT\\Modeling\\Storage\\Predictions\\test_set_preds_8_25.csv\")"
   ]
  },
  {
   "cell_type": "code",
   "execution_count": 31,
   "metadata": {},
   "outputs": [],
   "source": [
    "always_patterns = pd.read_csv(r\"C:\\Users\\MIND_DS\\Dropbox (Partners HealthCare)\\NLP\\Tanish\\APOE-SLAT\\EDA\\Data\\always_patterns_8_1.csv\")"
   ]
  },
  {
   "cell_type": "code",
   "execution_count": 32,
   "metadata": {},
   "outputs": [],
   "source": [
    "always_pattern_regex = always_patterns[\"Pattern\"].to_list()"
   ]
  },
  {
   "cell_type": "code",
   "execution_count": 33,
   "metadata": {},
   "outputs": [],
   "source": [
    "for i in range(len(always_pattern_regex)):\n",
    "    always_pattern_regex[i] = re.compile(always_pattern_regex[i], re.IGNORECASE)"
   ]
  },
  {
   "cell_type": "code",
   "execution_count": 34,
   "metadata": {},
   "outputs": [
    {
     "data": {
      "text/plain": [
       "35"
      ]
     },
     "execution_count": 34,
     "metadata": {},
     "output_type": "execute_result"
    }
   ],
   "source": [
    "len(always_pattern_regex)"
   ]
  },
  {
   "cell_type": "code",
   "execution_count": 341,
   "metadata": {},
   "outputs": [],
   "source": [
    "def find_always_pattern_matches(df, col):\n",
    "    a = []\n",
    "    counter = 0\n",
    "\n",
    "    for seq in tqdm(df[col]):\n",
    "        curr = []\n",
    "        classes = []\n",
    "\n",
    "        for p in (always_pattern_regex):\n",
    "            m = list(set(re.findall(p, seq)))\n",
    "            m = list(set(map(str.lower, m)))\n",
    "            \n",
    "            if (m != []):\n",
    "                curr.append(\"\".join(m))\n",
    "\n",
    "        a.append(curr)\n",
    "        counter += 1\n",
    "    \n",
    "    df[\"always_pattern_match\"] = a\n",
    "    \n",
    "    return df"
   ]
  },
  {
   "cell_type": "code",
   "execution_count": 36,
   "metadata": {},
   "outputs": [
    {
     "name": "stderr",
     "output_type": "stream",
     "text": [
      "100%|██████████████████████████████████████████████████████████████████████████████| 293/293 [00:00<00:00, 2339.64it/s]\n"
     ]
    }
   ],
   "source": [
    "find_always_pattern_matches(test_sequences, \"sequence\")"
   ]
  },
  {
   "cell_type": "code",
   "execution_count": 37,
   "metadata": {},
   "outputs": [
    {
     "data": {
      "text/plain": [
       "98"
      ]
     },
     "execution_count": 37,
     "metadata": {},
     "output_type": "execute_result"
    }
   ],
   "source": [
    "len(test_sequences[test_sequences[\"always_pattern_match\"].str.len() == 0])"
   ]
  },
  {
   "cell_type": "code",
   "execution_count": 40,
   "metadata": {},
   "outputs": [],
   "source": [
    "test_sequences.columns = ['Unnamed: 0', 'sequence', 'annotator_label', 'predictions', 'always_pattern_match']"
   ]
  },
  {
   "cell_type": "code",
   "execution_count": 41,
   "metadata": {},
   "outputs": [],
   "source": [
    "always_pattern_match = test_sequences[test_sequences[\"always_pattern_match\"].str.len() != 0]\n",
    "no_always_pattern_match = test_sequences[test_sequences[\"always_pattern_match\"].str.len() == 0]"
   ]
  },
  {
   "cell_type": "code",
   "execution_count": 42,
   "metadata": {},
   "outputs": [],
   "source": [
    "always_pattern_match = always_pattern_match.sample(frac = 1).reset_index(drop = True) \n",
    "no_always_pattern_match = no_always_pattern_match.sample(frac = 1).reset_index(drop = True) "
   ]
  },
  {
   "cell_type": "code",
   "execution_count": 43,
   "metadata": {},
   "outputs": [],
   "source": [
    "always_pattern_sample = always_pattern_match[:50]\n",
    "no_always_pattern_match_sample = no_always_pattern_match[:50]"
   ]
  },
  {
   "cell_type": "code",
   "execution_count": 44,
   "metadata": {},
   "outputs": [],
   "source": [
    "always_pattern_sample.to_csv(r\"C:\\Users\\MIND_DS\\Dropbox (Partners HealthCare)\\NLP\\Tanish\\APOE-SLAT\\Modeling\\Storage\\Analysis\\AP_sample_8_25.csv\", index = False)\n",
    "no_always_pattern_match_sample.to_csv(r\"C:\\Users\\MIND_DS\\Dropbox (Partners HealthCare)\\NLP\\Tanish\\APOE-SLAT\\Modeling\\Storage\\Analysis\\NO_AP_sample_8_25.csv\", index = False)"
   ]
  },
  {
   "cell_type": "code",
   "execution_count": 45,
   "metadata": {},
   "outputs": [
    {
     "data": {
      "text/plain": [
       "0.8395904436860068"
      ]
     },
     "execution_count": 45,
     "metadata": {},
     "output_type": "execute_result"
    }
   ],
   "source": [
    "accuracy_score(test_sequences[\"annotator_label\"], test_sequences[\"predictions\"])"
   ]
  },
  {
   "cell_type": "code",
   "execution_count": 46,
   "metadata": {},
   "outputs": [
    {
     "data": {
      "text/plain": [
       "0.9794871794871794"
      ]
     },
     "execution_count": 46,
     "metadata": {},
     "output_type": "execute_result"
    }
   ],
   "source": [
    "accuracy_score(always_pattern_match[\"annotator_label\"], always_pattern_match[\"predictions\"])"
   ]
  },
  {
   "cell_type": "code",
   "execution_count": 47,
   "metadata": {},
   "outputs": [
    {
     "data": {
      "text/plain": [
       "0.5612244897959183"
      ]
     },
     "execution_count": 47,
     "metadata": {},
     "output_type": "execute_result"
    }
   ],
   "source": [
    "accuracy_score(no_always_pattern_match[\"annotator_label\"], no_always_pattern_match[\"predictions\"])"
   ]
  },
  {
   "cell_type": "code",
   "execution_count": 48,
   "metadata": {},
   "outputs": [
    {
     "data": {
      "text/plain": [
       "0.52"
      ]
     },
     "execution_count": 48,
     "metadata": {},
     "output_type": "execute_result"
    }
   ],
   "source": [
    "accuracy_score(no_always_pattern_match_sample[\"annotator_label\"], no_always_pattern_match_sample[\"predictions\"])"
   ]
  },
  {
   "cell_type": "code",
   "execution_count": 49,
   "metadata": {},
   "outputs": [
    {
     "name": "stderr",
     "output_type": "stream",
     "text": [
      "100%|████████████████████████████████████████████████████████████████████████| 279224/279224 [01:32<00:00, 3009.94it/s]\n"
     ]
    }
   ],
   "source": [
    "find_always_pattern_matches(entire, \"sequence\")"
   ]
  },
  {
   "cell_type": "code",
   "execution_count": 50,
   "metadata": {},
   "outputs": [
    {
     "data": {
      "text/plain": [
       "0.1456071111365785"
      ]
     },
     "execution_count": 50,
     "metadata": {},
     "output_type": "execute_result"
    }
   ],
   "source": [
    "len(entire[entire[\"always_pattern_match\"].str.len() != 0]) / len(entire)"
   ]
  },
  {
   "cell_type": "markdown",
   "metadata": {},
   "source": [
    "## Testing Model Generability"
   ]
  },
  {
   "cell_type": "code",
   "execution_count": 51,
   "metadata": {},
   "outputs": [],
   "source": [
    "match = entire[entire[\"always_pattern_match\"].str.len() != 0]\n",
    "no_match = entire[entire[\"always_pattern_match\"].str.len() == 0]"
   ]
  },
  {
   "cell_type": "code",
   "execution_count": 52,
   "metadata": {},
   "outputs": [],
   "source": [
    "percent = (round((len(match) / len(entire)) * 100) + 1) / 100"
   ]
  },
  {
   "cell_type": "code",
   "execution_count": 53,
   "metadata": {},
   "outputs": [],
   "source": [
    "seq_count = 100"
   ]
  },
  {
   "cell_type": "code",
   "execution_count": 54,
   "metadata": {},
   "outputs": [
    {
     "data": {
      "text/plain": [
       "(16, 84)"
      ]
     },
     "execution_count": 54,
     "metadata": {},
     "output_type": "execute_result"
    }
   ],
   "source": [
    "match_slice = match[:int(percent * seq_count)] \n",
    "no_match_slice = no_match[:int((1 - percent) * seq_count)]\n",
    "len(match_slice), len(no_match_slice)"
   ]
  },
  {
   "cell_type": "code",
   "execution_count": 55,
   "metadata": {},
   "outputs": [],
   "source": [
    "real_world_sample = pd.concat([match_slice, no_match_slice])"
   ]
  },
  {
   "cell_type": "code",
   "execution_count": 56,
   "metadata": {},
   "outputs": [],
   "source": [
    "def clean_sequence(seq):\n",
    "    #getting rid of special characters\n",
    "    specials = '/' #etc\n",
    "    seq_no_special_chars = seq.translate(str.maketrans(specials, ' '*len(specials)))\n",
    "    \n",
    "    #having only 1 space between words\n",
    "    n = 1\n",
    "    seq_no_spaces = (' '*n).join(seq_no_special_chars.split())\n",
    "    \n",
    "    return seq_no_spaces.lower()"
   ]
  },
  {
   "cell_type": "code",
   "execution_count": 57,
   "metadata": {},
   "outputs": [],
   "source": [
    "real_world_sample = real_world_sample.reset_index(drop = True)"
   ]
  },
  {
   "cell_type": "code",
   "execution_count": 58,
   "metadata": {},
   "outputs": [
    {
     "name": "stderr",
     "output_type": "stream",
     "text": [
      "100%|██████████████████████████████████████████████████████████████████████████████| 100/100 [00:00<00:00, 1369.05it/s]\n"
     ]
    }
   ],
   "source": [
    "for i in tqdm(range((seq_count))):\n",
    "    real_world_sample.loc[i, \"sequence\"] = clean_sequence(real_world_sample.loc[i][\"sequence\"][3:len(real_world_sample.loc[i][\"sequence\"]) - 3])"
   ]
  },
  {
   "cell_type": "code",
   "execution_count": 180,
   "metadata": {},
   "outputs": [],
   "source": [
    "real_world_sample.to_csv(r\"C:\\Users\\MIND_DS\\Dropbox (Partners HealthCare)\\NLP\\Tanish\\APOE-SLAT\\Modeling\\Storage\\Analysis\\real_world_sample.csv\", index = False)"
   ]
  },
  {
   "cell_type": "code",
   "execution_count": 80,
   "metadata": {},
   "outputs": [],
   "source": [
    "tfidf_real_world = pd.read_csv(r\"C:\\Users\\MIND_DS\\Dropbox (Partners HealthCare)\\NLP\\Tanish\\APOE-SLAT\\Modeling\\Storage\\Data\\TFIDF\\tfidf_real_sample.csv\")"
   ]
  },
  {
   "cell_type": "code",
   "execution_count": 81,
   "metadata": {},
   "outputs": [],
   "source": [
    "real_world_predictions = model.predict(tfidf_real_world.filter(items = top_tfidf_features_df_sample['Features']))"
   ]
  },
  {
   "cell_type": "code",
   "execution_count": 92,
   "metadata": {},
   "outputs": [
    {
     "data": {
      "text/plain": [
       "array([2, 1, 2, 1, 0, 0, 1, 2], dtype=int64)"
      ]
     },
     "execution_count": 92,
     "metadata": {},
     "output_type": "execute_result"
    }
   ],
   "source": [
    "real_world_predictions[:8]"
   ]
  },
  {
   "cell_type": "code",
   "execution_count": 93,
   "metadata": {},
   "outputs": [
    {
     "data": {
      "text/plain": [
       "array([2, 0, 0, 0, 0, 1, 0, 2, 1, 1, 2, 2, 0, 2, 1, 0, 2, 1, 0, 0, 2, 0,\n",
       "       0, 2, 2, 0, 2, 0, 1, 0, 2, 1, 1, 2, 2, 1, 2, 0, 0, 2, 0],\n",
       "      dtype=int64)"
      ]
     },
     "execution_count": 93,
     "metadata": {},
     "output_type": "execute_result"
    }
   ],
   "source": [
    "real_world_predictions[15:56]"
   ]
  },
  {
   "cell_type": "code",
   "execution_count": 94,
   "metadata": {},
   "outputs": [
    {
     "data": {
      "text/plain": [
       "(100, 24098)"
      ]
     },
     "execution_count": 94,
     "metadata": {},
     "output_type": "execute_result"
    }
   ],
   "source": [
    "tfidf_real_world.shape"
   ]
  },
  {
   "cell_type": "code",
   "execution_count": 126,
   "metadata": {},
   "outputs": [],
   "source": [
    "fifty_seq = pd.read_excel(r\"C:\\Users\\MIND_DS\\Dropbox (Partners HealthCare)\\NLP\\Tanish\\APOE-SLAT\\Modeling\\Storage\\Predictions\\50_seq_real_world_sample.xlsx\")"
   ]
  },
  {
   "cell_type": "code",
   "execution_count": 127,
   "metadata": {},
   "outputs": [],
   "source": [
    "tfidf_50_seq = tfidf_real_world[:8]"
   ]
  },
  {
   "cell_type": "code",
   "execution_count": 128,
   "metadata": {},
   "outputs": [],
   "source": [
    "tfidf_50_seq = tfidf_50_seq.append(tfidf_real_world[15:56])"
   ]
  },
  {
   "cell_type": "code",
   "execution_count": 129,
   "metadata": {},
   "outputs": [],
   "source": [
    "fifty_proba = model.predict_proba(tfidf_50_seq.filter(items = top_tfidf_features_df_sample['Features']))"
   ]
  },
  {
   "cell_type": "code",
   "execution_count": 130,
   "metadata": {},
   "outputs": [],
   "source": [
    "max_proba = []\n",
    "for arr in fifty_proba:\n",
    "    max_proba.append(max(arr))"
   ]
  },
  {
   "cell_type": "code",
   "execution_count": 131,
   "metadata": {},
   "outputs": [
    {
     "data": {
      "text/plain": [
       "(49, 49)"
      ]
     },
     "execution_count": 131,
     "metadata": {},
     "output_type": "execute_result"
    }
   ],
   "source": [
    "len(max_proba), len(fifty_seq)"
   ]
  },
  {
   "cell_type": "code",
   "execution_count": 132,
   "metadata": {},
   "outputs": [],
   "source": [
    "fifty_seq[\"proba\"] = max_proba"
   ]
  },
  {
   "cell_type": "code",
   "execution_count": 137,
   "metadata": {},
   "outputs": [],
   "source": [
    "auc = roc_auc_score(fifty_seq[\"label\"], fifty_proba, multi_class = \"ovr\", average = \"weighted\")"
   ]
  },
  {
   "cell_type": "code",
   "execution_count": 146,
   "metadata": {},
   "outputs": [],
   "source": [
    "acc = metrics.accuracy_score(fifty_seq[\"predictions\"], fifty_seq[\"label\"])"
   ]
  },
  {
   "cell_type": "code",
   "execution_count": 147,
   "metadata": {},
   "outputs": [
    {
     "data": {
      "text/plain": [
       "(0.7777106030382077, 0.6530612244897959)"
      ]
     },
     "execution_count": 147,
     "metadata": {},
     "output_type": "execute_result"
    }
   ],
   "source": [
    "auc, acc"
   ]
  },
  {
   "cell_type": "code",
   "execution_count": 184,
   "metadata": {},
   "outputs": [],
   "source": [
    "real_world_sample.to_csv(r\"C:\\Users\\MIND_DS\\Dropbox (Partners HealthCare)\\NLP\\Tanish\\APOE-SLAT\\Modeling\\Storage\\Predictions\\real_world_sample.csv\", index = False)"
   ]
  },
  {
   "cell_type": "markdown",
   "metadata": {},
   "source": [
    "## Poster Confusion Matrix"
   ]
  },
  {
   "cell_type": "markdown",
   "metadata": {},
   "source": [
    "Analyzing Results of 13,941 Patients"
   ]
  },
  {
   "cell_type": "code",
   "execution_count": 109,
   "metadata": {},
   "outputs": [],
   "source": [
    "df = pd.read_csv(r\"C:\\Users\\MIND_DS\\Dropbox (Partners HealthCare)\\NLP\\Tanish\\APOE-SLAT\\Modeling\\Storage\\data\\20K_sample_8_11.csv\")\n",
    "df2 = pd.read_csv(r\"C:\\Users\\MIND_DS\\Dropbox (Partners HealthCare)\\NLP\\Tanish\\APOE-SLAT\\Baseline_Model\\data\\tanish_predictions_with_structured_features.csv\")"
   ]
  },
  {
   "cell_type": "code",
   "execution_count": 78,
   "metadata": {},
   "outputs": [],
   "source": [
    "df2[\"patient_CI\"] = p_CI"
   ]
  },
  {
   "cell_type": "code",
   "execution_count": 110,
   "metadata": {},
   "outputs": [],
   "source": [
    "e2 = df2[(df2[\"APOE\"] == \"e2/e2\") | (df2[\"APOE\"] == \"e2/e3\")]\n",
    "e3 = df2[df2[\"APOE\"] == \"e3/e3\"]\n",
    "e4 = df2[(df2[\"APOE\"] == \"e2/e4 or e1/e3\") | (df2[\"APOE\"] == \"e3/e4\") | (df2[\"APOE\"] == \"e4/e4\")]"
   ]
  },
  {
   "cell_type": "code",
   "execution_count": 111,
   "metadata": {},
   "outputs": [
    {
     "data": {
      "text/plain": [
       "0"
      ]
     },
     "execution_count": 111,
     "metadata": {},
     "output_type": "execute_result"
    }
   ],
   "source": [
    "(len(e2) + len(e3) + len(e4)) - len(df2)"
   ]
  },
  {
   "cell_type": "code",
   "execution_count": 112,
   "metadata": {},
   "outputs": [
    {
     "data": {
      "text/plain": [
       "e3/e3             8751\n",
       "e3/e4             2862\n",
       "e2/e3             1675\n",
       "e2/e4 or e1/e3     302\n",
       "e4/e4              272\n",
       "e2/e2               79\n",
       "Name: APOE, dtype: int64"
      ]
     },
     "execution_count": 112,
     "metadata": {},
     "output_type": "execute_result"
    }
   ],
   "source": [
    "df2[\"APOE\"].value_counts()"
   ]
  },
  {
   "cell_type": "code",
   "execution_count": 113,
   "metadata": {},
   "outputs": [
    {
     "data": {
      "text/plain": [
       "(1754, 8751, 3436)"
      ]
     },
     "execution_count": 113,
     "metadata": {},
     "output_type": "execute_result"
    }
   ],
   "source": [
    "len(e2), len(e3), len(e4)"
   ]
  },
  {
   "cell_type": "code",
   "execution_count": 114,
   "metadata": {},
   "outputs": [
    {
     "data": {
      "text/plain": [
       "0    1562\n",
       "1     192\n",
       "Name: AD_Med_or_ICD_Code, dtype: int64"
      ]
     },
     "execution_count": 114,
     "metadata": {},
     "output_type": "execute_result"
    }
   ],
   "source": [
    "e2[\"AD_Med_or_ICD_Code\"].value_counts()"
   ]
  },
  {
   "cell_type": "code",
   "execution_count": 115,
   "metadata": {},
   "outputs": [
    {
     "data": {
      "text/plain": [
       "0    7771\n",
       "1     980\n",
       "Name: AD_Med_or_ICD_Code, dtype: int64"
      ]
     },
     "execution_count": 115,
     "metadata": {},
     "output_type": "execute_result"
    }
   ],
   "source": [
    "e3[\"AD_Med_or_ICD_Code\"].value_counts()"
   ]
  },
  {
   "cell_type": "code",
   "execution_count": 116,
   "metadata": {},
   "outputs": [
    {
     "data": {
      "text/plain": [
       "0    2859\n",
       "1     577\n",
       "Name: AD_Med_or_ICD_Code, dtype: int64"
      ]
     },
     "execution_count": 116,
     "metadata": {},
     "output_type": "execute_result"
    }
   ],
   "source": [
    "e4[\"AD_Med_or_ICD_Code\"].value_counts()"
   ]
  },
  {
   "cell_type": "code",
   "execution_count": 117,
   "metadata": {},
   "outputs": [
    {
     "data": {
      "text/plain": [
       "1    1080\n",
       "0     674\n",
       "Name: patient_CI, dtype: int64"
      ]
     },
     "execution_count": 117,
     "metadata": {},
     "output_type": "execute_result"
    }
   ],
   "source": [
    "e2[\"patient_CI\"].value_counts()"
   ]
  },
  {
   "cell_type": "code",
   "execution_count": 118,
   "metadata": {},
   "outputs": [
    {
     "data": {
      "text/plain": [
       "1    5415\n",
       "0    3336\n",
       "Name: patient_CI, dtype: int64"
      ]
     },
     "execution_count": 118,
     "metadata": {},
     "output_type": "execute_result"
    }
   ],
   "source": [
    "e3[\"patient_CI\"].value_counts()"
   ]
  },
  {
   "cell_type": "code",
   "execution_count": 119,
   "metadata": {},
   "outputs": [
    {
     "data": {
      "text/plain": [
       "1    2169\n",
       "0    1267\n",
       "Name: patient_CI, dtype: int64"
      ]
     },
     "execution_count": 119,
     "metadata": {},
     "output_type": "execute_result"
    }
   ],
   "source": [
    "e4[\"patient_CI\"].value_counts()"
   ]
  },
  {
   "cell_type": "code",
   "execution_count": 126,
   "metadata": {},
   "outputs": [
    {
     "data": {
      "text/plain": [
       "1665"
      ]
     },
     "execution_count": 126,
     "metadata": {},
     "output_type": "execute_result"
    }
   ],
   "source": [
    "len(df2[(df2[\"patient_CI\"] == 1) & (df2[\"AD_Med_or_ICD_Code\"] == 1)])"
   ]
  },
  {
   "cell_type": "code",
   "execution_count": 127,
   "metadata": {},
   "outputs": [
    {
     "data": {
      "text/plain": [
       "6999"
      ]
     },
     "execution_count": 127,
     "metadata": {},
     "output_type": "execute_result"
    }
   ],
   "source": [
    "len(df2[(df2[\"patient_CI\"] == 1) & (df2[\"AD_Med_or_ICD_Code\"] == 0)])"
   ]
  },
  {
   "cell_type": "code",
   "execution_count": 128,
   "metadata": {},
   "outputs": [
    {
     "data": {
      "text/plain": [
       "84"
      ]
     },
     "execution_count": 128,
     "metadata": {},
     "output_type": "execute_result"
    }
   ],
   "source": [
    "len(df2[(df2[\"patient_CI\"] == 0) & (df2[\"AD_Med_or_ICD_Code\"] == 1)])"
   ]
  },
  {
   "cell_type": "code",
   "execution_count": 129,
   "metadata": {},
   "outputs": [
    {
     "data": {
      "text/plain": [
       "5193"
      ]
     },
     "execution_count": 129,
     "metadata": {},
     "output_type": "execute_result"
    }
   ],
   "source": [
    "len(df2[(df2[\"patient_CI\"] == 0) & (df2[\"AD_Med_or_ICD_Code\"] == 0)])"
   ]
  },
  {
   "cell_type": "markdown",
   "metadata": {},
   "source": [
    "## Analyzing False Positives\n",
    "Model Predicts CI, no prescence of Med/ICD Code <br>\n",
    "What portion of these are where models if correct, and what portion is where model is wrong"
   ]
  },
  {
   "cell_type": "code",
   "execution_count": 131,
   "metadata": {},
   "outputs": [],
   "source": [
    "predictions = pd.read_csv(r\"C:\\Users\\MIND_DS\\Dropbox (Partners HealthCare)\\NLP\\Tanish\\APOE-SLAT\\Baseline_Model\\data\\tanish_predictions_with_structured_features.csv\")"
   ]
  },
  {
   "cell_type": "code",
   "execution_count": 134,
   "metadata": {},
   "outputs": [],
   "source": [
    "FP = predictions[(predictions[\"patient_CI\"] == 1) & (predictions[\"AD_Med_or_ICD_Code\"] == 0)]"
   ]
  },
  {
   "cell_type": "code",
   "execution_count": 136,
   "metadata": {},
   "outputs": [],
   "source": [
    "sample_set = FP[\"patient_id\"].to_list()[:50]"
   ]
  },
  {
   "cell_type": "code",
   "execution_count": 138,
   "metadata": {},
   "outputs": [
    {
     "name": "stderr",
     "output_type": "stream",
     "text": [
      "C:\\Users\\MIND_DS\\anaconda3\\lib\\site-packages\\IPython\\core\\interactiveshell.py:3146: DtypeWarning: Columns (1) have mixed types.Specify dtype option on import or set low_memory=False.\n",
      "  has_raised = await self.run_ast_nodes(code_ast.body, cell_name,\n"
     ]
    }
   ],
   "source": [
    "dataset = pd.read_csv(r\"C:\\Users\\MIND_DS\\Dropbox (Partners HealthCare)\\NLP\\Tanish\\APOE-SLAT\\nlp_annotator-dev\\app\\load_data\\SLAT_production_7_24.csv\")"
   ]
  },
  {
   "cell_type": "code",
   "execution_count": 271,
   "metadata": {},
   "outputs": [],
   "source": [
    "pred_proba = pd.read_csv(r\"C:\\Users\\MIND_DS\\Dropbox (Partners HealthCare)\\NLP\\Tanish\\APOE-SLAT\\Modeling\\Storage\\Predictions\\lr_binary_classification_8_17.csv\")"
   ]
  },
  {
   "cell_type": "code",
   "execution_count": 264,
   "metadata": {},
   "outputs": [
    {
     "name": "stderr",
     "output_type": "stream",
     "text": [
      "100%|██████████████████████████████████████████████████████████████████████████████████| 50/50 [00:03<00:00, 13.17it/s]\n"
     ]
    }
   ],
   "source": [
    "sampling_df = pd.DataFrame()\n",
    "pred = []\n",
    "proba = []\n",
    "\n",
    "for i in tqdm(range(len(sample_set))):\n",
    "    sampling_df = sampling_df.append(dataset[dataset[\"PatientID\"] == sample_set[i]])\n",
    "    pred += (pred_proba[pred_proba[\"patient_id\"] == sample_set[i]][\"predictions\"].to_list())\n",
    "    proba += (pred_proba[pred_proba[\"patient_id\"] == sample_set[i]][\"probability\"].to_list())"
   ]
  },
  {
   "cell_type": "code",
   "execution_count": 268,
   "metadata": {},
   "outputs": [],
   "source": [
    "sampling_df[\"predictions\"] = pred\n",
    "sampling_df[\"probability\"] = proba"
   ]
  },
  {
   "cell_type": "code",
   "execution_count": 270,
   "metadata": {},
   "outputs": [],
   "source": [
    "sampling_df.to_csv(r\"C:\\Users\\MIND_DS\\Dropbox (Partners HealthCare)\\NLP\\Tanish\\APOE-SLAT\\Modeling\\Storage\\Analysis\\50_FP_sample.csv\", index = False)"
   ]
  },
  {
   "cell_type": "markdown",
   "metadata": {},
   "source": [
    "## Fixing Error of Sequences not being padded"
   ]
  },
  {
   "cell_type": "code",
   "execution_count": 145,
   "metadata": {},
   "outputs": [],
   "source": [
    "not_padded = pd.read_csv(r\"C:\\Users\\MIND_DS\\Dropbox (Partners HealthCare)\\NLP\\Tanish\\BigDataSets\\Regex_match\\FINAL\\not_padded_matches_7_14.csv\")"
   ]
  },
  {
   "cell_type": "code",
   "execution_count": 147,
   "metadata": {},
   "outputs": [
    {
     "name": "stderr",
     "output_type": "stream",
     "text": [
      "C:\\Users\\MIND_DS\\anaconda3\\lib\\site-packages\\IPython\\core\\interactiveshell.py:3146: DtypeWarning: Columns (6) have mixed types.Specify dtype option on import or set low_memory=False.\n",
      "  has_raised = await self.run_ast_nodes(code_ast.body, cell_name,\n"
     ]
    }
   ],
   "source": [
    "padded = pd.read_csv(r\"C:\\Users\\MIND_DS\\Dropbox (Partners HealthCare)\\NLP\\Tanish\\BigDataSets\\Regex_match\\FINAL\\padded_matches_7_14.csv\")"
   ]
  },
  {
   "cell_type": "code",
   "execution_count": 151,
   "metadata": {},
   "outputs": [
    {
     "data": {
      "text/plain": [
       "3339"
      ]
     },
     "execution_count": 151,
     "metadata": {},
     "output_type": "execute_result"
    }
   ],
   "source": [
    "len(padded[padded[\"padded_merged_regex_sent\"].str.len() < 500])"
   ]
  },
  {
   "cell_type": "code",
   "execution_count": 166,
   "metadata": {},
   "outputs": [],
   "source": [
    "not_padded.columns = ['Unnamed: 0', 'Unnamed: 0.1', 'Unnamed: 0.1.1', 'Unnamed: 0.1.1.1',\n",
    "       'EMPI', 'MRN', 'PatientID', 'PatientEncounterID', 'ContactDTS',\n",
    "       'EncounterTypeDSC', 'NoteID', 'InpatientNoteTypeDSC', 'buckets',\n",
    "       'NoteCSNID', 'LineNBR', 'NoteTXT', 'regex_location', 'regex_sent',\n",
    "       'regex_match', 'match_count', 'pruned_regex_location',\n",
    "       'merged_row_location', 'padded_merged_regex_sent', 'merged_regex_match',\n",
    "       'sequence_level_regex_location', 'sequence_level_regex_match',\n",
    "       'char_count', 'note_char_count']"
   ]
  },
  {
   "cell_type": "code",
   "execution_count": 168,
   "metadata": {},
   "outputs": [],
   "source": [
    "entire_matches = pd.concat([padded, not_padded])"
   ]
  },
  {
   "cell_type": "code",
   "execution_count": 172,
   "metadata": {},
   "outputs": [
    {
     "data": {
      "text/plain": [
       "3339"
      ]
     },
     "execution_count": 172,
     "metadata": {},
     "output_type": "execute_result"
    }
   ],
   "source": [
    "len(entire_matches[entire_matches[\"padded_merged_regex_sent\"].str.len() < 500])"
   ]
  },
  {
   "cell_type": "code",
   "execution_count": 204,
   "metadata": {},
   "outputs": [
    {
     "name": "stdout",
     "output_type": "stream",
     "text": [
      "Finished  100000  sequences 100000\n",
      "Finished  200000  sequences 200000\n"
     ]
    }
   ],
   "source": [
    "sequences = []\n",
    "counter = 0\n",
    "\n",
    "for index, row in dataset.iterrows():\n",
    "    match = entire_matches[entire_matches[\"NoteID\"] == row[\"NoteID\"]]\n",
    "    \n",
    "    if (len(match) > 1):\n",
    "        match = match[match[\"NoteTXT\"] == str(row[\"NoteTXT\"])]\n",
    "        if (len(match) > 1):\n",
    "            print(\"Issue\")\n",
    "            break\n",
    "        sequences.append(match[\"padded_merged_regex_sent\"].values[0])\n",
    "    else:\n",
    "        sequences.append(match[\"padded_merged_regex_sent\"].values[0])\n",
    "        \n",
    "    if (len(sequences) == counter):\n",
    "        print(\"Issue\")\n",
    "        break\n",
    "        \n",
    "    counter += 1\n",
    "    if (counter % 100000 == 0):\n",
    "        print(\"Finished \", counter, \" sequences\", len(sequences))"
   ]
  },
  {
   "cell_type": "code",
   "execution_count": 207,
   "metadata": {},
   "outputs": [
    {
     "data": {
      "text/plain": [
       "279224"
      ]
     },
     "execution_count": 207,
     "metadata": {},
     "output_type": "execute_result"
    }
   ],
   "source": [
    "len(sequences)"
   ]
  },
  {
   "cell_type": "code",
   "execution_count": null,
   "metadata": {},
   "outputs": [],
   "source": [
    "# dataset[\"regex_sent\"] = sequences"
   ]
  },
  {
   "cell_type": "code",
   "execution_count": 208,
   "metadata": {},
   "outputs": [],
   "source": [
    "from sqlite3 import connect\n",
    "conn = connect(r\"C:\\Users\\MIND_DS\\Dropbox (Partners HealthCare)\\NLP\\Tanish\\APOE-SLAT\\nlp_annotator-dev\\app\\db.sqlite3\")\n",
    "gui_sentence = pd.read_sql(\"SELECT * FROM gui_sentence\", conn)"
   ]
  },
  {
   "cell_type": "code",
   "execution_count": 223,
   "metadata": {},
   "outputs": [],
   "source": [
    "new = pd.DataFrame()\n",
    "new[\"id\"] = gui_sentence[\"id\"]\n",
    "new[\"Contents\"] = sequences\n",
    "new[\"Note_id\"] = gui_sentence[\"Note_id\"]"
   ]
  },
  {
   "cell_type": "code",
   "execution_count": 226,
   "metadata": {},
   "outputs": [],
   "source": [
    "new[\"Contents\"] = new[\"Contents\"].apply(json.dumps)"
   ]
  },
  {
   "cell_type": "code",
   "execution_count": 227,
   "metadata": {},
   "outputs": [
    {
     "data": {
      "text/plain": [
       "True"
      ]
     },
     "execution_count": 227,
     "metadata": {},
     "output_type": "execute_result"
    }
   ],
   "source": [
    "import json\n",
    "\n",
    "def is_json(myjson):\n",
    "    try:\n",
    "        json_object = json.loads(myjson)\n",
    "    except ValueError as e:\n",
    "        return False\n",
    "    return True\n",
    "\n",
    "is_json(new.loc[7658][\"Contents\"])"
   ]
  },
  {
   "cell_type": "code",
   "execution_count": 230,
   "metadata": {},
   "outputs": [],
   "source": [
    "new.to_csv(r\"C:\\Users\\MIND_DS\\Dropbox (Partners HealthCare)\\NLP\\Tanish\\APOE-SLAT\\nlp_annotator-dev\\app\\slat_8_16.csv\", index = False, header = False)"
   ]
  },
  {
   "cell_type": "code",
   "execution_count": 232,
   "metadata": {},
   "outputs": [],
   "source": [
    "dataset[\"regex_sent\"] = new[\"Contents\"]"
   ]
  },
  {
   "cell_type": "code",
   "execution_count": 234,
   "metadata": {},
   "outputs": [],
   "source": [
    "dataset.to_csv(r\"C:\\Users\\MIND_DS\\Dropbox (Partners HealthCare)\\NLP\\Tanish\\BigDataSets\\SLAT\\SLAT_8_17.csv\", index = False)"
   ]
  },
  {
   "cell_type": "markdown",
   "metadata": {},
   "source": [
    "## Getting Straftification of Sequences that are matched by always patterns by keyword"
   ]
  },
  {
   "cell_type": "code",
   "execution_count": 361,
   "metadata": {},
   "outputs": [],
   "source": [
    "slat = pd.read_csv(r\"C:\\Users\\MIND_DS\\Dropbox (Partners HealthCare)\\NLP\\Tanish\\BigDataSets\\SLAT\\SLAT_8_17.csv\")"
   ]
  },
  {
   "cell_type": "code",
   "execution_count": 362,
   "metadata": {},
   "outputs": [],
   "source": [
    "regex = pd.read_csv(r\"C:\\Users\\MIND_DS\\Dropbox (Partners HealthCare)\\NLP\\Tanish\\APOE-SLAT\\EDA\\Getting_Data\\keywords.csv\")"
   ]
  },
  {
   "cell_type": "code",
   "execution_count": 363,
   "metadata": {},
   "outputs": [
    {
     "data": {
      "text/plain": [
       "18"
      ]
     },
     "execution_count": 363,
     "metadata": {},
     "output_type": "execute_result"
    }
   ],
   "source": [
    "k = regex[\"REGEX\"].to_list()\n",
    "c = regex[\"CASE\"].to_list()\n",
    "keywords = []\n",
    "\n",
    "for i in range(len(k)):\n",
    "    if (c[i] == 0):\n",
    "        keywords.append(re.compile(k[i][5:], re.IGNORECASE))\n",
    "    elif (c[i] == 1):\n",
    "        keywords.append(re.compile(k[i]))\n",
    "len(keywords)"
   ]
  },
  {
   "cell_type": "code",
   "execution_count": 365,
   "metadata": {},
   "outputs": [],
   "source": [
    "def matches(df, col):\n",
    "    l = []\n",
    "    for note in tqdm(df[col]):\n",
    "        curr = []\n",
    "        for p in (keywords):\n",
    "            m = list(set(re.findall(p, note)))\n",
    "            m = list(set(map(str.lower, m)))\n",
    "            if (m != []):\n",
    "                curr.append(\"\".join(m))\n",
    "        #print(curr)\n",
    "        #print(l)\n",
    "        l.append(str(curr))\n",
    "    \n",
    "    df[\"match\"] = l"
   ]
  },
  {
   "cell_type": "code",
   "execution_count": 366,
   "metadata": {},
   "outputs": [
    {
     "name": "stderr",
     "output_type": "stream",
     "text": [
      "100%|████████████████████████████████████████████████████████████████████████| 279224/279224 [00:49<00:00, 5673.05it/s]\n"
     ]
    }
   ],
   "source": [
    "matches(slat, \"regex_sent\")"
   ]
  },
  {
   "cell_type": "code",
   "execution_count": 368,
   "metadata": {},
   "outputs": [],
   "source": [
    "freq = {\"dementia\":0\n",
    ",\"cognition\":0\n",
    ",\"cognition\":0\n",
    ",\"memory\":0\n",
    ",\"mmse\":0\n",
    ",\"moca\":0\n",
    ",\"alzheimer\":0\n",
    ",'cognitive impairment':0\n",
    ",\"mci\":0\n",
    ",\"cerebellar\":0\n",
    ",\"neurocognitive\":0\n",
    ",\"lewy\":0\n",
    ",\"pick's\":0\n",
    ",\"corticobasal\":0\n",
    ",\"cerebral\":0\n",
    ",\"cerebrovascular\":0\n",
    ",\"amnesia\":0\n",
    ",\"ad\": 0\n",
    ",\"lbd\": 0\n",
    "}"
   ]
  },
  {
   "cell_type": "code",
   "execution_count": 369,
   "metadata": {},
   "outputs": [],
   "source": [
    "import warnings\n",
    "warnings.filterwarnings(\"ignore\")"
   ]
  },
  {
   "cell_type": "code",
   "execution_count": 370,
   "metadata": {},
   "outputs": [],
   "source": [
    "slat_copy = slat.copy()"
   ]
  },
  {
   "cell_type": "code",
   "execution_count": 379,
   "metadata": {},
   "outputs": [],
   "source": [
    "ap_by_keyword = pd.DataFrame(columns = [\"keyword\", \"percentage\"])"
   ]
  },
  {
   "cell_type": "code",
   "execution_count": 380,
   "metadata": {},
   "outputs": [
    {
     "name": "stderr",
     "output_type": "stream",
     "text": [
      "100%|██████████████████████████████████████████████████████████████████████████| 51091/51091 [00:18<00:00, 2702.99it/s]\n"
     ]
    },
    {
     "name": "stdout",
     "output_type": "stream",
     "text": [
      "Percent of  dementia  with AP match:  0.16809222759390108  Count:  8588 Len Df:  1\n"
     ]
    },
    {
     "name": "stderr",
     "output_type": "stream",
     "text": [
      "100%|██████████████████████████████████████████████████████████████████████████| 87581/87581 [00:30<00:00, 2907.55it/s]\n"
     ]
    },
    {
     "name": "stdout",
     "output_type": "stream",
     "text": [
      "Percent of  cognition  with AP match:  0.11967207499343464  Count:  10481 Len Df:  2\n"
     ]
    },
    {
     "name": "stderr",
     "output_type": "stream",
     "text": [
      "100%|████████████████████████████████████████████████████████████████████████| 109472/109472 [00:37<00:00, 2913.99it/s]\n",
      "  0%|                                                                                         | 0/2154 [00:00<?, ?it/s]"
     ]
    },
    {
     "name": "stdout",
     "output_type": "stream",
     "text": [
      "Percent of  memory  with AP match:  0.27036137094416834  Count:  29597 Len Df:  3\n"
     ]
    },
    {
     "name": "stderr",
     "output_type": "stream",
     "text": [
      "100%|████████████████████████████████████████████████████████████████████████████| 2154/2154 [00:00<00:00, 2269.78it/s]\n",
      "  0%|                                                                                         | 0/9799 [00:00<?, ?it/s]"
     ]
    },
    {
     "name": "stdout",
     "output_type": "stream",
     "text": [
      "Percent of  mmse  with AP match:  0.5297121634168988  Count:  1141 Len Df:  4\n"
     ]
    },
    {
     "name": "stderr",
     "output_type": "stream",
     "text": [
      "100%|████████████████████████████████████████████████████████████████████████████| 9799/9799 [00:03<00:00, 2540.33it/s]\n",
      "  0%|                                                                                        | 0/20772 [00:00<?, ?it/s]"
     ]
    },
    {
     "name": "stdout",
     "output_type": "stream",
     "text": [
      "Percent of  moca  with AP match:  0.47637514032044087  Count:  4668 Len Df:  5\n"
     ]
    },
    {
     "name": "stderr",
     "output_type": "stream",
     "text": [
      "100%|██████████████████████████████████████████████████████████████████████████| 20772/20772 [00:07<00:00, 2843.90it/s]\n",
      "  0%|                                                                                        | 0/20468 [00:00<?, ?it/s]"
     ]
    },
    {
     "name": "stdout",
     "output_type": "stream",
     "text": [
      "Percent of  alzheimer  with AP match:  0.5875698055074138  Count:  12205 Len Df:  6\n"
     ]
    },
    {
     "name": "stderr",
     "output_type": "stream",
     "text": [
      "100%|██████████████████████████████████████████████████████████████████████████| 20468/20468 [00:07<00:00, 2759.01it/s]\n",
      "  0%|                                                                                         | 0/3933 [00:00<?, ?it/s]"
     ]
    },
    {
     "name": "stdout",
     "output_type": "stream",
     "text": [
      "Percent of  cognitive impairment  with AP match:  0.21003517686144224  Count:  4299 Len Df:  7\n"
     ]
    },
    {
     "name": "stderr",
     "output_type": "stream",
     "text": [
      "100%|████████████████████████████████████████████████████████████████████████████| 3933/3933 [00:01<00:00, 2475.97it/s]\n",
      "  0%|                                                                                        | 0/26890 [00:00<?, ?it/s]"
     ]
    },
    {
     "name": "stdout",
     "output_type": "stream",
     "text": [
      "Percent of  mci  with AP match:  0.2929061784897025  Count:  1152 Len Df:  8\n"
     ]
    },
    {
     "name": "stderr",
     "output_type": "stream",
     "text": [
      "100%|██████████████████████████████████████████████████████████████████████████| 26890/26890 [00:08<00:00, 3047.20it/s]\n",
      "  0%|                                                                                         | 0/7782 [00:00<?, ?it/s]"
     ]
    },
    {
     "name": "stdout",
     "output_type": "stream",
     "text": [
      "Percent of  cerebellar  with AP match:  0.21904053551506136  Count:  5890 Len Df:  9\n"
     ]
    },
    {
     "name": "stderr",
     "output_type": "stream",
     "text": [
      "100%|████████████████████████████████████████████████████████████████████████████| 7782/7782 [00:03<00:00, 2449.03it/s]\n",
      "  0%|                                                                                         | 0/2599 [00:00<?, ?it/s]"
     ]
    },
    {
     "name": "stdout",
     "output_type": "stream",
     "text": [
      "Percent of  neurocognitive  with AP match:  0.3652017476227191  Count:  2842 Len Df:  10\n"
     ]
    },
    {
     "name": "stderr",
     "output_type": "stream",
     "text": [
      "100%|████████████████████████████████████████████████████████████████████████████| 2599/2599 [00:00<00:00, 3239.87it/s]\n",
      "100%|██████████████████████████████████████████████████████████████████████████████████████████| 44/44 [00:00<?, ?it/s]\n"
     ]
    },
    {
     "name": "stdout",
     "output_type": "stream",
     "text": [
      "Percent of  lewy  with AP match:  0.1789149672951135  Count:  465 Len Df:  11\n",
      "Percent of  pick's  with AP match:  0.25  Count:  11 Len Df:  12\n"
     ]
    },
    {
     "name": "stderr",
     "output_type": "stream",
     "text": [
      "100%|██████████████████████████████████████████████████████████████████████████████| 150/150 [00:00<00:00, 1140.29it/s]\n"
     ]
    },
    {
     "name": "stdout",
     "output_type": "stream",
     "text": [
      "Percent of  corticobasal  with AP match:  0.43333333333333335  Count:  65 Len Df:  13\n"
     ]
    },
    {
     "name": "stderr",
     "output_type": "stream",
     "text": [
      "100%|██████████████████████████████████████████████████████████████████████████| 45937/45937 [00:16<00:00, 2827.18it/s]\n",
      "  0%|                                                                                        | 0/36437 [00:00<?, ?it/s]"
     ]
    },
    {
     "name": "stdout",
     "output_type": "stream",
     "text": [
      "Percent of  cerebral  with AP match:  0.12131832727431047  Count:  5573 Len Df:  14\n"
     ]
    },
    {
     "name": "stderr",
     "output_type": "stream",
     "text": [
      "100%|██████████████████████████████████████████████████████████████████████████| 36437/36437 [00:11<00:00, 3045.32it/s]\n",
      "  0%|                                                                                         | 0/3725 [00:00<?, ?it/s]"
     ]
    },
    {
     "name": "stdout",
     "output_type": "stream",
     "text": [
      "Percent of  cerebrovascular  with AP match:  0.09440952877569503  Count:  3440 Len Df:  15\n"
     ]
    },
    {
     "name": "stderr",
     "output_type": "stream",
     "text": [
      "100%|████████████████████████████████████████████████████████████████████████████| 3725/3725 [00:01<00:00, 2878.00it/s]\n",
      "  0%|                                                                                         | 0/2707 [00:00<?, ?it/s]"
     ]
    },
    {
     "name": "stdout",
     "output_type": "stream",
     "text": [
      "Percent of  amnesia  with AP match:  0.15892617449664428  Count:  592 Len Df:  16\n"
     ]
    },
    {
     "name": "stderr",
     "output_type": "stream",
     "text": [
      "100%|████████████████████████████████████████████████████████████████████████████| 2707/2707 [00:01<00:00, 2368.40it/s]\n",
      "  0%|                                                                                          | 0/228 [00:00<?, ?it/s]"
     ]
    },
    {
     "name": "stdout",
     "output_type": "stream",
     "text": [
      "Percent of  ad  with AP match:  0.41189508681196896  Count:  1115 Len Df:  17\n"
     ]
    },
    {
     "name": "stderr",
     "output_type": "stream",
     "text": [
      "100%|██████████████████████████████████████████████████████████████████████████████| 228/228 [00:00<00:00, 3578.10it/s]"
     ]
    },
    {
     "name": "stdout",
     "output_type": "stream",
     "text": [
      "Percent of  lbd  with AP match:  0.4166666666666667  Count:  95 Len Df:  18\n"
     ]
    },
    {
     "name": "stderr",
     "output_type": "stream",
     "text": [
      "\n"
     ]
    }
   ],
   "source": [
    "counter = 0\n",
    "for k in keywords:\n",
    "    subset = slat_copy[slat_copy[\"match\"].str.contains(list(freq.keys())[counter])]\n",
    "    subset = find_always_pattern_matches(subset, \"regex_sent\")\n",
    "    ap_match = len(subset[subset[\"always_pattern_match\"].str.len() != 0])\n",
    "    ap_by_keyword.loc[counter] = (list(freq.keys())[counter], ap_match/ len(subset))\n",
    "    print(\"Percent of \", list(freq.keys())[counter], \" with AP match: \", ((ap_match) / len(subset)), \" Count: \", ap_match, \"Len Df: \", len(ap_by_keyword))\n",
    "    counter += 1"
   ]
  },
  {
   "cell_type": "code",
   "execution_count": 382,
   "metadata": {},
   "outputs": [],
   "source": [
    "ap_by_keyword.to_csv(r\"C:\\Users\\MIND_DS\\Dropbox (Partners HealthCare)\\NLP\\Tanish\\APOE-SLAT\\Documentation\\always_pattern_rates_by_keyword.csv\", index = False)"
   ]
  },
  {
   "cell_type": "markdown",
   "metadata": {},
   "source": [
    "## Fine Tuning Always Patterns"
   ]
  },
  {
   "cell_type": "code",
   "execution_count": 398,
   "metadata": {},
   "outputs": [],
   "source": [
    "pattern1 = r\"\\bincluding\\s*but\\s*not\\s*limited\\s*to\\s*[^.]*(dementia|MCI|mild\\s*cognitive\\s*impairment|memory\\s*loss|memory\\s*issues|cognitive\\s*impairment|memory\\s*problem)\"\n",
    "\n",
    "pattern2 = r\"\\bside\\s*effects?\\s*[^.]*(dementia|MCI|mild\\s*cognitive\\s*impairment|memory\\s*loss|memory\\s*issues|cognitive\\s*impairment|memory\\s*problem)\"\n",
    "\n",
    "# pattern3 = r\"\\brisk\\s*of?\\s*[^.]*(dementia|MCI|mild\\s*cognitive\\s*impairment|memory\\s*loss|memory\\s*issues|cognitive\\s*impairment|memory\\s*problem)\"\n",
    "# pattern4 = r\"\\bconcerns?\\s*(for|regarding)\\s*[^.]*(dementia|MCI|mild\\s*cognitive\\s*impairment|memory\\s*loss|memory\\s*issues|cognitive\\s*impairment|memory\\s*problem)\"\n",
    "\n",
    "pattern5 = r\"\\bpatients\\s*with\\s*[^\\.]*(cognitive\\s*impairments?|cognitive\\s*disabilities|cognitive\\s*concerns?|dementia|Alzheimer(s|’s)?)\"\n",
    "\n",
    "pattern6 = r\"\\bpatients\\s*requiring\\s*an\\s*additional\\s*person\\s*to\\s*understand\\s*their\\s*clinical\\s*diagnosis\""
   ]
  },
  {
   "cell_type": "markdown",
   "metadata": {},
   "source": [
    "### Getting sequences that have not been annotated yet in SLAT"
   ]
  },
  {
   "cell_type": "code",
   "execution_count": 221,
   "metadata": {},
   "outputs": [],
   "source": [
    "model_matrix = pd.read_csv(r\"C:\\Users\\MIND_DS\\Dropbox (Partners HealthCare)\\NLP\\Tanish\\APOE-SLAT\\Modeling\\Storage\\Data\\model_matrix.csv\")"
   ]
  },
  {
   "cell_type": "code",
   "execution_count": 232,
   "metadata": {},
   "outputs": [
    {
     "name": "stderr",
     "output_type": "stream",
     "text": [
      " 11%|████████▏                                                                     | 1001/9527 [02:30<20:23,  6.97it/s]"
     ]
    },
    {
     "name": "stdout",
     "output_type": "stream",
     "text": [
      "Finished  1000  sequences left 278121\n"
     ]
    },
    {
     "name": "stderr",
     "output_type": "stream",
     "text": [
      " 21%|████████████████▍                                                             | 2001/9527 [05:02<18:52,  6.64it/s]"
     ]
    },
    {
     "name": "stdout",
     "output_type": "stream",
     "text": [
      "Finished  2000  sequences left 277030\n"
     ]
    },
    {
     "name": "stderr",
     "output_type": "stream",
     "text": [
      " 31%|████████████████████████▌                                                     | 3001/9527 [07:29<14:00,  7.77it/s]"
     ]
    },
    {
     "name": "stdout",
     "output_type": "stream",
     "text": [
      "Finished  3000  sequences left 275957\n"
     ]
    },
    {
     "name": "stderr",
     "output_type": "stream",
     "text": [
      " 42%|████████████████████████████████▊                                             | 4001/9527 [09:55<12:26,  7.40it/s]"
     ]
    },
    {
     "name": "stdout",
     "output_type": "stream",
     "text": [
      "Finished  4000  sequences left 274882\n"
     ]
    },
    {
     "name": "stderr",
     "output_type": "stream",
     "text": [
      " 52%|████████████████████████████████████████▉                                     | 5001/9527 [12:23<10:24,  7.25it/s]"
     ]
    },
    {
     "name": "stdout",
     "output_type": "stream",
     "text": [
      "Finished  5000  sequences left 273833\n"
     ]
    },
    {
     "name": "stderr",
     "output_type": "stream",
     "text": [
      " 63%|█████████████████████████████████████████████████▏                            | 6001/9527 [14:47<08:46,  6.70it/s]"
     ]
    },
    {
     "name": "stdout",
     "output_type": "stream",
     "text": [
      "Finished  6000  sequences left 272801\n"
     ]
    },
    {
     "name": "stderr",
     "output_type": "stream",
     "text": [
      " 73%|█████████████████████████████████████████████████████████▎                    | 7001/9527 [17:18<06:07,  6.88it/s]"
     ]
    },
    {
     "name": "stdout",
     "output_type": "stream",
     "text": [
      "Finished  7000  sequences left 271785\n"
     ]
    },
    {
     "name": "stderr",
     "output_type": "stream",
     "text": [
      " 84%|█████████████████████████████████████████████████████████████████▌            | 8001/9527 [19:47<03:54,  6.51it/s]"
     ]
    },
    {
     "name": "stdout",
     "output_type": "stream",
     "text": [
      "Finished  8000  sequences left 270777\n"
     ]
    },
    {
     "name": "stderr",
     "output_type": "stream",
     "text": [
      " 94%|█████████████████████████████████████████████████████████████████████████▋    | 9001/9527 [22:11<01:04,  8.12it/s]"
     ]
    },
    {
     "name": "stdout",
     "output_type": "stream",
     "text": [
      "Finished  9000  sequences left 269810\n"
     ]
    },
    {
     "name": "stderr",
     "output_type": "stream",
     "text": [
      "100%|██████████████████████████████████████████████████████████████████████████████| 9527/9527 [23:26<00:00,  6.77it/s]\n"
     ]
    }
   ],
   "source": [
    "not_in_slat = slat.copy()\n",
    "counter = 0\n",
    "\n",
    "for i in tqdm(range(len(model_matrix))):\n",
    "    match = not_in_slat[not_in_slat[\"regex_sent\"] == str(model_matrix.loc[i][\"original\"])]\n",
    "    not_in_slat = not_in_slat.drop(match.index)\n",
    "    counter += 1\n",
    "    if (counter % 1000 == 0):\n",
    "        print(\"Finished \", counter, \" sequences left\", len(not_in_slat)) "
   ]
  },
  {
   "cell_type": "code",
   "execution_count": 234,
   "metadata": {},
   "outputs": [],
   "source": [
    "not_in_slat.to_csv(r\"C:\\Users\\MIND_DS\\Dropbox (Partners HealthCare)\\NLP\\Tanish\\BigDataSets\\SLAT\\not_annotated_8_27.csv\", index = False)"
   ]
  },
  {
   "cell_type": "markdown",
   "metadata": {},
   "source": [
    "### Getting Matches for Potential Always Patterns"
   ]
  },
  {
   "cell_type": "code",
   "execution_count": 474,
   "metadata": {},
   "outputs": [],
   "source": [
    "def fine_tune_always_patterns(df, col, regex):\n",
    "    regex_pattern = re.compile(regex, re.IGNORECASE)\n",
    "    a = []\n",
    "\n",
    "    for seq in tqdm(df[col]):\n",
    "        match = regex_pattern.search(seq)\n",
    "        if (match is not None):\n",
    "            a.append(match.group())\n",
    "        else:\n",
    "            a.append(\"\")\n",
    "#         curr = []\n",
    "#         classes = []\n",
    "\n",
    "#         m = list(set(re.findall(regex_pattern, seq)))\n",
    "#         # in case m is a list of tuples\n",
    "#         if (len(m) >= 1 and type(m[0]) is tuple):\n",
    "#             converted_m = []\n",
    "#             for t in m:\n",
    "#                 for x in t:\n",
    "#                     if (x != \"\"):\n",
    "#                         converted_m.append(x)\n",
    "#             converted_m = list(set(map(str.lower, converted_m)))\n",
    "#             if (converted_m != []):\n",
    "#                 curr.append(\"\".join(converted_m))\n",
    "#         else:\n",
    "#             m = list(set(map(str.lower, m)))\n",
    "#             if (m != []):\n",
    "#                 curr.append(\"\".join(m))\n",
    "#         a.append(curr)\n",
    "    \n",
    "    df[\"match\"] = a\n",
    "    return (df[df[\"match\"].str.len() != 0], len(df[df[\"match\"].str.len() != 0]))"
   ]
  },
  {
   "cell_type": "markdown",
   "metadata": {},
   "source": [
    "#### Colin Patterns"
   ]
  },
  {
   "cell_type": "code",
   "execution_count": 511,
   "metadata": {},
   "outputs": [
    {
     "name": "stderr",
     "output_type": "stream",
     "text": [
      "100%|██████████████████████████████████████████████████████████████████████| 269311/269311 [00:00<00:00, 332306.48it/s]\n"
     ]
    }
   ],
   "source": [
    "pattern1_df, pattern1_count = fine_tune_always_patterns(not_in_slat, \"regex_sent\", pattern1)"
   ]
  },
  {
   "cell_type": "code",
   "execution_count": 512,
   "metadata": {},
   "outputs": [
    {
     "data": {
      "text/plain": [
       "17"
      ]
     },
     "execution_count": 512,
     "metadata": {},
     "output_type": "execute_result"
    }
   ],
   "source": [
    "(pattern1_count)"
   ]
  },
  {
   "cell_type": "code",
   "execution_count": 513,
   "metadata": {},
   "outputs": [],
   "source": [
    "pattern1_df.to_csv(r\"C:\\Users\\MIND_DS\\Dropbox (Partners HealthCare)\\NLP\\Tanish\\APOE-SLAT\\Modeling\\Storage\\Analysis\\Always Patterns\\colin_pattern1_matches.csv\", index = False)"
   ]
  },
  {
   "cell_type": "code",
   "execution_count": 514,
   "metadata": {},
   "outputs": [
    {
     "name": "stderr",
     "output_type": "stream",
     "text": [
      "100%|██████████████████████████████████████████████████████████████████████| 269311/269311 [00:01<00:00, 148415.67it/s]\n"
     ]
    }
   ],
   "source": [
    "pattern2_df, pattern2_count = fine_tune_always_patterns(not_in_slat, \"regex_sent\", pattern2)"
   ]
  },
  {
   "cell_type": "code",
   "execution_count": 515,
   "metadata": {},
   "outputs": [
    {
     "data": {
      "text/plain": [
       "399"
      ]
     },
     "execution_count": 515,
     "metadata": {},
     "output_type": "execute_result"
    }
   ],
   "source": [
    "pattern2_count"
   ]
  },
  {
   "cell_type": "code",
   "execution_count": 516,
   "metadata": {},
   "outputs": [],
   "source": [
    "pattern2_df.to_csv(r\"C:\\Users\\MIND_DS\\Dropbox (Partners HealthCare)\\NLP\\Tanish\\APOE-SLAT\\Modeling\\Storage\\Analysis\\colin_pattern2_matches.csv\", index = False)"
   ]
  },
  {
   "cell_type": "code",
   "execution_count": 517,
   "metadata": {},
   "outputs": [
    {
     "name": "stderr",
     "output_type": "stream",
     "text": [
      "100%|██████████████████████████████████████████████████████████████████████| 269311/269311 [00:00<00:00, 285033.10it/s]\n"
     ]
    }
   ],
   "source": [
    "pattern5_df, pattern5_count = fine_tune_always_patterns(not_in_slat, \"regex_sent\", pattern5)"
   ]
  },
  {
   "cell_type": "code",
   "execution_count": 518,
   "metadata": {},
   "outputs": [
    {
     "data": {
      "text/plain": [
       "259"
      ]
     },
     "execution_count": 518,
     "metadata": {},
     "output_type": "execute_result"
    }
   ],
   "source": [
    "pattern5_count"
   ]
  },
  {
   "cell_type": "code",
   "execution_count": 519,
   "metadata": {},
   "outputs": [],
   "source": [
    "pattern5_df.to_csv(r\"C:\\Users\\MIND_DS\\Dropbox (Partners HealthCare)\\NLP\\Tanish\\APOE-SLAT\\Modeling\\Storage\\Analysis\\colin_pattern5_matches.csv\", index = False)"
   ]
  },
  {
   "cell_type": "code",
   "execution_count": 520,
   "metadata": {},
   "outputs": [
    {
     "name": "stderr",
     "output_type": "stream",
     "text": [
      "100%|██████████████████████████████████████████████████████████████████████| 269311/269311 [00:00<00:00, 328272.88it/s]\n"
     ]
    }
   ],
   "source": [
    "pattern6_df, pattern6_count = fine_tune_always_patterns(not_in_slat, \"regex_sent\", pattern6)"
   ]
  },
  {
   "cell_type": "code",
   "execution_count": 521,
   "metadata": {},
   "outputs": [
    {
     "data": {
      "text/plain": [
       "12"
      ]
     },
     "execution_count": 521,
     "metadata": {},
     "output_type": "execute_result"
    }
   ],
   "source": [
    "pattern6_count"
   ]
  },
  {
   "cell_type": "code",
   "execution_count": 522,
   "metadata": {},
   "outputs": [],
   "source": [
    "pattern6_df.to_csv(r\"C:\\Users\\MIND_DS\\Dropbox (Partners HealthCare)\\NLP\\Tanish\\APOE-SLAT\\Modeling\\Storage\\Analysis\\colin_pattern6_matches.csv\", index = False)"
   ]
  },
  {
   "cell_type": "markdown",
   "metadata": {},
   "source": [
    "#### My Patterns"
   ]
  },
  {
   "cell_type": "code",
   "execution_count": 500,
   "metadata": {},
   "outputs": [],
   "source": [
    "fifty_seq_real_world = pd.read_excel(r\"C:\\Users\\MIND_DS\\Dropbox (Partners HealthCare)\\NLP\\Tanish\\APOE-SLAT\\Modeling\\Storage\\Predictions\\50_seq_real_world_sample.xlsx\")"
   ]
  },
  {
   "cell_type": "code",
   "execution_count": 501,
   "metadata": {},
   "outputs": [],
   "source": [
    "fifty_seq_real_world = fifty_seq_real_world[fifty_seq_real_world[\"regex\"].str.len() > 0]"
   ]
  },
  {
   "cell_type": "code",
   "execution_count": 502,
   "metadata": {},
   "outputs": [
    {
     "data": {
      "text/plain": [
       "12"
      ]
     },
     "execution_count": 502,
     "metadata": {},
     "output_type": "execute_result"
    }
   ],
   "source": [
    "len(fifty_seq_real_world)"
   ]
  },
  {
   "cell_type": "code",
   "execution_count": 510,
   "metadata": {},
   "outputs": [
    {
     "name": "stderr",
     "output_type": "stream",
     "text": [
      "100%|██████████████████████████████████████████████████████████████████████| 269311/269311 [00:01<00:00, 213083.17it/s]\n",
      "100%|██████████████████████████████████████████████████████████████████████| 269311/269311 [00:01<00:00, 212660.34it/s]\n",
      "100%|██████████████████████████████████████████████████████████████████████| 269311/269311 [00:00<00:00, 383241.40it/s]\n",
      "100%|██████████████████████████████████████████████████████████████████████| 269311/269311 [00:01<00:00, 182040.17it/s]\n",
      "100%|███████████████████████████████████████████████████████████████████████| 269311/269311 [00:03<00:00, 78324.98it/s]\n",
      "100%|███████████████████████████████████████████████████████████████████████| 269311/269311 [00:03<00:00, 76904.17it/s]\n",
      "100%|██████████████████████████████████████████████████████████████████████| 269311/269311 [00:01<00:00, 215059.77it/s]\n",
      "100%|██████████████████████████████████████████████████████████████████████| 269311/269311 [00:01<00:00, 165260.40it/s]\n",
      "100%|██████████████████████████████████████████████████████████████████████| 269311/269311 [00:00<00:00, 363285.34it/s]\n",
      "100%|██████████████████████████████████████████████████████████████████████| 269311/269311 [00:00<00:00, 324285.46it/s]\n",
      "100%|██████████████████████████████████████████████████████████████████████| 269311/269311 [00:01<00:00, 210400.87it/s]\n",
      "100%|██████████████████████████████████████████████████████████████████████| 269311/269311 [00:00<00:00, 331010.17it/s]\n"
     ]
    }
   ],
   "source": [
    "counts = []\n",
    "counter = 0\n",
    "for regex in fifty_seq_real_world[\"regex\"]:\n",
    "    match_df, count = fine_tune_always_patterns(not_in_slat, \"regex_sent\", regex)\n",
    "    match_df.to_csv(r\"pattern_{}_real_world.csv\".format(counter), index = False)\n",
    "    counter += 1\n",
    "    counts.append(count)"
   ]
  },
  {
   "cell_type": "code",
   "execution_count": 507,
   "metadata": {},
   "outputs": [],
   "source": [
    "fifty_seq_real_world[\"match_counts\"] = counts"
   ]
  },
  {
   "cell_type": "code",
   "execution_count": 509,
   "metadata": {},
   "outputs": [],
   "source": [
    "fifty_seq_real_world.to_excel(r\"C:\\Users\\MIND_DS\\Dropbox (Partners HealthCare)\\NLP\\Tanish\\APOE-SLAT\\Modeling\\Storage\\Analysis\\Always Patterns\\12_real_world_errors.xlsx\", index = False)"
   ]
  },
  {
   "cell_type": "code",
   "execution_count": 523,
   "metadata": {},
   "outputs": [],
   "source": [
    "family_pattern = r\"(husband|wife|son|daughter|aunt|uncle)\""
   ]
  },
  {
   "cell_type": "code",
   "execution_count": 528,
   "metadata": {},
   "outputs": [
    {
     "name": "stderr",
     "output_type": "stream",
     "text": [
      "100%|███████████████████████████████████████████████████████████████████████| 269311/269311 [00:18<00:00, 14266.35it/s]\n"
     ]
    }
   ],
   "source": [
    "family_matches, family_match_count = fine_tune_always_patterns(not_in_slat, \"regex_sent\", family_pattern)"
   ]
  },
  {
   "cell_type": "code",
   "execution_count": 530,
   "metadata": {},
   "outputs": [],
   "source": [
    "family_dementia_pattern = r\"(husband|wife|son|daughter|aunt|uncle)\\s*[^.]*dementia\""
   ]
  },
  {
   "cell_type": "code",
   "execution_count": 533,
   "metadata": {},
   "outputs": [
    {
     "name": "stderr",
     "output_type": "stream",
     "text": [
      "100%|███████████████████████████████████████████████████████████████████████| 269311/269311 [00:03<00:00, 73034.37it/s]\n"
     ]
    }
   ],
   "source": [
    "family_dementia_matches, family_dementia_match_count = fine_tune_always_patterns(not_in_slat, \"regex_sent\", family_dementia_pattern)"
   ]
  },
  {
   "cell_type": "code",
   "execution_count": 534,
   "metadata": {},
   "outputs": [
    {
     "data": {
      "text/plain": [
       "8903"
      ]
     },
     "execution_count": 534,
     "metadata": {},
     "output_type": "execute_result"
    }
   ],
   "source": [
    "family_dementia_match_count"
   ]
  },
  {
   "cell_type": "markdown",
   "metadata": {},
   "source": [
    "### Current Always Patterns in SLAT"
   ]
  },
  {
   "cell_type": "code",
   "execution_count": 536,
   "metadata": {},
   "outputs": [],
   "source": [
    "curr_ap = pd.read_csv(r\"C:\\Users\\MIND_DS\\Dropbox (Partners HealthCare)\\NLP\\Tanish\\APOE-SLAT\\EDA\\Data\\always_patterns_8_1.csv\")"
   ]
  },
  {
   "cell_type": "code",
   "execution_count": 538,
   "metadata": {},
   "outputs": [],
   "source": [
    "curr_ap = curr_ap[\"Pattern\"].to_list()"
   ]
  },
  {
   "cell_type": "code",
   "execution_count": 539,
   "metadata": {},
   "outputs": [
    {
     "name": "stderr",
     "output_type": "stream",
     "text": [
      "100%|██████████████████████████████████████████████████████████████████████| 269311/269311 [00:01<00:00, 180317.14it/s]\n",
      "100%|██████████████████████████████████████████████████████████████████████| 269311/269311 [00:00<00:00, 379379.15it/s]\n",
      "100%|██████████████████████████████████████████████████████████████████████| 269311/269311 [00:01<00:00, 247632.02it/s]\n",
      "100%|██████████████████████████████████████████████████████████████████████| 269311/269311 [00:01<00:00, 225212.95it/s]\n",
      "100%|██████████████████████████████████████████████████████████████████████| 269311/269311 [00:00<00:00, 316044.35it/s]\n",
      "100%|██████████████████████████████████████████████████████████████████████| 269311/269311 [00:00<00:00, 393241.69it/s]\n",
      "100%|██████████████████████████████████████████████████████████████████████| 269311/269311 [00:00<00:00, 389679.65it/s]\n",
      "100%|██████████████████████████████████████████████████████████████████████| 269311/269311 [00:01<00:00, 232096.09it/s]\n",
      "100%|██████████████████████████████████████████████████████████████████████| 269311/269311 [00:01<00:00, 179753.75it/s]\n",
      "100%|██████████████████████████████████████████████████████████████████████| 269311/269311 [00:00<00:00, 314244.13it/s]\n",
      "100%|██████████████████████████████████████████████████████████████████████| 269311/269311 [00:00<00:00, 392024.59it/s]\n",
      "100%|██████████████████████████████████████████████████████████████████████| 269311/269311 [00:01<00:00, 242289.79it/s]\n",
      "100%|██████████████████████████████████████████████████████████████████████| 269311/269311 [00:00<00:00, 408606.49it/s]\n",
      "100%|██████████████████████████████████████████████████████████████████████| 269311/269311 [00:00<00:00, 381693.47it/s]\n",
      "100%|██████████████████████████████████████████████████████████████████████| 269311/269311 [00:00<00:00, 361143.80it/s]\n",
      "100%|██████████████████████████████████████████████████████████████████████| 269311/269311 [00:00<00:00, 320247.05it/s]\n",
      "100%|██████████████████████████████████████████████████████████████████████| 269311/269311 [00:00<00:00, 349429.86it/s]\n",
      "100%|██████████████████████████████████████████████████████████████████████| 269311/269311 [00:00<00:00, 361380.31it/s]\n",
      "100%|██████████████████████████████████████████████████████████████████████| 269311/269311 [00:00<00:00, 372587.06it/s]\n",
      "100%|██████████████████████████████████████████████████████████████████████| 269311/269311 [00:01<00:00, 206510.36it/s]\n",
      "100%|██████████████████████████████████████████████████████████████████████| 269311/269311 [00:00<00:00, 410453.97it/s]\n",
      "100%|██████████████████████████████████████████████████████████████████████| 269311/269311 [00:00<00:00, 360108.52it/s]\n",
      "100%|██████████████████████████████████████████████████████████████████████| 269311/269311 [00:00<00:00, 392591.80it/s]\n",
      "100%|██████████████████████████████████████████████████████████████████████| 269311/269311 [00:01<00:00, 208000.98it/s]\n",
      "100%|██████████████████████████████████████████████████████████████████████| 269311/269311 [00:00<00:00, 303700.04it/s]\n",
      "100%|██████████████████████████████████████████████████████████████████████| 269311/269311 [00:00<00:00, 332306.58it/s]\n",
      "100%|██████████████████████████████████████████████████████████████████████| 269311/269311 [00:00<00:00, 343706.72it/s]\n",
      "100%|██████████████████████████████████████████████████████████████████████| 269311/269311 [00:00<00:00, 416793.40it/s]\n",
      "100%|██████████████████████████████████████████████████████████████████████| 269311/269311 [00:00<00:00, 326294.79it/s]\n",
      "100%|██████████████████████████████████████████████████████████████████████| 269311/269311 [00:00<00:00, 418086.46it/s]\n",
      "100%|██████████████████████████████████████████████████████████████████████| 269311/269311 [00:00<00:00, 344181.87it/s]\n",
      "100%|██████████████████████████████████████████████████████████████████████| 269311/269311 [00:00<00:00, 404922.64it/s]\n",
      "100%|██████████████████████████████████████████████████████████████████████| 269311/269311 [00:00<00:00, 347681.67it/s]\n",
      "100%|██████████████████████████████████████████████████████████████████████| 269311/269311 [00:00<00:00, 401927.78it/s]\n",
      "100%|██████████████████████████████████████████████████████████████████████| 269311/269311 [00:00<00:00, 441988.80it/s]\n"
     ]
    }
   ],
   "source": [
    "counts = []\n",
    "counter = 0\n",
    "for regex in curr_ap:\n",
    "    match_df, count = fine_tune_always_patterns(not_in_slat, \"regex_sent\", regex)\n",
    "    match_df.to_csv(r\"Storage/Analysis/Always Patterns/Current/curr_pattern_{}_real_world.csv\".format(counter), index = False)\n",
    "    counter += 1\n",
    "    counts.append(count)"
   ]
  },
  {
   "cell_type": "code",
   "execution_count": 540,
   "metadata": {},
   "outputs": [],
   "source": [
    "curr_ap = pd.read_csv(r\"C:\\Users\\MIND_DS\\Dropbox (Partners HealthCare)\\NLP\\Tanish\\APOE-SLAT\\EDA\\Data\\always_patterns_8_1.csv\")"
   ]
  },
  {
   "cell_type": "code",
   "execution_count": 541,
   "metadata": {},
   "outputs": [],
   "source": [
    "curr_ap[\"match_counts\"] = counts"
   ]
  },
  {
   "cell_type": "code",
   "execution_count": 543,
   "metadata": {},
   "outputs": [
    {
     "data": {
      "text/plain": [
       "51874"
      ]
     },
     "execution_count": 543,
     "metadata": {},
     "output_type": "execute_result"
    }
   ],
   "source": [
    "curr_ap[\"match_counts\"].sum()"
   ]
  },
  {
   "cell_type": "code",
   "execution_count": 546,
   "metadata": {},
   "outputs": [],
   "source": [
    "curr_ap.to_csv(r\"C:\\Users\\MIND_DS\\Dropbox (Partners HealthCare)\\NLP\\Tanish\\APOE-SLAT\\Modeling\\Storage\\Analysis\\Always Patterns\\curr_ap_matches.csv\", index = False)"
   ]
  }
 ],
 "metadata": {
  "kernelspec": {
   "display_name": "Python 3",
   "language": "python",
   "name": "python3"
  },
  "language_info": {
   "codemirror_mode": {
    "name": "ipython",
    "version": 3
   },
   "file_extension": ".py",
   "mimetype": "text/x-python",
   "name": "python",
   "nbconvert_exporter": "python",
   "pygments_lexer": "ipython3",
   "version": "3.9.4"
  }
 },
 "nbformat": 4,
 "nbformat_minor": 4
}
