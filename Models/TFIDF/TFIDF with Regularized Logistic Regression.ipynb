{
 "cells": [
  {
   "cell_type": "code",
   "execution_count": 2,
   "metadata": {},
   "outputs": [],
   "source": [
    "import pandas as pd\n",
    "import matplotlib.pyplot as plt\n",
    "import numpy as np\n",
    "import pickle\n",
    "\n",
    "from sklearn.feature_extraction.text import CountVectorizer\n",
    "from sklearn.model_selection import train_test_split\n",
    "from sklearn.feature_extraction.text import TfidfVectorizer\n",
    "from sklearn import linear_model\n",
    "from sklearn import metrics\n",
    "from sklearn.model_selection import cross_validate\n",
    "from sklearn.metrics import confusion_matrix, average_precision_score, classification_report\n",
    "from sklearn.linear_model import LogisticRegression\n",
    "from sklearn.ensemble import RandomForestClassifier\n",
    "from sklearn.svm import LinearSVC\n",
    "from sklearn.svm import SVC\n",
    "from sklearn.utils import shuffle\n",
    "from sklearn import preprocessing\n",
    "import seaborn as sns\n",
    "from sklearn.metrics import roc_auc_score, matthews_corrcoef, accuracy_score\n",
    "from sklearn.multiclass import OneVsRestClassifier\n",
    "from sklearn.model_selection import cross_val_score\n",
    "\n",
    "import time\n",
    "import math\n",
    "import random\n",
    "from tqdm import tqdm\n",
    "import regex as re\n",
    "from collections import Counter\n",
    "import warnings\n",
    "warnings.filterwarnings('ignore')"
   ]
  },
  {
   "cell_type": "markdown",
   "metadata": {},
   "source": [
    "## Load in Always Pattern, Manual Review, and Sample DF"
   ]
  },
  {
   "cell_type": "code",
   "execution_count": 3,
   "metadata": {},
   "outputs": [
    {
     "data": {
      "text/html": [
       "<div>\n",
       "<style scoped>\n",
       "    .dataframe tbody tr th:only-of-type {\n",
       "        vertical-align: middle;\n",
       "    }\n",
       "\n",
       "    .dataframe tbody tr th {\n",
       "        vertical-align: top;\n",
       "    }\n",
       "\n",
       "    .dataframe thead th {\n",
       "        text-align: right;\n",
       "    }\n",
       "</style>\n",
       "<table border=\"1\" class=\"dataframe\">\n",
       "  <thead>\n",
       "    <tr style=\"text-align: right;\">\n",
       "      <th></th>\n",
       "      <th>Unnamed: 0</th>\n",
       "      <th>patient_id</th>\n",
       "      <th>sequence</th>\n",
       "      <th>original</th>\n",
       "      <th>annotator_label</th>\n",
       "    </tr>\n",
       "  </thead>\n",
       "  <tbody>\n",
       "    <tr>\n",
       "      <th>0</th>\n",
       "      <td>0</td>\n",
       "      <td>Z15564314</td>\n",
       "      <td>s other free text-see phs viewer social histor...</td>\n",
       "      <td>s other free text-see phs viewer Social Histor...</td>\n",
       "      <td>1</td>\n",
       "    </tr>\n",
       "    <tr>\n",
       "      <th>1</th>\n",
       "      <td>1</td>\n",
       "      <td>Z10171706</td>\n",
       "      <td>------- fusion: no sleep disturbance: no socia...</td>\n",
       "      <td>------- fusion: No Sleep disturbance: No Socia...</td>\n",
       "      <td>1</td>\n",
       "    </tr>\n",
       "    <tr>\n",
       "      <th>2</th>\n",
       "      <td>2</td>\n",
       "      <td>Z8935348</td>\n",
       "      <td>ain spasm). 30 tablet 0 unknown (outside pharm...</td>\n",
       "      <td>ain/spasm). 30 tablet 0 Unknown (outside pharm...</td>\n",
       "      <td>1</td>\n",
       "    </tr>\n",
       "    <tr>\n",
       "      <th>3</th>\n",
       "      <td>3</td>\n",
       "      <td>Z12212893</td>\n",
       "      <td>------- on 112mcg dose. maria will check dose ...</td>\n",
       "      <td>-------  on 112mcg dose. Maria will check dos...</td>\n",
       "      <td>2</td>\n",
       "    </tr>\n",
       "    <tr>\n",
       "      <th>4</th>\n",
       "      <td>4</td>\n",
       "      <td>Z9598376</td>\n",
       "      <td>------- (vibramycin) 100 mg capsule take 1 cap...</td>\n",
       "      <td>------- (VIBRAMYCIN) 100 MG capsule Take 1 ca...</td>\n",
       "      <td>1</td>\n",
       "    </tr>\n",
       "  </tbody>\n",
       "</table>\n",
       "</div>"
      ],
      "text/plain": [
       "   Unnamed: 0 patient_id                                           sequence  \\\n",
       "0           0  Z15564314  s other free text-see phs viewer social histor...   \n",
       "1           1  Z10171706  ------- fusion: no sleep disturbance: no socia...   \n",
       "2           2   Z8935348  ain spasm). 30 tablet 0 unknown (outside pharm...   \n",
       "3           3  Z12212893  ------- on 112mcg dose. maria will check dose ...   \n",
       "4           4   Z9598376  ------- (vibramycin) 100 mg capsule take 1 cap...   \n",
       "\n",
       "                                            original  annotator_label  \n",
       "0  s other free text-see phs viewer Social Histor...                1  \n",
       "1  ------- fusion: No Sleep disturbance: No Socia...                1  \n",
       "2  ain/spasm). 30 tablet 0 Unknown (outside pharm...                1  \n",
       "3   -------  on 112mcg dose. Maria will check dos...                2  \n",
       "4   ------- (VIBRAMYCIN) 100 MG capsule Take 1 ca...                1  "
      ]
     },
     "execution_count": 3,
     "metadata": {},
     "output_type": "execute_result"
    }
   ],
   "source": [
    "always_patterns = pd.read_csv(\"Storage/Data/always_patterns.csv\") \n",
    "always_patterns = always_patterns[['Unnamed: 0', 'patient_id', 'sequence','original', 'label']]\n",
    "always_patterns.columns = ['Unnamed: 0', 'patient_id', 'sequence','original', 'annotator_label']\n",
    "always_patterns.head()"
   ]
  },
  {
   "cell_type": "code",
   "execution_count": 4,
   "metadata": {},
   "outputs": [
    {
     "data": {
      "text/html": [
       "<div>\n",
       "<style scoped>\n",
       "    .dataframe tbody tr th:only-of-type {\n",
       "        vertical-align: middle;\n",
       "    }\n",
       "\n",
       "    .dataframe tbody tr th {\n",
       "        vertical-align: top;\n",
       "    }\n",
       "\n",
       "    .dataframe thead th {\n",
       "        text-align: right;\n",
       "    }\n",
       "</style>\n",
       "<table border=\"1\" class=\"dataframe\">\n",
       "  <thead>\n",
       "    <tr style=\"text-align: right;\">\n",
       "      <th></th>\n",
       "      <th>Unnamed: 0</th>\n",
       "      <th>patient_id</th>\n",
       "      <th>sequence</th>\n",
       "      <th>original</th>\n",
       "      <th>annotator_label</th>\n",
       "    </tr>\n",
       "  </thead>\n",
       "  <tbody>\n",
       "    <tr>\n",
       "      <th>0</th>\n",
       "      <td>75</td>\n",
       "      <td>Z10504958</td>\n",
       "      <td>ndings: general: no apparent distress. surgica...</td>\n",
       "      <td>ndings: General: No apparent distress. Surgica...</td>\n",
       "      <td>0</td>\n",
       "    </tr>\n",
       "    <tr>\n",
       "      <th>1</th>\n",
       "      <td>77</td>\n",
       "      <td>Z6411816</td>\n",
       "      <td>edness, no syncope, no dyspnea endocrine no po...</td>\n",
       "      <td>edness, No Syncope, No Dyspnea Endocrine No Po...</td>\n",
       "      <td>2</td>\n",
       "    </tr>\n",
       "    <tr>\n",
       "      <th>2</th>\n",
       "      <td>87</td>\n",
       "      <td>Z6813204</td>\n",
       "      <td>5 reps calibrated hand gripper with silver spr...</td>\n",
       "      <td>5 reps Calibrated hand gripper with silver sp...</td>\n",
       "      <td>0</td>\n",
       "    </tr>\n",
       "    <tr>\n",
       "      <th>3</th>\n",
       "      <td>95</td>\n",
       "      <td>Z10492528</td>\n",
       "      <td>nancial management services: none healthcare p...</td>\n",
       "      <td>nancial management Services: none Healthcare p...</td>\n",
       "      <td>0</td>\n",
       "    </tr>\n",
       "    <tr>\n",
       "      <th>4</th>\n",
       "      <td>106</td>\n",
       "      <td>Z7656517</td>\n",
       "      <td>2 | 1 time: 1 | 0 time: 0) 3. “are there any r...</td>\n",
       "      <td>2 | 1 time: 1 | 0 time: 0) 3. “Are there any r...</td>\n",
       "      <td>0</td>\n",
       "    </tr>\n",
       "  </tbody>\n",
       "</table>\n",
       "</div>"
      ],
      "text/plain": [
       "   Unnamed: 0 patient_id                                           sequence  \\\n",
       "0          75  Z10504958  ndings: general: no apparent distress. surgica...   \n",
       "1          77   Z6411816  edness, no syncope, no dyspnea endocrine no po...   \n",
       "2          87   Z6813204  5 reps calibrated hand gripper with silver spr...   \n",
       "3          95  Z10492528  nancial management services: none healthcare p...   \n",
       "4         106   Z7656517  2 | 1 time: 1 | 0 time: 0) 3. “are there any r...   \n",
       "\n",
       "                                            original  annotator_label  \n",
       "0  ndings: General: No apparent distress. Surgica...                0  \n",
       "1  edness, No Syncope, No Dyspnea Endocrine No Po...                2  \n",
       "2   5 reps Calibrated hand gripper with silver sp...                0  \n",
       "3  nancial management Services: none Healthcare p...                0  \n",
       "4  2 | 1 time: 1 | 0 time: 0) 3. “Are there any r...                0  "
      ]
     },
     "execution_count": 4,
     "metadata": {},
     "output_type": "execute_result"
    }
   ],
   "source": [
    "manual_review = pd.read_csv(\"Storage/Data/manual_review.csv\")\n",
    "manual_review = manual_review[['Unnamed: 0', 'patient_id', 'sequence','original', 'label']]\n",
    "manual_review.columns = ['Unnamed: 0', 'patient_id', 'sequence','original', 'annotator_label']\n",
    "manual_review.head()"
   ]
  },
  {
   "cell_type": "code",
   "execution_count": 114,
   "metadata": {},
   "outputs": [
    {
     "data": {
      "text/html": [
       "<div>\n",
       "<style scoped>\n",
       "    .dataframe tbody tr th:only-of-type {\n",
       "        vertical-align: middle;\n",
       "    }\n",
       "\n",
       "    .dataframe tbody tr th {\n",
       "        vertical-align: top;\n",
       "    }\n",
       "\n",
       "    .dataframe thead th {\n",
       "        text-align: right;\n",
       "    }\n",
       "</style>\n",
       "<table border=\"1\" class=\"dataframe\">\n",
       "  <thead>\n",
       "    <tr style=\"text-align: right;\">\n",
       "      <th></th>\n",
       "      <th>patient_id</th>\n",
       "      <th>sequence</th>\n",
       "    </tr>\n",
       "  </thead>\n",
       "  <tbody>\n",
       "    <tr>\n",
       "      <th>0</th>\n",
       "      <td>Z6352398</td>\n",
       "      <td>\"\\\"ession alone in the meta-analysis. We discu...</td>\n",
       "    </tr>\n",
       "    <tr>\n",
       "      <th>1</th>\n",
       "      <td>Z6353136</td>\n",
       "      <td>\"\\\" ------- l obstruction ASSOCIATED DIAGNOSES...</td>\n",
       "    </tr>\n",
       "    <tr>\n",
       "      <th>2</th>\n",
       "      <td>Z6353461</td>\n",
       "      <td>\"\\\" -------  (156 lb) 09/19/17 71.4 kg (157 lb...</td>\n",
       "    </tr>\n",
       "    <tr>\n",
       "      <th>3</th>\n",
       "      <td>Z6353764</td>\n",
       "      <td>\"\\\"ut answer. Optho notes from recent outpatie...</td>\n",
       "    </tr>\n",
       "    <tr>\n",
       "      <th>4</th>\n",
       "      <td>Z6354111</td>\n",
       "      <td>\"\\\"hat would be more consistent. Has been aler...</td>\n",
       "    </tr>\n",
       "  </tbody>\n",
       "</table>\n",
       "</div>"
      ],
      "text/plain": [
       "  patient_id                                           sequence\n",
       "0   Z6352398  \"\\\"ession alone in the meta-analysis. We discu...\n",
       "1   Z6353136  \"\\\" ------- l obstruction ASSOCIATED DIAGNOSES...\n",
       "2   Z6353461  \"\\\" -------  (156 lb) 09/19/17 71.4 kg (157 lb...\n",
       "3   Z6353764  \"\\\"ut answer. Optho notes from recent outpatie...\n",
       "4   Z6354111  \"\\\"hat would be more consistent. Has been aler..."
      ]
     },
     "execution_count": 114,
     "metadata": {},
     "output_type": "execute_result"
    }
   ],
   "source": [
    "sample = pd.read_csv(r\"C:\\Users\\MIND_DS\\Dropbox (Partners HealthCare)\\NLP\\Tanish\\BigDataSets\\Sampling\\sample_8_12.csv\") \n",
    "        # pd.read_csv(\"Storage/Data/20K_sample.csv\")\n",
    "sample = sample[[\"PatientID\", \"regex_sent\"]]\n",
    "sample.columns = ['patient_id', 'sequence']\n",
    "sample.head()"
   ]
  },
  {
   "cell_type": "code",
   "execution_count": 113,
   "metadata": {},
   "outputs": [],
   "source": [
    "# real_world_sample = pd.read_csv(r\"C:\\Users\\MIND_DS\\Dropbox (Partners HealthCare)\\NLP\\Tanish\\APOE-SLAT\\Modeling\\Storage\\Analysis\\real_world_sample.csv\")\n",
    "# real_world_sample.head()"
   ]
  },
  {
   "cell_type": "markdown",
   "metadata": {},
   "source": [
    "## Preprocessing for Sample DF"
   ]
  },
  {
   "cell_type": "code",
   "execution_count": 115,
   "metadata": {},
   "outputs": [],
   "source": [
    "def clean_sequence(seq):\n",
    "    #getting rid of special characters\n",
    "    specials = '/' #etc\n",
    "    seq_no_special_chars = seq.translate(str.maketrans(specials, ' '*len(specials)))\n",
    "    \n",
    "    #having only 1 space between words\n",
    "    n = 1\n",
    "    seq_no_spaces = (' '*n).join(seq_no_special_chars.split())\n",
    "    \n",
    "    return seq_no_spaces.lower()"
   ]
  },
  {
   "cell_type": "code",
   "execution_count": 116,
   "metadata": {},
   "outputs": [
    {
     "name": "stderr",
     "output_type": "stream",
     "text": [
      "100%|████████████████████████████████████████████████████████████████████████| 186730/186730 [01:01<00:00, 3020.19it/s]\n"
     ]
    }
   ],
   "source": [
    "for i in tqdm(range(len(sample))):\n",
    "    sample.loc[i, \"sequence\"] = clean_sequence(sample.loc[i][\"sequence\"][3:len(sample.loc[i][\"sequence\"]) - 3])"
   ]
  },
  {
   "cell_type": "markdown",
   "metadata": {},
   "source": [
    "## Splitting into Train, Validation, Split"
   ]
  },
  {
   "cell_type": "markdown",
   "metadata": {},
   "source": [
    "This code only needs to be run once as train_test_split does a different split every time. After first run, use saved CSVs."
   ]
  },
  {
   "cell_type": "code",
   "execution_count": null,
   "metadata": {},
   "outputs": [],
   "source": [
    "X = always_patterns[[\"patient_id\", \"sequence\"]]\n",
    "y = always_patterns[\"annotator_label\"]\n",
    "\n",
    "y_label = y.to_numpy()\n",
    "X_train, X_test_valid, y_train, y_test_valid = train_test_split(X,y,random_state=0,test_size=0.10, stratify=y_label)\n",
    "\n",
    "y_test_valid_label = y_test_valid.to_numpy()\n",
    "X_valid, X_test, y_valid, y_test = train_test_split(X_test_valid, y_test_valid, random_state=0, test_size=(0.25), stratify=y_test_valid_label)"
   ]
  },
  {
   "cell_type": "code",
   "execution_count": null,
   "metadata": {},
   "outputs": [],
   "source": [
    "X_2 = manual_review[[\"patient_id\", \"sequence\"]]\n",
    "y_2 = manual_review[\"annotator_label\"]\n",
    "\n",
    "y_label_2 = y_2.to_numpy()\n",
    "X_train_2, X_test_valid_2, y_train_2, y_test_valid_2 = train_test_split(X_2,y_2,random_state=0,test_size=0.3, stratify=y_label_2)\n",
    "\n",
    "y_test_valid_label_2 = y_test_valid_2.to_numpy()\n",
    "X_valid_2, X_test_2, y_valid_2, y_test_2 = train_test_split(X_test_valid_2, y_test_valid_2, random_state=0, test_size=(0.15/0.3), stratify=y_test_valid_label_2)"
   ]
  },
  {
   "cell_type": "code",
   "execution_count": null,
   "metadata": {},
   "outputs": [],
   "source": [
    "X_train = X_train.append(X_train_2)\n",
    "y_train = y_train.append(y_train_2)\n",
    "\n",
    "X_test = X_test.append(X_test_2)\n",
    "y_test = y_test.append(y_test_2)\n",
    "\n",
    "X_valid = X_valid.append(X_valid_2)\n",
    "y_valid = y_valid.append(y_valid_2)"
   ]
  },
  {
   "cell_type": "code",
   "execution_count": null,
   "metadata": {},
   "outputs": [],
   "source": [
    "len(X_train), len(X_valid), len(X_test) "
   ]
  },
  {
   "cell_type": "markdown",
   "metadata": {},
   "source": [
    "### Using Saved CSVs to load in data"
   ]
  },
  {
   "cell_type": "code",
   "execution_count": 189,
   "metadata": {},
   "outputs": [],
   "source": [
    "X_train = pd.read_csv(r\"C:\\Users\\MIND_DS\\Dropbox (Partners HealthCare)\\NLP\\Tanish\\APOE-SLAT\\Modeling\\Storage\\Data\\train_8_11.csv\")\n",
    "y_train = X_train[\"annotator_label\"]\n",
    "X_train = X_train[\"sequence\"]"
   ]
  },
  {
   "cell_type": "code",
   "execution_count": 190,
   "metadata": {},
   "outputs": [],
   "source": [
    "X_valid = pd.read_csv(r\"C:\\Users\\MIND_DS\\Dropbox (Partners HealthCare)\\NLP\\Tanish\\APOE-SLAT\\Modeling\\Storage\\Data\\valid_8_11.csv\")\n",
    "y_valid = X_valid[\"annotator_label\"]\n",
    "X_valid = X_valid[\"sequence\"]"
   ]
  },
  {
   "cell_type": "code",
   "execution_count": 191,
   "metadata": {},
   "outputs": [],
   "source": [
    "X_test = pd.read_csv(r\"C:\\Users\\MIND_DS\\Dropbox (Partners HealthCare)\\NLP\\Tanish\\APOE-SLAT\\Modeling\\Storage\\Data\\test_8_11.csv\")\n",
    "y_test = X_test[\"annotator_label\"]\n",
    "X_test = X_test[\"sequence\"]"
   ]
  },
  {
   "cell_type": "code",
   "execution_count": 192,
   "metadata": {},
   "outputs": [],
   "source": [
    "X_sample = sample['sequence']"
   ]
  },
  {
   "cell_type": "code",
   "execution_count": 39,
   "metadata": {},
   "outputs": [],
   "source": [
    "X_real_world = real_world_sample[\"sequence\"]"
   ]
  },
  {
   "cell_type": "code",
   "execution_count": 10,
   "metadata": {},
   "outputs": [
    {
     "data": {
      "text/plain": [
       "(7669, 694, 293)"
      ]
     },
     "execution_count": 10,
     "metadata": {},
     "output_type": "execute_result"
    }
   ],
   "source": [
    "len(X_train), len(X_valid), len(X_test)# , len(X_sample), len(X_real_world)"
   ]
  },
  {
   "cell_type": "markdown",
   "metadata": {},
   "source": [
    "## TF-IDF"
   ]
  },
  {
   "cell_type": "code",
   "execution_count": 193,
   "metadata": {},
   "outputs": [
    {
     "data": {
      "text/html": [
       "<div>\n",
       "<style scoped>\n",
       "    .dataframe tbody tr th:only-of-type {\n",
       "        vertical-align: middle;\n",
       "    }\n",
       "\n",
       "    .dataframe tbody tr th {\n",
       "        vertical-align: top;\n",
       "    }\n",
       "\n",
       "    .dataframe thead th {\n",
       "        text-align: right;\n",
       "    }\n",
       "</style>\n",
       "<table border=\"1\" class=\"dataframe\">\n",
       "  <thead>\n",
       "    <tr style=\"text-align: right;\">\n",
       "      <th></th>\n",
       "      <th>0</th>\n",
       "      <th>00</th>\n",
       "      <th>000</th>\n",
       "      <th>0000</th>\n",
       "      <th>0001</th>\n",
       "      <th>0002</th>\n",
       "      <th>0005</th>\n",
       "      <th>0009</th>\n",
       "      <th>000u</th>\n",
       "      <th>0015</th>\n",
       "      <th>...</th>\n",
       "      <th>zurek</th>\n",
       "      <th>zydis</th>\n",
       "      <th>zyflo</th>\n",
       "      <th>zygomatic</th>\n",
       "      <th>zyl</th>\n",
       "      <th>zyloprim</th>\n",
       "      <th>zyprexa</th>\n",
       "      <th>zyrtec</th>\n",
       "      <th>zytiga</th>\n",
       "      <th>zziness</th>\n",
       "    </tr>\n",
       "  </thead>\n",
       "  <tbody>\n",
       "    <tr>\n",
       "      <th>0</th>\n",
       "      <td>0.0</td>\n",
       "      <td>0.0</td>\n",
       "      <td>0.0</td>\n",
       "      <td>0.0</td>\n",
       "      <td>0.0</td>\n",
       "      <td>0.0</td>\n",
       "      <td>0.0</td>\n",
       "      <td>0.0</td>\n",
       "      <td>0.0</td>\n",
       "      <td>0.0</td>\n",
       "      <td>...</td>\n",
       "      <td>0.0</td>\n",
       "      <td>0.0</td>\n",
       "      <td>0.0</td>\n",
       "      <td>0.0</td>\n",
       "      <td>0.0</td>\n",
       "      <td>0.0</td>\n",
       "      <td>0.0</td>\n",
       "      <td>0.0</td>\n",
       "      <td>0.0</td>\n",
       "      <td>0.0</td>\n",
       "    </tr>\n",
       "    <tr>\n",
       "      <th>1</th>\n",
       "      <td>0.0</td>\n",
       "      <td>0.0</td>\n",
       "      <td>0.0</td>\n",
       "      <td>0.0</td>\n",
       "      <td>0.0</td>\n",
       "      <td>0.0</td>\n",
       "      <td>0.0</td>\n",
       "      <td>0.0</td>\n",
       "      <td>0.0</td>\n",
       "      <td>0.0</td>\n",
       "      <td>...</td>\n",
       "      <td>0.0</td>\n",
       "      <td>0.0</td>\n",
       "      <td>0.0</td>\n",
       "      <td>0.0</td>\n",
       "      <td>0.0</td>\n",
       "      <td>0.0</td>\n",
       "      <td>0.0</td>\n",
       "      <td>0.0</td>\n",
       "      <td>0.0</td>\n",
       "      <td>0.0</td>\n",
       "    </tr>\n",
       "    <tr>\n",
       "      <th>2</th>\n",
       "      <td>0.0</td>\n",
       "      <td>0.0</td>\n",
       "      <td>0.0</td>\n",
       "      <td>0.0</td>\n",
       "      <td>0.0</td>\n",
       "      <td>0.0</td>\n",
       "      <td>0.0</td>\n",
       "      <td>0.0</td>\n",
       "      <td>0.0</td>\n",
       "      <td>0.0</td>\n",
       "      <td>...</td>\n",
       "      <td>0.0</td>\n",
       "      <td>0.0</td>\n",
       "      <td>0.0</td>\n",
       "      <td>0.0</td>\n",
       "      <td>0.0</td>\n",
       "      <td>0.0</td>\n",
       "      <td>0.0</td>\n",
       "      <td>0.0</td>\n",
       "      <td>0.0</td>\n",
       "      <td>0.0</td>\n",
       "    </tr>\n",
       "    <tr>\n",
       "      <th>3</th>\n",
       "      <td>0.0</td>\n",
       "      <td>0.0</td>\n",
       "      <td>0.0</td>\n",
       "      <td>0.0</td>\n",
       "      <td>0.0</td>\n",
       "      <td>0.0</td>\n",
       "      <td>0.0</td>\n",
       "      <td>0.0</td>\n",
       "      <td>0.0</td>\n",
       "      <td>0.0</td>\n",
       "      <td>...</td>\n",
       "      <td>0.0</td>\n",
       "      <td>0.0</td>\n",
       "      <td>0.0</td>\n",
       "      <td>0.0</td>\n",
       "      <td>0.0</td>\n",
       "      <td>0.0</td>\n",
       "      <td>0.0</td>\n",
       "      <td>0.0</td>\n",
       "      <td>0.0</td>\n",
       "      <td>0.0</td>\n",
       "    </tr>\n",
       "    <tr>\n",
       "      <th>4</th>\n",
       "      <td>0.0</td>\n",
       "      <td>0.0</td>\n",
       "      <td>0.0</td>\n",
       "      <td>0.0</td>\n",
       "      <td>0.0</td>\n",
       "      <td>0.0</td>\n",
       "      <td>0.0</td>\n",
       "      <td>0.0</td>\n",
       "      <td>0.0</td>\n",
       "      <td>0.0</td>\n",
       "      <td>...</td>\n",
       "      <td>0.0</td>\n",
       "      <td>0.0</td>\n",
       "      <td>0.0</td>\n",
       "      <td>0.0</td>\n",
       "      <td>0.0</td>\n",
       "      <td>0.0</td>\n",
       "      <td>0.0</td>\n",
       "      <td>0.0</td>\n",
       "      <td>0.0</td>\n",
       "      <td>0.0</td>\n",
       "    </tr>\n",
       "  </tbody>\n",
       "</table>\n",
       "<p>5 rows × 24098 columns</p>\n",
       "</div>"
      ],
      "text/plain": [
       "     0   00  000  0000  0001  0002  0005  0009  000u  0015  ...  zurek  zydis  \\\n",
       "0  0.0  0.0  0.0   0.0   0.0   0.0   0.0   0.0   0.0   0.0  ...    0.0    0.0   \n",
       "1  0.0  0.0  0.0   0.0   0.0   0.0   0.0   0.0   0.0   0.0  ...    0.0    0.0   \n",
       "2  0.0  0.0  0.0   0.0   0.0   0.0   0.0   0.0   0.0   0.0  ...    0.0    0.0   \n",
       "3  0.0  0.0  0.0   0.0   0.0   0.0   0.0   0.0   0.0   0.0  ...    0.0    0.0   \n",
       "4  0.0  0.0  0.0   0.0   0.0   0.0   0.0   0.0   0.0   0.0  ...    0.0    0.0   \n",
       "\n",
       "   zyflo  zygomatic  zyl  zyloprim  zyprexa  zyrtec  zytiga  zziness  \n",
       "0    0.0        0.0  0.0       0.0      0.0     0.0     0.0      0.0  \n",
       "1    0.0        0.0  0.0       0.0      0.0     0.0     0.0      0.0  \n",
       "2    0.0        0.0  0.0       0.0      0.0     0.0     0.0      0.0  \n",
       "3    0.0        0.0  0.0       0.0      0.0     0.0     0.0      0.0  \n",
       "4    0.0        0.0  0.0       0.0      0.0     0.0     0.0      0.0  \n",
       "\n",
       "[5 rows x 24098 columns]"
      ]
     },
     "execution_count": 193,
     "metadata": {},
     "output_type": "execute_result"
    }
   ],
   "source": [
    "# Initialize a TfidfVectorizer object: tfidf_vectorizer\n",
    "tfidf_vectorizer = TfidfVectorizer(stop_words=\"english\",analyzer='word', token_pattern=r'\\b[A-Za-z0-9]+\\b')\n",
    "tfidf_train= tfidf_vectorizer.fit_transform(X_train)\n",
    "tfidf_valid = tfidf_vectorizer.transform(X_valid)\n",
    "tfidf_test = tfidf_vectorizer.transform(X_test)\n",
    "tfidf_sample = tfidf_vectorizer.transform(X_sample)\n",
    "#tfidf_real_world = tfidf_vectorizer.transform(X_real_world)\n",
    "\n",
    "# Create the TfidfVectorizer DataFrame: tfidf_df\n",
    "tfidf_train = pd.DataFrame(tfidf_train.A, columns = tfidf_vectorizer.get_feature_names())\n",
    "tfidf_valid = pd.DataFrame(tfidf_valid.A, columns = tfidf_vectorizer.get_feature_names())\n",
    "tfidf_test = pd.DataFrame(tfidf_test.A, columns = tfidf_vectorizer.get_feature_names())\n",
    "tfidf_sample = pd.DataFrame(tfidf_sample.A, columns = tfidf_vectorizer.get_feature_names())\n",
    "#tfidf_real_world = pd.DataFrame(tfidf_real_world.A, columns = tfidf_vectorizer.get_feature_names())\n",
    "\n",
    "tfidf_sample.head()"
   ]
  },
  {
   "cell_type": "code",
   "execution_count": 15,
   "metadata": {},
   "outputs": [],
   "source": [
    "tfidf_train.to_csv(r\"C:\\Users\\MIND_DS\\Dropbox (Partners HealthCare)\\NLP\\Tanish\\APOE-SLAT\\Modeling\\Storage\\Data\\tfidf_train_8_12.csv\", index = False)\n",
    "tfidf_valid.to_csv(r\"C:\\Users\\MIND_DS\\Dropbox (Partners HealthCare)\\NLP\\Tanish\\APOE-SLAT\\Modeling\\Storage\\Data\\tfidf_valid_8_12.csv\", index = False)\n",
    "tfidf_test.to_csv(r\"C:\\Users\\MIND_DS\\Dropbox (Partners HealthCare)\\NLP\\Tanish\\APOE-SLAT\\Modeling\\Storage\\Data\\tfidf_test_8_12.csv\", index = False)"
   ]
  },
  {
   "cell_type": "code",
   "execution_count": 42,
   "metadata": {},
   "outputs": [],
   "source": [
    "tfidf_real_world.to_csv(r\"C:\\Users\\MIND_DS\\Dropbox (Partners HealthCare)\\NLP\\Tanish\\APOE-SLAT\\Modeling\\Storage\\Data\\tfidf_real_sample.csv\", index = False)"
   ]
  },
  {
   "cell_type": "code",
   "execution_count": 43,
   "metadata": {},
   "outputs": [],
   "source": [
    "# tfidf_sample.to_csv(r\"C:\\Users\\MIND_DS\\Dropbox (Partners HealthCare)\\NLP\\Tanish\\BigDataSets\\tfidf_sample_8_12.csv\", index = False)"
   ]
  },
  {
   "cell_type": "code",
   "execution_count": 194,
   "metadata": {},
   "outputs": [
    {
     "data": {
      "text/plain": [
       "((7669, 24098), (694, 24098), (293, 24098), (186730, 24098))"
      ]
     },
     "execution_count": 194,
     "metadata": {},
     "output_type": "execute_result"
    }
   ],
   "source": [
    "tfidf_train.shape, tfidf_valid.shape, tfidf_test.shape, tfidf_sample.shape"
   ]
  },
  {
   "cell_type": "code",
   "execution_count": 18,
   "metadata": {},
   "outputs": [],
   "source": [
    "y_train.to_csv(r\"C:\\Users\\MIND_DS\\Dropbox (Partners HealthCare)\\NLP\\Tanish\\APOE-SLAT\\Modeling\\Storage\\Data\\y_train_8_12.csv\", index = False)\n",
    "y_valid.to_csv(r\"C:\\Users\\MIND_DS\\Dropbox (Partners HealthCare)\\NLP\\Tanish\\APOE-SLAT\\Modeling\\Storage\\Data\\y_valid_8_12.csv\", index = False)\n",
    "y_test.to_csv(r\"C:\\Users\\MIND_DS\\Dropbox (Partners HealthCare)\\NLP\\Tanish\\APOE-SLAT\\Modeling\\Storage\\Data\\y_test_8_12.csv\", index = False)"
   ]
  },
  {
   "cell_type": "markdown",
   "metadata": {},
   "source": [
    "## Feature Selection"
   ]
  },
  {
   "cell_type": "markdown",
   "metadata": {},
   "source": [
    "### Identifying features with high correaltion using Pearson Correlation Coefficient"
   ]
  },
  {
   "cell_type": "code",
   "execution_count": 248,
   "metadata": {},
   "outputs": [],
   "source": [
    "def convert_to_binary(y):\n",
    "    for i in range(len(y)):\n",
    "        if (y[i] == 2):\n",
    "            # convert yes from 2 to 1\n",
    "            y[i] = 1\n",
    "        elif (y[i] == 1 or y[i] == 0):\n",
    "            # convert no/ntr from 0/1 to 0\n",
    "            y[i] = 0\n",
    "    return y\n",
    "y_train = convert_to_binary(y_train)\n",
    "y_valid = convert_to_binary(y_valid)\n",
    "y_test = convert_to_binary(y_test)"
   ]
  },
  {
   "cell_type": "code",
   "execution_count": 249,
   "metadata": {},
   "outputs": [],
   "source": [
    "tfidf_train_features_df = pd.concat([tfidf_train, y_train.reset_index(drop=True)], axis = 1)\n",
    "tfidf_test_features_df = pd.concat([tfidf_test, y_test.reset_index(drop = True)], axis = 1)\n",
    "tfidf_valid_features_df = pd.concat([tfidf_valid, y_valid.reset_index(drop = True)], axis = 1)"
   ]
  },
  {
   "cell_type": "code",
   "execution_count": 250,
   "metadata": {},
   "outputs": [],
   "source": [
    "def filter_features_by_cor(df):\n",
    "    m = len(df.columns)\n",
    "    output = df.iloc[:,m-1] \n",
    "    output_list = output.tolist()\n",
    "    corrcoef_array = []\n",
    "\n",
    "    for i in range(0,m-2):\n",
    "        input_list = df.iloc[:,i].tolist()\n",
    "        cols = [input_list, output_list]\n",
    "        corrcoef = abs(np.corrcoef(cols)) \n",
    "        corrcoef_array = np.append(corrcoef_array,corrcoef[0,1])\n",
    "\n",
    "    feature_names = list(df)\n",
    "    feature_names = feature_names[0:m-2]\n",
    "    \n",
    "    output_df = pd.DataFrame(feature_names, columns=['Features'])\n",
    "    output_df['CorrCoef'] = corrcoef_array\n",
    "    output_df = output_df.sort_values('CorrCoef')\n",
    "    output_df = output_df.reset_index()\n",
    "    output_df = output_df.drop(columns = \"index\")\n",
    "    \n",
    "    return output_df"
   ]
  },
  {
   "cell_type": "code",
   "execution_count": 251,
   "metadata": {},
   "outputs": [],
   "source": [
    "tfidf_output_df = filter_features_by_cor(tfidf_train_features_df)\n",
    "tfidf_output_df = tfidf_output_df.sort_values(by=['CorrCoef'],ascending = False)"
   ]
  },
  {
   "cell_type": "code",
   "execution_count": 252,
   "metadata": {},
   "outputs": [
    {
     "data": {
      "text/html": [
       "<div>\n",
       "<style scoped>\n",
       "    .dataframe tbody tr th:only-of-type {\n",
       "        vertical-align: middle;\n",
       "    }\n",
       "\n",
       "    .dataframe tbody tr th {\n",
       "        vertical-align: top;\n",
       "    }\n",
       "\n",
       "    .dataframe thead th {\n",
       "        text-align: right;\n",
       "    }\n",
       "</style>\n",
       "<table border=\"1\" class=\"dataframe\">\n",
       "  <thead>\n",
       "    <tr style=\"text-align: right;\">\n",
       "      <th></th>\n",
       "      <th>Features</th>\n",
       "      <th>CorrCoef</th>\n",
       "    </tr>\n",
       "  </thead>\n",
       "  <tbody>\n",
       "    <tr>\n",
       "      <th>24096</th>\n",
       "      <td>alzheimer</td>\n",
       "      <td>0.351659</td>\n",
       "    </tr>\n",
       "    <tr>\n",
       "      <th>24095</th>\n",
       "      <td>deficits</td>\n",
       "      <td>0.341431</td>\n",
       "    </tr>\n",
       "    <tr>\n",
       "      <th>24094</th>\n",
       "      <td>cognitive</td>\n",
       "      <td>0.325875</td>\n",
       "    </tr>\n",
       "    <tr>\n",
       "      <th>24093</th>\n",
       "      <td>moca</td>\n",
       "      <td>0.321266</td>\n",
       "    </tr>\n",
       "    <tr>\n",
       "      <th>24092</th>\n",
       "      <td>short</td>\n",
       "      <td>0.316328</td>\n",
       "    </tr>\n",
       "    <tr>\n",
       "      <th>24091</th>\n",
       "      <td>family</td>\n",
       "      <td>0.311330</td>\n",
       "    </tr>\n",
       "    <tr>\n",
       "      <th>24090</th>\n",
       "      <td>mother</td>\n",
       "      <td>0.294885</td>\n",
       "    </tr>\n",
       "    <tr>\n",
       "      <th>24089</th>\n",
       "      <td>history</td>\n",
       "      <td>0.294125</td>\n",
       "    </tr>\n",
       "    <tr>\n",
       "      <th>24088</th>\n",
       "      <td>father</td>\n",
       "      <td>0.286236</td>\n",
       "    </tr>\n",
       "    <tr>\n",
       "      <th>24087</th>\n",
       "      <td>memory</td>\n",
       "      <td>0.276754</td>\n",
       "    </tr>\n",
       "  </tbody>\n",
       "</table>\n",
       "</div>"
      ],
      "text/plain": [
       "        Features  CorrCoef\n",
       "24096  alzheimer  0.351659\n",
       "24095   deficits  0.341431\n",
       "24094  cognitive  0.325875\n",
       "24093       moca  0.321266\n",
       "24092      short  0.316328\n",
       "24091     family  0.311330\n",
       "24090     mother  0.294885\n",
       "24089    history  0.294125\n",
       "24088     father  0.286236\n",
       "24087     memory  0.276754"
      ]
     },
     "execution_count": 252,
     "metadata": {},
     "output_type": "execute_result"
    }
   ],
   "source": [
    "tfidf_output_df.head(10)"
   ]
  },
  {
   "cell_type": "code",
   "execution_count": 253,
   "metadata": {},
   "outputs": [],
   "source": [
    "tfidf_output_df.to_csv(r\"C:\\Users\\MIND_DS\\Dropbox (Partners HealthCare)\\NLP\\Tanish\\APOE-SLAT\\Modeling\\Storage\\Performance\\feature_correlation_binary_labels_8_12.csv\", index = False)"
   ]
  },
  {
   "cell_type": "code",
   "execution_count": 254,
   "metadata": {},
   "outputs": [
    {
     "data": {
      "text/html": [
       "<div>\n",
       "<style scoped>\n",
       "    .dataframe tbody tr th:only-of-type {\n",
       "        vertical-align: middle;\n",
       "    }\n",
       "\n",
       "    .dataframe tbody tr th {\n",
       "        vertical-align: top;\n",
       "    }\n",
       "\n",
       "    .dataframe thead th {\n",
       "        text-align: right;\n",
       "    }\n",
       "</style>\n",
       "<table border=\"1\" class=\"dataframe\">\n",
       "  <thead>\n",
       "    <tr style=\"text-align: right;\">\n",
       "      <th></th>\n",
       "      <th>0</th>\n",
       "      <th>00</th>\n",
       "      <th>000</th>\n",
       "      <th>0000</th>\n",
       "      <th>0001</th>\n",
       "      <th>0002</th>\n",
       "      <th>0005</th>\n",
       "      <th>0009</th>\n",
       "      <th>000u</th>\n",
       "      <th>0015</th>\n",
       "      <th>...</th>\n",
       "      <th>zurek</th>\n",
       "      <th>zydis</th>\n",
       "      <th>zyflo</th>\n",
       "      <th>zygomatic</th>\n",
       "      <th>zyl</th>\n",
       "      <th>zyloprim</th>\n",
       "      <th>zyprexa</th>\n",
       "      <th>zyrtec</th>\n",
       "      <th>zytiga</th>\n",
       "      <th>zziness</th>\n",
       "    </tr>\n",
       "  </thead>\n",
       "  <tbody>\n",
       "    <tr>\n",
       "      <th>0</th>\n",
       "      <td>0.000000</td>\n",
       "      <td>0.0</td>\n",
       "      <td>0.0</td>\n",
       "      <td>0.0</td>\n",
       "      <td>0.0</td>\n",
       "      <td>0.0</td>\n",
       "      <td>0.0</td>\n",
       "      <td>0.0</td>\n",
       "      <td>0.0</td>\n",
       "      <td>0.0</td>\n",
       "      <td>...</td>\n",
       "      <td>0.0</td>\n",
       "      <td>0.0</td>\n",
       "      <td>0.0</td>\n",
       "      <td>0.0</td>\n",
       "      <td>0.0</td>\n",
       "      <td>0.0</td>\n",
       "      <td>0.0</td>\n",
       "      <td>0.0</td>\n",
       "      <td>0.0</td>\n",
       "      <td>0.0</td>\n",
       "    </tr>\n",
       "    <tr>\n",
       "      <th>1</th>\n",
       "      <td>0.000000</td>\n",
       "      <td>0.0</td>\n",
       "      <td>0.0</td>\n",
       "      <td>0.0</td>\n",
       "      <td>0.0</td>\n",
       "      <td>0.0</td>\n",
       "      <td>0.0</td>\n",
       "      <td>0.0</td>\n",
       "      <td>0.0</td>\n",
       "      <td>0.0</td>\n",
       "      <td>...</td>\n",
       "      <td>0.0</td>\n",
       "      <td>0.0</td>\n",
       "      <td>0.0</td>\n",
       "      <td>0.0</td>\n",
       "      <td>0.0</td>\n",
       "      <td>0.0</td>\n",
       "      <td>0.0</td>\n",
       "      <td>0.0</td>\n",
       "      <td>0.0</td>\n",
       "      <td>0.0</td>\n",
       "    </tr>\n",
       "    <tr>\n",
       "      <th>2</th>\n",
       "      <td>0.000000</td>\n",
       "      <td>0.0</td>\n",
       "      <td>0.0</td>\n",
       "      <td>0.0</td>\n",
       "      <td>0.0</td>\n",
       "      <td>0.0</td>\n",
       "      <td>0.0</td>\n",
       "      <td>0.0</td>\n",
       "      <td>0.0</td>\n",
       "      <td>0.0</td>\n",
       "      <td>...</td>\n",
       "      <td>0.0</td>\n",
       "      <td>0.0</td>\n",
       "      <td>0.0</td>\n",
       "      <td>0.0</td>\n",
       "      <td>0.0</td>\n",
       "      <td>0.0</td>\n",
       "      <td>0.0</td>\n",
       "      <td>0.0</td>\n",
       "      <td>0.0</td>\n",
       "      <td>0.0</td>\n",
       "    </tr>\n",
       "    <tr>\n",
       "      <th>3</th>\n",
       "      <td>0.000000</td>\n",
       "      <td>0.0</td>\n",
       "      <td>0.0</td>\n",
       "      <td>0.0</td>\n",
       "      <td>0.0</td>\n",
       "      <td>0.0</td>\n",
       "      <td>0.0</td>\n",
       "      <td>0.0</td>\n",
       "      <td>0.0</td>\n",
       "      <td>0.0</td>\n",
       "      <td>...</td>\n",
       "      <td>0.0</td>\n",
       "      <td>0.0</td>\n",
       "      <td>0.0</td>\n",
       "      <td>0.0</td>\n",
       "      <td>0.0</td>\n",
       "      <td>0.0</td>\n",
       "      <td>0.0</td>\n",
       "      <td>0.0</td>\n",
       "      <td>0.0</td>\n",
       "      <td>0.0</td>\n",
       "    </tr>\n",
       "    <tr>\n",
       "      <th>4</th>\n",
       "      <td>0.000000</td>\n",
       "      <td>0.0</td>\n",
       "      <td>0.0</td>\n",
       "      <td>0.0</td>\n",
       "      <td>0.0</td>\n",
       "      <td>0.0</td>\n",
       "      <td>0.0</td>\n",
       "      <td>0.0</td>\n",
       "      <td>0.0</td>\n",
       "      <td>0.0</td>\n",
       "      <td>...</td>\n",
       "      <td>0.0</td>\n",
       "      <td>0.0</td>\n",
       "      <td>0.0</td>\n",
       "      <td>0.0</td>\n",
       "      <td>0.0</td>\n",
       "      <td>0.0</td>\n",
       "      <td>0.0</td>\n",
       "      <td>0.0</td>\n",
       "      <td>0.0</td>\n",
       "      <td>0.0</td>\n",
       "    </tr>\n",
       "    <tr>\n",
       "      <th>...</th>\n",
       "      <td>...</td>\n",
       "      <td>...</td>\n",
       "      <td>...</td>\n",
       "      <td>...</td>\n",
       "      <td>...</td>\n",
       "      <td>...</td>\n",
       "      <td>...</td>\n",
       "      <td>...</td>\n",
       "      <td>...</td>\n",
       "      <td>...</td>\n",
       "      <td>...</td>\n",
       "      <td>...</td>\n",
       "      <td>...</td>\n",
       "      <td>...</td>\n",
       "      <td>...</td>\n",
       "      <td>...</td>\n",
       "      <td>...</td>\n",
       "      <td>...</td>\n",
       "      <td>...</td>\n",
       "      <td>...</td>\n",
       "      <td>...</td>\n",
       "    </tr>\n",
       "    <tr>\n",
       "      <th>689</th>\n",
       "      <td>0.119656</td>\n",
       "      <td>0.0</td>\n",
       "      <td>0.0</td>\n",
       "      <td>0.0</td>\n",
       "      <td>0.0</td>\n",
       "      <td>0.0</td>\n",
       "      <td>0.0</td>\n",
       "      <td>0.0</td>\n",
       "      <td>0.0</td>\n",
       "      <td>0.0</td>\n",
       "      <td>...</td>\n",
       "      <td>0.0</td>\n",
       "      <td>0.0</td>\n",
       "      <td>0.0</td>\n",
       "      <td>0.0</td>\n",
       "      <td>0.0</td>\n",
       "      <td>0.0</td>\n",
       "      <td>0.0</td>\n",
       "      <td>0.0</td>\n",
       "      <td>0.0</td>\n",
       "      <td>0.0</td>\n",
       "    </tr>\n",
       "    <tr>\n",
       "      <th>690</th>\n",
       "      <td>0.000000</td>\n",
       "      <td>0.0</td>\n",
       "      <td>0.0</td>\n",
       "      <td>0.0</td>\n",
       "      <td>0.0</td>\n",
       "      <td>0.0</td>\n",
       "      <td>0.0</td>\n",
       "      <td>0.0</td>\n",
       "      <td>0.0</td>\n",
       "      <td>0.0</td>\n",
       "      <td>...</td>\n",
       "      <td>0.0</td>\n",
       "      <td>0.0</td>\n",
       "      <td>0.0</td>\n",
       "      <td>0.0</td>\n",
       "      <td>0.0</td>\n",
       "      <td>0.0</td>\n",
       "      <td>0.0</td>\n",
       "      <td>0.0</td>\n",
       "      <td>0.0</td>\n",
       "      <td>0.0</td>\n",
       "    </tr>\n",
       "    <tr>\n",
       "      <th>691</th>\n",
       "      <td>0.000000</td>\n",
       "      <td>0.0</td>\n",
       "      <td>0.0</td>\n",
       "      <td>0.0</td>\n",
       "      <td>0.0</td>\n",
       "      <td>0.0</td>\n",
       "      <td>0.0</td>\n",
       "      <td>0.0</td>\n",
       "      <td>0.0</td>\n",
       "      <td>0.0</td>\n",
       "      <td>...</td>\n",
       "      <td>0.0</td>\n",
       "      <td>0.0</td>\n",
       "      <td>0.0</td>\n",
       "      <td>0.0</td>\n",
       "      <td>0.0</td>\n",
       "      <td>0.0</td>\n",
       "      <td>0.0</td>\n",
       "      <td>0.0</td>\n",
       "      <td>0.0</td>\n",
       "      <td>0.0</td>\n",
       "    </tr>\n",
       "    <tr>\n",
       "      <th>692</th>\n",
       "      <td>0.000000</td>\n",
       "      <td>0.0</td>\n",
       "      <td>0.0</td>\n",
       "      <td>0.0</td>\n",
       "      <td>0.0</td>\n",
       "      <td>0.0</td>\n",
       "      <td>0.0</td>\n",
       "      <td>0.0</td>\n",
       "      <td>0.0</td>\n",
       "      <td>0.0</td>\n",
       "      <td>...</td>\n",
       "      <td>0.0</td>\n",
       "      <td>0.0</td>\n",
       "      <td>0.0</td>\n",
       "      <td>0.0</td>\n",
       "      <td>0.0</td>\n",
       "      <td>0.0</td>\n",
       "      <td>0.0</td>\n",
       "      <td>0.0</td>\n",
       "      <td>0.0</td>\n",
       "      <td>0.0</td>\n",
       "    </tr>\n",
       "    <tr>\n",
       "      <th>693</th>\n",
       "      <td>0.000000</td>\n",
       "      <td>0.0</td>\n",
       "      <td>0.0</td>\n",
       "      <td>0.0</td>\n",
       "      <td>0.0</td>\n",
       "      <td>0.0</td>\n",
       "      <td>0.0</td>\n",
       "      <td>0.0</td>\n",
       "      <td>0.0</td>\n",
       "      <td>0.0</td>\n",
       "      <td>...</td>\n",
       "      <td>0.0</td>\n",
       "      <td>0.0</td>\n",
       "      <td>0.0</td>\n",
       "      <td>0.0</td>\n",
       "      <td>0.0</td>\n",
       "      <td>0.0</td>\n",
       "      <td>0.0</td>\n",
       "      <td>0.0</td>\n",
       "      <td>0.0</td>\n",
       "      <td>0.0</td>\n",
       "    </tr>\n",
       "  </tbody>\n",
       "</table>\n",
       "<p>694 rows × 24098 columns</p>\n",
       "</div>"
      ],
      "text/plain": [
       "            0   00  000  0000  0001  0002  0005  0009  000u  0015  ...  zurek  \\\n",
       "0    0.000000  0.0  0.0   0.0   0.0   0.0   0.0   0.0   0.0   0.0  ...    0.0   \n",
       "1    0.000000  0.0  0.0   0.0   0.0   0.0   0.0   0.0   0.0   0.0  ...    0.0   \n",
       "2    0.000000  0.0  0.0   0.0   0.0   0.0   0.0   0.0   0.0   0.0  ...    0.0   \n",
       "3    0.000000  0.0  0.0   0.0   0.0   0.0   0.0   0.0   0.0   0.0  ...    0.0   \n",
       "4    0.000000  0.0  0.0   0.0   0.0   0.0   0.0   0.0   0.0   0.0  ...    0.0   \n",
       "..        ...  ...  ...   ...   ...   ...   ...   ...   ...   ...  ...    ...   \n",
       "689  0.119656  0.0  0.0   0.0   0.0   0.0   0.0   0.0   0.0   0.0  ...    0.0   \n",
       "690  0.000000  0.0  0.0   0.0   0.0   0.0   0.0   0.0   0.0   0.0  ...    0.0   \n",
       "691  0.000000  0.0  0.0   0.0   0.0   0.0   0.0   0.0   0.0   0.0  ...    0.0   \n",
       "692  0.000000  0.0  0.0   0.0   0.0   0.0   0.0   0.0   0.0   0.0  ...    0.0   \n",
       "693  0.000000  0.0  0.0   0.0   0.0   0.0   0.0   0.0   0.0   0.0  ...    0.0   \n",
       "\n",
       "     zydis  zyflo  zygomatic  zyl  zyloprim  zyprexa  zyrtec  zytiga  zziness  \n",
       "0      0.0    0.0        0.0  0.0       0.0      0.0     0.0     0.0      0.0  \n",
       "1      0.0    0.0        0.0  0.0       0.0      0.0     0.0     0.0      0.0  \n",
       "2      0.0    0.0        0.0  0.0       0.0      0.0     0.0     0.0      0.0  \n",
       "3      0.0    0.0        0.0  0.0       0.0      0.0     0.0     0.0      0.0  \n",
       "4      0.0    0.0        0.0  0.0       0.0      0.0     0.0     0.0      0.0  \n",
       "..     ...    ...        ...  ...       ...      ...     ...     ...      ...  \n",
       "689    0.0    0.0        0.0  0.0       0.0      0.0     0.0     0.0      0.0  \n",
       "690    0.0    0.0        0.0  0.0       0.0      0.0     0.0     0.0      0.0  \n",
       "691    0.0    0.0        0.0  0.0       0.0      0.0     0.0     0.0      0.0  \n",
       "692    0.0    0.0        0.0  0.0       0.0      0.0     0.0     0.0      0.0  \n",
       "693    0.0    0.0        0.0  0.0       0.0      0.0     0.0     0.0      0.0  \n",
       "\n",
       "[694 rows x 24098 columns]"
      ]
     },
     "execution_count": 254,
     "metadata": {},
     "output_type": "execute_result"
    }
   ],
   "source": [
    "tfidf_train_features_df.drop(columns = 'annotator_label')\n",
    "tfidf_test_features_df.drop(columns = 'annotator_label')\n",
    "tfidf_valid_features_df.drop(columns = 'annotator_label')"
   ]
  },
  {
   "cell_type": "markdown",
   "metadata": {},
   "source": [
    "## Regularized Logistic Regression"
   ]
  },
  {
   "cell_type": "code",
   "execution_count": 19,
   "metadata": {},
   "outputs": [],
   "source": [
    "def filter_by_corr(corr, tfidf_output_df):\n",
    "    # Setting Correlation threshold\n",
    "    top_tfidf_features_df = tfidf_output_df[tfidf_output_df['CorrCoef'] > corr]\n",
    "    filtered_tfidf_train = tfidf_train_features_df.filter(items=top_tfidf_features_df['Features'])\n",
    "    filtered_tfidf_test = tfidf_test_features_df.filter(items=top_tfidf_features_df['Features'])\n",
    "    filtered_tfidf_valid = tfidf_valid_features_df.filter(items=top_tfidf_features_df['Features'])\n",
    "    \n",
    "    return top_tfidf_features_df, filtered_tfidf_train, filtered_tfidf_test, filtered_tfidf_valid"
   ]
  },
  {
   "cell_type": "code",
   "execution_count": 107,
   "metadata": {},
   "outputs": [],
   "source": [
    "def logisitic_regression(X_train, y_train, X_test, y_test, c, want_report, want_conf_mat, save_model, name):\n",
    "    # fitting model\n",
    "    lr = LogisticRegression(penalty = 'l1', solver = 'liblinear', C = c, random_state = 0, class_weight = 'balanced')\n",
    "    lr.fit(X_train, y_train)\n",
    "    \n",
    "    # predictions\n",
    "    y_pred = lr.predict(X_test)\n",
    "    y_prob = lr.predict_proba(X_test)\n",
    "\n",
    "    # collecting results\n",
    "    acc = metrics.accuracy_score(y_test, y_pred)\n",
    "    auc = roc_auc_score(y_test, y_prob, multi_class = 'ovr', average = 'weighted')\n",
    "    # print(\"ACC: \", acc, \"AUC: \", auc)\n",
    "    \n",
    "    if (save_model == True):\n",
    "        pickle.dump(lr, open(\"Storage/Model/\" + name, 'wb'))\n",
    "    \n",
    "    if (want_report == True):\n",
    "        target_names = ['Negative', 'Neither', 'Positive']\n",
    "        results_lgr = classification_report(y_test, y_pred, target_names = target_names, output_dict=True)\n",
    "        results_lgr = pd.DataFrame(results_lgr).transpose()\n",
    "        print(\"Micro F1: \", metrics.f1_score(y_test, y_pred, average = \"micro\"))\n",
    "        print(\"Macro F1: \", metrics.f1_score(y_test, y_pred, average = \"macro\"))\n",
    "        print(\"Weighted F1: \", metrics.f1_score(y_test, y_pred, average = \"weighted\"))\n",
    "        \n",
    "        if (want_conf_mat == True):\n",
    "            return lr, acc, auc, c, results_lgr, confusion_matrix(y_test, y_pred)\n",
    "    \n",
    "        return lr, acc, auc, c, results_lgr\n",
    "    \n",
    "    if (want_conf_mat == True):\n",
    "        return lr, acc, auc, c, confusion_matrix(y_test, y_pred)\n",
    "        \n",
    "    return lr, acc, auc, c"
   ]
  },
  {
   "cell_type": "code",
   "execution_count": 35,
   "metadata": {},
   "outputs": [],
   "source": [
    "def cross_validation_split(dataset, n_folds):\n",
    "    # ensuring straftification across label\n",
    "    yes = cross_validation[cross_validation[\"annotator_label\"] == 1].reset_index(drop = True)\n",
    "    no = cross_validation[cross_validation[\"annotator_label\"] == 0].reset_index(drop = True)\n",
    "    #ntr = cross_validation[cross_validation[\"annotator_label\"] == 1].reset_index(drop = True)\n",
    "    #print(len(yes), len(no), len(ntr))\n",
    "    \n",
    "    yes_count = len(yes) // n_folds\n",
    "    no_count = len(no) // n_folds\n",
    "    #ntr_count = len(ntr) // n_folds\n",
    "    #print(yes_count, no_count, ntr_count)\n",
    "    split = list()\n",
    "    fold_size = len(cross_validation) // n_folds\n",
    "\n",
    "    # shuffling data to avoid having to generate random nums through while loop\n",
    "    yes = yes.sample(frac=1).reset_index(drop=True)\n",
    "    no = no.sample(frac=1).reset_index(drop=True)\n",
    "    #ntr = ntr.sample(frac=1).reset_index(drop=True)\n",
    "    \n",
    "    # creating folds\n",
    "    for i in tqdm(range(n_folds)):\n",
    "        fold = pd.DataFrame(columns = cross_validation.columns)\n",
    "\n",
    "        fold = fold.append(yes[yes_count * i : (yes_count * i) + yes_count])\n",
    "        #print(len(fold), \"YES\", )\n",
    "        fold = fold.append(no[no_count * i : (no_count * i) + no_count])\n",
    "        #print(len(fold), \"NO\", )\n",
    "        #fold = fold.append(ntr[ntr_count * i : (ntr_count * i) + ntr_count])\n",
    "        #print(len(fold), \"NTR\", ((ntr_count * i) + ntr_count) - (ntr_count * i))\n",
    "        split.append(fold)\n",
    "        \n",
    "    return split"
   ]
  },
  {
   "cell_type": "code",
   "execution_count": 36,
   "metadata": {},
   "outputs": [],
   "source": [
    "def evaluate_algorithm(dataset, n_folds):\n",
    "    splits = cross_validation_split(dataset, n_folds)\n",
    "    \n",
    "    counter = 0\n",
    "    tfidf_all_df = pd.DataFrame()\n",
    "    df_list  = []\n",
    "    \n",
    "    for fold in splits:\n",
    "        train = splits.copy()\n",
    "        del train[counter]\n",
    "        train = pd.concat(train)\n",
    "        \n",
    "        y_train = train[\"annotator_label\"].reset_index(drop = True)\n",
    "        y_train = y_train.astype(int)\n",
    "        \n",
    "        y_test = fold[\"annotator_label\"].reset_index(drop = True)\n",
    "        y_test = y_test.astype(int)\n",
    "\n",
    "        train = train.drop(columns = [\"annotator_label\"])\n",
    "        fold = fold.drop(columns = [\"annotator_label\"])\n",
    "        \n",
    "        test = list()\n",
    "        corr_list = list(np.arange(1,30) * 0.01)\n",
    "       \n",
    "        for corr in corr_list:\n",
    "            acc_list = []\n",
    "            auc_list = []\n",
    "            c_list = []\n",
    "             \n",
    "            # filtering by correlation coefficient\n",
    "            top_tfidf_features_df = tfidf_output_df[tfidf_output_df['CorrCoef'] > corr]\n",
    "            filtered_tfidf_train = train.filter(items=top_tfidf_features_df['Features'])\n",
    "            filtered_tfidf_fold = fold.filter(items=top_tfidf_features_df['Features'])\n",
    "            filtered_tfidf_test = tfidf_test_features_df.filter(items=top_tfidf_features_df['Features'])\n",
    "            \n",
    "            #print(filtered_tfidf_train.shape)\n",
    "            #print(filtered_tfidf_fold.shape)\n",
    "            \n",
    "            # tuning for optimal lambda value\n",
    "            for c in [0.01, 0.1, 1, 10, 100]:\n",
    "                #name = \"Fold-\" + str((counter + 1)) + \"-Corr-\" + str(corr) + \"-C-\" + str(c) + \".sav\"\n",
    "                lr, acc, auc, c = logisitic_regression(filtered_tfidf_train, y_train, filtered_tfidf_fold, y_test, c, False, False, False, \"\")\n",
    "                acc_list.append(acc)\n",
    "                auc_list.append(auc)\n",
    "                c_list.append(c)\n",
    "            \n",
    "            # gathering model stats\n",
    "            acc_df = pd.DataFrame(acc_list, columns=['acc'])\n",
    "            auc_df = pd.DataFrame(auc_list, columns=['auc'])\n",
    "            c_df = pd.DataFrame(c_list, columns=['c_value'])\n",
    "            \n",
    "            assert len(acc_df) == len(auc_df) == len(c_df)\n",
    "            \n",
    "            #acc_df[\"fold_number\"] = auc_df[\"fold_number\"] = c_df[\"fold_number\"] = [counter] * len(auc_df)\n",
    "            \n",
    "            iter_df = pd.concat([c_df, acc_df, auc_df], axis=1)\n",
    "            iter_df['corr_thres'] = [corr] * len(iter_df)\n",
    "            iter_df['fold_number'] = [(counter + 1)] * len(iter_df)\n",
    "            df_list.append(iter_df)\n",
    "            \n",
    "        print(\"Completed Fold #: \", counter + 1)\n",
    "        counter += 1\n",
    "        \n",
    "        print(\"Stats DF has\", len(df_list), \"records\")\n",
    "        \n",
    "        #df_list.to_csv(r\"C:\\Users\\MIND_DS\\Dropbox (Partners HealthCare)\\NLP\\Tanish\\APOE-SLAT\\Modeling\\Optimizing-data\\sample_stat_df.csv\", index = False)\n",
    "    return df_list"
   ]
  },
  {
   "cell_type": "code",
   "execution_count": 37,
   "metadata": {},
   "outputs": [
    {
     "name": "stderr",
     "output_type": "stream",
     "text": [
      "100%|██████████████████████████████████████████████████████████████████████████████████| 10/10 [00:14<00:00,  1.41s/it]\n"
     ]
    },
    {
     "name": "stdout",
     "output_type": "stream",
     "text": [
      "Completed Fold #:  1\n",
      "Stats DF has 29 records\n",
      "Completed Fold #:  2\n",
      "Stats DF has 58 records\n",
      "Completed Fold #:  3\n",
      "Stats DF has 87 records\n",
      "Completed Fold #:  4\n",
      "Stats DF has 116 records\n",
      "Completed Fold #:  5\n",
      "Stats DF has 145 records\n",
      "Completed Fold #:  6\n",
      "Stats DF has 174 records\n",
      "Completed Fold #:  7\n",
      "Stats DF has 203 records\n",
      "Completed Fold #:  8\n",
      "Stats DF has 232 records\n",
      "Completed Fold #:  9\n",
      "Stats DF has 261 records\n",
      "Completed Fold #:  10\n",
      "Stats DF has 290 records\n"
     ]
    }
   ],
   "source": [
    "cross_validation = pd.concat([tfidf_train_features_df, tfidf_valid_features_df])\n",
    "tfidf_all_df = evaluate_algorithm(cross_validation, 10)"
   ]
  },
  {
   "cell_type": "code",
   "execution_count": 38,
   "metadata": {},
   "outputs": [],
   "source": [
    "tfidf_all_df = pd.concat(tfidf_all_df)"
   ]
  },
  {
   "cell_type": "code",
   "execution_count": 39,
   "metadata": {},
   "outputs": [],
   "source": [
    "corr_list = list(np.arange(1,30) * 0.01)\n",
    "average_results_df = []\n",
    "\n",
    "for corr in corr_list:\n",
    "    for c in [0.01, 0.1, 1, 10, 100]:\n",
    "        filtered = tfidf_all_df[(tfidf_all_df[\"corr_thres\"] == corr) & (tfidf_all_df[\"c_value\"] == c)]\n",
    "        avg_auc = filtered[\"auc\"].mean()\n",
    "        avg_acc = filtered[\"acc\"].mean()\n",
    "\n",
    "        filler = np.arange(5, 9)**2\n",
    "        df = pd.DataFrame(filler.reshape(1, 4), columns = [\"c_value\", \"acc\", \"auc\", \"corr_thres\"])\n",
    "        df.loc[df.index] = [c, avg_acc, avg_auc, corr]\n",
    "        #print(df)\n",
    "        \n",
    "        average_results_df.append(df)"
   ]
  },
  {
   "cell_type": "code",
   "execution_count": 40,
   "metadata": {},
   "outputs": [],
   "source": [
    "average_results_df = pd.concat(average_results_df)"
   ]
  },
  {
   "cell_type": "code",
   "execution_count": 41,
   "metadata": {},
   "outputs": [
    {
     "data": {
      "text/html": [
       "<div>\n",
       "<style scoped>\n",
       "    .dataframe tbody tr th:only-of-type {\n",
       "        vertical-align: middle;\n",
       "    }\n",
       "\n",
       "    .dataframe tbody tr th {\n",
       "        vertical-align: top;\n",
       "    }\n",
       "\n",
       "    .dataframe thead th {\n",
       "        text-align: right;\n",
       "    }\n",
       "</style>\n",
       "<table border=\"1\" class=\"dataframe\">\n",
       "  <thead>\n",
       "    <tr style=\"text-align: right;\">\n",
       "      <th></th>\n",
       "      <th>c_value</th>\n",
       "      <th>acc</th>\n",
       "      <th>auc</th>\n",
       "      <th>corr_thres</th>\n",
       "    </tr>\n",
       "  </thead>\n",
       "  <tbody>\n",
       "    <tr>\n",
       "      <th>0</th>\n",
       "      <td>10.0</td>\n",
       "      <td>0.971616</td>\n",
       "      <td>0.994738</td>\n",
       "      <td>0.01</td>\n",
       "    </tr>\n",
       "  </tbody>\n",
       "</table>\n",
       "</div>"
      ],
      "text/plain": [
       "   c_value       acc       auc  corr_thres\n",
       "0     10.0  0.971616  0.994738        0.01"
      ]
     },
     "execution_count": 41,
     "metadata": {},
     "output_type": "execute_result"
    }
   ],
   "source": [
    "average_results_df[average_results_df['auc'] == max(average_results_df['auc'])]"
   ]
  },
  {
   "cell_type": "code",
   "execution_count": 108,
   "metadata": {
    "scrolled": true
   },
   "outputs": [
    {
     "name": "stdout",
     "output_type": "stream",
     "text": [
      "Micro F1:  0.8395904436860068\n",
      "Macro F1:  0.8139247980627292\n",
      "Weighted F1:  0.8425507347385657\n",
      "\n",
      "C:  10 \n",
      "               precision    recall  f1-score    support\n",
      "Negative       0.838384  0.798077  0.817734  104.00000\n",
      "Neither        0.925373  0.879433  0.901818  141.00000\n",
      "Positive       0.650000  0.812500  0.722222   48.00000\n",
      "accuracy       0.839590  0.839590  0.839590    0.83959\n",
      "macro avg      0.804586  0.830003  0.813925  293.00000\n",
      "weighted avg   0.849384  0.839590  0.842551  293.00000\n",
      "\n",
      "AUC:  0.9454993869092255\n",
      "ACC:  0.8395904436860068\n",
      "\n",
      "Confusion Matrix: \n",
      " [[ 83   7  14]\n",
      " [ 10 124   7]\n",
      " [  6   3  39]]\n"
     ]
    }
   ],
   "source": [
    "# Specific parameter setting performance\n",
    "corr = 0.01\n",
    "c = 10\n",
    "\n",
    "y_train_cross_valid = cross_validation[\"annotator_label\"]\n",
    "y_test_cross_valid = tfidf_test_features_df[\"annotator_label\"]\n",
    "\n",
    "cross_validation.drop(columns = [\"annotator_label\"])\n",
    "tfidf_test_features_df.drop(columns = [\"annotator_label\"])\n",
    "\n",
    "# Setting Correlation threshold\n",
    "top_tfidf_features_df = tfidf_output_df[tfidf_output_df['CorrCoef'] > corr]\n",
    "filtered_tfidf_train = cross_validation.filter(items=top_tfidf_features_df['Features'])\n",
    "filtered_tfidf_test = tfidf_test_features_df.filter(items=top_tfidf_features_df['Features'])\n",
    "\n",
    "# Running model\n",
    "lr, acc_optimized, auc_optimized, c_list, report, conf_mat = logisitic_regression(filtered_tfidf_train, y_train_cross_valid, filtered_tfidf_test, y_test_cross_valid, c, True, True, False, \"\")\n",
    "\n",
    "print(\"\\nC: \", c, \"\\n\", report)\n",
    "print(\"\\nAUC: \", auc_optimized)\n",
    "print(\"ACC: \", acc_optimized)\n",
    "print(\"\\nConfusion Matrix: \\n\", conf_mat)"
   ]
  },
  {
   "cell_type": "code",
   "execution_count": 74,
   "metadata": {},
   "outputs": [],
   "source": [
    "filtered_tfidf_test[\"label\"] = y_test_cross_valid"
   ]
  },
  {
   "cell_type": "code",
   "execution_count": 76,
   "metadata": {},
   "outputs": [],
   "source": [
    "y_test_neither = filtered_tfidf_test[filtered_tfidf_test[\"label\"] == 1]\n",
    "y_test_no = filtered_tfidf_test[filtered_tfidf_test[\"label\"] == 0]\n",
    "y_test_yes = filtered_tfidf_test[filtered_tfidf_test[\"label\"] == 2]"
   ]
  },
  {
   "cell_type": "code",
   "execution_count": 88,
   "metadata": {},
   "outputs": [],
   "source": [
    "filtered_tfidf_test = filtered_tfidf_test.drop(columns = [\"label\"])"
   ]
  },
  {
   "cell_type": "code",
   "execution_count": 83,
   "metadata": {},
   "outputs": [],
   "source": [
    "neither_yes = pd.concat([y_test_neither, y_test_yes], axis = 0)\n",
    "neither_yes = neither_yes.drop(columns = [\"label\"])"
   ]
  },
  {
   "cell_type": "code",
   "execution_count": 84,
   "metadata": {},
   "outputs": [
    {
     "data": {
      "text/html": [
       "<div>\n",
       "<style scoped>\n",
       "    .dataframe tbody tr th:only-of-type {\n",
       "        vertical-align: middle;\n",
       "    }\n",
       "\n",
       "    .dataframe tbody tr th {\n",
       "        vertical-align: top;\n",
       "    }\n",
       "\n",
       "    .dataframe thead th {\n",
       "        text-align: right;\n",
       "    }\n",
       "</style>\n",
       "<table border=\"1\" class=\"dataframe\">\n",
       "  <thead>\n",
       "    <tr style=\"text-align: right;\">\n",
       "      <th></th>\n",
       "      <th>intact</th>\n",
       "      <th>oriented</th>\n",
       "      <th>concentration</th>\n",
       "      <th>orientation</th>\n",
       "      <th>perceptions</th>\n",
       "      <th>sensorium</th>\n",
       "      <th>judgment</th>\n",
       "      <th>fund</th>\n",
       "      <th>experiences</th>\n",
       "      <th>ideation</th>\n",
       "      <th>...</th>\n",
       "      <th>frail</th>\n",
       "      <th>request</th>\n",
       "      <th>ho</th>\n",
       "      <th>1959</th>\n",
       "      <th>meat</th>\n",
       "      <th>cites</th>\n",
       "      <th>rested</th>\n",
       "      <th>betadine</th>\n",
       "      <th>actuation</th>\n",
       "      <th>sirolimus</th>\n",
       "    </tr>\n",
       "  </thead>\n",
       "  <tbody>\n",
       "    <tr>\n",
       "      <th>0</th>\n",
       "      <td>0.0</td>\n",
       "      <td>0.0</td>\n",
       "      <td>0.0</td>\n",
       "      <td>0.0</td>\n",
       "      <td>0.0</td>\n",
       "      <td>0.0</td>\n",
       "      <td>0.0</td>\n",
       "      <td>0.0</td>\n",
       "      <td>0.0</td>\n",
       "      <td>0.0</td>\n",
       "      <td>...</td>\n",
       "      <td>0.0</td>\n",
       "      <td>0.0</td>\n",
       "      <td>0.0</td>\n",
       "      <td>0.0</td>\n",
       "      <td>0.0</td>\n",
       "      <td>0.0</td>\n",
       "      <td>0.0</td>\n",
       "      <td>0.0</td>\n",
       "      <td>0.0</td>\n",
       "      <td>0.0</td>\n",
       "    </tr>\n",
       "    <tr>\n",
       "      <th>1</th>\n",
       "      <td>0.0</td>\n",
       "      <td>0.0</td>\n",
       "      <td>0.0</td>\n",
       "      <td>0.0</td>\n",
       "      <td>0.0</td>\n",
       "      <td>0.0</td>\n",
       "      <td>0.0</td>\n",
       "      <td>0.0</td>\n",
       "      <td>0.0</td>\n",
       "      <td>0.0</td>\n",
       "      <td>...</td>\n",
       "      <td>0.0</td>\n",
       "      <td>0.0</td>\n",
       "      <td>0.0</td>\n",
       "      <td>0.0</td>\n",
       "      <td>0.0</td>\n",
       "      <td>0.0</td>\n",
       "      <td>0.0</td>\n",
       "      <td>0.0</td>\n",
       "      <td>0.0</td>\n",
       "      <td>0.0</td>\n",
       "    </tr>\n",
       "    <tr>\n",
       "      <th>3</th>\n",
       "      <td>0.0</td>\n",
       "      <td>0.0</td>\n",
       "      <td>0.0</td>\n",
       "      <td>0.0</td>\n",
       "      <td>0.0</td>\n",
       "      <td>0.0</td>\n",
       "      <td>0.0</td>\n",
       "      <td>0.0</td>\n",
       "      <td>0.0</td>\n",
       "      <td>0.0</td>\n",
       "      <td>...</td>\n",
       "      <td>0.0</td>\n",
       "      <td>0.0</td>\n",
       "      <td>0.0</td>\n",
       "      <td>0.0</td>\n",
       "      <td>0.0</td>\n",
       "      <td>0.0</td>\n",
       "      <td>0.0</td>\n",
       "      <td>0.0</td>\n",
       "      <td>0.0</td>\n",
       "      <td>0.0</td>\n",
       "    </tr>\n",
       "    <tr>\n",
       "      <th>5</th>\n",
       "      <td>0.0</td>\n",
       "      <td>0.0</td>\n",
       "      <td>0.0</td>\n",
       "      <td>0.0</td>\n",
       "      <td>0.0</td>\n",
       "      <td>0.0</td>\n",
       "      <td>0.0</td>\n",
       "      <td>0.0</td>\n",
       "      <td>0.0</td>\n",
       "      <td>0.0</td>\n",
       "      <td>...</td>\n",
       "      <td>0.0</td>\n",
       "      <td>0.0</td>\n",
       "      <td>0.0</td>\n",
       "      <td>0.0</td>\n",
       "      <td>0.0</td>\n",
       "      <td>0.0</td>\n",
       "      <td>0.0</td>\n",
       "      <td>0.0</td>\n",
       "      <td>0.0</td>\n",
       "      <td>0.0</td>\n",
       "    </tr>\n",
       "    <tr>\n",
       "      <th>6</th>\n",
       "      <td>0.0</td>\n",
       "      <td>0.0</td>\n",
       "      <td>0.0</td>\n",
       "      <td>0.0</td>\n",
       "      <td>0.0</td>\n",
       "      <td>0.0</td>\n",
       "      <td>0.0</td>\n",
       "      <td>0.0</td>\n",
       "      <td>0.0</td>\n",
       "      <td>0.0</td>\n",
       "      <td>...</td>\n",
       "      <td>0.0</td>\n",
       "      <td>0.0</td>\n",
       "      <td>0.0</td>\n",
       "      <td>0.0</td>\n",
       "      <td>0.0</td>\n",
       "      <td>0.0</td>\n",
       "      <td>0.0</td>\n",
       "      <td>0.0</td>\n",
       "      <td>0.0</td>\n",
       "      <td>0.0</td>\n",
       "    </tr>\n",
       "    <tr>\n",
       "      <th>...</th>\n",
       "      <td>...</td>\n",
       "      <td>...</td>\n",
       "      <td>...</td>\n",
       "      <td>...</td>\n",
       "      <td>...</td>\n",
       "      <td>...</td>\n",
       "      <td>...</td>\n",
       "      <td>...</td>\n",
       "      <td>...</td>\n",
       "      <td>...</td>\n",
       "      <td>...</td>\n",
       "      <td>...</td>\n",
       "      <td>...</td>\n",
       "      <td>...</td>\n",
       "      <td>...</td>\n",
       "      <td>...</td>\n",
       "      <td>...</td>\n",
       "      <td>...</td>\n",
       "      <td>...</td>\n",
       "      <td>...</td>\n",
       "      <td>...</td>\n",
       "    </tr>\n",
       "    <tr>\n",
       "      <th>263</th>\n",
       "      <td>0.0</td>\n",
       "      <td>0.0</td>\n",
       "      <td>0.0</td>\n",
       "      <td>0.0</td>\n",
       "      <td>0.0</td>\n",
       "      <td>0.0</td>\n",
       "      <td>0.0</td>\n",
       "      <td>0.0</td>\n",
       "      <td>0.0</td>\n",
       "      <td>0.0</td>\n",
       "      <td>...</td>\n",
       "      <td>0.0</td>\n",
       "      <td>0.0</td>\n",
       "      <td>0.0</td>\n",
       "      <td>0.0</td>\n",
       "      <td>0.0</td>\n",
       "      <td>0.0</td>\n",
       "      <td>0.0</td>\n",
       "      <td>0.0</td>\n",
       "      <td>0.0</td>\n",
       "      <td>0.0</td>\n",
       "    </tr>\n",
       "    <tr>\n",
       "      <th>265</th>\n",
       "      <td>0.0</td>\n",
       "      <td>0.0</td>\n",
       "      <td>0.0</td>\n",
       "      <td>0.0</td>\n",
       "      <td>0.0</td>\n",
       "      <td>0.0</td>\n",
       "      <td>0.0</td>\n",
       "      <td>0.0</td>\n",
       "      <td>0.0</td>\n",
       "      <td>0.0</td>\n",
       "      <td>...</td>\n",
       "      <td>0.0</td>\n",
       "      <td>0.0</td>\n",
       "      <td>0.0</td>\n",
       "      <td>0.0</td>\n",
       "      <td>0.0</td>\n",
       "      <td>0.0</td>\n",
       "      <td>0.0</td>\n",
       "      <td>0.0</td>\n",
       "      <td>0.0</td>\n",
       "      <td>0.0</td>\n",
       "    </tr>\n",
       "    <tr>\n",
       "      <th>272</th>\n",
       "      <td>0.0</td>\n",
       "      <td>0.0</td>\n",
       "      <td>0.0</td>\n",
       "      <td>0.0</td>\n",
       "      <td>0.0</td>\n",
       "      <td>0.0</td>\n",
       "      <td>0.0</td>\n",
       "      <td>0.0</td>\n",
       "      <td>0.0</td>\n",
       "      <td>0.0</td>\n",
       "      <td>...</td>\n",
       "      <td>0.0</td>\n",
       "      <td>0.0</td>\n",
       "      <td>0.0</td>\n",
       "      <td>0.0</td>\n",
       "      <td>0.0</td>\n",
       "      <td>0.0</td>\n",
       "      <td>0.0</td>\n",
       "      <td>0.0</td>\n",
       "      <td>0.0</td>\n",
       "      <td>0.0</td>\n",
       "    </tr>\n",
       "    <tr>\n",
       "      <th>275</th>\n",
       "      <td>0.0</td>\n",
       "      <td>0.0</td>\n",
       "      <td>0.0</td>\n",
       "      <td>0.0</td>\n",
       "      <td>0.0</td>\n",
       "      <td>0.0</td>\n",
       "      <td>0.0</td>\n",
       "      <td>0.0</td>\n",
       "      <td>0.0</td>\n",
       "      <td>0.0</td>\n",
       "      <td>...</td>\n",
       "      <td>0.0</td>\n",
       "      <td>0.0</td>\n",
       "      <td>0.0</td>\n",
       "      <td>0.0</td>\n",
       "      <td>0.0</td>\n",
       "      <td>0.0</td>\n",
       "      <td>0.0</td>\n",
       "      <td>0.0</td>\n",
       "      <td>0.0</td>\n",
       "      <td>0.0</td>\n",
       "    </tr>\n",
       "    <tr>\n",
       "      <th>276</th>\n",
       "      <td>0.0</td>\n",
       "      <td>0.0</td>\n",
       "      <td>0.0</td>\n",
       "      <td>0.0</td>\n",
       "      <td>0.0</td>\n",
       "      <td>0.0</td>\n",
       "      <td>0.0</td>\n",
       "      <td>0.0</td>\n",
       "      <td>0.0</td>\n",
       "      <td>0.0</td>\n",
       "      <td>...</td>\n",
       "      <td>0.0</td>\n",
       "      <td>0.0</td>\n",
       "      <td>0.0</td>\n",
       "      <td>0.0</td>\n",
       "      <td>0.0</td>\n",
       "      <td>0.0</td>\n",
       "      <td>0.0</td>\n",
       "      <td>0.0</td>\n",
       "      <td>0.0</td>\n",
       "      <td>0.0</td>\n",
       "    </tr>\n",
       "  </tbody>\n",
       "</table>\n",
       "<p>189 rows × 13324 columns</p>\n",
       "</div>"
      ],
      "text/plain": [
       "     intact  oriented  concentration  orientation  perceptions  sensorium  \\\n",
       "0       0.0       0.0            0.0          0.0          0.0        0.0   \n",
       "1       0.0       0.0            0.0          0.0          0.0        0.0   \n",
       "3       0.0       0.0            0.0          0.0          0.0        0.0   \n",
       "5       0.0       0.0            0.0          0.0          0.0        0.0   \n",
       "6       0.0       0.0            0.0          0.0          0.0        0.0   \n",
       "..      ...       ...            ...          ...          ...        ...   \n",
       "263     0.0       0.0            0.0          0.0          0.0        0.0   \n",
       "265     0.0       0.0            0.0          0.0          0.0        0.0   \n",
       "272     0.0       0.0            0.0          0.0          0.0        0.0   \n",
       "275     0.0       0.0            0.0          0.0          0.0        0.0   \n",
       "276     0.0       0.0            0.0          0.0          0.0        0.0   \n",
       "\n",
       "     judgment  fund  experiences  ideation  ...  frail  request   ho  1959  \\\n",
       "0         0.0   0.0          0.0       0.0  ...    0.0      0.0  0.0   0.0   \n",
       "1         0.0   0.0          0.0       0.0  ...    0.0      0.0  0.0   0.0   \n",
       "3         0.0   0.0          0.0       0.0  ...    0.0      0.0  0.0   0.0   \n",
       "5         0.0   0.0          0.0       0.0  ...    0.0      0.0  0.0   0.0   \n",
       "6         0.0   0.0          0.0       0.0  ...    0.0      0.0  0.0   0.0   \n",
       "..        ...   ...          ...       ...  ...    ...      ...  ...   ...   \n",
       "263       0.0   0.0          0.0       0.0  ...    0.0      0.0  0.0   0.0   \n",
       "265       0.0   0.0          0.0       0.0  ...    0.0      0.0  0.0   0.0   \n",
       "272       0.0   0.0          0.0       0.0  ...    0.0      0.0  0.0   0.0   \n",
       "275       0.0   0.0          0.0       0.0  ...    0.0      0.0  0.0   0.0   \n",
       "276       0.0   0.0          0.0       0.0  ...    0.0      0.0  0.0   0.0   \n",
       "\n",
       "     meat  cites  rested  betadine  actuation  sirolimus  \n",
       "0     0.0    0.0     0.0       0.0        0.0        0.0  \n",
       "1     0.0    0.0     0.0       0.0        0.0        0.0  \n",
       "3     0.0    0.0     0.0       0.0        0.0        0.0  \n",
       "5     0.0    0.0     0.0       0.0        0.0        0.0  \n",
       "6     0.0    0.0     0.0       0.0        0.0        0.0  \n",
       "..    ...    ...     ...       ...        ...        ...  \n",
       "263   0.0    0.0     0.0       0.0        0.0        0.0  \n",
       "265   0.0    0.0     0.0       0.0        0.0        0.0  \n",
       "272   0.0    0.0     0.0       0.0        0.0        0.0  \n",
       "275   0.0    0.0     0.0       0.0        0.0        0.0  \n",
       "276   0.0    0.0     0.0       0.0        0.0        0.0  \n",
       "\n",
       "[189 rows x 13324 columns]"
      ]
     },
     "execution_count": 84,
     "metadata": {},
     "output_type": "execute_result"
    }
   ],
   "source": [
    "neither_yes"
   ]
  },
  {
   "cell_type": "code",
   "execution_count": 85,
   "metadata": {},
   "outputs": [],
   "source": [
    "preds = lr.predict(neither_yes)\n",
    "#precision_score()"
   ]
  },
  {
   "cell_type": "code",
   "execution_count": null,
   "metadata": {},
   "outputs": [],
   "source": [
    "\"\"\"   \n",
    "      NO   NTR YES\n",
    "NO  [[439  9  21]\n",
    "NTR [  5 457   7]\n",
    "YES [ 26  19 424]]\n",
    "\n",
    "NO - 439/469 TP, 9/469 NTR when should be NO, and 21/469 YES when should be NO\n",
    "    Precision: 439/(439+5+26)\n",
    "    Recall: 439/(439+21+9)\n",
    "    fl: (439*2)/(470+469)\n",
    "\n",
    "NTR - 457/469 TP, 5/469 NO when should be NTR, and 7/469 YES when should be NTR\n",
    "YES - 424/469 TP, 19/469 NTR when should be YES, and 26/469 are NO when should be YES\n",
    "\"\"\""
   ]
  },
  {
   "cell_type": "code",
   "execution_count": null,
   "metadata": {},
   "outputs": [],
   "source": [
    "\"\"\"   \n",
    "      NO   NTR YES\n",
    "NO  [[83  7  14]\n",
    "NTR  [10 124  7]\n",
    "YES  [6  3   39]]\n",
    "\n",
    "no\n",
    "tpr: 0.8\n",
    "\n",
    "\"\"\""
   ]
  },
  {
   "cell_type": "code",
   "execution_count": 240,
   "metadata": {},
   "outputs": [
    {
     "name": "stdout",
     "output_type": "stream",
     "text": [
      "Sensitivity:  [0.79807692 0.87943262 0.8125    ]\n",
      "Specificity:  [0.91534392 0.93421053 0.91428571]\n",
      "NPV:  [0.89175258 0.89308176 0.96137339]\n",
      "PPV:  [0.83838384 0.92537313 0.65      ]\n",
      "FPR:  [0.08465608 0.06578947 0.08571429]\n"
     ]
    }
   ],
   "source": [
    "FP = conf_mat.sum(axis = 0) - np.diag(conf_mat) \n",
    "FN = conf_mat.sum(axis = 1) - np.diag(conf_mat)\n",
    "TP = np.diag(conf_mat)\n",
    "TN = conf_mat.sum() - (FP + FN + TP)\n",
    "FP = FP.astype(float)\n",
    "FN = FN.astype(float)\n",
    "TP = TP.astype(float)\n",
    "TN = TN.astype(float)\n",
    "\n",
    "# Sensitivity, hit rate, recall, or true positive rate\n",
    "TPR = TP/(TP+FN)\n",
    "\n",
    "# Specificity or true negative rate\n",
    "TNR = TN/(TN+FP) \n",
    "\n",
    "# Precision or positive predictive value\n",
    "PPV = TP/(TP+FP)\n",
    "\n",
    "# Negative predictive value\n",
    "NPV = TN/(TN+FN)\n",
    "\n",
    "# Fall out or false positive rate\n",
    "FPR = FP/(FP+TN)\n",
    "\n",
    "# False negative rate\n",
    "FNR = FN/(TP+FN)\n",
    "\n",
    "# False discovery rate\n",
    "FDR = FP/(TP+FP)\n",
    "\n",
    "print(\"Sensitivity: \", TPR)\n",
    "print(\"Specificity: \", TNR)\n",
    "print(\"NPV: \", NPV)\n",
    "print(\"PPV: \", PPV)\n",
    "print(\"FPR: \", FPR)"
   ]
  },
  {
   "cell_type": "markdown",
   "metadata": {},
   "source": [
    "## Saving "
   ]
  },
  {
   "cell_type": "code",
   "execution_count": null,
   "metadata": {},
   "outputs": [],
   "source": [
    "X_train = X_train.reset_index(drop = True)\n",
    "y_train = y_train.reset_index(drop = True)\n",
    "train = pd.concat([X_train, y_train], axis = 1)"
   ]
  },
  {
   "cell_type": "code",
   "execution_count": null,
   "metadata": {},
   "outputs": [],
   "source": [
    "X_valid = X_valid.reset_index(drop = True)\n",
    "y_valid = y_valid.reset_index(drop = True)\n",
    "valid = pd.concat([X_valid, y_valid], axis = 1)"
   ]
  },
  {
   "cell_type": "code",
   "execution_count": null,
   "metadata": {},
   "outputs": [],
   "source": [
    "X_test = X_test.reset_index(drop = True)\n",
    "y_test = y_test.reset_index(drop = True)\n",
    "test = pd.concat([X_test, y_test], axis = 1)"
   ]
  },
  {
   "cell_type": "code",
   "execution_count": null,
   "metadata": {},
   "outputs": [],
   "source": [
    "train.to_csv(r\"C:\\Users\\MIND_DS\\Dropbox (Partners HealthCare)\\NLP\\Tanish\\APOE-SLAT\\Modeling\\Storage\\Data\\train_8_11.csv\", index = False)\n",
    "valid.to_csv(r\"C:\\Users\\MIND_DS\\Dropbox (Partners HealthCare)\\NLP\\Tanish\\APOE-SLAT\\Modeling\\Storage\\Data\\valid_8_11.csv\", index = False)\n",
    "test.to_csv(r\"C:\\Users\\MIND_DS\\Dropbox (Partners HealthCare)\\NLP\\Tanish\\APOE-SLAT\\Modeling\\Storage\\Data\\test_8_11.csv\", index = False)"
   ]
  },
  {
   "cell_type": "code",
   "execution_count": 104,
   "metadata": {},
   "outputs": [],
   "source": [
    "pickle.dump(lr, open(\"Storage/\" + \"model_8_30.sav\", 'wb'))"
   ]
  },
  {
   "cell_type": "markdown",
   "metadata": {},
   "source": [
    "## Model Predictions"
   ]
  },
  {
   "cell_type": "code",
   "execution_count": 195,
   "metadata": {},
   "outputs": [],
   "source": [
    "tfidf_output_df = pd.read_csv(r\"C:\\Users\\MIND_DS\\Dropbox (Partners HealthCare)\\NLP\\Tanish\\APOE-SLAT\\Modeling\\Storage\\Performance\\feature_correlation_multiclass_labels_8_12.csv\")"
   ]
  },
  {
   "cell_type": "code",
   "execution_count": 196,
   "metadata": {},
   "outputs": [],
   "source": [
    "top_tfidf_features_df_sample = tfidf_output_df[tfidf_output_df['CorrCoef'] > 0.01]"
   ]
  },
  {
   "cell_type": "code",
   "execution_count": 200,
   "metadata": {},
   "outputs": [],
   "source": [
    "model = pickle.load(open(r\"C:\\Users\\MIND_DS\\Dropbox (Partners HealthCare)\\NLP\\Tanish\\APOE-SLAT\\Modeling\\Storage\\model_8_30.sav\", 'rb'))"
   ]
  },
  {
   "cell_type": "markdown",
   "metadata": {},
   "source": [
    "### Getting Train and Test Set Predictions and  Probabilties"
   ]
  },
  {
   "cell_type": "code",
   "execution_count": 39,
   "metadata": {},
   "outputs": [],
   "source": [
    "#train = pd.read_csv(r\"C:\\Users\\tanis\\Dropbox (Partners HealthCare)\\NLP\\Tanish\\APOE-SLAT\\Modeling\\Storage\\data\\train_8_11.csv\")\n",
    "#valid = pd.read_csv(r\"C:\\Users\\tanis\\Dropbox (Partners HealthCare)\\NLP\\Tanish\\APOE-SLAT\\Modeling\\Storage\\data\\valid_8_11.csv\")\n",
    "#cross_validation_df = pd.concat([train, valid])\n",
    "\n",
    "test = pd.read_csv(r\"C:\\Users\\tanis\\Dropbox (Partners HealthCare)\\NLP\\Tanish\\APOE-SLAT\\Modeling\\Storage\\data\\test_8_11.csv\")"
   ]
  },
  {
   "cell_type": "code",
   "execution_count": 60,
   "metadata": {},
   "outputs": [],
   "source": [
    "test_predictions = model.predict(tfidf_test.filter(items = top_tfidf_features_df_sample['Features']))\n",
    "#cross_valid_predictions = model.predict(cross_validation.filter(items = top_tfidf_features_df_sample['Features']))"
   ]
  },
  {
   "cell_type": "code",
   "execution_count": 65,
   "metadata": {},
   "outputs": [],
   "source": [
    "#cross_validation_df[\"predictions\"] = cross_valid_predictions\n",
    "test[\"predictions\"] = test_predictions"
   ]
  },
  {
   "cell_type": "code",
   "execution_count": 66,
   "metadata": {},
   "outputs": [],
   "source": [
    "test_proba = model.predict_proba(tfidf_test.filter(items = top_tfidf_features_df_sample['Features']))\n",
    "#cross_valid_proba = model.predict_proba(cross_validation.filter(items = top_tfidf_features_df_sample['Features']))"
   ]
  },
  {
   "cell_type": "code",
   "execution_count": 68,
   "metadata": {},
   "outputs": [],
   "source": [
    "test_proba = test_proba[:, 1]"
   ]
  },
  {
   "cell_type": "code",
   "execution_count": 69,
   "metadata": {},
   "outputs": [],
   "source": [
    "test[\"probability\"] = test_proba"
   ]
  },
  {
   "cell_type": "code",
   "execution_count": 43,
   "metadata": {},
   "outputs": [],
   "source": [
    "# test_proba = np.array([[x] for x in np.max(test_proba, axis=1)])\n",
    "# test_proba = [item for sublist in test_proba for item in sublist]\n",
    "# test[\"probability\"] = test_proba\n",
    "\n",
    "# cross_valid_proba = np.array([[x] for x in np.max(cross_valid_proba, axis=1)])\n",
    "# cross_valid_proba = [item for sublist in cross_valid_proba for item in sublist]\n",
    "# cross_validation_df[\"probability\"] = cross_valid_proba"
   ]
  },
  {
   "cell_type": "code",
   "execution_count": 46,
   "metadata": {},
   "outputs": [],
   "source": [
    "def convert_to_binary(y):\n",
    "    for i in range(len(y)):\n",
    "        if (y[i] == 2):\n",
    "            # convert yes from 2 to 1\n",
    "            y[i] = 1\n",
    "        elif (y[i] == 1 or y[i] == 0):\n",
    "            # convert no/ntr from 0/1 to 0\n",
    "            y[i] = 0\n",
    "    return y\n",
    "\n",
    "test[\"annotator_label\"] = convert_to_binary(test[\"annotator_label\"])"
   ]
  },
  {
   "cell_type": "code",
   "execution_count": 73,
   "metadata": {},
   "outputs": [],
   "source": [
    "#cross_validation_df.to_csv(r\"C:\\Users\\MIND_DS\\Dropbox (Partners HealthCare)\\NLP\\Tanish\\APOE-SLAT\\Baseline_Model\\data\\train_full.csv\", index = False)\n",
    "test.to_csv(r\"C:\\Users\\tanis\\Dropbox (Partners HealthCare)\\NLP\\Tanish\\APOE-SLAT\\Baseline_Model\\data\\test_binary_classification.csv\", index = False)"
   ]
  },
  {
   "cell_type": "code",
   "execution_count": 168,
   "metadata": {},
   "outputs": [
    {
     "data": {
      "text/plain": [
       "(2417, 8363, 293)"
      ]
     },
     "execution_count": 168,
     "metadata": {},
     "output_type": "execute_result"
    }
   ],
   "source": [
    "len(cross_validation_df[\"patient_id\"].unique()), len(cross_validation_df), len(test)"
   ]
  },
  {
   "cell_type": "markdown",
   "metadata": {},
   "source": [
    "### Running on Samples"
   ]
  },
  {
   "cell_type": "code",
   "execution_count": 203,
   "metadata": {},
   "outputs": [],
   "source": [
    "sample_predictions = model.predict(tfidf_sample.filter(items = top_tfidf_features_df_sample['Features']))"
   ]
  },
  {
   "cell_type": "code",
   "execution_count": 204,
   "metadata": {},
   "outputs": [],
   "source": [
    "sample[\"predictions\"] = sample_predictions"
   ]
  },
  {
   "cell_type": "code",
   "execution_count": 205,
   "metadata": {},
   "outputs": [],
   "source": [
    "sample_proba = model.predict_proba(tfidf_sample.filter(items = top_tfidf_features_df_sample['Features']))"
   ]
  },
  {
   "cell_type": "code",
   "execution_count": 206,
   "metadata": {},
   "outputs": [],
   "source": [
    "sample_proba = np.array([[x] for x in np.max(sample_proba, axis=1)])\n",
    "sample_proba = [item for sublist in sample_proba for item in sublist]"
   ]
  },
  {
   "cell_type": "code",
   "execution_count": 207,
   "metadata": {},
   "outputs": [],
   "source": [
    "sample[\"probability\"] = sample_proba"
   ]
  },
  {
   "cell_type": "code",
   "execution_count": 208,
   "metadata": {},
   "outputs": [
    {
     "data": {
      "text/html": [
       "<div>\n",
       "<style scoped>\n",
       "    .dataframe tbody tr th:only-of-type {\n",
       "        vertical-align: middle;\n",
       "    }\n",
       "\n",
       "    .dataframe tbody tr th {\n",
       "        vertical-align: top;\n",
       "    }\n",
       "\n",
       "    .dataframe thead th {\n",
       "        text-align: right;\n",
       "    }\n",
       "</style>\n",
       "<table border=\"1\" class=\"dataframe\">\n",
       "  <thead>\n",
       "    <tr style=\"text-align: right;\">\n",
       "      <th></th>\n",
       "      <th>patient_id</th>\n",
       "      <th>sequence</th>\n",
       "      <th>predictions</th>\n",
       "      <th>probability</th>\n",
       "    </tr>\n",
       "  </thead>\n",
       "  <tbody>\n",
       "    <tr>\n",
       "      <th>0</th>\n",
       "      <td>Z6352398</td>\n",
       "      <td>ession alone in the meta-analysis. we discusse...</td>\n",
       "      <td>2</td>\n",
       "      <td>0.583588</td>\n",
       "    </tr>\n",
       "    <tr>\n",
       "      <th>1</th>\n",
       "      <td>Z6353136</td>\n",
       "      <td>------- l obstruction associated diagnoses sma...</td>\n",
       "      <td>2</td>\n",
       "      <td>0.986656</td>\n",
       "    </tr>\n",
       "    <tr>\n",
       "      <th>2</th>\n",
       "      <td>Z6353461</td>\n",
       "      <td>------- (156 lb) 09 19 17 71.4 kg (157 lb 6.4 ...</td>\n",
       "      <td>0</td>\n",
       "      <td>0.940278</td>\n",
       "    </tr>\n",
       "    <tr>\n",
       "      <th>3</th>\n",
       "      <td>Z6353764</td>\n",
       "      <td>ut answer. optho notes from recent outpatient ...</td>\n",
       "      <td>0</td>\n",
       "      <td>0.919579</td>\n",
       "    </tr>\n",
       "    <tr>\n",
       "      <th>4</th>\n",
       "      <td>Z6354111</td>\n",
       "      <td>hat would be more consistent. has been alert o...</td>\n",
       "      <td>0</td>\n",
       "      <td>0.573025</td>\n",
       "    </tr>\n",
       "  </tbody>\n",
       "</table>\n",
       "</div>"
      ],
      "text/plain": [
       "  patient_id                                           sequence  predictions  \\\n",
       "0   Z6352398  ession alone in the meta-analysis. we discusse...            2   \n",
       "1   Z6353136  ------- l obstruction associated diagnoses sma...            2   \n",
       "2   Z6353461  ------- (156 lb) 09 19 17 71.4 kg (157 lb 6.4 ...            0   \n",
       "3   Z6353764  ut answer. optho notes from recent outpatient ...            0   \n",
       "4   Z6354111  hat would be more consistent. has been alert o...            0   \n",
       "\n",
       "   probability  \n",
       "0     0.583588  \n",
       "1     0.986656  \n",
       "2     0.940278  \n",
       "3     0.919579  \n",
       "4     0.573025  "
      ]
     },
     "execution_count": 208,
     "metadata": {},
     "output_type": "execute_result"
    }
   ],
   "source": [
    "sample.head()"
   ]
  },
  {
   "cell_type": "code",
   "execution_count": 209,
   "metadata": {},
   "outputs": [],
   "source": [
    "sample.to_csv(r\"C:\\Users\\MIND_DS\\Dropbox (Partners HealthCare)\\NLP\\Tanish\\APOE-SLAT\\Modeling\\Storage\\Predictions\\sample_predictions_9_1.csv\", index = False)"
   ]
  },
  {
   "cell_type": "markdown",
   "metadata": {},
   "source": [
    "### Finding Optimal Patient Aggregation Scheme"
   ]
  },
  {
   "cell_type": "code",
   "execution_count": 210,
   "metadata": {},
   "outputs": [
    {
     "data": {
      "text/plain": [
       "0    113107\n",
       "2     49046\n",
       "1     24577\n",
       "Name: predictions, dtype: int64"
      ]
     },
     "execution_count": 210,
     "metadata": {},
     "output_type": "execute_result"
    }
   ],
   "source": [
    "sample[\"predictions\"].value_counts()"
   ]
  },
  {
   "cell_type": "code",
   "execution_count": 211,
   "metadata": {},
   "outputs": [
    {
     "data": {
      "text/html": [
       "<div>\n",
       "<style scoped>\n",
       "    .dataframe tbody tr th:only-of-type {\n",
       "        vertical-align: middle;\n",
       "    }\n",
       "\n",
       "    .dataframe tbody tr th {\n",
       "        vertical-align: top;\n",
       "    }\n",
       "\n",
       "    .dataframe thead th {\n",
       "        text-align: right;\n",
       "    }\n",
       "</style>\n",
       "<table border=\"1\" class=\"dataframe\">\n",
       "  <thead>\n",
       "    <tr style=\"text-align: right;\">\n",
       "      <th></th>\n",
       "      <th>patient_id</th>\n",
       "      <th>sequence</th>\n",
       "      <th>predictions</th>\n",
       "      <th>probability</th>\n",
       "    </tr>\n",
       "  </thead>\n",
       "  <tbody>\n",
       "    <tr>\n",
       "      <th>0</th>\n",
       "      <td>Z6352398</td>\n",
       "      <td>ession alone in the meta-analysis. we discusse...</td>\n",
       "      <td>2</td>\n",
       "      <td>0.583588</td>\n",
       "    </tr>\n",
       "    <tr>\n",
       "      <th>1</th>\n",
       "      <td>Z6353136</td>\n",
       "      <td>------- l obstruction associated diagnoses sma...</td>\n",
       "      <td>2</td>\n",
       "      <td>0.986656</td>\n",
       "    </tr>\n",
       "    <tr>\n",
       "      <th>2</th>\n",
       "      <td>Z6353461</td>\n",
       "      <td>------- (156 lb) 09 19 17 71.4 kg (157 lb 6.4 ...</td>\n",
       "      <td>0</td>\n",
       "      <td>0.940278</td>\n",
       "    </tr>\n",
       "    <tr>\n",
       "      <th>3</th>\n",
       "      <td>Z6353764</td>\n",
       "      <td>ut answer. optho notes from recent outpatient ...</td>\n",
       "      <td>0</td>\n",
       "      <td>0.919579</td>\n",
       "    </tr>\n",
       "    <tr>\n",
       "      <th>4</th>\n",
       "      <td>Z6354111</td>\n",
       "      <td>hat would be more consistent. has been alert o...</td>\n",
       "      <td>0</td>\n",
       "      <td>0.573025</td>\n",
       "    </tr>\n",
       "    <tr>\n",
       "      <th>...</th>\n",
       "      <td>...</td>\n",
       "      <td>...</td>\n",
       "      <td>...</td>\n",
       "      <td>...</td>\n",
       "    </tr>\n",
       "    <tr>\n",
       "      <th>186725</th>\n",
       "      <td>Z16320629</td>\n",
       "      <td>''she took a break' and wants to discuss with ...</td>\n",
       "      <td>2</td>\n",
       "      <td>0.913473</td>\n",
       "    </tr>\n",
       "    <tr>\n",
       "      <th>186726</th>\n",
       "      <td>Z16320629</td>\n",
       "      <td>'all of her medications, including aspirin. de...</td>\n",
       "      <td>2</td>\n",
       "      <td>0.855714</td>\n",
       "    </tr>\n",
       "    <tr>\n",
       "      <th>186727</th>\n",
       "      <td>Z16320629</td>\n",
       "      <td>'patient, chart, daughter olga mode of contact...</td>\n",
       "      <td>0</td>\n",
       "      <td>0.723209</td>\n",
       "    </tr>\n",
       "    <tr>\n",
       "      <th>186728</th>\n",
       "      <td>Z16320629</td>\n",
       "      <td>'patient, chart, daughter olga mode of contact...</td>\n",
       "      <td>0</td>\n",
       "      <td>0.723209</td>\n",
       "    </tr>\n",
       "    <tr>\n",
       "      <th>186729</th>\n",
       "      <td>Z16323433</td>\n",
       "      <td>'cyanosis or edema. neurological exam: nonfoca...</td>\n",
       "      <td>0</td>\n",
       "      <td>0.998951</td>\n",
       "    </tr>\n",
       "  </tbody>\n",
       "</table>\n",
       "<p>186730 rows × 4 columns</p>\n",
       "</div>"
      ],
      "text/plain": [
       "       patient_id                                           sequence  \\\n",
       "0        Z6352398  ession alone in the meta-analysis. we discusse...   \n",
       "1        Z6353136  ------- l obstruction associated diagnoses sma...   \n",
       "2        Z6353461  ------- (156 lb) 09 19 17 71.4 kg (157 lb 6.4 ...   \n",
       "3        Z6353764  ut answer. optho notes from recent outpatient ...   \n",
       "4        Z6354111  hat would be more consistent. has been alert o...   \n",
       "...           ...                                                ...   \n",
       "186725  Z16320629  ''she took a break' and wants to discuss with ...   \n",
       "186726  Z16320629  'all of her medications, including aspirin. de...   \n",
       "186727  Z16320629  'patient, chart, daughter olga mode of contact...   \n",
       "186728  Z16320629  'patient, chart, daughter olga mode of contact...   \n",
       "186729  Z16323433  'cyanosis or edema. neurological exam: nonfoca...   \n",
       "\n",
       "        predictions  probability  \n",
       "0                 2     0.583588  \n",
       "1                 2     0.986656  \n",
       "2                 0     0.940278  \n",
       "3                 0     0.919579  \n",
       "4                 0     0.573025  \n",
       "...             ...          ...  \n",
       "186725            2     0.913473  \n",
       "186726            2     0.855714  \n",
       "186727            0     0.723209  \n",
       "186728            0     0.723209  \n",
       "186729            0     0.998951  \n",
       "\n",
       "[186730 rows x 4 columns]"
      ]
     },
     "execution_count": 211,
     "metadata": {},
     "output_type": "execute_result"
    }
   ],
   "source": [
    "sample"
   ]
  },
  {
   "cell_type": "code",
   "execution_count": 212,
   "metadata": {},
   "outputs": [],
   "source": [
    "apoe = pd.read_csv(r\"C:\\Users\\MIND_DS\\Dropbox (Partners HealthCare)\\NLP\\Tanish\\APOE-SLAT\\Baseline_Model\\data\\tanish_predictions_with_structured_features.csv\")"
   ]
  },
  {
   "cell_type": "code",
   "execution_count": 241,
   "metadata": {},
   "outputs": [
    {
     "data": {
      "text/plain": [
       "0.6157354618015963"
      ]
     },
     "execution_count": 241,
     "metadata": {},
     "output_type": "execute_result"
    }
   ],
   "source": [
    "apoe_e2 = apoe[(apoe[\"APOE\"] == \"e2/e2\") | (apoe[\"APOE\"] == \"e2/e3\")]\n",
    "len((apoe_e2[apoe_e2[\"patient_CI\"] == 1]))/len(apoe_e2)"
   ]
  },
  {
   "cell_type": "code",
   "execution_count": 242,
   "metadata": {},
   "outputs": [],
   "source": [
    "binary_model = pickle.load(open(r\"C:\\Users\\MIND_DS\\Dropbox (Partners HealthCare)\\NLP\\Tanish\\APOE-SLAT\\Modeling\\Storage\\model_8_12_binary_classification.sav\", 'rb'))"
   ]
  },
  {
   "cell_type": "code",
   "execution_count": 256,
   "metadata": {},
   "outputs": [],
   "source": [
    "top_tfidf_features_df_sample_binary = tfidf_output_df[tfidf_output_df['CorrCoef'] > 0.07]"
   ]
  },
  {
   "cell_type": "code",
   "execution_count": 257,
   "metadata": {},
   "outputs": [],
   "source": [
    "binary_sample_predictions = binary_model.predict(tfidf_sample.filter(items = top_tfidf_features_df_sample_binary['Features']))"
   ]
  },
  {
   "cell_type": "code",
   "execution_count": 258,
   "metadata": {},
   "outputs": [],
   "source": [
    "binary_sample_preds = sample.copy()\n",
    "binary_sample_preds[\"predictions\"] = binary_sample_predictions"
   ]
  },
  {
   "cell_type": "code",
   "execution_count": 259,
   "metadata": {},
   "outputs": [
    {
     "data": {
      "text/plain": [
       "0    107347\n",
       "1     79383\n",
       "Name: predictions, dtype: int64"
      ]
     },
     "execution_count": 259,
     "metadata": {},
     "output_type": "execute_result"
    }
   ],
   "source": [
    "binary_sample_preds[\"predictions\"].value_counts()"
   ]
  },
  {
   "cell_type": "code",
   "execution_count": 261,
   "metadata": {},
   "outputs": [],
   "source": [
    "binary_sample_preds = pd.merge(binary_sample_preds, apoe, how = \"right\", on = \"patient_id\")"
   ]
  },
  {
   "cell_type": "code",
   "execution_count": 213,
   "metadata": {},
   "outputs": [],
   "source": [
    "sample_preds_cp = sample.copy()\n",
    "sample_preds_cp = pd.merge(sample_preds_cp, apoe, how = \"right\", on = \"patient_id\")"
   ]
  },
  {
   "cell_type": "code",
   "execution_count": 262,
   "metadata": {},
   "outputs": [
    {
     "data": {
      "text/html": [
       "<div>\n",
       "<style scoped>\n",
       "    .dataframe tbody tr th:only-of-type {\n",
       "        vertical-align: middle;\n",
       "    }\n",
       "\n",
       "    .dataframe tbody tr th {\n",
       "        vertical-align: top;\n",
       "    }\n",
       "\n",
       "    .dataframe thead th {\n",
       "        text-align: right;\n",
       "    }\n",
       "</style>\n",
       "<table border=\"1\" class=\"dataframe\">\n",
       "  <thead>\n",
       "    <tr style=\"text-align: right;\">\n",
       "      <th></th>\n",
       "      <th>patient_id</th>\n",
       "      <th>sequence</th>\n",
       "      <th>predictions</th>\n",
       "      <th>probability</th>\n",
       "      <th>patient_CI</th>\n",
       "      <th>num_sequences_patient</th>\n",
       "      <th>EMPI</th>\n",
       "      <th>Dx_Count</th>\n",
       "      <th>Med_Count</th>\n",
       "      <th>AD_Med_or_ICD_Code</th>\n",
       "      <th>APOE</th>\n",
       "    </tr>\n",
       "  </thead>\n",
       "  <tbody>\n",
       "    <tr>\n",
       "      <th>0</th>\n",
       "      <td>Z6352398</td>\n",
       "      <td>ession alone in the meta-analysis. we discusse...</td>\n",
       "      <td>0</td>\n",
       "      <td>0.583588</td>\n",
       "      <td>1</td>\n",
       "      <td>2</td>\n",
       "      <td>100000272</td>\n",
       "      <td>3</td>\n",
       "      <td>0</td>\n",
       "      <td>1</td>\n",
       "      <td>e3/e3</td>\n",
       "    </tr>\n",
       "    <tr>\n",
       "      <th>1</th>\n",
       "      <td>Z6352398</td>\n",
       "      <td>'ial source of info:? patient, chart mode of c...</td>\n",
       "      <td>1</td>\n",
       "      <td>0.389788</td>\n",
       "      <td>1</td>\n",
       "      <td>2</td>\n",
       "      <td>100000272</td>\n",
       "      <td>3</td>\n",
       "      <td>0</td>\n",
       "      <td>1</td>\n",
       "      <td>e3/e3</td>\n",
       "    </tr>\n",
       "    <tr>\n",
       "      <th>2</th>\n",
       "      <td>Z6353136</td>\n",
       "      <td>------- l obstruction associated diagnoses sma...</td>\n",
       "      <td>1</td>\n",
       "      <td>0.986656</td>\n",
       "      <td>1</td>\n",
       "      <td>9</td>\n",
       "      <td>100001150</td>\n",
       "      <td>0</td>\n",
       "      <td>0</td>\n",
       "      <td>0</td>\n",
       "      <td>e3/e3</td>\n",
       "    </tr>\n",
       "    <tr>\n",
       "      <th>3</th>\n",
       "      <td>Z6353136</td>\n",
       "      <td>'ory is obtained from patient and pt's dtr adr...</td>\n",
       "      <td>0</td>\n",
       "      <td>0.523441</td>\n",
       "      <td>1</td>\n",
       "      <td>9</td>\n",
       "      <td>100001150</td>\n",
       "      <td>0</td>\n",
       "      <td>0</td>\n",
       "      <td>0</td>\n",
       "      <td>e3/e3</td>\n",
       "    </tr>\n",
       "    <tr>\n",
       "      <th>4</th>\n",
       "      <td>Z6353136</td>\n",
       "      <td>'ed during the visit to clarify patient's medi...</td>\n",
       "      <td>0</td>\n",
       "      <td>0.883240</td>\n",
       "      <td>1</td>\n",
       "      <td>9</td>\n",
       "      <td>100001150</td>\n",
       "      <td>0</td>\n",
       "      <td>0</td>\n",
       "      <td>0</td>\n",
       "      <td>e3/e3</td>\n",
       "    </tr>\n",
       "    <tr>\n",
       "      <th>...</th>\n",
       "      <td>...</td>\n",
       "      <td>...</td>\n",
       "      <td>...</td>\n",
       "      <td>...</td>\n",
       "      <td>...</td>\n",
       "      <td>...</td>\n",
       "      <td>...</td>\n",
       "      <td>...</td>\n",
       "      <td>...</td>\n",
       "      <td>...</td>\n",
       "      <td>...</td>\n",
       "    </tr>\n",
       "    <tr>\n",
       "      <th>186725</th>\n",
       "      <td>Z15769512</td>\n",
       "      <td>'in vascular neurology clinic. please see the ...</td>\n",
       "      <td>1</td>\n",
       "      <td>0.683052</td>\n",
       "      <td>1</td>\n",
       "      <td>3</td>\n",
       "      <td>113093596</td>\n",
       "      <td>0</td>\n",
       "      <td>0</td>\n",
       "      <td>0</td>\n",
       "      <td>e3/e4</td>\n",
       "    </tr>\n",
       "    <tr>\n",
       "      <th>186726</th>\n",
       "      <td>Z15769512</td>\n",
       "      <td>'in vascular neurology clinic. please see the ...</td>\n",
       "      <td>1</td>\n",
       "      <td>0.658477</td>\n",
       "      <td>1</td>\n",
       "      <td>3</td>\n",
       "      <td>113093596</td>\n",
       "      <td>0</td>\n",
       "      <td>0</td>\n",
       "      <td>0</td>\n",
       "      <td>e3/e4</td>\n",
       "    </tr>\n",
       "    <tr>\n",
       "      <th>186727</th>\n",
       "      <td>Z15769512</td>\n",
       "      <td>'in vascular neurology clinic. please see the ...</td>\n",
       "      <td>1</td>\n",
       "      <td>0.683522</td>\n",
       "      <td>1</td>\n",
       "      <td>3</td>\n",
       "      <td>113093596</td>\n",
       "      <td>0</td>\n",
       "      <td>0</td>\n",
       "      <td>0</td>\n",
       "      <td>e3/e4</td>\n",
       "    </tr>\n",
       "    <tr>\n",
       "      <th>186728</th>\n",
       "      <td>Z15811708</td>\n",
       "      <td>'think i\\\\\\\\\\\\\\\\'m far away but i\\\\\\\\\\\\\\\\'m re...</td>\n",
       "      <td>1</td>\n",
       "      <td>0.989254</td>\n",
       "      <td>1</td>\n",
       "      <td>1</td>\n",
       "      <td>113149962</td>\n",
       "      <td>0</td>\n",
       "      <td>0</td>\n",
       "      <td>0</td>\n",
       "      <td>e3/e4</td>\n",
       "    </tr>\n",
       "    <tr>\n",
       "      <th>186729</th>\n",
       "      <td>Z15825165</td>\n",
       "      <td>'mr#: 35652080 dear dr. garcia: thank you so m...</td>\n",
       "      <td>1</td>\n",
       "      <td>0.530173</td>\n",
       "      <td>1</td>\n",
       "      <td>1</td>\n",
       "      <td>113205681</td>\n",
       "      <td>0</td>\n",
       "      <td>0</td>\n",
       "      <td>0</td>\n",
       "      <td>e3/e3</td>\n",
       "    </tr>\n",
       "  </tbody>\n",
       "</table>\n",
       "<p>186730 rows × 11 columns</p>\n",
       "</div>"
      ],
      "text/plain": [
       "       patient_id                                           sequence  \\\n",
       "0        Z6352398  ession alone in the meta-analysis. we discusse...   \n",
       "1        Z6352398  'ial source of info:? patient, chart mode of c...   \n",
       "2        Z6353136  ------- l obstruction associated diagnoses sma...   \n",
       "3        Z6353136  'ory is obtained from patient and pt's dtr adr...   \n",
       "4        Z6353136  'ed during the visit to clarify patient's medi...   \n",
       "...           ...                                                ...   \n",
       "186725  Z15769512  'in vascular neurology clinic. please see the ...   \n",
       "186726  Z15769512  'in vascular neurology clinic. please see the ...   \n",
       "186727  Z15769512  'in vascular neurology clinic. please see the ...   \n",
       "186728  Z15811708  'think i\\\\\\\\\\\\\\\\'m far away but i\\\\\\\\\\\\\\\\'m re...   \n",
       "186729  Z15825165  'mr#: 35652080 dear dr. garcia: thank you so m...   \n",
       "\n",
       "        predictions  probability  patient_CI  num_sequences_patient  \\\n",
       "0                 0     0.583588           1                      2   \n",
       "1                 1     0.389788           1                      2   \n",
       "2                 1     0.986656           1                      9   \n",
       "3                 0     0.523441           1                      9   \n",
       "4                 0     0.883240           1                      9   \n",
       "...             ...          ...         ...                    ...   \n",
       "186725            1     0.683052           1                      3   \n",
       "186726            1     0.658477           1                      3   \n",
       "186727            1     0.683522           1                      3   \n",
       "186728            1     0.989254           1                      1   \n",
       "186729            1     0.530173           1                      1   \n",
       "\n",
       "             EMPI  Dx_Count  Med_Count  AD_Med_or_ICD_Code   APOE  \n",
       "0       100000272         3          0                   1  e3/e3  \n",
       "1       100000272         3          0                   1  e3/e3  \n",
       "2       100001150         0          0                   0  e3/e3  \n",
       "3       100001150         0          0                   0  e3/e3  \n",
       "4       100001150         0          0                   0  e3/e3  \n",
       "...           ...       ...        ...                 ...    ...  \n",
       "186725  113093596         0          0                   0  e3/e4  \n",
       "186726  113093596         0          0                   0  e3/e4  \n",
       "186727  113093596         0          0                   0  e3/e4  \n",
       "186728  113149962         0          0                   0  e3/e4  \n",
       "186729  113205681         0          0                   0  e3/e3  \n",
       "\n",
       "[186730 rows x 11 columns]"
      ]
     },
     "execution_count": 262,
     "metadata": {},
     "output_type": "execute_result"
    }
   ],
   "source": [
    "binary_sample_preds"
   ]
  },
  {
   "cell_type": "code",
   "execution_count": 215,
   "metadata": {},
   "outputs": [
    {
     "data": {
      "text/plain": [
       "e3/e3             8751\n",
       "e3/e4             2862\n",
       "e2/e3             1675\n",
       "e2/e4 or e1/e3     302\n",
       "e4/e4              272\n",
       "e2/e2               79\n",
       "Name: APOE, dtype: int64"
      ]
     },
     "execution_count": 215,
     "metadata": {},
     "output_type": "execute_result"
    }
   ],
   "source": [
    "apoe[\"APOE\"].value_counts()"
   ]
  },
  {
   "cell_type": "code",
   "execution_count": 216,
   "metadata": {},
   "outputs": [],
   "source": [
    "e_2 = sample_preds_cp[(sample_preds_cp[\"APOE\"] == \"e2/e2\") | (sample_preds_cp[\"APOE\"] == \"e2/e3\")]\n",
    "e_3 = sample_preds_cp[(sample_preds_cp[\"APOE\"] == \"e3/e3\")]\n",
    "e_4 = sample_preds_cp[(sample_preds_cp[\"APOE\"] == \"e4/e4\") | (sample_preds_cp[\"APOE\"] == \"e2/e4 or e1/e3\") | (sample_preds_cp[\"APOE\"] == \"e3/e4\")]"
   ]
  },
  {
   "cell_type": "code",
   "execution_count": 217,
   "metadata": {},
   "outputs": [
    {
     "data": {
      "text/plain": [
       "(23101, 114378, 49251)"
      ]
     },
     "execution_count": 217,
     "metadata": {},
     "output_type": "execute_result"
    }
   ],
   "source": [
    "len(e_2), len(e_3), len(e_4)"
   ]
  },
  {
   "cell_type": "code",
   "execution_count": 312,
   "metadata": {},
   "outputs": [],
   "source": [
    "def percent_ci(df, sequence_threshold):\n",
    "    patient_level_preds = []\n",
    "    p_id_ls = []\n",
    "    ci_count = 0\n",
    "    for p_id in df[\"patient_id\"].unique():\n",
    "        sequences = df[df[\"patient_id\"] == p_id]\n",
    "        if len(sequences[sequences[\"predictions\"] == 2]) >= sequence_threshold:\n",
    "            patient_level_preds.append(1)\n",
    "            ci_count += 1\n",
    "        else:\n",
    "            patient_level_preds.append(0)\n",
    "        p_id_ls.append(p_id)\n",
    "    return patient_level_preds, ci_count/len(df[\"patient_id\"].unique()), p_id_ls"
   ]
  },
  {
   "cell_type": "code",
   "execution_count": 316,
   "metadata": {},
   "outputs": [
    {
     "name": "stderr",
     "output_type": "stream",
     "text": [
      "100%|█████████████████████████████████████████████████████████████████████████████████| 10/10 [23:23<00:00, 140.34s/it]\n"
     ]
    }
   ],
   "source": [
    "x_axis = []\n",
    "y_axis_e2 = []\n",
    "y_axis_e3 = []\n",
    "y_axis_e4 = []\n",
    "\n",
    "for i in tqdm(range(10)):\n",
    "    e_2_preds, e_2_percent, e_2_p_id = percent_ci(e_2, i+1)\n",
    "    e_3_preds, e_3_percent, e_3_p_id = percent_ci(e_3, i+1)\n",
    "    e_4_preds, e_4_percent, e_4_p_id = percent_ci(e_4, i+1)\n",
    "    \n",
    "    x_axis.append(i+1)\n",
    "    y_axis_e2.append(e_2_percent)\n",
    "    y_axis_e3.append(e_3_percent)\n",
    "    y_axis_e4.append(e_4_percent)"
   ]
  },
  {
   "cell_type": "code",
   "execution_count": 324,
   "metadata": {},
   "outputs": [
    {
     "data": {
      "image/png": "[encoded data removed]",
      "text/plain": [
       "<Figure size 432x288 with 1 Axes>"
      ]
     },
     "metadata": {
      "needs_background": "light"
     },
     "output_type": "display_data"
    }
   ],
   "source": [
    "plt.plot(x_axis, y_axis_e2, label='APOE ε2')\n",
    "plt.plot(x_axis, y_axis_e3, label='APOE ε3')\n",
    "plt.plot(x_axis, y_axis_e4, label='APOE ε4')\n",
    "\n",
    "plt.xlabel(\"Sequence Threshold\")\n",
    "plt.ylabel(\"Percent of Patients Predicted as having CI\")\n",
    "plt.legend(loc='best')\n",
    "plt.show()"
   ]
  },
  {
   "cell_type": "code",
   "execution_count": 225,
   "metadata": {},
   "outputs": [],
   "source": [
    "revised_preds = pd.DataFrame()\n",
    "revised_preds[\"patient_id\"] = e_2_p_id + (e_3_p_id) + (e_4_p_id)"
   ]
  },
  {
   "cell_type": "code",
   "execution_count": 227,
   "metadata": {},
   "outputs": [],
   "source": [
    "revised_preds[\"predictions\"] = e_2_preds + (e_3_preds) + (e_4_preds)"
   ]
  },
  {
   "cell_type": "code",
   "execution_count": 229,
   "metadata": {},
   "outputs": [
    {
     "data": {
      "text/plain": [
       "0    11766\n",
       "1     2175\n",
       "Name: predictions, dtype: int64"
      ]
     },
     "execution_count": 229,
     "metadata": {},
     "output_type": "execute_result"
    }
   ],
   "source": [
    "revised_preds[\"predictions\"].value_counts()"
   ]
  },
  {
   "cell_type": "code",
   "execution_count": 230,
   "metadata": {},
   "outputs": [],
   "source": [
    "revised_patients = pd.merge(apoe, revised_preds, how = \"right\", on = \"patient_id\")"
   ]
  },
  {
   "cell_type": "code",
   "execution_count": 235,
   "metadata": {},
   "outputs": [
    {
     "data": {
      "text/html": [
       "<div>\n",
       "<style scoped>\n",
       "    .dataframe tbody tr th:only-of-type {\n",
       "        vertical-align: middle;\n",
       "    }\n",
       "\n",
       "    .dataframe tbody tr th {\n",
       "        vertical-align: top;\n",
       "    }\n",
       "\n",
       "    .dataframe thead th {\n",
       "        text-align: right;\n",
       "    }\n",
       "</style>\n",
       "<table border=\"1\" class=\"dataframe\">\n",
       "  <thead>\n",
       "    <tr style=\"text-align: right;\">\n",
       "      <th></th>\n",
       "      <th>patient_id</th>\n",
       "      <th>num_sequences_patient</th>\n",
       "      <th>EMPI</th>\n",
       "      <th>Dx_Count</th>\n",
       "      <th>Med_Count</th>\n",
       "      <th>AD_Med_or_ICD_Code</th>\n",
       "      <th>APOE</th>\n",
       "      <th>predictions</th>\n",
       "    </tr>\n",
       "  </thead>\n",
       "  <tbody>\n",
       "    <tr>\n",
       "      <th>0</th>\n",
       "      <td>Z6354527</td>\n",
       "      <td>2</td>\n",
       "      <td>100002765</td>\n",
       "      <td>0</td>\n",
       "      <td>0</td>\n",
       "      <td>0</td>\n",
       "      <td>e2/e3</td>\n",
       "      <td>0</td>\n",
       "    </tr>\n",
       "    <tr>\n",
       "      <th>1</th>\n",
       "      <td>Z6357384</td>\n",
       "      <td>1</td>\n",
       "      <td>100006119</td>\n",
       "      <td>0</td>\n",
       "      <td>0</td>\n",
       "      <td>0</td>\n",
       "      <td>e2/e3</td>\n",
       "      <td>0</td>\n",
       "    </tr>\n",
       "    <tr>\n",
       "      <th>2</th>\n",
       "      <td>Z6358782</td>\n",
       "      <td>1</td>\n",
       "      <td>100007763</td>\n",
       "      <td>0</td>\n",
       "      <td>0</td>\n",
       "      <td>0</td>\n",
       "      <td>e2/e3</td>\n",
       "      <td>0</td>\n",
       "    </tr>\n",
       "    <tr>\n",
       "      <th>3</th>\n",
       "      <td>Z6359488</td>\n",
       "      <td>16</td>\n",
       "      <td>100008569</td>\n",
       "      <td>19</td>\n",
       "      <td>0</td>\n",
       "      <td>1</td>\n",
       "      <td>e2/e3</td>\n",
       "      <td>0</td>\n",
       "    </tr>\n",
       "    <tr>\n",
       "      <th>4</th>\n",
       "      <td>Z6359758</td>\n",
       "      <td>25</td>\n",
       "      <td>100008870</td>\n",
       "      <td>0</td>\n",
       "      <td>0</td>\n",
       "      <td>0</td>\n",
       "      <td>e2/e3</td>\n",
       "      <td>0</td>\n",
       "    </tr>\n",
       "    <tr>\n",
       "      <th>...</th>\n",
       "      <td>...</td>\n",
       "      <td>...</td>\n",
       "      <td>...</td>\n",
       "      <td>...</td>\n",
       "      <td>...</td>\n",
       "      <td>...</td>\n",
       "      <td>...</td>\n",
       "      <td>...</td>\n",
       "    </tr>\n",
       "    <tr>\n",
       "      <th>13936</th>\n",
       "      <td>Z15306032</td>\n",
       "      <td>1</td>\n",
       "      <td>111523532</td>\n",
       "      <td>0</td>\n",
       "      <td>0</td>\n",
       "      <td>0</td>\n",
       "      <td>e4/e4</td>\n",
       "      <td>0</td>\n",
       "    </tr>\n",
       "    <tr>\n",
       "      <th>13937</th>\n",
       "      <td>Z15426107</td>\n",
       "      <td>6</td>\n",
       "      <td>112157856</td>\n",
       "      <td>8</td>\n",
       "      <td>0</td>\n",
       "      <td>1</td>\n",
       "      <td>e3/e4</td>\n",
       "      <td>1</td>\n",
       "    </tr>\n",
       "    <tr>\n",
       "      <th>13938</th>\n",
       "      <td>Z15538190</td>\n",
       "      <td>1</td>\n",
       "      <td>112478766</td>\n",
       "      <td>0</td>\n",
       "      <td>0</td>\n",
       "      <td>0</td>\n",
       "      <td>e3/e4</td>\n",
       "      <td>0</td>\n",
       "    </tr>\n",
       "    <tr>\n",
       "      <th>13939</th>\n",
       "      <td>Z15769512</td>\n",
       "      <td>3</td>\n",
       "      <td>113093596</td>\n",
       "      <td>0</td>\n",
       "      <td>0</td>\n",
       "      <td>0</td>\n",
       "      <td>e3/e4</td>\n",
       "      <td>0</td>\n",
       "    </tr>\n",
       "    <tr>\n",
       "      <th>13940</th>\n",
       "      <td>Z15811708</td>\n",
       "      <td>1</td>\n",
       "      <td>113149962</td>\n",
       "      <td>0</td>\n",
       "      <td>0</td>\n",
       "      <td>0</td>\n",
       "      <td>e3/e4</td>\n",
       "      <td>0</td>\n",
       "    </tr>\n",
       "  </tbody>\n",
       "</table>\n",
       "<p>13941 rows × 8 columns</p>\n",
       "</div>"
      ],
      "text/plain": [
       "      patient_id  num_sequences_patient       EMPI  Dx_Count  Med_Count  \\\n",
       "0       Z6354527                      2  100002765         0          0   \n",
       "1       Z6357384                      1  100006119         0          0   \n",
       "2       Z6358782                      1  100007763         0          0   \n",
       "3       Z6359488                     16  100008569        19          0   \n",
       "4       Z6359758                     25  100008870         0          0   \n",
       "...          ...                    ...        ...       ...        ...   \n",
       "13936  Z15306032                      1  111523532         0          0   \n",
       "13937  Z15426107                      6  112157856         8          0   \n",
       "13938  Z15538190                      1  112478766         0          0   \n",
       "13939  Z15769512                      3  113093596         0          0   \n",
       "13940  Z15811708                      1  113149962         0          0   \n",
       "\n",
       "       AD_Med_or_ICD_Code   APOE  predictions  \n",
       "0                       0  e2/e3            0  \n",
       "1                       0  e2/e3            0  \n",
       "2                       0  e2/e3            0  \n",
       "3                       1  e2/e3            0  \n",
       "4                       0  e2/e3            0  \n",
       "...                   ...    ...          ...  \n",
       "13936                   0  e4/e4            0  \n",
       "13937                   1  e3/e4            1  \n",
       "13938                   0  e3/e4            0  \n",
       "13939                   0  e3/e4            0  \n",
       "13940                   0  e3/e4            0  \n",
       "\n",
       "[13941 rows x 8 columns]"
      ]
     },
     "execution_count": 235,
     "metadata": {},
     "output_type": "execute_result"
    }
   ],
   "source": [
    "revised_patients.drop(columns = [\"patient_CI\"])"
   ]
  },
  {
   "cell_type": "code",
   "execution_count": 236,
   "metadata": {},
   "outputs": [
    {
     "data": {
      "text/plain": [
       "1051"
      ]
     },
     "execution_count": 236,
     "metadata": {},
     "output_type": "execute_result"
    }
   ],
   "source": [
    "TP = len(revised_patients[(revised_patients[\"predictions\"] == 1) & (revised_patients[\"AD_Med_or_ICD_Code\"] == 1)])"
   ]
  },
  {
   "cell_type": "code",
   "execution_count": 167,
   "metadata": {},
   "outputs": [
    {
     "name": "stdout",
     "output_type": "stream",
     "text": [
      "8480    Z6448542\n",
      "Name: PatientID, dtype: object\n"
     ]
    }
   ],
   "source": [
    "print(note.loc[note['id'] == 8481]['PatientID'])"
   ]
  },
  {
   "cell_type": "code",
   "execution_count": 237,
   "metadata": {},
   "outputs": [
    {
     "data": {
      "text/plain": [
       "1124"
      ]
     },
     "execution_count": 237,
     "metadata": {},
     "output_type": "execute_result"
    }
   ],
   "source": [
    "FP = len(revised_patients[(revised_patients[\"predictions\"] == 1) & (revised_patients[\"AD_Med_or_ICD_Code\"] == 0)])"
   ]
  },
  {
   "cell_type": "code",
   "execution_count": 238,
   "metadata": {},
   "outputs": [
    {
     "data": {
      "text/plain": [
       "11068"
      ]
     },
     "execution_count": 238,
     "metadata": {},
     "output_type": "execute_result"
    }
   ],
   "source": [
    "TN = len(revised_patients[(revised_patients[\"predictions\"] == 0) & (revised_patients[\"AD_Med_or_ICD_Code\"] == 0)])"
   ]
  },
  {
   "cell_type": "code",
   "execution_count": 239,
   "metadata": {},
   "outputs": [
    {
     "data": {
      "text/plain": [
       "698"
      ]
     },
     "execution_count": 239,
     "metadata": {},
     "output_type": "execute_result"
    }
   ],
   "source": [
    "FN = len(revised_patients[(revised_patients[\"predictions\"] == 0) & (revised_patients[\"AD_Med_or_ICD_Code\"] == 1)])"
   ]
  },
  {
   "cell_type": "markdown",
   "metadata": {},
   "source": [
    "## ROC-Curve"
   ]
  },
  {
   "cell_type": "code",
   "execution_count": 327,
   "metadata": {},
   "outputs": [
    {
     "data": {
      "text/plain": [
       "array([[1.89786225e-04, 9.95352136e-01, 4.45807811e-03],\n",
       "       [8.85389789e-04, 9.93789361e-01, 5.32524966e-03],\n",
       "       [9.96982926e-01, 2.90801022e-03, 1.09063819e-04],\n",
       "       [1.69947896e-03, 9.97076315e-01, 1.22420561e-03],\n",
       "       [3.04765747e-02, 1.39554647e-03, 9.68127879e-01],\n",
       "       [2.57131226e-03, 9.97408194e-01, 2.04940843e-05],\n",
       "       [5.29203957e-16, 1.00000000e+00, 2.69861989e-11],\n",
       "       [1.28158224e-12, 1.00000000e+00, 1.02179201e-10],\n",
       "       [7.75006015e-08, 9.99167632e-01, 8.32290405e-04],\n",
       "       [9.99160017e-01, 5.41025734e-05, 7.85880549e-04]])"
      ]
     },
     "execution_count": 327,
     "metadata": {},
     "output_type": "execute_result"
    }
   ],
   "source": [
    "pred_prob[:10]"
   ]
  },
  {
   "cell_type": "code",
   "execution_count": 326,
   "metadata": {},
   "outputs": [
    {
     "data": {
      "text/plain": [
       "array([1.89786225e-04, 8.85389789e-04, 9.96982926e-01, 1.69947896e-03,\n",
       "       3.04765747e-02, 2.57131226e-03, 5.29203957e-16, 1.28158224e-12,\n",
       "       7.75006015e-08, 9.99160017e-01, 2.88465660e-03, 2.67246659e-05,\n",
       "       9.99601114e-01, 6.02531087e-04, 7.06579085e-12, 9.06751700e-03,\n",
       "       4.86443001e-05, 5.67806408e-01, 9.98831620e-01, 4.29145143e-01,\n",
       "       5.18423443e-05, 1.97175911e-06, 9.86011739e-01, 1.76550242e-07,\n",
       "       1.61485417e-05, 9.56932566e-01, 9.95230108e-01, 3.09766926e-03,\n",
       "       2.04298196e-05, 4.97634542e-06, 3.27728370e-03, 1.33312495e-04,\n",
       "       1.80107732e-02, 1.12010545e-03, 9.90676080e-01, 9.97494939e-01,\n",
       "       1.02775497e-02, 1.60660237e-04, 8.03077557e-01, 9.98839277e-01,\n",
       "       5.86554259e-03, 3.14024594e-07, 9.65509508e-03, 1.49249445e-04,\n",
       "       9.99979219e-01, 9.99922202e-01, 9.82778000e-01, 9.97869399e-01,\n",
       "       8.81655033e-04, 4.76892928e-07, 3.24961684e-01, 8.50648316e-01,\n",
       "       1.03786960e-06, 5.62598970e-06, 1.96526254e-03, 6.00644058e-08,\n",
       "       9.83269571e-01, 1.26707516e-08, 1.23642478e-08, 1.41643353e-05,\n",
       "       3.56099966e-03, 9.98989958e-01, 5.86389629e-04, 2.07621707e-02,\n",
       "       3.11772083e-04, 1.00893641e-04, 1.71904785e-04, 4.37334595e-04,\n",
       "       2.31667716e-03, 1.25530448e-05, 2.23725819e-04, 9.36083709e-04,\n",
       "       7.06275671e-03, 3.79369042e-04, 8.60393473e-05, 2.54088027e-06,\n",
       "       5.61819059e-04, 7.93422839e-02, 9.97528022e-01, 3.00466207e-04,\n",
       "       9.97895172e-01, 9.96731541e-01, 1.41918054e-05, 3.82801099e-02,\n",
       "       9.98259141e-01, 8.84527342e-05, 9.96810122e-01, 1.44257606e-07,\n",
       "       9.97019438e-01, 2.10843716e-05, 9.10181782e-03, 8.91240110e-01,\n",
       "       5.98189185e-04, 2.24466817e-03, 2.85507084e-02, 2.25648538e-05,\n",
       "       9.98874375e-01, 9.94821727e-01, 9.91592329e-01, 9.95751428e-01,\n",
       "       8.73492151e-04, 2.60930395e-05, 9.82512552e-01, 4.08652938e-05,\n",
       "       1.05327343e-03, 1.59147886e-06, 9.99745611e-01, 7.53853527e-03,\n",
       "       2.11120878e-10, 1.93602191e-01, 3.61269267e-02, 8.76846433e-09,\n",
       "       6.10184368e-03, 9.80601605e-01, 3.98691663e-04, 2.98707283e-04,\n",
       "       9.61887723e-01, 9.77288031e-01, 7.96854682e-06, 2.14016519e-10,\n",
       "       6.36578610e-01, 9.99032097e-01, 7.72659337e-06, 9.88364951e-01,\n",
       "       8.00787656e-04, 9.93287845e-01, 1.17973351e-04, 7.13425046e-04,\n",
       "       7.00365271e-06, 3.55175438e-07, 7.75001110e-08, 5.98304874e-03,\n",
       "       4.08523942e-02, 3.02518193e-04, 4.65453260e-04, 1.03624145e-03,\n",
       "       9.94396500e-01, 1.03096220e-08, 9.99789203e-01, 1.15144317e-03,\n",
       "       2.27144336e-04, 6.02798361e-07, 4.06347982e-04, 4.64057870e-02,\n",
       "       3.47414845e-04, 9.86167051e-01, 1.01072633e-01, 2.21446056e-03,\n",
       "       5.32648350e-05, 9.99513042e-01, 3.29831518e-07, 1.18866585e-04,\n",
       "       1.75267749e-02, 1.01819329e-04, 8.60757776e-01, 1.04679981e-04,\n",
       "       1.69228881e-02, 8.90851372e-05, 4.04772691e-04, 2.71766462e-03,\n",
       "       2.52098575e-02, 3.39332097e-10, 4.68675726e-02, 9.99702227e-01,\n",
       "       5.58751029e-04, 1.04308430e-08, 1.72580481e-03, 2.18091109e-05,\n",
       "       7.78685718e-04, 9.89573235e-01, 9.73105259e-01, 9.08909459e-02,\n",
       "       6.97337898e-05, 1.28172537e-08, 9.92509941e-01, 6.68218064e-05,\n",
       "       1.98879829e-09, 9.59231311e-08, 1.71141124e-03, 5.85330871e-07,\n",
       "       1.64266198e-02, 9.12231566e-10, 5.89310166e-04, 3.83390887e-02,\n",
       "       2.21452341e-04, 1.02596619e-03, 4.64846292e-04, 9.89554998e-03,\n",
       "       9.95105759e-01, 9.98237139e-01, 3.14108554e-02, 8.00488521e-07,\n",
       "       1.12298243e-02, 3.97869811e-03, 8.48793093e-05, 5.34330187e-06,\n",
       "       9.99255034e-01, 9.92513400e-01, 9.25427950e-05, 1.45104803e-03,\n",
       "       8.38491481e-06, 6.99107785e-05, 7.72435421e-01, 4.77132893e-01,\n",
       "       2.11746529e-04, 8.56451654e-01, 9.52742401e-02, 9.53634351e-04,\n",
       "       5.80670070e-01, 1.91050441e-01, 7.21365557e-01, 6.19961391e-01,\n",
       "       1.85061465e-02, 3.81465398e-01, 3.53321534e-01, 8.99191463e-01,\n",
       "       5.91131076e-01, 4.78405879e-01, 2.48259842e-01, 7.28231358e-01,\n",
       "       3.63520371e-02, 3.31219197e-01, 9.71051759e-01, 5.84733253e-01,\n",
       "       2.79917700e-01, 9.54000156e-01, 2.83721157e-01, 7.51936022e-01,\n",
       "       1.30482262e-07, 9.00718115e-01, 8.95990508e-01, 5.40605403e-01,\n",
       "       1.21392613e-01, 7.83041907e-01, 4.34116821e-02, 8.41636486e-04,\n",
       "       2.79592588e-01, 2.02232419e-01, 9.29949756e-01, 3.50311405e-01,\n",
       "       8.71929927e-01, 4.16854436e-01, 3.18371127e-01, 7.94689778e-01,\n",
       "       6.88781976e-01, 9.31377583e-01, 7.71176527e-01, 8.99499367e-01,\n",
       "       8.12615143e-02, 2.68836848e-02, 5.66290171e-01, 7.14607547e-01,\n",
       "       7.08033847e-01, 6.21046536e-01, 1.96062298e-01, 2.66582915e-01,\n",
       "       1.13262491e-01, 3.07856845e-01, 9.71825864e-01, 8.85990601e-01,\n",
       "       8.23061199e-01, 7.63714347e-01, 7.87027233e-01, 4.24466443e-01,\n",
       "       8.60639915e-01, 1.75824467e-01, 5.51132939e-01, 8.00811321e-01,\n",
       "       9.05997100e-01, 5.32383224e-01, 2.40581440e-01, 6.78154253e-01,\n",
       "       1.61244889e-01, 2.62343041e-01, 1.48716378e-01, 9.75077495e-01,\n",
       "       9.57033423e-02, 7.68672339e-01, 1.13871121e-02, 2.72346186e-01,\n",
       "       1.01846860e-02, 1.18299421e-01, 7.62473453e-01, 6.70575302e-01,\n",
       "       3.88694923e-01, 7.56140316e-01, 6.51608850e-01, 4.94154637e-01,\n",
       "       1.33489436e-02, 7.14376513e-01, 4.90588065e-02, 2.26638432e-01,\n",
       "       5.17609793e-02])"
      ]
     },
     "execution_count": 326,
     "metadata": {},
     "output_type": "execute_result"
    }
   ],
   "source": [
    "pred_prob[:,0]"
   ]
  },
  {
   "cell_type": "code",
   "execution_count": 103,
   "metadata": {},
   "outputs": [
    {
     "data": {
      "image/png": "[encoded data removed]",
      "text/plain": [
       "<Figure size 432x288 with 1 Axes>"
      ]
     },
     "metadata": {
      "needs_background": "light"
     },
     "output_type": "display_data"
    },
    {
     "data": {
      "image/png": "[encoded data removed]",
      "text/plain": [
       "<Figure size 432x288 with 1 Axes>"
      ]
     },
     "metadata": {
      "needs_background": "light"
     },
     "output_type": "display_data"
    },
    {
     "data": {
      "image/png": "[encoded data removed]",
      "text/plain": [
       "<Figure size 432x288 with 1 Axes>"
      ]
     },
     "metadata": {
      "needs_background": "light"
     },
     "output_type": "display_data"
    }
   ],
   "source": [
    "n_class = 3\n",
    "\n",
    "pred_prob = lr.predict_proba(filtered_tfidf_test)\n",
    "\n",
    "fpr = {}\n",
    "tpr = {}\n",
    "thresh = {}\n",
    "roc_auc = {}\n",
    "\n",
    "for i in range(n_class):    \n",
    "    fpr[i], tpr[i], thresh[i] = metrics.roc_curve(y_test, pred_prob[:,i], pos_label = i)\n",
    "    roc_auc[i] = metrics.auc(fpr[i], tpr[i])\n",
    "    \n",
    "lw = 2\n",
    "\n",
    "# plotting    \n",
    "plt.plot(fpr[0], tpr[0], linestyle='--', color='orange', label='TF-IDF (area = %0.2f)' % roc_auc[0])\n",
    "plt.plot([0, 1], [0, 1], color='navy', lw=lw, linestyle='--')\n",
    "plt.xlabel('False Positive Rate')\n",
    "plt.ylabel('True Positive rate')\n",
    "plt.legend(loc='best')\n",
    "plt.show()\n",
    "\n",
    "plt.plot(fpr[1], tpr[1], linestyle='--',color='green', label='TF-IDF (area = %0.2f)' % roc_auc[1])\n",
    "plt.plot([0, 1], [0, 1], color='navy', lw=lw, linestyle='--')\n",
    "plt.xlabel('False Positive Rate')\n",
    "plt.ylabel('True Positive rate')\n",
    "plt.legend(loc='best')\n",
    "plt.show()\n",
    "\n",
    "plt.plot(fpr[2], tpr[2], linestyle='--',color='blue', label='TF-IDF (area = %0.2f)' % roc_auc[2])\n",
    "plt.plot([0, 1], [0, 1], color='navy', lw=lw, linestyle='--')\n",
    "plt.xlabel('False Positive Rate')\n",
    "plt.ylabel('True Positive rate')\n",
    "plt.legend(loc='best')\n",
    "plt.show()\n",
    "\n",
    "#plt.title('AUROC Curve for TF-IDF')\n",
    "\n",
    "#plt.savefig('AUROC Curve for TF-IDF', dpi = 300)"
   ]
  }
 ],
 "metadata": {
  "kernelspec": {
   "display_name": "Python 3",
   "language": "python",
   "name": "python3"
  },
  "language_info": {
   "codemirror_mode": {
    "name": "ipython",
    "version": 3
   },
   "file_extension": ".py",
   "mimetype": "text/x-python",
   "name": "python",
   "nbconvert_exporter": "python",
   "pygments_lexer": "ipython3",
   "version": "3.8.5"
  }
 },
 "nbformat": 4,
 "nbformat_minor": 4
}
