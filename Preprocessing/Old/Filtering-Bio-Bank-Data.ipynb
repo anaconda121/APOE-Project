{
 "cells": [
  {
   "cell_type": "code",
   "execution_count": null,
   "id": "12633758",
   "metadata": {},
   "outputs": [],
   "source": [
    "import pandas as pd\n",
    "import numpy as np\n",
    "from dateutil.relativedelta import *\n",
    "from datetime import date"
   ]
  },
  {
   "cell_type": "code",
   "execution_count": null,
   "id": "8d5e8f14",
   "metadata": {},
   "outputs": [],
   "source": [
    "df1 = pd.read_csv(r\"C:\\Users\\tanis\\Dropbox (Partners HealthCare)\\NLP\\BioBank\\sd587_03212118253982866_6375194824947826181_Dem.csv \")\n",
    "df2 = pd.read_csv(r\"C:\\Users\\tanis\\Dropbox (Partners HealthCare)\\NLP\\BioBank\\sd587_03212118253982866_6375194824947826182_Dem.csv\")"
   ]
  },
  {
   "cell_type": "code",
   "execution_count": null,
   "id": "5933ab8c",
   "metadata": {},
   "outputs": [],
   "source": [
    "dob = df1[\"Date_of_Birth\"].to_list()\n",
    "age = df1[\"Age\"].to_list()\n",
    "\n",
    "dob2 = df2[\"Date_of_Birth\"].to_list()\n",
    "age2 = df2[\"Age\"].to_list()"
   ]
  },
  {
   "cell_type": "code",
   "execution_count": null,
   "id": "9e12a39c",
   "metadata": {},
   "outputs": [],
   "source": [
    "def calc_age(dob):\n",
    "    birthday_list = dob.split(\"/\")\n",
    "    month = int(birthday_list[0])\n",
    "    day = int(birthday_list[1])\n",
    "    year = int(birthday_list[2])\n",
    "    #print(month, \"/\", day, \"/\", year)\n",
    "    today = date.today()\n",
    "    birthdate = date(year, month, day) #year/month/day\n",
    "    curr_age = relativedelta(today, birthdate)\n",
    "    return curr_age.years"
   ]
  },
  {
   "cell_type": "code",
   "execution_count": null,
   "id": "9aeaab83",
   "metadata": {},
   "outputs": [],
   "source": [
    "for i in range(len(dob)):\n",
    "    age[i] = calc_age(dob[i])\n",
    "\n",
    "for i in range(len(dob2)):\n",
    "    age2[i] = calc_age(dob2[i])"
   ]
  },
  {
   "cell_type": "code",
   "execution_count": null,
   "id": "8eb7e152",
   "metadata": {},
   "outputs": [],
   "source": [
    "df1[\"Age\"] = age\n",
    "df2[\"Age\"] = age2"
   ]
  },
  {
   "cell_type": "code",
   "execution_count": null,
   "id": "ff8bfa4d",
   "metadata": {},
   "outputs": [],
   "source": [
    "df1 = df1[df1[\"Age\"] > 60]\n",
    "df1.head()"
   ]
  },
  {
   "cell_type": "code",
   "execution_count": null,
   "id": "7d393cdb",
   "metadata": {},
   "outputs": [],
   "source": [
    "df2 = df2[df2[\"Age\"] > 60]\n",
    "df2.head()"
   ]
  },
  {
   "cell_type": "code",
   "execution_count": null,
   "id": "a6161a73",
   "metadata": {},
   "outputs": [],
   "source": [
    "df1.to_csv(r\"C:\\Users\\tanis\\OneDrive\\Desktop\\coding_projects\\ScienceResearch\\Sentence-Analysis\\EDA\\Getting_Data\\Biobank_filtered_csv\\file1.csv\")\n",
    "df2.to_csv(r\"C:\\Users\\tanis\\OneDrive\\Desktop\\coding_projects\\ScienceResearch\\Sentence-Analysis\\EDA\\Getting_Data\\Biobank_filtered_csv\\file2.csv\")"
   ]
  },
  {
   "cell_type": "code",
   "execution_count": null,
   "id": "de365bb0",
   "metadata": {},
   "outputs": [],
   "source": []
  }
 ],
 "metadata": {
  "kernelspec": {
   "display_name": "Python 3",
   "language": "python",
   "name": "python3"
  },
  "language_info": {
   "codemirror_mode": {
    "name": "ipython",
    "version": 3
   },
   "file_extension": ".py",
   "mimetype": "text/x-python",
   "name": "python",
   "nbconvert_exporter": "python",
   "pygments_lexer": "ipython3",
   "version": "3.8.5"
  }
 },
 "nbformat": 4,
 "nbformat_minor": 5
}
