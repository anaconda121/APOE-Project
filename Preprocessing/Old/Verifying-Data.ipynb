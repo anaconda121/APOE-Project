{
 "cells": [
  {
   "cell_type": "code",
   "execution_count": null,
   "id": "fb82fce1",
   "metadata": {},
   "outputs": [],
   "source": [
    "import pandas as pd\n",
    "import pandas.io.sql as psql\n",
    "import os\n",
    "import sys\n",
    "from datetime import date\n",
    "current_date = date.today()\n",
    "#%load_ext autotime\n",
    "import re\n",
    "import csv\n",
    "import pandas as pd\n",
    "import numpy as np\n",
    "import os\n",
    "from glob import glob\n",
    "from tqdm import tqdm\n",
    "import matplotlib.pyplot as plt\n",
    "#from matplotlib_venn import venn2, venn3\n",
    "import warnings\n",
    "import time\n",
    "import datetime as dt\n",
    "import itertools\n",
    "from more_itertools import unique_everseen\n",
    "warnings.filterwarnings(\"ignore\")\n",
    "#import pandasql as ps\n",
    "import seaborn as sns\n",
    "import json\n",
    "from ast import literal_eval\n",
    "import ast"
   ]
  },
  {
   "cell_type": "code",
   "execution_count": null,
   "id": "fd819965",
   "metadata": {},
   "outputs": [],
   "source": [
    "total = pd.read_csv(r\"C:\\Users\\MIND_DS\\Dropbox (Partners HealthCare)\\NLP\\Tanish\\BigDataSets\\Regex_match\\total_summary_stats_updated_7_6_2021.csv\")"
   ]
  },
  {
   "cell_type": "code",
   "execution_count": null,
   "id": "4aaef8a9",
   "metadata": {},
   "outputs": [],
   "source": [
    "total"
   ]
  },
  {
   "cell_type": "code",
   "execution_count": null,
   "id": "9b47fa39",
   "metadata": {},
   "outputs": [],
   "source": [
    "one = total[total[\"Unique_Encounters\"] == 1]\n",
    "head_100 = one[:100]"
   ]
  },
  {
   "cell_type": "code",
   "execution_count": null,
   "id": "34c86108",
   "metadata": {},
   "outputs": [],
   "source": [
    "m1 = pd.read_csv(r\"C:\\Users\\MIND_DS\\Dropbox (Partners HealthCare)\\NLP\\Tanish\\BigDataSets\\Regex_match\\1\\Padded_Matches\\apoe_1_not_padded_matches.csv\")\n",
    "m2 = pd.read_csv(r\"C:\\Users\\MIND_DS\\Dropbox (Partners HealthCare)\\NLP\\Tanish\\BigDataSets\\Regex_match\\2\\Padded_Matches\\apoe_2_not_padded_matches.csv\")\n",
    "m3 = pd.read_csv(r\"C:\\Users\\MIND_DS\\Dropbox (Partners HealthCare)\\NLP\\Tanish\\BigDataSets\\Regex_match\\3\\Padded_Matches\\apoe_3_not_padded_matches.csv\")\n",
    "m4 = pd.read_csv(r\"C:\\Users\\MIND_DS\\Dropbox (Partners HealthCare)\\NLP\\Tanish\\BigDataSets\\Regex_match\\4\\Padded_Matches\\apoe_4_not_padded_matches.csv\")\n",
    "m5 = pd.read_csv(r\"C:\\Users\\MIND_DS\\Dropbox (Partners HealthCare)\\NLP\\Tanish\\BigDataSets\\Regex_match\\5\\Padded_Matches\\apoe_5_not_padded_matches.csv\")"
   ]
  },
  {
   "cell_type": "code",
   "execution_count": null,
   "id": "0d4f02bb",
   "metadata": {},
   "outputs": [],
   "source": [
    "frames = [m1, m2, m3, m4, m5]\n",
    "merged = pd.concat(frames)"
   ]
  },
  {
   "cell_type": "code",
   "execution_count": null,
   "id": "3894e1a2",
   "metadata": {},
   "outputs": [],
   "source": [
    "merged['note_char_count'] = merged['NoteTXT'].str.len()"
   ]
  },
  {
   "cell_type": "code",
   "execution_count": null,
   "id": "3a4d8ad9",
   "metadata": {},
   "outputs": [],
   "source": [
    "merged.head()"
   ]
  },
  {
   "cell_type": "code",
   "execution_count": null,
   "id": "69f95340",
   "metadata": {},
   "outputs": [],
   "source": [
    "m1_2 = pd.read_csv(r\"C:\\Users\\MIND_DS\\Dropbox (Partners HealthCare)\\NLP\\Tanish\\BigDataSets\\Regex_match\\1\\Padded_Matches\\apoe_1_padded_matches.csv\")\n",
    "m2_2 = pd.read_csv(r\"C:\\Users\\MIND_DS\\Dropbox (Partners HealthCare)\\NLP\\Tanish\\BigDataSets\\Regex_match\\2\\Padded_Matches\\apoe_2_padded_matches.csv\")\n",
    "m3_2 = pd.read_csv(r\"C:\\Users\\MIND_DS\\Dropbox (Partners HealthCare)\\NLP\\Tanish\\BigDataSets\\Regex_match\\3\\Padded_Matches\\apoe_3_padded_matches.csv\")\n",
    "m4_2 = pd.read_csv(r\"C:\\Users\\MIND_DS\\Dropbox (Partners HealthCare)\\NLP\\Tanish\\BigDataSets\\Regex_match\\4\\Padded_Matches\\apoe_4_padded_matches.csv\")\n",
    "m5_2 = pd.read_csv(r\"C:\\Users\\MIND_DS\\Dropbox (Partners HealthCare)\\NLP\\Tanish\\BigDataSets\\Regex_match\\5\\Padded_Matches\\apoe_5_padded_matches.csv\")"
   ]
  },
  {
   "cell_type": "code",
   "execution_count": null,
   "id": "66b8c969",
   "metadata": {},
   "outputs": [],
   "source": [
    "frames_2 = [m1_2, m2_2, m3_2, m4_2, m5_2]\n",
    "merged_2 = pd.concat(frames_2)"
   ]
  },
  {
   "cell_type": "code",
   "execution_count": null,
   "id": "57d4169a",
   "metadata": {},
   "outputs": [],
   "source": [
    "merged_2['note_char_count'] = merged_2['NoteTXT'].str.len()"
   ]
  },
  {
   "cell_type": "code",
   "execution_count": null,
   "id": "c1387882",
   "metadata": {},
   "outputs": [],
   "source": [
    "merged_2 = merged_2.drop(columns = ['sequence_level_regex_location', 'sequence_level_regex_match', 'char_count'])"
   ]
  },
  {
   "cell_type": "code",
   "execution_count": null,
   "id": "fe589d4d",
   "metadata": {},
   "outputs": [],
   "source": [
    "merged_2.head()"
   ]
  },
  {
   "cell_type": "code",
   "execution_count": null,
   "id": "76c8d6fd",
   "metadata": {},
   "outputs": [],
   "source": [
    "merged.columns = merged.columns"
   ]
  },
  {
   "cell_type": "code",
   "execution_count": null,
   "id": "186a041a",
   "metadata": {},
   "outputs": [],
   "source": [
    "merged['note_char_count'] = merged['NoteTXT'].str.len()"
   ]
  },
  {
   "cell_type": "code",
   "execution_count": null,
   "id": "1a4b83a1",
   "metadata": {},
   "outputs": [],
   "source": [
    "merged[\"padded_merged_regex_sent\"] = merged[\"merged_regex_sent\"]"
   ]
  },
  {
   "cell_type": "code",
   "execution_count": null,
   "id": "ebd9adef",
   "metadata": {},
   "outputs": [],
   "source": [
    "merged.head()"
   ]
  },
  {
   "cell_type": "code",
   "execution_count": null,
   "id": "343f8f39",
   "metadata": {},
   "outputs": [],
   "source": [
    "frames3 = [merged, merged_2]\n",
    "total = pd.concat(frames3)"
   ]
  },
  {
   "cell_type": "code",
   "execution_count": null,
   "id": "9c25260f",
   "metadata": {},
   "outputs": [],
   "source": [
    "len(total)"
   ]
  },
  {
   "cell_type": "code",
   "execution_count": null,
   "id": "241457fa",
   "metadata": {},
   "outputs": [],
   "source": [
    "total.head()"
   ]
  },
  {
   "cell_type": "code",
   "execution_count": null,
   "id": "f1bb78f2",
   "metadata": {},
   "outputs": [],
   "source": [
    "k = regex[\"REGEX\"].to_list()\n",
    "c = regex[\"CASE\"].to_list()\n",
    "p_list = []\n",
    "\n",
    "for i in range(len(k)):\n",
    "    if (c[i] == 0):\n",
    "        p_list.append(re.compile(k[i][5:], re.IGNORECASE))\n",
    "    elif (c[i] == 1):\n",
    "        p_list.append(re.compile(k[i]))\n",
    "print(p_list)"
   ]
  },
  {
   "cell_type": "code",
   "execution_count": null,
   "id": "4c947cee",
   "metadata": {},
   "outputs": [],
   "source": [
    "t"
   ]
  },
  {
   "cell_type": "code",
   "execution_count": null,
   "id": "f37afb8d",
   "metadata": {},
   "outputs": [],
   "source": [
    "l = []\n",
    "for note in tqdm(t[\"padded_merged_regex_sent\"]):\n",
    "    curr = []\n",
    "    for p in (p_list):\n",
    "        m = list(set(re.findall(p, note)))\n",
    "        m = list(set(map(str.lower, m)))\n",
    "        if (m != []):\n",
    "            curr.append(\"\".join(m))\n",
    "    #print(curr)\n",
    "    #print(l)\n",
    "    l.append(str(curr))\n",
    "\n",
    "t[\"padded_regex_match\"] = l"
   ]
  },
  {
   "cell_type": "code",
   "execution_count": null,
   "id": "5f0bac42",
   "metadata": {},
   "outputs": [],
   "source": [
    "t[\"NoteID\"]"
   ]
  },
  {
   "cell_type": "code",
   "execution_count": null,
   "id": "fa411327",
   "metadata": {},
   "outputs": [],
   "source": [
    "unique_empi = total[\"EMPI\"].unique()\n",
    "unique_empi = list(unique_empi)\n",
    "len(unique_empi)"
   ]
  },
  {
   "cell_type": "code",
   "execution_count": null,
   "id": "8d72458a",
   "metadata": {},
   "outputs": [],
   "source": [
    "cols =  ['dementia', 'cognition', 'memory', 'mmse', 'moca', 'alzheimer', 'cognitive impairment', 'mci', 'cerebellar', 'neurocognitive', 'lewy', \"pick's\",  'corticobasal', 'cerebral', 'cerebrovascular', 'amnesia', 'ad', 'lbd']\n",
    "len(cols)"
   ]
  },
  {
   "cell_type": "code",
   "execution_count": null,
   "id": "4f7701c9",
   "metadata": {},
   "outputs": [],
   "source": [
    "summary_stats  = pd.DataFrame(pd.np.empty((len(unique_ids), len(cols))) * pd.np.nan) \n",
    "summary_stats.columns = cols"
   ]
  },
  {
   "cell_type": "code",
   "execution_count": null,
   "id": "12af5f03",
   "metadata": {},
   "outputs": [],
   "source": [
    "summary_stats"
   ]
  },
  {
   "cell_type": "code",
   "execution_count": null,
   "id": "e0efe153",
   "metadata": {},
   "outputs": [],
   "source": [
    "summary_stats_seq  = pd.DataFrame(pd.np.empty((len(t), len(cols)+3)) * pd.np.nan) "
   ]
  },
  {
   "cell_type": "code",
   "execution_count": null,
   "id": "3483309f",
   "metadata": {},
   "outputs": [],
   "source": [
    "summary_stats_seq.columns = ['EMPI', 'EncounterID', 'NoteID'] + list(cols)"
   ]
  },
  {
   "cell_type": "code",
   "execution_count": null,
   "id": "6118d53c",
   "metadata": {},
   "outputs": [],
   "source": [
    "summary_stats_seq"
   ]
  },
  {
   "cell_type": "code",
   "execution_count": null,
   "id": "6658a321",
   "metadata": {},
   "outputs": [],
   "source": [
    "summary_stats_seq[\"EMPI\"] = t[\"EMPI\"].to_list()"
   ]
  },
  {
   "cell_type": "code",
   "execution_count": null,
   "id": "13b98c2a",
   "metadata": {},
   "outputs": [],
   "source": [
    "summary_stats_seq[\"EncounterID\"] = t[\"PatientEncounterID\"].to_list()"
   ]
  },
  {
   "cell_type": "code",
   "execution_count": null,
   "id": "0415aa53",
   "metadata": {},
   "outputs": [],
   "source": [
    "summary_stats_seq[\"NoteID\"]  = t[\"NoteID\"].to_list()"
   ]
  },
  {
   "cell_type": "code",
   "execution_count": null,
   "id": "cc8217d7",
   "metadata": {},
   "outputs": [],
   "source": [
    "len(t)"
   ]
  },
  {
   "cell_type": "code",
   "execution_count": null,
   "id": "efda5f49",
   "metadata": {},
   "outputs": [],
   "source": [
    "t.columns"
   ]
  },
  {
   "cell_type": "code",
   "execution_count": null,
   "id": "cf7f6b82",
   "metadata": {},
   "outputs": [],
   "source": [
    "len(t[\"padded_regex_match\"])"
   ]
  },
  {
   "cell_type": "code",
   "execution_count": null,
   "id": "82232954",
   "metadata": {},
   "outputs": [],
   "source": [
    "# len(list(eval(t['padded_regex_match'][40305])))"
   ]
  },
  {
   "cell_type": "code",
   "execution_count": null,
   "id": "f880da39",
   "metadata": {},
   "outputs": [],
   "source": [
    "match_tuples = []\n",
    "keyword_list = []\n",
    "\n",
    "if (len(list(eval(t['padded_regex_match'][270000]))) == 1):\n",
    "    keyword_list = list(eval(t['padded_regex_match'][i]))\n",
    "    for z in range(len(keyword_list)):\n",
    "        match_tuples.append((keyword_list[z], 0))\n",
    "else:\n",
    "    keyword_list = list((t['padded_regex_match'][i].values))\n",
    "    #print(\"KL: \", keyword_list)\n",
    "    for j in range(len(keyword_list)):\n",
    "        sub = \"\\', \\'\"\n",
    "        x = list(eval(keyword_list[j]))# [2:len(keyword_list[j])-2]\n",
    "        for z in range(len(x)):\n",
    "            match_tuples.append((x[z], 0))\n",
    "#print(\"MT: \", match_tuples)\n",
    "\n",
    "freq = {\"dementia\":0\n",
    "    ,\"cognition\":0\n",
    "    ,\"cognition\":0\n",
    "    ,\"memory\":0\n",
    "    ,\"mmse\":0\n",
    "    ,\"moca\":0\n",
    "    ,\"alzheimer\":0\n",
    "    ,'cognitive impairment':0\n",
    "    ,\"mci\":0\n",
    "    ,\"cerebellar\":0\n",
    "    ,\"neurocognitive\":0\n",
    "    ,\"lewy\":0\n",
    "    ,\"pick's\":0\n",
    "    ,\"corticobasal\":0\n",
    "    ,\"cerebral\":0\n",
    "    ,\"cerebrovascular\":0\n",
    "    ,\"amnesia\":0\n",
    "    ,\"ad\": 0\n",
    "    ,\"lbd\": 0\n",
    "}\n",
    "\n",
    "for k, v in match_tuples:   \n",
    "    if (k != ''):\n",
    "        if (k == 'cognitive impairmentcognitiveimpairment' or k == 'cognitiveimpairmentcognitive impairment'):\n",
    "            k = 'cognitive impairment'\n",
    "            freq.update({str(k.lower()):int(freq[k.lower()] + 1)})\n",
    "        else:\n",
    "            freq.update({str(k.lower()):int(freq[k.lower()] + 1)})\n",
    "\n",
    "#print(freq.items())\n",
    "#print(summary_stats[\"dementia\"])\n",
    "for k, v in freq.items():\n",
    "    #print(str(k.lower()))\n",
    "    summary_stats_seq[str(k.lower())][i] = int(v)\n",
    "freq"
   ]
  },
  {
   "cell_type": "code",
   "execution_count": null,
   "id": "8d2986a2",
   "metadata": {},
   "outputs": [],
   "source": [
    "for i in tqdm(range(len(t))):\n",
    "    match_tuples = []\n",
    "    keyword_list = []\n",
    "    \n",
    "    if (len(list(eval(t['padded_regex_match'][i]))) == 1):\n",
    "        keyword_list = list(eval(t['padded_regex_match'][i]))\n",
    "        for z in range(len(keyword_list)):\n",
    "            match_tuples.append((keyword_list[z], 0))\n",
    "    else:\n",
    "        keyword_list = list((t['padded_regex_match'][i].values))\n",
    "        #print(\"KL: \", keyword_list)\n",
    "        for j in range(len(keyword_list)):\n",
    "            sub = \"\\', \\'\"\n",
    "            x = list(eval(keyword_list[j]))# [2:len(keyword_list[j])-2]\n",
    "            for z in range(len(x)):\n",
    "                match_tuples.append((x[z], 0))\n",
    "    #print(\"MT: \", match_tuples)\n",
    "\n",
    "    freq = {\"dementia\":0\n",
    "        ,\"cognition\":0\n",
    "        ,\"cognition\":0\n",
    "        ,\"memory\":0\n",
    "        ,\"mmse\":0\n",
    "        ,\"moca\":0\n",
    "        ,\"alzheimer\":0\n",
    "        ,'cognitive impairment':0\n",
    "        ,\"mci\":0\n",
    "        ,\"cerebellar\":0\n",
    "        ,\"neurocognitive\":0\n",
    "        ,\"lewy\":0\n",
    "        ,\"pick's\":0\n",
    "        ,\"corticobasal\":0\n",
    "        ,\"cerebral\":0\n",
    "        ,\"cerebrovascular\":0\n",
    "        ,\"amnesia\":0\n",
    "        ,\"ad\": 0\n",
    "        ,\"lbd\": 0\n",
    "    }\n",
    "\n",
    "    for k, v in match_tuples:   \n",
    "        if (k != ''):\n",
    "            if (k == 'cognitive impairmentcognitiveimpairment' or k == 'cognitiveimpairmentcognitive impairment'):\n",
    "                k = 'cognitive impairment'\n",
    "                freq.update({str(k.lower()):int(freq[k.lower()] + 1)})\n",
    "            else:\n",
    "                freq.update({str(k.lower()):int(freq[k.lower()] + 1)})\n",
    "            \n",
    "    #print(freq.items())\n",
    "    #print(summary_stats[\"dementia\"])\n",
    "    for k, v in freq.items():\n",
    "        #print(str(k.lower()))\n",
    "        summary_stats_seq[str(k.lower())][i] = int(v)"
   ]
  },
  {
   "cell_type": "code",
   "execution_count": null,
   "id": "655dbe86",
   "metadata": {},
   "outputs": [],
   "source": [
    "summary_stats"
   ]
  },
  {
   "cell_type": "code",
   "execution_count": null,
   "id": "20d00738",
   "metadata": {},
   "outputs": [],
   "source": [
    "summary_stats.to_csv(r\"C:\\Users\\MIND_DS\\Dropbox (Partners HealthCare)\\NLP\\Tanish\\BigDataSets\\Regex_match\\totals_FINAL_7:13.csv\")"
   ]
  },
  {
   "cell_type": "markdown",
   "id": "921a6f53",
   "metadata": {},
   "source": [
    "## Getting # of Unique Encounters Per EMPI"
   ]
  },
  {
   "cell_type": "code",
   "execution_count": null,
   "id": "eb70bd74",
   "metadata": {},
   "outputs": [],
   "source": [
    "summary_stats[\"encounter_count\"] = [0] * len(unique_empi)"
   ]
  },
  {
   "cell_type": "code",
   "execution_count": null,
   "id": "bb54bd49",
   "metadata": {},
   "outputs": [],
   "source": [
    "for i in tqdm(range(len(unique_empi))):\n",
    "    query = merged_2[merged_2[\"EMPI\"] == unique_empi[i]]\n",
    "    summary_stats[\"encounter_count\"][i] = len(query)"
   ]
  },
  {
   "cell_type": "code",
   "execution_count": null,
   "id": "1630f399",
   "metadata": {},
   "outputs": [],
   "source": [
    "summary_stats[\"EMPI\"] = unique_empi"
   ]
  },
  {
   "cell_type": "code",
   "execution_count": null,
   "id": "7e7cdfe5",
   "metadata": {},
   "outputs": [],
   "source": [
    "summary_stats.head()"
   ]
  },
  {
   "cell_type": "code",
   "execution_count": null,
   "id": "5c870fa6",
   "metadata": {},
   "outputs": [],
   "source": [
    "summary_stats.to_csv(r\"C:\\Users\\MIND_DS\\Dropbox (Partners HealthCare)\\NLP\\Tanish\\BigDataSets\\Regex_match\\totals_everything.csv\")"
   ]
  },
  {
   "cell_type": "code",
   "execution_count": null,
   "id": "834d43d9",
   "metadata": {},
   "outputs": [],
   "source": [
    "totals = pd.read_excel(r\"C:\\Users\\MIND_DS\\Dropbox (Partners HealthCare)\\NLP\\Tanish\\BigDataSets\\Regex_match\\100_patients_verification.xlsx\", sheet_name = \"Sheet1\", index_col = 0)"
   ]
  },
  {
   "cell_type": "code",
   "execution_count": null,
   "id": "a5512546",
   "metadata": {},
   "outputs": [],
   "source": [
    "len(totals[\"PatientEncounterID\"].unique())"
   ]
  },
  {
   "cell_type": "code",
   "execution_count": null,
   "id": "cfccce4b",
   "metadata": {},
   "outputs": [],
   "source": [
    "len(totals[\"merged_regex_sent\"].unique())"
   ]
  },
  {
   "cell_type": "markdown",
   "id": "dea62dac",
   "metadata": {},
   "source": [
    "## Compiling Table 1"
   ]
  },
  {
   "cell_type": "code",
   "execution_count": null,
   "id": "871356b5",
   "metadata": {},
   "outputs": [],
   "source": [
    "regex = pd.read_csv(r\"C:\\Users\\MIND_DS\\Dropbox (Partners HealthCare)\\NLP\\Tanish\\APOE-SLAT\\EDA\\Getting_Data\\keywords.csv\")"
   ]
  },
  {
   "cell_type": "code",
   "execution_count": null,
   "id": "4b3ef074",
   "metadata": {},
   "outputs": [],
   "source": [
    "len(regex)"
   ]
  },
  {
   "cell_type": "code",
   "execution_count": null,
   "id": "9ba82ae7",
   "metadata": {},
   "outputs": [],
   "source": [
    "keywords = pd.DataFrame(pd.np.empty((len(regex), 2)) * pd.np.nan)"
   ]
  },
  {
   "cell_type": "code",
   "execution_count": null,
   "id": "9fdf7396",
   "metadata": {},
   "outputs": [],
   "source": [
    "keywords.columns = [\"keyword\", \"match_count\"]"
   ]
  },
  {
   "cell_type": "code",
   "execution_count": null,
   "id": "9ca4f785",
   "metadata": {},
   "outputs": [],
   "source": [
    "keywords[\"keyword\"] = summary_stats.columns\n",
    "keywords[\"match_count\"] = [36301, 73923, 82148, 5131, 3876, 13353, 11722, 1758, 18311, 3095, 1431, 23, 48, 33640, 22099, 2686, 705, 53]"
   ]
  },
  {
   "cell_type": "code",
   "execution_count": null,
   "id": "89fddd99",
   "metadata": {},
   "outputs": [],
   "source": [
    "keywords"
   ]
  },
  {
   "cell_type": "code",
   "execution_count": null,
   "id": "344c2cc1",
   "metadata": {},
   "outputs": [],
   "source": [
    "keywords.to_excel(r\"C:\\Users\\MIND_DS\\Dropbox (Partners HealthCare)\\NLP\\Tanish\\BigDataSets\\Regex_match\\FINAL\\keywords.xlsx\")"
   ]
  },
  {
   "cell_type": "code",
   "execution_count": null,
   "id": "3ad3e5ad",
   "metadata": {},
   "outputs": [],
   "source": [
    "dem1 = pd.read_csv(r\"C:\\Users\\MIND_DS\\Dropbox (Partners HealthCare)\\NLP\\BioBank\\sd587_03212118253982866_6375194824947826181_Dem.csv\")"
   ]
  },
  {
   "cell_type": "code",
   "execution_count": null,
   "id": "ba5220e8",
   "metadata": {},
   "outputs": [],
   "source": [
    "dem1.head()"
   ]
  },
  {
   "cell_type": "code",
   "execution_count": null,
   "id": "0c67ca87",
   "metadata": {},
   "outputs": [],
   "source": [
    "dem2 = pd.read_csv(r\"C:\\Users\\MIND_DS\\Dropbox (Partners HealthCare)\\NLP\\BioBank\\sd587_03212118253982866_6375194824947826182_Dem.csv\")"
   ]
  },
  {
   "cell_type": "code",
   "execution_count": null,
   "id": "44060cbb",
   "metadata": {},
   "outputs": [],
   "source": [
    "file1 = pd.read_csv(r\"C:\\Users\\MIND_DS\\Dropbox (Partners HealthCare)\\NLP\\Tanish\\APOE-SLAT\\EDA\\Getting_Data\\Biobank_filtered_csv\\file1.csv\")\n",
    "file2 = pd.read_csv(r\"C:\\Users\\MIND_DS\\Dropbox (Partners HealthCare)\\NLP\\Tanish\\APOE-SLAT\\EDA\\Getting_Data\\Biobank_filtered_csv\\file2.csv\")"
   ]
  },
  {
   "cell_type": "code",
   "execution_count": null,
   "id": "91c177b4",
   "metadata": {},
   "outputs": [],
   "source": [
    "dem = pd.concat([file1, file2])"
   ]
  },
  {
   "cell_type": "code",
   "execution_count": null,
   "id": "e2f699e9",
   "metadata": {},
   "outputs": [],
   "source": [
    "dem = dem[['EMPI', 'Age']]\n",
    "dem.head()"
   ]
  },
  {
   "cell_type": "code",
   "execution_count": null,
   "id": "6134fc67",
   "metadata": {},
   "outputs": [],
   "source": [
    "bib1 = pd.read_csv(r\"C:\\Users\\MIND_DS\\Dropbox (Partners HealthCare)\\NLP\\BioBank\\sd587_03212118253982866_6375194824947826182_Bib.csv\")"
   ]
  },
  {
   "cell_type": "code",
   "execution_count": null,
   "id": "68c86b7a",
   "metadata": {},
   "outputs": [],
   "source": [
    "bib2 = pd.read_csv(r\"C:\\Users\\MIND_DS\\Dropbox (Partners HealthCare)\\NLP\\BioBank\\sd587_03212118253982866_6375194824947826181_Bib.csv\")"
   ]
  },
  {
   "cell_type": "code",
   "execution_count": null,
   "id": "6396cfb6",
   "metadata": {},
   "outputs": [],
   "source": [
    "bib1.head()"
   ]
  },
  {
   "cell_type": "code",
   "execution_count": null,
   "id": "b9d7191a",
   "metadata": {},
   "outputs": [],
   "source": [
    "bib2.head()"
   ]
  },
  {
   "cell_type": "code",
   "execution_count": null,
   "id": "aa7123bd",
   "metadata": {},
   "outputs": [],
   "source": [
    "bib = pd.concat([bib1, bib2])\n",
    "bib = bib[[\"Subject_Id\", \"EMPI\"]]"
   ]
  },
  {
   "cell_type": "code",
   "execution_count": null,
   "id": "c1a280fe",
   "metadata": {},
   "outputs": [],
   "source": [
    "bib.head()"
   ]
  },
  {
   "cell_type": "code",
   "execution_count": null,
   "id": "144072be",
   "metadata": {},
   "outputs": [],
   "source": [
    "len(bib[\"EMPI\"].unique())"
   ]
  },
  {
   "cell_type": "code",
   "execution_count": null,
   "id": "f4b4950b",
   "metadata": {},
   "outputs": [],
   "source": [
    "apoe = pd.read_csv(r\"C:\\Users\\MIND_DS\\Dropbox (Partners HealthCare)\\NLP\\BioBank\\Partners_biobank_APOE_nodup.csv\")\n",
    "apoe.columns"
   ]
  },
  {
   "cell_type": "code",
   "execution_count": null,
   "id": "76747696",
   "metadata": {},
   "outputs": [],
   "source": [
    "apoe.head()"
   ]
  },
  {
   "cell_type": "code",
   "execution_count": null,
   "id": "00d25170",
   "metadata": {},
   "outputs": [],
   "source": [
    "empi = pd.DataFrame(unique_empi)\n",
    "empi.columns = ['EMPI']"
   ]
  },
  {
   "cell_type": "code",
   "execution_count": null,
   "id": "5fe476cb",
   "metadata": {},
   "outputs": [],
   "source": [
    "empi.head()"
   ]
  },
  {
   "cell_type": "code",
   "execution_count": null,
   "id": "99d5f6a4",
   "metadata": {},
   "outputs": [],
   "source": [
    "empi = pd.merge(empi, dem, left_on = 'EMPI', right_on = 'EMPI', how = 'left')"
   ]
  },
  {
   "cell_type": "code",
   "execution_count": null,
   "id": "1288e993",
   "metadata": {},
   "outputs": [],
   "source": [
    "empi.head()"
   ]
  },
  {
   "cell_type": "code",
   "execution_count": null,
   "id": "c2d8612f",
   "metadata": {},
   "outputs": [],
   "source": [
    "dem[dem['EMPI'] == 100001150]"
   ]
  },
  {
   "cell_type": "code",
   "execution_count": null,
   "id": "e2074cdb",
   "metadata": {},
   "outputs": [],
   "source": [
    "empi = pd.merge(empi, bib, left_on = 'EMPI', right_on = 'EMPI', how = 'left')"
   ]
  },
  {
   "cell_type": "code",
   "execution_count": null,
   "id": "e310e956",
   "metadata": {},
   "outputs": [],
   "source": [
    "len(empi)"
   ]
  },
  {
   "cell_type": "code",
   "execution_count": null,
   "id": "e32f6318",
   "metadata": {},
   "outputs": [],
   "source": [
    "apoe.columns = ['Subject_Id', 'Gender', 'Age', 'Race', 'Ethnicity', 'Vital Status',\n",
    "       'array_mega', 'array_meg', 'array_gsa', 'array_mega_ex',\n",
    "       'Affection.Status', 'fa_had_AD', 'mo_had_AD', 'sib_had_AD', 'rs7412_T',\n",
    "       'rs429358_C', 'APOE', 'EMPI', 'DOB', 'Age.1', 'Vital_Status',\n",
    "       'APOE_dosage', 'AD status']"
   ]
  },
  {
   "cell_type": "code",
   "execution_count": null,
   "id": "86616f53",
   "metadata": {},
   "outputs": [],
   "source": [
    "apoe.head()"
   ]
  },
  {
   "cell_type": "code",
   "execution_count": null,
   "id": "082608f6",
   "metadata": {},
   "outputs": [],
   "source": [
    "empi.columns"
   ]
  },
  {
   "cell_type": "code",
   "execution_count": null,
   "id": "10247290",
   "metadata": {},
   "outputs": [],
   "source": [
    "empi = pd.merge(empi, apoe, left_on = 'Subject_Id', right_on = 'Subject_Id', how = 'left')"
   ]
  },
  {
   "cell_type": "code",
   "execution_count": null,
   "id": "4dbe58e3",
   "metadata": {},
   "outputs": [],
   "source": [
    "empi.head()"
   ]
  },
  {
   "cell_type": "code",
   "execution_count": null,
   "id": "151db306",
   "metadata": {},
   "outputs": [],
   "source": [
    "empi[\"Vital_Status\"].value_counts()"
   ]
  },
  {
   "cell_type": "code",
   "execution_count": null,
   "id": "441bde9e",
   "metadata": {},
   "outputs": [],
   "source": [
    "empi = empi.drop(['Age_y', 'EMPI_y', 'Age.1', 'Vital_Status'], axis = 1)"
   ]
  },
  {
   "cell_type": "code",
   "execution_count": null,
   "id": "43ae7911",
   "metadata": {},
   "outputs": [],
   "source": [
    "empi.columns = ['EMPI', 'Age', 'Subject_Id', 'Gender', 'Race', 'Ethnicity',\n",
    "       'Vital_Status', 'array_mega', 'array_meg', 'array_gsa', 'array_mega_ex',\n",
    "       'Affection.Status', 'fa_had_AD', 'mo_had_AD', 'sib_had_AD', 'rs7412_T',\n",
    "       'rs429358_C', 'APOE', 'DOB', 'APOE_dosage', 'AD status']"
   ]
  },
  {
   "cell_type": "code",
   "execution_count": null,
   "id": "5d280bd9",
   "metadata": {},
   "outputs": [],
   "source": [
    "len(empi)"
   ]
  },
  {
   "cell_type": "code",
   "execution_count": null,
   "id": "907a2da9",
   "metadata": {},
   "outputs": [],
   "source": [
    "len(unique_empi)"
   ]
  },
  {
   "cell_type": "code",
   "execution_count": null,
   "id": "4926f7cc",
   "metadata": {},
   "outputs": [],
   "source": [
    "## verifiying that data for all empis are found\n",
    "for i in unique_empi:\n",
    "    query = empi[empi[\"EMPI\"] == i]\n",
    "    if (len(query) != 1):\n",
    "        print(i)"
   ]
  },
  {
   "cell_type": "code",
   "execution_count": null,
   "id": "dade113f",
   "metadata": {},
   "outputs": [],
   "source": [
    "empi.head()"
   ]
  },
  {
   "cell_type": "code",
   "execution_count": null,
   "id": "b3bdac43",
   "metadata": {},
   "outputs": [],
   "source": [
    "empi.to_csv(r\"C:\\Users\\MIND_DS\\Dropbox (Partners HealthCare)\\NLP\\Tanish\\BigDataSets\\Regex_match\\FINAL\\empi_dataset.csv\")"
   ]
  },
  {
   "cell_type": "code",
   "execution_count": null,
   "id": "eaa1699c",
   "metadata": {},
   "outputs": [],
   "source": [
    "empi[\"Age\"].median()"
   ]
  },
  {
   "cell_type": "code",
   "execution_count": null,
   "id": "14d9f4f9",
   "metadata": {},
   "outputs": [],
   "source": [
    "empi[\"APOE\"].isna().sum()"
   ]
  },
  {
   "cell_type": "code",
   "execution_count": null,
   "id": "2f85ee05",
   "metadata": {},
   "outputs": [],
   "source": [
    "empi[\"Ethnicity\"].value_counts()"
   ]
  },
  {
   "cell_type": "code",
   "execution_count": null,
   "id": "fa7c9656",
   "metadata": {},
   "outputs": [],
   "source": [
    "apoe[apoe[\"Subject_Id\"] == 10092259]"
   ]
  },
  {
   "cell_type": "code",
   "execution_count": null,
   "id": "00390b2a",
   "metadata": {},
   "outputs": [],
   "source": [
    "empi[empi[\"Ethnicity\"].isnull()]"
   ]
  },
  {
   "cell_type": "markdown",
   "id": "ed3ea847",
   "metadata": {},
   "source": [
    "## Drop all rows with patient ids that have null table 1 values"
   ]
  },
  {
   "cell_type": "code",
   "execution_count": null,
   "id": "c98aa164",
   "metadata": {},
   "outputs": [],
   "source": [
    "everything = pd.read_csv(r\"C:\\Users\\MIND_DS\\Dropbox (Partners HealthCare)\\NLP\\Tanish\\BigDataSets\\Regex_match\\FINAL\\apoe_padded_matches_EVERYTHING.csv\")"
   ]
  },
  {
   "cell_type": "code",
   "execution_count": null,
   "id": "af770b73",
   "metadata": {},
   "outputs": [],
   "source": [
    "len(everything)"
   ]
  },
  {
   "cell_type": "code",
   "execution_count": null,
   "id": "c6b656a0",
   "metadata": {},
   "outputs": [],
   "source": [
    "239629+40471"
   ]
  },
  {
   "cell_type": "code",
   "execution_count": null,
   "id": "a62128b9",
   "metadata": {},
   "outputs": [],
   "source": [
    "d1 = pd.read_csv(r\"C:\\Users\\MIND_DS\\Dropbox (Partners HealthCare)\\NLP\\Tanish\\BigDataSets\\Regex_match\\1\\Padded_Matches\\apoe_1_not_padded_matches.csv\")\n",
    "d2 = pd.read_csv(r\"C:\\Users\\MIND_DS\\Dropbox (Partners HealthCare)\\NLP\\Tanish\\BigDataSets\\Regex_match\\2\\Padded_Matches\\apoe_2_not_padded_matches.csv\")\n",
    "d3 = pd.read_csv(r\"C:\\Users\\MIND_DS\\Dropbox (Partners HealthCare)\\NLP\\Tanish\\BigDataSets\\Regex_match\\3\\Padded_Matches\\apoe_3_not_padded_matches.csv\")\n",
    "d4 = pd.read_csv(r\"C:\\Users\\MIND_DS\\Dropbox (Partners HealthCare)\\NLP\\Tanish\\BigDataSets\\Regex_match\\4\\Padded_Matches\\apoe_4_not_padded_matches.csv\")\n",
    "d5 = pd.read_csv(r\"C:\\Users\\MIND_DS\\Dropbox (Partners HealthCare)\\NLP\\Tanish\\BigDataSets\\Regex_match\\5\\Padded_Matches\\apoe_5_not_padded_matches.csv\")"
   ]
  },
  {
   "cell_type": "code",
   "execution_count": null,
   "id": "1d8492e8",
   "metadata": {},
   "outputs": [],
   "source": [
    "len(d1), len(d2), len(d3), len(d4), len(d5)"
   ]
  },
  {
   "cell_type": "code",
   "execution_count": null,
   "id": "5dd135f4",
   "metadata": {},
   "outputs": [],
   "source": [
    "not_padded = pd.concat([d1, d2, d3, d4, d5])"
   ]
  },
  {
   "cell_type": "code",
   "execution_count": null,
   "id": "ac9f3c89",
   "metadata": {},
   "outputs": [],
   "source": [
    "len(not_padded)"
   ]
  },
  {
   "cell_type": "code",
   "execution_count": null,
   "id": "fe987213",
   "metadata": {},
   "outputs": [],
   "source": [
    "not_padded.head()"
   ]
  },
  {
   "cell_type": "code",
   "execution_count": null,
   "id": "82ca6c3e",
   "metadata": {},
   "outputs": [],
   "source": [
    "everything.head()"
   ]
  },
  {
   "cell_type": "code",
   "execution_count": null,
   "id": "894a2c58",
   "metadata": {},
   "outputs": [],
   "source": [
    "not_padded.columns"
   ]
  },
  {
   "cell_type": "code",
   "execution_count": null,
   "id": "7a5d67a7",
   "metadata": {},
   "outputs": [],
   "source": [
    "not_padded.head()"
   ]
  },
  {
   "cell_type": "code",
   "execution_count": null,
   "id": "0a087d7c",
   "metadata": {},
   "outputs": [],
   "source": [
    "length = len(everything)\n",
    "length"
   ]
  },
  {
   "cell_type": "code",
   "execution_count": null,
   "id": "ebc9be7f",
   "metadata": {},
   "outputs": [],
   "source": [
    "not_padded.head()"
   ]
  },
  {
   "cell_type": "code",
   "execution_count": null,
   "id": "58723b71",
   "metadata": {},
   "outputs": [],
   "source": [
    "len(not_padded) + len(everything)"
   ]
  },
  {
   "cell_type": "code",
   "execution_count": null,
   "id": "bdef4237",
   "metadata": {},
   "outputs": [],
   "source": [
    "drop = empi[empi[\"Ethnicity\"].isnull()]['EMPI'].to_list()"
   ]
  },
  {
   "cell_type": "code",
   "execution_count": null,
   "id": "ba926342",
   "metadata": {},
   "outputs": [],
   "source": [
    "len(drop)"
   ]
  },
  {
   "cell_type": "code",
   "execution_count": null,
   "id": "b113f614",
   "metadata": {},
   "outputs": [],
   "source": [
    "drop"
   ]
  },
  {
   "cell_type": "code",
   "execution_count": null,
   "id": "d04f0050",
   "metadata": {},
   "outputs": [],
   "source": [
    "everything[everything[\"EMPI\"] == 100566134]"
   ]
  },
  {
   "cell_type": "code",
   "execution_count": null,
   "id": "171b3806",
   "metadata": {},
   "outputs": [],
   "source": [
    "not_padded_empi = not_padded[\"EMPI\"].unique().tolist()\n",
    "padded_empi = everything[\"EMPI\"].unique().tolist()\n",
    "\n",
    "len(not_padded_empi), len(padded_empi)"
   ]
  },
  {
   "cell_type": "code",
   "execution_count": null,
   "id": "694f634b",
   "metadata": {},
   "outputs": [],
   "source": [
    "x = everything[everything[\"EMPI\"] != 1243534]\n",
    "len(x)"
   ]
  },
  {
   "cell_type": "code",
   "execution_count": null,
   "id": "067102a2",
   "metadata": {},
   "outputs": [],
   "source": [
    "x = everything[everything[\"EMPI\"] != 100566134]\n",
    "y = not_padded[not_padded[\"EMPI\"] != 100566134]\n",
    "print(len(x), len(y))"
   ]
  },
  {
   "cell_type": "code",
   "execution_count": null,
   "id": "f01cc3df",
   "metadata": {},
   "outputs": [],
   "source": [
    "count = 0\n",
    "for i in range(len(drop)):\n",
    "    count += len(everything[everything[\"EMPI\"] == drop[i]])\n",
    "    count += len(not_padded[not_padded[\"EMPI\"] == drop[i]])\n",
    "print(count)"
   ]
  },
  {
   "cell_type": "code",
   "execution_count": null,
   "id": "0636ee78",
   "metadata": {},
   "outputs": [],
   "source": [
    "for i in range(len(drop)):\n",
    "    if (len(not_padded[not_padded[\"EMPI\"] == drop[i]])==0 and len(everything[everything[\"EMPI\"] == drop[i]])==0):\n",
    "        print(drop[i])"
   ]
  },
  {
   "cell_type": "code",
   "execution_count": null,
   "id": "a2951551",
   "metadata": {},
   "outputs": [],
   "source": [
    "x = not_padded\n",
    "y = everything"
   ]
  },
  {
   "cell_type": "code",
   "execution_count": null,
   "id": "f6f0d450",
   "metadata": {},
   "outputs": [],
   "source": [
    "not_padded_clone = not_padded\n",
    "everything_clone = everything"
   ]
  },
  {
   "cell_type": "code",
   "execution_count": null,
   "id": "c2fc6670",
   "metadata": {},
   "outputs": [],
   "source": [
    "for i in range(len(drop)):\n",
    "    if (len(not_padded_clone[not_padded_clone[\"EMPI\"] == drop[i]]) != 0):\n",
    "        x = not_padded_clone[not_padded_clone[\"EMPI\"] != drop[i]]\n",
    "        not_padded_clone = x\n",
    "    if (len(everything_clone[everything_clone[\"EMPI\"] == drop[i]]) != 0):\n",
    "        y = everything_clone[everything_clone[\"EMPI\"] != drop[i]]\n",
    "        everything_clone = y\n",
    "    print(len(x),len(y), len(everything_clone), len(not_padded_clone))"
   ]
  },
  {
   "cell_type": "code",
   "execution_count": null,
   "id": "d5612116",
   "metadata": {},
   "outputs": [],
   "source": [
    "not_padded = x\n",
    "everything = y"
   ]
  },
  {
   "cell_type": "code",
   "execution_count": null,
   "id": "0d975614",
   "metadata": {},
   "outputs": [],
   "source": [
    "len(not_padded), len(everything)"
   ]
  },
  {
   "cell_type": "code",
   "execution_count": null,
   "id": "19e6a714",
   "metadata": {},
   "outputs": [],
   "source": [
    "everything[everything[\"EMPI\"] == (drop[36])]"
   ]
  },
  {
   "cell_type": "code",
   "execution_count": null,
   "id": "97f00a4b",
   "metadata": {},
   "outputs": [],
   "source": [
    "not_padded.to_csv(r\"C:\\Users\\MIND_DS\\Dropbox (Partners HealthCare)\\NLP\\Tanish\\BigDataSets\\Regex_match\\FINAL\\not_padded_matches_7_14.csv\", index = False)"
   ]
  },
  {
   "cell_type": "code",
   "execution_count": null,
   "id": "959688a2",
   "metadata": {},
   "outputs": [],
   "source": [
    "everything.to_csv(r\"C:\\Users\\MIND_DS\\Dropbox (Partners HealthCare)\\NLP\\Tanish\\BigDataSets\\Regex_match\\FINAL\\padded_matches_7_14.csv\", index = False)"
   ]
  },
  {
   "cell_type": "code",
   "execution_count": null,
   "id": "fb3387e5",
   "metadata": {},
   "outputs": [],
   "source": [
    "test = pd.concat([not_padded, everything])"
   ]
  },
  {
   "cell_type": "code",
   "execution_count": null,
   "id": "9b042ce8",
   "metadata": {},
   "outputs": [],
   "source": [
    "len(test[\"PatientID\"].unique())"
   ]
  },
  {
   "cell_type": "code",
   "execution_count": null,
   "id": "b25b1bfd",
   "metadata": {},
   "outputs": [],
   "source": [
    "e = pd.read_csv(r\"C:\\Users\\MIND_DS\\Dropbox (Partners HealthCare)\\NLP\\Tanish\\BigDataSets\\Regex_match\\FINAL\\padded_matches_7_14.csv\")\n",
    "n = pd.read_csv(r\"C:\\Users\\MIND_DS\\Dropbox (Partners HealthCare)\\NLP\\Tanish\\BigDataSets\\Regex_match\\FINAL\\not_padded_matches_7_14.csv\")"
   ]
  },
  {
   "cell_type": "code",
   "execution_count": null,
   "id": "9b0af3c3",
   "metadata": {},
   "outputs": [],
   "source": [
    "len(e), len(n)"
   ]
  },
  {
   "cell_type": "code",
   "execution_count": null,
   "id": "30b1214a",
   "metadata": {},
   "outputs": [],
   "source": [
    "e.head()"
   ]
  },
  {
   "cell_type": "code",
   "execution_count": null,
   "id": "31808de9",
   "metadata": {},
   "outputs": [],
   "source": [
    "n.head()"
   ]
  },
  {
   "cell_type": "code",
   "execution_count": null,
   "id": "9fef5f48",
   "metadata": {},
   "outputs": [],
   "source": [
    "e.columns"
   ]
  },
  {
   "cell_type": "code",
   "execution_count": null,
   "id": "e5d113ad",
   "metadata": {},
   "outputs": [],
   "source": [
    "e = e.drop(columns = ['Unnamed: 0.1.1.1.1'], axis = 1) #only run if runtime reset"
   ]
  },
  {
   "cell_type": "code",
   "execution_count": null,
   "id": "0bb83fc1",
   "metadata": {},
   "outputs": [],
   "source": [
    "n.columns"
   ]
  },
  {
   "cell_type": "code",
   "execution_count": null,
   "id": "3e2dc59f",
   "metadata": {},
   "outputs": [],
   "source": [
    "n[\"padded_merged_regex_sent\"] = n[\"merged_regex_sent\"]"
   ]
  },
  {
   "cell_type": "code",
   "execution_count": null,
   "id": "2f605466",
   "metadata": {},
   "outputs": [],
   "source": [
    "n.columns = e.columns"
   ]
  },
  {
   "cell_type": "code",
   "execution_count": null,
   "id": "29f2ec03",
   "metadata": {},
   "outputs": [],
   "source": [
    "t = pd.concat([e, n])"
   ]
  },
  {
   "cell_type": "code",
   "execution_count": null,
   "id": "8574688e",
   "metadata": {},
   "outputs": [],
   "source": [
    "t"
   ]
  },
  {
   "cell_type": "code",
   "execution_count": null,
   "id": "be47c63e",
   "metadata": {},
   "outputs": [],
   "source": [
    "len(t)"
   ]
  },
  {
   "cell_type": "code",
   "execution_count": null,
   "id": "aa256a96",
   "metadata": {},
   "outputs": [],
   "source": [
    "len(t[\"PatientID\"].unique())"
   ]
  },
  {
   "cell_type": "code",
   "execution_count": null,
   "id": "09387107",
   "metadata": {},
   "outputs": [],
   "source": [
    "t[\"padded_merged_regex_sent\"].value_counts()"
   ]
  },
  {
   "cell_type": "code",
   "execution_count": null,
   "id": "86b966b3",
   "metadata": {},
   "outputs": [],
   "source": [
    "t"
   ]
  },
  {
   "cell_type": "code",
   "execution_count": null,
   "id": "61256626",
   "metadata": {},
   "outputs": [],
   "source": [
    "t.to_csv(r\"C:\\Users\\MIND_DS\\Dropbox (Partners HealthCare)\\NLP\\Tanish\\BigDataSets\\Regex_match\\FINAL\\matches_MASTER.csv\", index = False)"
   ]
  },
  {
   "cell_type": "code",
   "execution_count": null,
   "id": "a10734fe",
   "metadata": {},
   "outputs": [],
   "source": [
    "# total = pd.read_excel(r\"C:\\Users\\MIND_DS\\Dropbox (Partners HealthCare)\\NLP\\Tanish\\BigDataSets\\Regex_match\\FINAL\\apoe_padded_matches.xlsx\", sheet_name = 'Sheet1', index_col = False)"
   ]
  },
  {
   "cell_type": "code",
   "execution_count": null,
   "id": "c1d0d6ae",
   "metadata": {},
   "outputs": [],
   "source": [
    "total = merged_2"
   ]
  },
  {
   "cell_type": "code",
   "execution_count": null,
   "id": "dbd7a8d9",
   "metadata": {},
   "outputs": [],
   "source": [
    "total.columns"
   ]
  },
  {
   "cell_type": "code",
   "execution_count": null,
   "id": "13e1d296",
   "metadata": {},
   "outputs": [],
   "source": [
    "total.head()"
   ]
  },
  {
   "cell_type": "code",
   "execution_count": null,
   "id": "068fdb54",
   "metadata": {},
   "outputs": [],
   "source": [
    "# total.to_csv(r\"C:\\Users\\MIND_DS\\Dropbox (Partners HealthCare)\\NLP\\Tanish\\BigDataSets\\Regex_match\\FINAL\\apoe_padded_matches_EVERYTHING.csv\")"
   ]
  },
  {
   "cell_type": "code",
   "execution_count": null,
   "id": "e20ae27b",
   "metadata": {},
   "outputs": [],
   "source": [
    "total = pd.read_csv(r\"C:\\Users\\MIND_DS\\Dropbox (Partners HealthCare)\\NLP\\Tanish\\BigDataSets\\Regex_match\\FINAL\\apoe_padded_matches_EVERYTHING.csv\")"
   ]
  },
  {
   "cell_type": "code",
   "execution_count": null,
   "id": "5dcc0c9e",
   "metadata": {},
   "outputs": [],
   "source": [
    "#total[\"APOE\"].value_counts()"
   ]
  },
  {
   "cell_type": "code",
   "execution_count": null,
   "id": "cd5e3410",
   "metadata": {},
   "outputs": [],
   "source": []
  },
  {
   "cell_type": "markdown",
   "id": "2dea5642",
   "metadata": {},
   "source": [
    "## Pulling Sequences that have suspicious high # of keywords (cerebral, cerebellar, cerebrovascular, etc.)"
   ]
  },
  {
   "cell_type": "code",
   "execution_count": null,
   "id": "8d09a1b0",
   "metadata": {},
   "outputs": [],
   "source": [
    "pattern_c = re.compile(r'\\bcerebellar\\b', re.IGNORECASE)\n",
    "c_matches = []\n",
    "for note in tqdm(merged[\"padded_merged_regex_sent\"]):\n",
    "    try:\n",
    "        m = list(set(re.findall(pattern_c, note)))\n",
    "        m = list(set(m))\n",
    "        c_matches.append(str(m))\n",
    "    except:\n",
    "        c_matches.append([])\n",
    "merged[\"contains_cerebellar\"] = c_matches"
   ]
  },
  {
   "cell_type": "code",
   "execution_count": null,
   "id": "f11c436f",
   "metadata": {},
   "outputs": [],
   "source": [
    "pattern_c2 = re.compile(r'(?i:)\\bcerebral\\b', re.IGNORECASE)\n",
    "c2_matches = []\n",
    "for note in tqdm(merged[\"padded_merged_regex_sent\"]):\n",
    "    try:\n",
    "        m = list(set(re.findall(pattern_c2, note)))\n",
    "        m = list(set(m))\n",
    "        c2_matches.append(str(m))\n",
    "    except:\n",
    "        c2_matches.append([])\n",
    "merged[\"contains_cerebral\"] = c2_matches"
   ]
  },
  {
   "cell_type": "code",
   "execution_count": null,
   "id": "4fb9d6a1",
   "metadata": {},
   "outputs": [],
   "source": [
    "pattern_c3 = re.compile(r'\\bcerebrovascular\\b', re.IGNORECASE)\n",
    "c3_matches = []\n",
    "for note in tqdm(merged[\"padded_merged_regex_sent\"]):\n",
    "    try:\n",
    "        m = list(set(re.findall(pattern_c3, note)))\n",
    "        m = list(set(m))\n",
    "        c3_matches.append(str(m))\n",
    "    except:\n",
    "        c3_matches.append([])\n",
    "merged[\"contains_cerebrovascular\"] = c3_matches"
   ]
  },
  {
   "cell_type": "code",
   "execution_count": null,
   "id": "eed8e740",
   "metadata": {},
   "outputs": [],
   "source": [
    "merged.head()"
   ]
  },
  {
   "cell_type": "code",
   "execution_count": null,
   "id": "0f4f338f",
   "metadata": {},
   "outputs": [],
   "source": [
    "c_matches = merged[merged[\"contains_cerebellar\"] != \"[]\"]"
   ]
  },
  {
   "cell_type": "code",
   "execution_count": null,
   "id": "4cb319a6",
   "metadata": {},
   "outputs": [],
   "source": [
    "c2_matches = merged[merged[\"contains_cerebral\"] != \"[]\"]"
   ]
  },
  {
   "cell_type": "code",
   "execution_count": null,
   "id": "151474b1",
   "metadata": {},
   "outputs": [],
   "source": [
    "c3_matches = merged[merged[\"contains_cerebrovascular\"] != \"[]\"]"
   ]
  },
  {
   "cell_type": "code",
   "execution_count": null,
   "id": "a4a13534",
   "metadata": {},
   "outputs": [],
   "source": [
    "c_matches = c_matches[:500]\n",
    "c_matches.to_csv(r\"C:\\Users\\MIND_DS\\Dropbox (Partners HealthCare)\\NLP\\Tanish\\BigDataSets\\Regex_match\\cerebellar_match_snippet.csv\", index = False)"
   ]
  },
  {
   "cell_type": "code",
   "execution_count": null,
   "id": "3171b0a9",
   "metadata": {},
   "outputs": [],
   "source": [
    "c2_matches = c2_matches[:500]\n",
    "c2_matches.to_excel(r\"C:\\Users\\MIND_DS\\Dropbox (Partners HealthCare)\\NLP\\Tanish\\BigDataSets\\Regex_match\\cerebral_match_snippet.xlsx\", index = False)"
   ]
  },
  {
   "cell_type": "code",
   "execution_count": null,
   "id": "b95b6a81",
   "metadata": {},
   "outputs": [],
   "source": [
    "c3_matches = c3_matches[:500]\n",
    "c3_matches.to_excel(r\"C:\\Users\\MIND_DS\\Dropbox (Partners HealthCare)\\NLP\\Tanish\\BigDataSets\\Regex_match\\cerebrovascular_match_snippet.xlsx\", index = False)"
   ]
  },
  {
   "cell_type": "markdown",
   "id": "9094b8c8",
   "metadata": {},
   "source": [
    "## Regex Pattern Tests"
   ]
  },
  {
   "cell_type": "code",
   "execution_count": null,
   "id": "1e5b50a2",
   "metadata": {},
   "outputs": [],
   "source": [
    "string = '-------  status post R CHOP, currently in remission. TECHNIQUE: Radiopharmaceutical: Tc-99m MDP. Dose: 27.5 mCi. Image acquisition: Approximately three hours following the intravenous administration of'\n",
    "pattern = re.compile(r'(?-i:)\\bMCI\\b|(?-i:)\\bmci\\b')\n",
    "\n",
    "for match in re.finditer((pattern) , string):\n",
    "    s = match.start()\n",
    "    e = match.end()\n",
    "    print ('String match \"%s\" at %d:%d' % (string[s:e], s, e))"
   ]
  },
  {
   "cell_type": "code",
   "execution_count": null,
   "id": "cbe7844e",
   "metadata": {},
   "outputs": [],
   "source": [
    "string2 = \"------- ly normal coordination and gait. Psych: Alert and oriented for age, normal mood, affect, speech and coGniTioN. See care plans and review of systems above for further history details. See associated Encounter\"\n",
    "pattern2 = re.compile(r'(?i)\\bcognition\\b')\n",
    "\n",
    "for match in re.finditer((pattern2) , string2):\n",
    "    s = match.start()\n",
    "    e = match.end()\n",
    "    print ('String match \"%s\" at %d:%d' % (string2[s:e], s, e))"
   ]
  }
 ],
 "metadata": {
  "kernelspec": {
   "display_name": "Python 3",
   "language": "python",
   "name": "python3"
  },
  "language_info": {
   "codemirror_mode": {
    "name": "ipython",
    "version": 3
   },
   "file_extension": ".py",
   "mimetype": "text/x-python",
   "name": "python",
   "nbconvert_exporter": "python",
   "pygments_lexer": "ipython3",
   "version": "3.8.5"
  }
 },
 "nbformat": 4,
 "nbformat_minor": 5
}
