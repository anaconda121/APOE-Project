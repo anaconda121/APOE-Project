{
 "cells": [
  {
   "cell_type": "code",
   "execution_count": null,
   "id": "a9d68338",
   "metadata": {},
   "outputs": [],
   "source": [
    "import pandas as pd\n",
    "import pandas.io.sql as psql\n",
    "import os\n",
    "import sys\n",
    "from datetime import date\n",
    "current_date = date.today()\n",
    "#%load_ext autotime\n",
    "import re\n",
    "import csv\n",
    "import pandas as pd\n",
    "import numpy as np\n",
    "import os\n",
    "from glob import glob\n",
    "from tqdm import tqdm\n",
    "import matplotlib.pyplot as plt\n",
    "#from matplotlib_venn import venn2, venn3\n",
    "import warnings\n",
    "import time\n",
    "import datetime as dt\n",
    "import itertools\n",
    "from more_itertools import unique_everseen\n",
    "warnings.filterwarnings(\"ignore\")\n",
    "#import pandasql as ps\n",
    "import seaborn as sns\n",
    "import json\n",
    "from ast import literal_eval\n",
    "import ast"
   ]
  },
  {
   "cell_type": "code",
   "execution_count": null,
   "id": "2c36c3e1",
   "metadata": {},
   "outputs": [],
   "source": [
    "# STEPS to get data\n",
    "\n",
    "# get arr of notes\n",
    "# get arr of keywords\n",
    "# split note in arr\n",
    "# for each word in keyword list, get count of it in arr (word_list.count(curr_keyword))\n",
    "# also store which keywords are matched in arr\n",
    "# have df (with cols patient id, encounter id, note TXT, keyword count, list of flagged keywords)\n",
    "# to get # of general encouters --> do len(df[df[\"keyword_count\"] >= 1])\n",
    "# to get # of such encounters per patient\n",
    "    # get list of unique patient ids\n",
    "    # for each one, do len(df[df[\"patient_id\"] == curr_patient_id][\"encounter_id\"])\n",
    "    \n",
    "# REPRESENTING data\n",
    "\n",
    "# exported dataframe to csv with cols patient_id, num encounters keywords >= 1\n",
    "# exported dataframe to csv that has general encounters where keywords >= 1, cols: patient id, encounter id, note txt, keyword count, matched keywords\n",
    "# Summary Statistics: number of encounters with keywords >= 1, number of average encounters per patient with such encounters"
   ]
  },
  {
   "cell_type": "code",
   "execution_count": null,
   "id": "30ec9284",
   "metadata": {},
   "outputs": [],
   "source": [
    "# df1 = pd.read_csv(r\"C:\\Users\\MIND_DS\\Dropbox (Partners HealthCare)\\NLP\\Mayuresh\\APOE33\\apoe33_notes_1.csv\")\n",
    "# df2 = pd.read_csv(r\"C:\\Users\\MIND_DS\\Dropbox (Partners HealthCare)\\NLP\\Mayuresh\\APOE33\\apoe33_notes_2.csv\")\n",
    "# df3 = pd.read_csv(r\"C:\\Users\\MIND_DS\\Dropbox (Partners HealthCare)\\NLP\\Mayuresh\\APOE33\\apoe33_notes_3.csv\")\n",
    "# df4 = pd.read_csv(r\"C:\\Users\\MIND_DS\\Dropbox (Partners HealthCare)\\NLP\\Mayuresh\\APOE33\\apoe33_notes_4.csv\")\n",
    "df5 = pd.read_csv(r\"C:\\Users\\MIND_DS\\Dropbox (Partners HealthCare)\\NLP\\Mayuresh\\APOE33\\apoe33_notes_5.csv\")\n",
    "# df1_temp = pd.read_csv(r\"C:\\Users\\MIND_DS\\Dropbox (Partners HealthCare)\\NLP\\Tanish\\BigDataSets\\Regex_match_csv\\1\\apoe33_notes_1_w_everything.csv\")"
   ]
  },
  {
   "cell_type": "code",
   "execution_count": null,
   "id": "c4288150",
   "metadata": {},
   "outputs": [],
   "source": [
    "len(df5)"
   ]
  },
  {
   "cell_type": "code",
   "execution_count": null,
   "id": "285f0771",
   "metadata": {},
   "outputs": [],
   "source": [
    "#frames = [df1, df2]\n",
    "notes = df1"
   ]
  },
  {
   "cell_type": "code",
   "execution_count": null,
   "id": "b09df246",
   "metadata": {},
   "outputs": [],
   "source": [
    "notes[\"NoteTXT\"] = notes[\"NoteTXT\"].str.replace('\\s+', ' ', regex=True)\n",
    "notes['NoteTXT'] = '-------------------------------------------------------------------------------------------------------------' + notes['NoteTXT'].astype(str)+'-------------------------------------------------------------------------------------------------------------'"
   ]
  },
  {
   "cell_type": "code",
   "execution_count": null,
   "id": "418d81d7",
   "metadata": {},
   "outputs": [],
   "source": [
    "regex = pd.read_csv(r\"C:\\Users\\MIND_DS\\Dropbox (Partners HealthCare)\\NLP\\Tanish\\Sentence-Analysis\\EDA\\Getting_Data\\keywords.csv\")"
   ]
  },
  {
   "cell_type": "code",
   "execution_count": null,
   "id": "a6781dd1",
   "metadata": {},
   "outputs": [],
   "source": [
    "notes[\"PatientID\"].value_counts()"
   ]
  },
  {
   "cell_type": "code",
   "execution_count": null,
   "id": "f867aa0f",
   "metadata": {},
   "outputs": [],
   "source": [
    "df1_matches = pd.read_csv(r\"C:\\Users\\MIND_DS\\Dropbox (Partners HealthCare)\\NLP\\Tanish\\BigDataSets\\Regex_match_csv\\5\\apoe_5_matches.csv\")\n",
    "len(df1_matches)"
   ]
  },
  {
   "cell_type": "code",
   "execution_count": null,
   "id": "e8bb0354",
   "metadata": {},
   "outputs": [],
   "source": [
    "locations = []\n",
    "for r in tqdm(notes['NoteTXT']):\n",
    "    try:\n",
    "        locations.append([match.span() \\\n",
    "                  for match in re.finditer(re.compile(\"|\".join(regex[\"REGEX\"]), \n",
    "                                                  re.IGNORECASE),r)])\n",
    "    except:\n",
    "        locations.append([])\n",
    "\n",
    "notes[\"regex_location\"] = locations\n"
   ]
  },
  {
   "cell_type": "code",
   "execution_count": null,
   "id": "dfb7c073",
   "metadata": {},
   "outputs": [],
   "source": [
    "notes.to_csv(r\"C:\\Users\\MIND_DS\\Dropbox (Partners HealthCare)\\NLP\\Tanish\\BigDataSets\\Regex_match_csv\\4\\apoe33_notes_4_w_locations.csv\")"
   ]
  },
  {
   "cell_type": "code",
   "execution_count": null,
   "id": "2d092095",
   "metadata": {},
   "outputs": [],
   "source": [
    "notes.head(100)"
   ]
  },
  {
   "cell_type": "code",
   "execution_count": null,
   "id": "3b8fa39e",
   "metadata": {},
   "outputs": [],
   "source": [
    "l = []\n",
    "for i in tqdm(range(len(notes[\"regex_location\"]))):\n",
    "    s = []\n",
    "    try:\n",
    "        for j in notes[\"regex_location\"][i]:\n",
    "            s.append(notes[\"NoteTXT\"][i][j[0]-100 : j[0]+100])\n",
    "    except:\n",
    "        pass\n",
    "    l.append(s)\n",
    "    \n",
    "    \n",
    "notes[\"regex_sent\"] = l"
   ]
  },
  {
   "cell_type": "code",
   "execution_count": null,
   "id": "52ecf696",
   "metadata": {},
   "outputs": [],
   "source": [
    "notes.to_csv(r\"C:\\Users\\MIND_DS\\Dropbox (Partners HealthCare)\\NLP\\Tanish\\BigDataSets\\Regex_match_csv\\5\\apoe33_5_locations_sequences.csv\")"
   ]
  },
  {
   "cell_type": "code",
   "execution_count": null,
   "id": "3d6594e0",
   "metadata": {},
   "outputs": [],
   "source": [
    "notes.head(100)"
   ]
  },
  {
   "cell_type": "code",
   "execution_count": null,
   "id": "17abef48",
   "metadata": {},
   "outputs": [],
   "source": [
    "notes['regex_sent'] = notes['regex_sent'].astype(str)\n",
    "notes['regex_sent'] = notes['regex_sent'].str.replace('[', '')\n",
    "notes['regex_sent'] = notes['regex_sent'].str.replace(']', '')\n",
    "notes = notes.replace(r'^\\s*$', np.NaN, regex=True)"
   ]
  },
  {
   "cell_type": "code",
   "execution_count": null,
   "id": "bc79afb8",
   "metadata": {},
   "outputs": [],
   "source": [
    "notes = notes[notes['regex_sent'].notna()]"
   ]
  },
  {
   "cell_type": "code",
   "execution_count": null,
   "id": "a56fdf2a",
   "metadata": {},
   "outputs": [],
   "source": [
    "notes['regex_sent'] = notes['regex_sent'].str.replace('\"', \"'\")"
   ]
  },
  {
   "cell_type": "code",
   "execution_count": null,
   "id": "b4c61310",
   "metadata": {},
   "outputs": [],
   "source": [
    "notes = (notes.assign(regex_sent = notes['regex_sent'].str.split(\"', '\"))\n",
    "         .explode('regex_sent')\n",
    "         .reset_index(drop=True))"
   ]
  },
  {
   "cell_type": "code",
   "execution_count": null,
   "id": "7b4bd685",
   "metadata": {},
   "outputs": [],
   "source": [
    "l = []\n",
    "for note in tqdm(notes[\"regex_sent\"]):\n",
    "    try:\n",
    "        l.append(re.findall(re.compile(\"|\".join(regex[\"REGEX\"]), re.IGNORECASE), note))\n",
    "    except:\n",
    "        l.append([])\n",
    "\n",
    "notes[\"regex_match\"] = l"
   ]
  },
  {
   "cell_type": "code",
   "execution_count": null,
   "id": "a29c2ac4",
   "metadata": {},
   "outputs": [],
   "source": [
    "notes.to_csv(r\"C:\\Users\\MIND_DS\\Dropbox (Partners HealthCare)\\NLP\\Tanish\\BigDataSets\\Regex_match_csv\\5\\apoe33_5_everything.csv\")"
   ]
  },
  {
   "cell_type": "code",
   "execution_count": null,
   "id": "ff368d6b",
   "metadata": {},
   "outputs": [],
   "source": [
    "notes"
   ]
  },
  {
   "cell_type": "code",
   "execution_count": null,
   "id": "9b52b36c",
   "metadata": {},
   "outputs": [],
   "source": [
    "notes['regex_match'] = notes['regex_match'].astype(str)\n",
    "notes['regex_match'] = notes['regex_match'].str.replace(\"\\[\\]\", '')\n",
    "notes = notes.replace(r'^\\s*$', np.NaN, regex=True)"
   ]
  },
  {
   "cell_type": "code",
   "execution_count": null,
   "id": "d65f4b6a",
   "metadata": {},
   "outputs": [],
   "source": [
    "notes = notes[notes['regex_match'].notna()]"
   ]
  },
  {
   "cell_type": "code",
   "execution_count": null,
   "id": "05ca31fd",
   "metadata": {},
   "outputs": [],
   "source": [
    "notes['regex_sent'] = notes['regex_sent'].str.split(' ',1).str[1].str.rpartition(' ')[0]"
   ]
  },
  {
   "cell_type": "code",
   "execution_count": null,
   "id": "18d5d48e",
   "metadata": {},
   "outputs": [],
   "source": [
    "import ast\n",
    "notes.regex_match = notes.regex_match.apply(ast.literal_eval)"
   ]
  },
  {
   "cell_type": "code",
   "execution_count": null,
   "id": "da4b1610",
   "metadata": {},
   "outputs": [],
   "source": [
    "notes['regex_sent'] = notes['regex_sent'].apply(json.dumps)\n",
    "notes['regex_match'] = notes['regex_match'].apply(json.dumps)"
   ]
  },
  {
   "cell_type": "code",
   "execution_count": null,
   "id": "32c88188",
   "metadata": {},
   "outputs": [],
   "source": [
    "x = notes['regex_match'][97]\n",
    "x = x.split(\" \")\n",
    "x"
   ]
  },
  {
   "cell_type": "code",
   "execution_count": null,
   "id": "6bc235a9",
   "metadata": {},
   "outputs": [],
   "source": [
    "print(len(x))"
   ]
  },
  {
   "cell_type": "code",
   "execution_count": null,
   "id": "1bc50564",
   "metadata": {},
   "outputs": [],
   "source": [
    "notes"
   ]
  },
  {
   "cell_type": "code",
   "execution_count": null,
   "id": "19f30926",
   "metadata": {},
   "outputs": [],
   "source": [
    "def regex_length(row):\n",
    "    x = row['regex_match']\n",
    "    x= x.split(\" \")\n",
    "    return len(x)\n",
    "\n",
    "notes['match_count'] = notes.apply(regex_length, axis = 'columns')"
   ]
  },
  {
   "cell_type": "code",
   "execution_count": null,
   "id": "ad202d6a",
   "metadata": {},
   "outputs": [],
   "source": [
    "notes.head()"
   ]
  },
  {
   "cell_type": "code",
   "execution_count": null,
   "id": "5c2046de",
   "metadata": {},
   "outputs": [],
   "source": [
    "#notes['match_count'] = notes.apply(regex_length, axis='columns')"
   ]
  },
  {
   "cell_type": "code",
   "execution_count": null,
   "id": "d744eb34",
   "metadata": {},
   "outputs": [],
   "source": [
    "notes.to_csv(r\"C:\\Users\\MIND_DS\\Dropbox (Partners HealthCare)\\NLP\\Tanish\\BigDataSets\\Regex_match_csv\\5\\apoe33_5_FINAL.csv\")"
   ]
  },
  {
   "cell_type": "code",
   "execution_count": null,
   "id": "3c972d2a",
   "metadata": {},
   "outputs": [],
   "source": [
    "notes.head(100)"
   ]
  },
  {
   "cell_type": "code",
   "execution_count": null,
   "id": "c7713a1c",
   "metadata": {},
   "outputs": [],
   "source": [
    "# to get # of general encouters --> do len(df[df[\"keyword_count\"] >= 1])\n",
    "# to get # of such encounters per patient\n",
    "    # get list of unique patient ids\n",
    "    # for each one, do len(df[df[\"patient_id\"] == curr_patient_id][\"encounter_id\"])"
   ]
  },
  {
   "cell_type": "code",
   "execution_count": null,
   "id": "1457e28a",
   "metadata": {},
   "outputs": [],
   "source": [
    "encounters_with_more_than_1_keyword = notes[notes['match_count'] >= 1]\n",
    "encounters_with_more_than_1_keyword"
   ]
  },
  {
   "cell_type": "code",
   "execution_count": null,
   "id": "370588fe",
   "metadata": {},
   "outputs": [],
   "source": [
    "encounters_with_more_than_1_keyword.to_csv(r\"C:\\Users\\MIND_DS\\Dropbox (Partners HealthCare)\\NLP\\Tanish\\BigDataSets\\Regex_match_csv\\1\\apoe_1_matches.csv\")"
   ]
  },
  {
   "cell_type": "code",
   "execution_count": null,
   "id": "e45fe038",
   "metadata": {},
   "outputs": [],
   "source": [
    "unique_ids = notes[\"PatientID\"].unique()\n",
    "unique_ids = list(unique_ids)\n",
    "len(unique_ids)"
   ]
  },
  {
   "cell_type": "code",
   "execution_count": null,
   "id": "93289faa",
   "metadata": {},
   "outputs": [],
   "source": [
    "summary_statistics_1 = pd.DataFrame(columns = [\"patient_id\", \"encounters_with_keywords\", \"total_encounters\"])\n",
    "summary_statistics_1[\"patient_id\"] = unique_ids\n",
    "summary_statistics_1[\"encounters_with_keywords\"] = [\" \"] * len(unique_ids)\n",
    "summary_statistics_1[\"total_encounters\"] = [\" \"] * len(unique_ids)\n",
    "#summary_statistics_1[\"keywords\"] = [\" \"] * len(unique_ids)"
   ]
  },
  {
   "cell_type": "code",
   "execution_count": null,
   "id": "53c94735",
   "metadata": {},
   "outputs": [],
   "source": [
    "#original_notes = pd.read_csv(r\"C:\\Users\\MIND_DS\\Dropbox (Partners HealthCare)\\NLP\\Tanish\\BigDataSets\\Regex_match_csv\\5\\apoe33_5_locations_sequences.csv\")"
   ]
  },
  {
   "cell_type": "code",
   "execution_count": null,
   "id": "4a2a9042",
   "metadata": {},
   "outputs": [],
   "source": [
    "keyword_list = encounters_with_more_than_1_keyword[encounters_with_more_than_1_keyword['PatientID'] == unique_ids[0]]['regex_match']"
   ]
  },
  {
   "cell_type": "code",
   "execution_count": null,
   "id": "7c3889dd",
   "metadata": {},
   "outputs": [],
   "source": [
    "encounters_with_more_than_1_keyword[encounters_with_more_than_1_keyword[\"PatientID\"] == unique_ids[0]]"
   ]
  },
  {
   "cell_type": "code",
   "execution_count": null,
   "id": "01eadb2f",
   "metadata": {},
   "outputs": [],
   "source": [
    "for i in tqdm(range(len(unique_ids))):\n",
    "    summary_statistics_1[\"encounters_with_keywords\"][i] = len(encounters_with_more_than_1_keyword[encounters_with_more_than_1_keyword[\"PatientID\"] == unique_ids[i]])\n",
    "    summary_statistics_1[\"total_encounters\"][i] = len(notes[notes['PatientID'] == unique_ids[i]])"
   ]
  },
  {
   "cell_type": "code",
   "execution_count": null,
   "id": "f921231f",
   "metadata": {},
   "outputs": [],
   "source": [
    "summary_statistics_1"
   ]
  },
  {
   "cell_type": "code",
   "execution_count": null,
   "id": "6408447b",
   "metadata": {},
   "outputs": [],
   "source": [
    "summary_statistics_1[summary_statistics_1['encounters_with_keywords'] >= 1]"
   ]
  },
  {
   "cell_type": "code",
   "execution_count": null,
   "id": "d445c27b",
   "metadata": {},
   "outputs": [],
   "source": [
    "summary_statistics_1.to_csv(r\"C:\\Users\\MIND_DS\\Dropbox (Partners HealthCare)\\NLP\\Tanish\\BigDataSets\\Regex_match_csv\\5\\summary_statistics.csv\")"
   ]
  },
  {
   "cell_type": "code",
   "execution_count": null,
   "id": "976c6658",
   "metadata": {},
   "outputs": [],
   "source": [
    "s1 = pd.read_csv(r\"C:\\Users\\MIND_DS\\Dropbox (Partners HealthCare)\\NLP\\Tanish\\BigDataSets\\Regex_match_csv\\5\\apoe_5_summary_statistics.csv\")\n",
    "s2 = pd.read_csv(r\"C:\\Users\\MIND_DS\\Dropbox (Partners HealthCare)\\NLP\\Tanish\\BigDataSets\\Regex_match_csv\\4\\apoe_4_summary_statistics.csv\")\n",
    "s3 = pd.read_csv(r\"C:\\Users\\MIND_DS\\Dropbox (Partners HealthCare)\\NLP\\Tanish\\BigDataSets\\Regex_match_csv\\3\\apoe_3_summary_statistics.csv\")\n",
    "s4 = pd.read_csv(r\"C:\\Users\\MIND_DS\\Dropbox (Partners HealthCare)\\NLP\\Tanish\\BigDataSets\\Regex_match_csv\\2\\apoe_2_summary_statistics.csv\")\n",
    "s5 = pd.read_csv(r\"C:\\Users\\MIND_DS\\Dropbox (Partners HealthCare)\\NLP\\Tanish\\BigDataSets\\Regex_match_csv\\1\\apoe_1_summary_statistics.csv\")"
   ]
  },
  {
   "cell_type": "code",
   "execution_count": null,
   "id": "37f2fd83",
   "metadata": {},
   "outputs": [],
   "source": [
    "total_summary_stats = pd.concat([s1,s2,s3,s4,s5])"
   ]
  },
  {
   "cell_type": "code",
   "execution_count": null,
   "id": "d42a392d",
   "metadata": {},
   "outputs": [],
   "source": [
    "total_summary_stats.reset_index(inplace = True, drop=True)\n",
    "total_summary_stats.drop(columns = ['Unnamed: 0'])"
   ]
  },
  {
   "cell_type": "code",
   "execution_count": null,
   "id": "f986ff72",
   "metadata": {},
   "outputs": [],
   "source": [
    "total_summary_stats.to_csv(r\"C:\\Users\\MIND_DS\\Dropbox (Partners HealthCare)\\NLP\\Tanish\\BigDataSets\\Regex_match_csv\\total_summary_stats.csv\")"
   ]
  },
  {
   "cell_type": "code",
   "execution_count": null,
   "id": "1347799a",
   "metadata": {},
   "outputs": [],
   "source": [
    "avg_encounters_with_keywords = total_summary_stats[\"encounters_with_keywords\"].sum() / len(total_summary_stats[\"encounters_with_keywords\"])\n",
    "\n",
    "print(\"Avg Encounters w/ Keywords Per Patient: \", avg_encounters_with_keywords)"
   ]
  },
  {
   "cell_type": "code",
   "execution_count": null,
   "id": "8157ecde",
   "metadata": {},
   "outputs": [],
   "source": [
    "matches = pd.read_csv(r\"C:\\Users\\MIND_DS\\Dropbox (Partners HealthCare)\\NLP\\Tanish\\BigDataSets\\Regex_match_csv\\1\\apoe_1_matches.csv\")"
   ]
  },
  {
   "cell_type": "code",
   "execution_count": null,
   "id": "b335cdf1",
   "metadata": {},
   "outputs": [],
   "source": [
    "snippet = matches.head(5000)"
   ]
  },
  {
   "cell_type": "code",
   "execution_count": null,
   "id": "9821f096",
   "metadata": {},
   "outputs": [],
   "source": [
    "snippet.to_csv(r\"C:\\Users\\MIND_DS\\Dropbox (Partners HealthCare)\\NLP\\Tanish\\BigDataSets\\Regex_match_csv\\1\\apoe_1_matches_snippet.csv\")"
   ]
  },
  {
   "cell_type": "code",
   "execution_count": null,
   "id": "fac1398a",
   "metadata": {},
   "outputs": [],
   "source": []
  }
 ],
 "metadata": {
  "kernelspec": {
   "display_name": "Python 3",
   "language": "python",
   "name": "python3"
  },
  "language_info": {
   "codemirror_mode": {
    "name": "ipython",
    "version": 3
   },
   "file_extension": ".py",
   "mimetype": "text/x-python",
   "name": "python",
   "nbconvert_exporter": "python",
   "pygments_lexer": "ipython3",
   "version": "3.8.5"
  }
 },
 "nbformat": 4,
 "nbformat_minor": 5
}
