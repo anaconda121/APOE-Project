{
 "cells": [
  {
   "cell_type": "code",
   "execution_count": null,
   "metadata": {},
   "outputs": [],
   "source": [
    "import pandas as pd\n",
    "import pandas.io.sql as psql\n",
    "import os\n",
    "import sys\n",
    "from datetime import date\n",
    "current_date = date.today()\n",
    "#%load_ext autotime\n",
    "import re\n",
    "import csv\n",
    "import pandas as pd\n",
    "import numpy as np\n",
    "import os\n",
    "from glob import glob\n",
    "from tqdm import tqdm\n",
    "import matplotlib.pyplot as plt\n",
    "#from matplotlib_venn import venn2, venn3\n",
    "import warnings\n",
    "import time\n",
    "import datetime as dt\n",
    "import itertools\n",
    "from more_itertools import unique_everseen\n",
    "warnings.filterwarnings(\"ignore\")\n",
    "#import pandasql as ps\n",
    "import seaborn as sns\n",
    "import json\n",
    "from ast import literal_eval\n",
    "import ast"
   ]
  },
  {
   "cell_type": "code",
   "execution_count": null,
   "metadata": {},
   "outputs": [],
   "source": [
    "df5 = pd.read_csv(r\"C:\\Users\\MIND_DS\\Dropbox (Partners HealthCare)\\NLP\\Mayuresh\\APOE33\\apoe33_notes_1.csv\")"
   ]
  },
  {
   "cell_type": "code",
   "execution_count": null,
   "metadata": {},
   "outputs": [],
   "source": [
    "df5_matches = pd.read_csv(r\"C:\\Users\\MIND_DS\\Dropbox (Partners HealthCare)\\NLP\\Tanish\\BigDataSets\\Regex_match_csv\\1\\apoe_1_matches.csv\")"
   ]
  },
  {
   "cell_type": "code",
   "execution_count": null,
   "metadata": {},
   "outputs": [],
   "source": [
    "unique_ids = df5_matches[\"PatientID\"].unique()\n",
    "unique_ids = list(unique_ids)\n",
    "len(unique_ids)"
   ]
  },
  {
   "cell_type": "code",
   "execution_count": null,
   "metadata": {},
   "outputs": [],
   "source": [
    "regex = pd.read_csv(r\"C:\\Users\\MIND_DS\\Dropbox (Partners HealthCare)\\NLP\\Tanish\\Sentence-Analysis\\EDA\\Getting_Data\\keywords.csv\")\n",
    "regex = regex[\"REGEX\"].to_list()"
   ]
  },
  {
   "cell_type": "code",
   "execution_count": null,
   "metadata": {},
   "outputs": [],
   "source": [
    "print(df5_matches.columns)"
   ]
  },
  {
   "cell_type": "code",
   "execution_count": null,
   "metadata": {},
   "outputs": [],
   "source": [
    "cols =  [\"patient_id\", \"encounters_with_keywords\",'dementia', 'cognition',\"\\'cognition\", 'memory', \"memory\\'\", 'cdr', 'mmse', 'moca', 'alzheimer', 'cognitive impairment','cognitiveimpairment', 'mci', 'cerebellar', 'neurocognitive', 'lewy', \"pick's\", 'cortical', 'corticobasal', 'cerebral', 'cerebrovascular', 'amnesia']\n",
    "summary_stats  = pd.DataFrame(pd.np.empty((len(unique_ids), len(cols))) * pd.np.nan) \n",
    "summary_stats.columns = cols\n",
    "summary_stats[\"patient_id\"] = unique_ids\n",
    "summary_stats"
   ]
  },
  {
   "cell_type": "code",
   "execution_count": null,
   "metadata": {},
   "outputs": [],
   "source": [
    "for i in tqdm(range(len(unique_ids))):\n",
    "    keyword_list = df5_matches[df5_matches['PatientID'] == unique_ids[i]]['regex_match'].values\n",
    "    \n",
    "    match_tuples = []\n",
    "    for j in range(len(keyword_list)):\n",
    "        sub = \"\\', \\'\"\n",
    "        x = keyword_list[j][2:len(keyword_list[j])-2]\n",
    "        if sub in x:\n",
    "            x = x.split(\"\\', \\'\")\n",
    "        else:\n",
    "            x = x.split(\"\\\", \\\"\")\n",
    "        match_tuples.append((x[0], 0))\n",
    "\n",
    "    #print(match_tuples)\n",
    "\n",
    "    freq = {\"dementia\":0\n",
    "        ,\"cognition\":0\n",
    "        ,\"\\'cognition\":0\n",
    "        ,\"memory\":0\n",
    "        ,\"memory\\'\":0\n",
    "        ,\"cdr\":0\n",
    "        ,\"mmse\":0\n",
    "        ,\"moca\":0\n",
    "        ,\"alzheimer\":0\n",
    "        ,'cognitive impairment':0\n",
    "        , \"cognitiveimpairment\":0\n",
    "        ,\"mci\":0\n",
    "        ,\"cerebellar\":0\n",
    "        ,\"neurocognitive\":0\n",
    "        ,\"lewy\":0\n",
    "        ,\"pick's\":0\n",
    "        ,\"cortical\":0\n",
    "        ,\"corticobasal\":0\n",
    "        ,\"cerebral\":0\n",
    "        ,\"cerebrovascular\":0\n",
    "        ,\"amnesia\":0\n",
    "    }\n",
    "\n",
    "    for k, v in match_tuples:   \n",
    "        if (k != ''):\n",
    "            freq.update({str(k.lower()):int(freq[k.lower()] + 1)})\n",
    "\n",
    "    #print(freq, i, \"\\n\")\n",
    "\n",
    "    summary_stats[\"encounters_with_keywords\"][i] = len(df5_matches[df5_matches[\"PatientID\"] == unique_ids[i]])\n",
    "\n",
    "    for k, v in freq.items():\n",
    "        summary_stats[str(k.lower())][i] = int(v)\n",
    "        #print(k, v)"
   ]
  },
  {
   "cell_type": "code",
   "execution_count": null,
   "metadata": {},
   "outputs": [],
   "source": [
    "keyword_list = df5_matches[df5_matches['PatientID'] == unique_ids[436]]['regex_match'].values\n",
    "\n",
    "match_tuples = []\n",
    "for j in range(len(keyword_list)):\n",
    "    sub = \"\\', \\'\"\n",
    "    x = keyword_list[j][2:len(keyword_list[j])-2]\n",
    "    #print(\"before: \",x)\n",
    "    if sub in x:\n",
    "        x = x.split(\"\\', \\'\")\n",
    "    else:\n",
    "        x = x.split(\"\\\", \\\"\")\n",
    "    #print(\"after: \", x)\n",
    "    #\n",
    "    #print(x)\n",
    "    match_tuples.append((x[0], 0))\n",
    "\n",
    "#print(match_tuples)\n",
    "\n",
    "freq = {\"dementia\":0\n",
    "    ,\"cognition\":0\n",
    "    ,\"\\'cognition\":0\n",
    "    ,\"memory\":0\n",
    "    ,\"memory\\'\":0\n",
    "    ,\"cdr\":0\n",
    "    ,\"mmse\":0\n",
    "    ,\"moca\":0\n",
    "    ,\"alzheimer\":0\n",
    "    ,'cognitive impairment':0\n",
    "    , \"cognitiveimpairment\":0\n",
    "    ,\"mci\":0\n",
    "    ,\"cerebellar\":0\n",
    "    ,\"neurocognitive\":0\n",
    "    ,\"lewy\":0\n",
    "    ,\"pick's\":0\n",
    "    ,\"cortical\":0\n",
    "    ,\"corticobasal\":0\n",
    "    ,\"cerebral\":0\n",
    "    ,\"cerebrovascular\":0\n",
    "    ,\"amnesia\":0\n",
    "}\n",
    "\n",
    "for k, v in match_tuples:    \n",
    "    if (k != ''):\n",
    "        freq.update({str(k.lower()):int(freq[k.lower()] + 1)})\n",
    "\n",
    "#print(freq, i, \"\\n\")\n",
    "\n",
    "summary_stats[\"encounters_with_keywords\"][436] = len(df5_matches[df5_matches[\"PatientID\"] == unique_ids[436]])\n",
    "\n",
    "for k, v in freq.items():\n",
    "    summary_stats[str(k.lower())][i] = int(v)\n",
    "    #print(k, v)"
   ]
  },
  {
   "cell_type": "code",
   "execution_count": null,
   "metadata": {},
   "outputs": [],
   "source": [
    "summary_stats"
   ]
  },
  {
   "cell_type": "code",
   "execution_count": null,
   "metadata": {},
   "outputs": [],
   "source": [
    "summary_stats.to_csv(r\"C:\\Users\\MIND_DS\\Dropbox (Partners HealthCare)\\NLP\\Tanish\\BigDataSets\\Regex_match_csv\\1\\apoe_1_summary_stats_updated.csv\")"
   ]
  },
  {
   "cell_type": "code",
   "execution_count": null,
   "metadata": {},
   "outputs": [],
   "source": [
    "s1 = pd.read_csv(r\"C:\\Users\\MIND_DS\\Dropbox (Partners HealthCare)\\NLP\\Tanish\\BigDataSets\\Regex_match_csv\\1\\apoe_1_summary_stats_updated.csv\")\n",
    "s2 = pd.read_csv(r\"C:\\Users\\MIND_DS\\Dropbox (Partners HealthCare)\\NLP\\Tanish\\BigDataSets\\Regex_match_csv\\2\\apoe_2_summary_stats_updated.csv\")\n",
    "s3 = pd.read_csv(r\"C:\\Users\\MIND_DS\\Dropbox (Partners HealthCare)\\NLP\\Tanish\\BigDataSets\\Regex_match_csv\\3\\apoe_3_summary_stats_updated.csv\")\n",
    "s4 = pd.read_csv(r\"C:\\Users\\MIND_DS\\Dropbox (Partners HealthCare)\\NLP\\Tanish\\BigDataSets\\Regex_match_csv\\4\\apoe_4_summary_stats_updated.csv\")\n",
    "s5 = pd.read_csv(r\"C:\\Users\\MIND_DS\\Dropbox (Partners HealthCare)\\NLP\\Tanish\\BigDataSets\\Regex_match_csv\\5\\apoe_5_summary_stats_updated.csv\")"
   ]
  },
  {
   "cell_type": "code",
   "execution_count": null,
   "metadata": {},
   "outputs": [],
   "source": [
    "frames = [s1,s2,s3,s4,s5]\n",
    "total_summary_stats = pd.concat(frames)"
   ]
  },
  {
   "cell_type": "code",
   "execution_count": null,
   "metadata": {},
   "outputs": [],
   "source": [
    "total_summary_stats['memory\\''].value_counts()"
   ]
  },
  {
   "cell_type": "code",
   "execution_count": null,
   "metadata": {},
   "outputs": [],
   "source": [
    "total_summary_stats.head()"
   ]
  },
  {
   "cell_type": "code",
   "execution_count": null,
   "metadata": {},
   "outputs": [],
   "source": [
    "total_summary_stats.to_csv(r\"C:\\Users\\MIND_DS\\Dropbox (Partners HealthCare)\\NLP\\Tanish\\BigDataSets\\Regex_match_csv\\total_summary_stats_updated_2.csv\")"
   ]
  },
  {
   "cell_type": "code",
   "execution_count": null,
   "metadata": {},
   "outputs": [],
   "source": [
    "s1[s1['patient_id'] == 'Z6356278']"
   ]
  },
  {
   "cell_type": "code",
   "execution_count": null,
   "metadata": {},
   "outputs": [],
   "source": [
    "apoe_1_matches = pd.read_csv(r\"C:\\Users\\MIND_DS\\Dropbox (Partners HealthCare)\\NLP\\Tanish\\BigDataSets\\Regex_match_csv\\1\\apoe_1_matches.csv\")"
   ]
  },
  {
   "cell_type": "code",
   "execution_count": null,
   "metadata": {},
   "outputs": [],
   "source": [
    "apoe_1_matches.head()"
   ]
  },
  {
   "cell_type": "code",
   "execution_count": null,
   "metadata": {},
   "outputs": [],
   "source": [
    "apoe_1_matches[apoe_1_matches['PatientID'] == 'Z6356278']"
   ]
  },
  {
   "cell_type": "code",
   "execution_count": null,
   "metadata": {},
   "outputs": [],
   "source": [
    "total = pd.read_csv(r\"C:\\Users\\MIND_DS\\Dropbox (Partners HealthCare)\\NLP\\Tanish\\BigDataSets\\Regex_match_csv\\total_summary_stats_updated.csv\")"
   ]
  },
  {
   "cell_type": "code",
   "execution_count": null,
   "metadata": {},
   "outputs": [],
   "source": [
    "total.columns"
   ]
  },
  {
   "cell_type": "code",
   "execution_count": null,
   "metadata": {},
   "outputs": [],
   "source": [
    "total[total['cognitiveimpairment'] == 8]"
   ]
  }
 ],
 "metadata": {
  "kernelspec": {
   "display_name": "Python 3",
   "language": "python",
   "name": "python3"
  },
  "language_info": {
   "codemirror_mode": {
    "name": "ipython",
    "version": 3
   },
   "file_extension": ".py",
   "mimetype": "text/x-python",
   "name": "python",
   "nbconvert_exporter": "python",
   "pygments_lexer": "ipython3",
   "version": "3.8.5"
  }
 },
 "nbformat": 4,
 "nbformat_minor": 4
}
