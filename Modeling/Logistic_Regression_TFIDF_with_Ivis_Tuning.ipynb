{
  "nbformat": 4,
  "nbformat_minor": 0,
  "metadata": {
    "colab": {
      "name": "Logistic Regression TFIDF with Ivis Tuning.ipynb",
      "provenance": [],
      "collapsed_sections": []
    },
    "kernelspec": {
      "name": "python3",
      "display_name": "Python 3"
    },
    "language_info": {
      "name": "python"
    }
  },
  "cells": [
    {
      "cell_type": "code",
      "metadata": {
        "colab": {
          "base_uri": "https://localhost:8080/"
        },
        "id": "Zg1MrfbJDKJu",
        "outputId": "970ecd9d-f8b1-46ea-a722-c84be36e34ab"
      },
      "source": [
        "from google.colab import drive\n",
        "drive.mount('/gdrive')"
      ],
      "execution_count": 126,
      "outputs": [
        {
          "output_type": "stream",
          "text": [
            "Drive already mounted at /gdrive; to attempt to forcibly remount, call drive.mount(\"/gdrive\", force_remount=True).\n"
          ],
          "name": "stdout"
        }
      ]
    },
    {
      "cell_type": "code",
      "metadata": {
        "id": "xZkqC33EEhrs"
      },
      "source": [
        "import pandas as pd"
      ],
      "execution_count": 125,
      "outputs": []
    },
    {
      "cell_type": "code",
      "metadata": {
        "colab": {
          "base_uri": "https://localhost:8080/"
        },
        "id": "pO5JaofTEsrM",
        "outputId": "b44f7608-7228-4a3e-9150-d64352c5941e"
      },
      "source": [
        "!pip install ivis"
      ],
      "execution_count": null,
      "outputs": [
        {
          "output_type": "stream",
          "text": [
            "Collecting ivis\n",
            "  Downloading https://files.pythonhosted.org/packages/d2/b6/b6fa8c8e6fb4cf831b5412c4b11fd643bbdb14a042420ac08557e48d95b1/ivis-2.0.4-py3-none-any.whl\n",
            "Requirement already satisfied: tqdm in /usr/local/lib/python3.7/dist-packages (from ivis) (4.41.1)\n",
            "Requirement already satisfied: numpy in /usr/local/lib/python3.7/dist-packages (from ivis) (1.19.5)\n",
            "Collecting annoy>=1.15.2\n",
            "\u001b[?25l  Downloading https://files.pythonhosted.org/packages/a1/5b/1c22129f608b3f438713b91cd880dc681d747a860afe3e8e0af86e921942/annoy-1.17.0.tar.gz (646kB)\n",
            "\u001b[K     |████████████████████████████████| 655kB 10.6MB/s \n",
            "\u001b[?25hRequirement already satisfied: scikit-learn>0.20.0 in /usr/local/lib/python3.7/dist-packages (from ivis) (0.22.2.post1)\n",
            "Requirement already satisfied: dill in /usr/local/lib/python3.7/dist-packages (from ivis) (0.3.4)\n",
            "Requirement already satisfied: scipy>=0.17.0 in /usr/local/lib/python3.7/dist-packages (from scikit-learn>0.20.0->ivis) (1.4.1)\n",
            "Requirement already satisfied: joblib>=0.11 in /usr/local/lib/python3.7/dist-packages (from scikit-learn>0.20.0->ivis) (1.0.1)\n",
            "Building wheels for collected packages: annoy\n",
            "  Building wheel for annoy (setup.py) ... \u001b[?25l\u001b[?25hdone\n",
            "  Created wheel for annoy: filename=annoy-1.17.0-cp37-cp37m-linux_x86_64.whl size=391652 sha256=355dfa969deadcb9826ad6bae2b9fa22801bd8a2b72300f10c1f11007152dbb0\n",
            "  Stored in directory: /root/.cache/pip/wheels/3a/c5/59/cce7e67b52c8e987389e53f917b6bb2a9d904a03246fadcb1e\n",
            "Successfully built annoy\n",
            "Installing collected packages: annoy, ivis\n",
            "Successfully installed annoy-1.17.0 ivis-2.0.4\n"
          ],
          "name": "stdout"
        }
      ]
    },
    {
      "cell_type": "code",
      "metadata": {
        "id": "MTFXyHBpEyXm"
      },
      "source": [
        "from ivis import Ivis\n",
        "from sklearn.preprocessing import MinMaxScaler\n",
        "from sklearn import datasets\n",
        "import matplotlib.pyplot as plt\n",
        "\n",
        "import numpy as np\n",
        "from sklearn.feature_extraction.text import CountVectorizer\n",
        "from sklearn.model_selection import train_test_split\n",
        "from sklearn.feature_extraction.text import TfidfVectorizer\n",
        "from sklearn import metrics\n",
        "from sklearn.model_selection import cross_validate\n",
        "from sklearn.metrics.scorer import make_scorer\n",
        "from sklearn.metrics import confusion_matrix, average_precision_score, classification_report\n",
        "from sklearn.linear_model import LogisticRegression\n",
        "from sklearn.utils import shuffle\n",
        "from sklearn import preprocessing\n",
        "import seaborn as sns\n",
        "from sklearn.metrics import roc_auc_score, auc\n",
        "import time"
      ],
      "execution_count": 127,
      "outputs": []
    },
    {
      "cell_type": "code",
      "metadata": {
        "colab": {
          "base_uri": "https://localhost:8080/",
          "height": 700
        },
        "id": "AhgPH1q7Ftd-",
        "outputId": "8cba9f56-75e6-4af4-9f5e-d01ef562ae4d"
      },
      "source": [
        "train_df = pd.read_csv(\"/gdrive/My Drive/Colab_Notebooks/Sentence-Analysis/input.csv\")\n",
        "test_df =pd.read_csv(\"/gdrive/My Drive/Colab_Notebooks/Sentence-Analysis/input_test.csv\")\n",
        "\n",
        "mappings = {1: 0, 2: 1, 3:2}\n",
        "\n",
        "train_df.label = [mappings[item] for item in train_df.label]\n",
        "train_df"
      ],
      "execution_count": 128,
      "outputs": [
        {
          "output_type": "execute_result",
          "data": {
            "text/html": [
              "<div>\n",
              "<style scoped>\n",
              "    .dataframe tbody tr th:only-of-type {\n",
              "        vertical-align: middle;\n",
              "    }\n",
              "\n",
              "    .dataframe tbody tr th {\n",
              "        vertical-align: top;\n",
              "    }\n",
              "\n",
              "    .dataframe thead th {\n",
              "        text-align: right;\n",
              "    }\n",
              "</style>\n",
              "<table border=\"1\" class=\"dataframe\">\n",
              "  <thead>\n",
              "    <tr style=\"text-align: right;\">\n",
              "      <th></th>\n",
              "      <th>Unnamed: 0</th>\n",
              "      <th>patient_id</th>\n",
              "      <th>sequence</th>\n",
              "      <th>label</th>\n",
              "    </tr>\n",
              "  </thead>\n",
              "  <tbody>\n",
              "    <tr>\n",
              "      <th>0</th>\n",
              "      <td>0</td>\n",
              "      <td>Z8399761</td>\n",
              "      <td>(unclear history), venous insufficiency, PVD, ...</td>\n",
              "      <td>2</td>\n",
              "    </tr>\n",
              "    <tr>\n",
              "      <th>1</th>\n",
              "      <td>1</td>\n",
              "      <td>Z11957588</td>\n",
              "      <td>period. It apparently cuts car accident rates ...</td>\n",
              "      <td>0</td>\n",
              "    </tr>\n",
              "    <tr>\n",
              "      <th>2</th>\n",
              "      <td>2</td>\n",
              "      <td>Z10809276</td>\n",
              "      <td>(P) 5 Hearing: no concerns Vision: needs updat...</td>\n",
              "      <td>1</td>\n",
              "    </tr>\n",
              "    <tr>\n",
              "      <th>3</th>\n",
              "      <td>3</td>\n",
              "      <td>Z8539944</td>\n",
              "      <td>remission, s/p 1 suicide attempt, 3 IPLOC admi...</td>\n",
              "      <td>2</td>\n",
              "    </tr>\n",
              "    <tr>\n",
              "      <th>4</th>\n",
              "      <td>4</td>\n",
              "      <td>Z12696803</td>\n",
              "      <td>should be pursued at that point in time. He an...</td>\n",
              "      <td>0</td>\n",
              "    </tr>\n",
              "    <tr>\n",
              "      <th>5</th>\n",
              "      <td>5</td>\n",
              "      <td>Z7552077</td>\n",
              "      <td>since the hospital visit. The patient is accom...</td>\n",
              "      <td>1</td>\n",
              "    </tr>\n",
              "    <tr>\n",
              "      <th>6</th>\n",
              "      <td>6</td>\n",
              "      <td>Z11702635</td>\n",
              "      <td>71 y.o. female with has a past medical history...</td>\n",
              "      <td>2</td>\n",
              "    </tr>\n",
              "    <tr>\n",
              "      <th>7</th>\n",
              "      <td>7</td>\n",
              "      <td>Z15548862</td>\n",
              "      <td>in the Memory Diagnostic Clinic at McLean Hosp...</td>\n",
              "      <td>2</td>\n",
              "    </tr>\n",
              "    <tr>\n",
              "      <th>8</th>\n",
              "      <td>8</td>\n",
              "      <td>Z7648831</td>\n",
              "      <td>on back wound with significant output per RN. ...</td>\n",
              "      <td>2</td>\n",
              "    </tr>\n",
              "    <tr>\n",
              "      <th>9</th>\n",
              "      <td>9</td>\n",
              "      <td>Z7701777</td>\n",
              "      <td>lobes bilaterally and left parietal lobe. Thes...</td>\n",
              "      <td>2</td>\n",
              "    </tr>\n",
              "    <tr>\n",
              "      <th>10</th>\n",
              "      <td>10</td>\n",
              "      <td>Z7762556</td>\n",
              "      <td>Assistance: Verbal cues moderate, Physical ass...</td>\n",
              "      <td>1</td>\n",
              "    </tr>\n",
              "    <tr>\n",
              "      <th>11</th>\n",
              "      <td>11</td>\n",
              "      <td>Z8774192</td>\n",
              "      <td>renal stenting), MALT lymphoma of R parotid (s...</td>\n",
              "      <td>2</td>\n",
              "    </tr>\n",
              "    <tr>\n",
              "      <th>12</th>\n",
              "      <td>12</td>\n",
              "      <td>Z8291164</td>\n",
              "      <td>neurologist' as documented in the notes and I ...</td>\n",
              "      <td>2</td>\n",
              "    </tr>\n",
              "    <tr>\n",
              "      <th>13</th>\n",
              "      <td>13</td>\n",
              "      <td>Z7091114</td>\n",
              "      <td>no antiplatelets/anticoagulation, PMHx inflamm...</td>\n",
              "      <td>2</td>\n",
              "    </tr>\n",
              "    <tr>\n",
              "      <th>14</th>\n",
              "      <td>14</td>\n",
              "      <td>Z11702635</td>\n",
              "      <td>your patient, Joyce Alexander , in the Neurolo...</td>\n",
              "      <td>2</td>\n",
              "    </tr>\n",
              "    <tr>\n",
              "      <th>15</th>\n",
              "      <td>15</td>\n",
              "      <td>Z9302874</td>\n",
              "      <td>• Crab GI Upset • Pollen Extracts FAMILY HISTO...</td>\n",
              "      <td>1</td>\n",
              "    </tr>\n",
              "    <tr>\n",
              "      <th>16</th>\n",
              "      <td>16</td>\n",
              "      <td>Z11511001</td>\n",
              "      <td>• Hyperlipidemia • Hypothyroidism • Tracheomal...</td>\n",
              "      <td>1</td>\n",
              "    </tr>\n",
              "    <tr>\n",
              "      <th>17</th>\n",
              "      <td>17</td>\n",
              "      <td>Z6818854</td>\n",
              "      <td>MRN: 38611851 PCP: Anna A Manatis Referring Pr...</td>\n",
              "      <td>2</td>\n",
              "    </tr>\n",
              "    <tr>\n",
              "      <th>18</th>\n",
              "      <td>18</td>\n",
              "      <td>Z7766129</td>\n",
              "      <td>(akathisia) diphenhydramine (urinary retention...</td>\n",
              "      <td>1</td>\n",
              "    </tr>\n",
              "    <tr>\n",
              "      <th>19</th>\n",
              "      <td>19</td>\n",
              "      <td>Z12274682</td>\n",
              "      <td>is notable for maternal grandmother with epile...</td>\n",
              "      <td>0</td>\n",
              "    </tr>\n",
              "    <tr>\n",
              "      <th>20</th>\n",
              "      <td>20</td>\n",
              "      <td>Z10490939</td>\n",
              "      <td>Bundle branch block Cataract Nonexudative age-...</td>\n",
              "      <td>2</td>\n",
              "    </tr>\n",
              "  </tbody>\n",
              "</table>\n",
              "</div>"
            ],
            "text/plain": [
              "    Unnamed: 0  ... label\n",
              "0            0  ...     2\n",
              "1            1  ...     0\n",
              "2            2  ...     1\n",
              "3            3  ...     2\n",
              "4            4  ...     0\n",
              "5            5  ...     1\n",
              "6            6  ...     2\n",
              "7            7  ...     2\n",
              "8            8  ...     2\n",
              "9            9  ...     2\n",
              "10          10  ...     1\n",
              "11          11  ...     2\n",
              "12          12  ...     2\n",
              "13          13  ...     2\n",
              "14          14  ...     2\n",
              "15          15  ...     1\n",
              "16          16  ...     1\n",
              "17          17  ...     2\n",
              "18          18  ...     1\n",
              "19          19  ...     0\n",
              "20          20  ...     2\n",
              "\n",
              "[21 rows x 4 columns]"
            ]
          },
          "metadata": {
            "tags": []
          },
          "execution_count": 128
        }
      ]
    },
    {
      "cell_type": "code",
      "metadata": {
        "id": "WWrqgcVnKDnO"
      },
      "source": [
        "X = train_df[\"sequence\"]\n",
        "y = train_df[\"label\"]"
      ],
      "execution_count": 129,
      "outputs": []
    },
    {
      "cell_type": "code",
      "metadata": {
        "id": "ERuTqYVeKJKt"
      },
      "source": [
        "y_label = y.to_numpy()\n",
        "X_train, X_test, y_train, y_test = train_test_split(X,y,random_state=0,test_size=0.3, stratify = y_label)"
      ],
      "execution_count": 140,
      "outputs": []
    },
    {
      "cell_type": "code",
      "metadata": {
        "id": "nnd9cp-YGEhn"
      },
      "source": [
        "tfidf_vectorizer = TfidfVectorizer(stop_words=\"english\",analyzer='word')\n",
        "tfidf_train= tfidf_vectorizer.fit_transform(X_train)\n",
        "tfidf_test = tfidf_vectorizer.transform(X_test)\n",
        "# Create the TfidfVectorizer DataFrame: tfidf_df\n",
        "tfidf_train  = pd.DataFrame(tfidf_train.A, columns=tfidf_vectorizer.get_feature_names())\n",
        "tfidf_test  = pd.DataFrame(tfidf_test.A, columns=tfidf_vectorizer.get_feature_names())\n",
        "tfidf_train = tfidf_train.to_numpy()\n",
        "tfidf_test = tfidf_test.to_numpy()"
      ],
      "execution_count": 131,
      "outputs": []
    },
    {
      "cell_type": "code",
      "metadata": {
        "colab": {
          "base_uri": "https://localhost:8080/"
        },
        "id": "evhpc_ubGv-_",
        "outputId": "fe3d2b8e-9aa3-4237-cebb-84c7a4adee87"
      },
      "source": [
        "print(np.unique(y_test))"
      ],
      "execution_count": 132,
      "outputs": [
        {
          "output_type": "stream",
          "text": [
            "[0 1 2]\n"
          ],
          "name": "stdout"
        }
      ]
    },
    {
      "cell_type": "code",
      "metadata": {
        "colab": {
          "base_uri": "https://localhost:8080/"
        },
        "id": "BFr84674GIin",
        "outputId": "249c0970-ae1b-422a-9b26-6ab4b905885d"
      },
      "source": [
        "ivis = Ivis(embedding_dims=20, model='maaten',\n",
        "           n_epochs_without_progress=5, \n",
        "            k =10, batch_size= 4 #deletee when get full gold standard dataset\n",
        "            )\n",
        "ivis.fit(tfidf_train, y_train.values)"
      ],
      "execution_count": 133,
      "outputs": [
        {
          "output_type": "stream",
          "text": [
            "100%|██████████| 14/14 [00:00<00:00, 11085.57it/s]\n",
            "100%|██████████| 14/14 [00:00<00:00, 139.66it/s]"
          ],
          "name": "stderr"
        },
        {
          "output_type": "stream",
          "text": [
            "Building KNN index\n",
            "Extracting KNN neighbours\n"
          ],
          "name": "stdout"
        },
        {
          "output_type": "stream",
          "text": [
            "\r100%|██████████| 14/14 [00:00<00:00, 69.02it/s] \n"
          ],
          "name": "stderr"
        },
        {
          "output_type": "stream",
          "text": [
            "Training neural network\n",
            "Epoch 1/1000\n",
            "4/4 [==============================] - 2s 37ms/step - loss: 1.6635 - stacked_triplets_loss: 1.6923 - supervised_loss: 1.6348\n",
            "Epoch 2/1000\n",
            "4/4 [==============================] - 0s 28ms/step - loss: 1.3752 - stacked_triplets_loss: 1.1777 - supervised_loss: 1.5728\n",
            "Epoch 3/1000\n",
            "4/4 [==============================] - 0s 29ms/step - loss: 3.2314 - stacked_triplets_loss: 1.6608 - supervised_loss: 4.8020\n",
            "Epoch 4/1000\n",
            "4/4 [==============================] - 0s 27ms/step - loss: 2.8343 - stacked_triplets_loss: 1.1559 - supervised_loss: 4.5127\n",
            "Epoch 5/1000\n",
            "4/4 [==============================] - 0s 27ms/step - loss: 1.5559 - stacked_triplets_loss: 1.5621 - supervised_loss: 1.5497\n",
            "Epoch 6/1000\n",
            "4/4 [==============================] - 0s 30ms/step - loss: 2.4162 - stacked_triplets_loss: 3.7648 - supervised_loss: 1.0676\n",
            "Epoch 7/1000\n",
            "4/4 [==============================] - 0s 31ms/step - loss: 1.6486 - stacked_triplets_loss: 1.2602 - supervised_loss: 2.0369\n"
          ],
          "name": "stdout"
        },
        {
          "output_type": "execute_result",
          "data": {
            "text/plain": [
              "Ivis(annoy_index_path=None, batch_size=4, build_index_on_disk=True,\n",
              "     callbacks=None, distance='pn', embedding_dims=20, epochs=1000, k=10,\n",
              "     knn_distance_metric='angular', model='maaten', n_epochs_without_progress=5,\n",
              "     neighbour_matrix=<ivis.data.neighbour_retrieval.knn.AnnoyKnnMatrix object at 0x7fdf19135750>,\n",
              "     ntrees=50, precompute=True, search_k=-1,\n",
              "     supervision_metric='sparse_categorical_crossentropy',\n",
              "     supervision_weight=0.5, verbose=1)"
            ]
          },
          "metadata": {
            "tags": []
          },
          "execution_count": 133
        }
      ]
    },
    {
      "cell_type": "code",
      "metadata": {
        "colab": {
          "base_uri": "https://localhost:8080/"
        },
        "id": "KNx547dxOxQ8",
        "outputId": "9a2527a0-6417-4a23-e303-f125d46f0415"
      },
      "source": [
        "train_embeddings = ivis.transform(tfidf_train)\n",
        "test_embeddings = ivis.transform(tfidf_test)"
      ],
      "execution_count": 134,
      "outputs": [
        {
          "output_type": "stream",
          "text": [
            "4/4 [==============================] - 0s 4ms/step\n",
            "2/2 [==============================] - 0s 10ms/step\n"
          ],
          "name": "stdout"
        }
      ]
    },
    {
      "cell_type": "code",
      "metadata": {
        "colab": {
          "base_uri": "https://localhost:8080/"
        },
        "id": "Vk1mkUbIPv8E",
        "outputId": "a7aa63a5-2446-4af0-9dec-1e5ea2e512bc"
      },
      "source": [
        "print(test_embeddings)"
      ],
      "execution_count": 135,
      "outputs": [
        {
          "output_type": "stream",
          "text": [
            "[[-3.73573     0.25602937  1.3729056  -2.0936823  -1.4079608   1.372871\n",
            "   1.4599705   2.1294692  -2.0895803   2.1815796   1.2485493   3.5546196\n",
            "   0.06509355  1.1838202  -0.12119884 -0.42763966 -2.428567   -1.7644025\n",
            "  -1.2199429   0.80226487]\n",
            " [-4.9713674   0.96132874  2.118471   -0.10799206 -0.29409894  0.66915005\n",
            "   1.8416885   1.8352408  -0.63380677  1.6001326   1.3137836   4.0603027\n",
            "   0.9752747  -0.81356764 -1.4823312  -0.02057452 -1.9949232  -1.139138\n",
            "  -2.5237849   0.9672206 ]\n",
            " [-2.7066264   0.79853505  1.0242834  -0.24155593 -0.48519847  0.5426328\n",
            "   0.9871025   0.83598024  0.1556343   0.6566955   0.05983492  2.4294765\n",
            "   0.32721138  0.03484977 -0.69512063  0.10541297 -0.4292262  -1.3338422\n",
            "  -1.402807    0.6735952 ]\n",
            " [-2.4891336   0.57790196  2.1074188  -1.1697868   0.5441521   0.68259025\n",
            "   1.626296    1.2873281  -0.24906561  1.4649799   0.9091435   1.4336722\n",
            "   0.7252251  -0.16994154 -1.1569254   0.5939237  -0.6423334  -0.59816915\n",
            "  -1.8565581   1.5787065 ]\n",
            " [-3.6049347   0.9359833   1.5430943  -1.7226584  -1.7165419   1.6775432\n",
            "   0.19449213  0.4206313  -1.5299937   1.2551352   1.1008977   3.4176054\n",
            "  -1.0697066   0.61662924 -0.6746045  -0.7432957  -1.25819    -1.135128\n",
            "  -1.8360429   1.005718  ]\n",
            " [-2.8160148   0.8836044   1.1192158  -0.61941475 -0.7697744   0.98464674\n",
            "   0.748804    0.47953802 -0.5051964   0.90042716  0.63166076  2.3179827\n",
            "  -0.81443495  0.620443   -1.1689085  -0.30467808 -0.9930617  -1.3518392\n",
            "  -1.818255    1.2257378 ]\n",
            " [-3.685789    0.47591886  2.308779   -1.2650518  -1.680129    0.94043016\n",
            "   0.74931264  1.2626662  -2.4049714   2.9250228   1.2363802   3.7200084\n",
            "  -0.26344848  0.75228375 -0.25074452 -0.09964173 -2.1110322  -1.4107431\n",
            "  -1.6437777   1.014368  ]]\n"
          ],
          "name": "stdout"
        }
      ]
    },
    {
      "cell_type": "code",
      "metadata": {
        "colab": {
          "base_uri": "https://localhost:8080/",
          "height": 701
        },
        "id": "AZ1lFwVcO20u",
        "outputId": "23e303df-4b0c-45eb-e43c-0c09a39059f9"
      },
      "source": [
        "fig, ax = plt.subplots(1, 2, figsize=(15, 5), dpi=200)\n",
        "ax[0].scatter(x=train_embeddings[:, 0], y=train_embeddings[:, 1], c=y_train, s=3)\n",
        "ax[0].set_xlabel('ivis 1')\n",
        "ax[0].set_ylabel('ivis 2')\n",
        "ax[0].set_title('Training Set')\n",
        "\n",
        "ax[1].scatter(x=test_embeddings[:, 0], y=test_embeddings[:, 1], c=y_test, s=3)\n",
        "ax[1].set_xlabel('ivis 1')\n",
        "ax[1].set_ylabel('ivis 2')\n",
        "ax[1].set_title('Testing Set')"
      ],
      "execution_count": 136,
      "outputs": [
        {
          "output_type": "execute_result",
          "data": {
            "text/plain": [
              "Text(0.5, 1.0, 'Testing Set')"
            ]
          },
          "metadata": {
            "tags": []
          },
          "execution_count": 136
        },
        {
          "output_type": "display_data",
          "data": {
            "image/png": "[encoded data removed]",
            "text/plain": [
              "<Figure size 3000x1000 with 2 Axes>"
            ]
          },
          "metadata": {
            "tags": [],
            "needs_background": "light"
          }
        }
      ]
    },
    {
      "cell_type": "code",
      "metadata": {
        "colab": {
          "base_uri": "https://localhost:8080/",
          "height": 598
        },
        "id": "hm3m0f14O8H-",
        "outputId": "11e17d92-d3a0-4a5b-c556-cc9bfb30b68d"
      },
      "source": [
        "clf = LogisticRegression(solver=\"lbfgs\").fit(train_embeddings, y_train)\n",
        "labels = clf.predict(test_embeddings)\n",
        "proba = clf.predict_proba(test_embeddings)\n",
        "\n",
        "target_names = ['NO', 'NTR', 'YES']\n",
        "results = classification_report(y_test, labels, target_names=target_names, output_dict=True)\n",
        "results = pd.DataFrame(results).transpose()\n",
        "print(results)\n",
        "\n",
        "\n",
        "\n",
        "print('\\nConfusion Matrix')\n",
        "print(confusion_matrix(y_test, labels))\n",
        "#print('Average Precision: '+str(average_precision_score(y_test, proba[:, 1])))\n",
        "#print('ROC AUC: '+ str(roc_auc_score(y_test, labels, multi_class='ovr', average = 'macro')))"
      ],
      "execution_count": 141,
      "outputs": [
        {
          "output_type": "stream",
          "text": [
            "              precision    recall  f1-score   support\n",
            "NO             0.000000  0.000000  0.000000  1.000000\n",
            "NTR            0.000000  0.000000  0.000000  2.000000\n",
            "YES            0.500000  0.750000  0.600000  4.000000\n",
            "accuracy       0.428571  0.428571  0.428571  0.428571\n",
            "macro avg      0.166667  0.250000  0.200000  7.000000\n",
            "weighted avg   0.285714  0.428571  0.342857  7.000000\n",
            "\n",
            "Confusion Matrix\n",
            "[[0 0 1]\n",
            " [0 0 2]\n",
            " [0 1 3]]\n"
          ],
          "name": "stdout"
        },
        {
          "output_type": "stream",
          "text": [
            "/usr/local/lib/python3.7/dist-packages/sklearn/metrics/_classification.py:1272: UndefinedMetricWarning: Precision and F-score are ill-defined and being set to 0.0 in labels with no predicted samples. Use `zero_division` parameter to control this behavior.\n",
            "  _warn_prf(average, modifier, msg_start, len(result))\n"
          ],
          "name": "stderr"
        },
        {
          "output_type": "error",
          "ename": "AxisError",
          "evalue": "ignored",
          "traceback": [
            "\u001b[0;31m---------------------------------------------------------------------------\u001b[0m",
            "\u001b[0;31mAxisError\u001b[0m                                 Traceback (most recent call last)",
            "\u001b[0;32m<ipython-input-141-6d57bc7b63ce>\u001b[0m in \u001b[0;36m<module>\u001b[0;34m()\u001b[0m\n\u001b[1;32m     13\u001b[0m \u001b[0mprint\u001b[0m\u001b[0;34m(\u001b[0m\u001b[0mconfusion_matrix\u001b[0m\u001b[0;34m(\u001b[0m\u001b[0my_test\u001b[0m\u001b[0;34m,\u001b[0m \u001b[0mlabels\u001b[0m\u001b[0;34m)\u001b[0m\u001b[0;34m)\u001b[0m\u001b[0;34m\u001b[0m\u001b[0;34m\u001b[0m\u001b[0m\n\u001b[1;32m     14\u001b[0m \u001b[0;31m#print('Average Precision: '+str(average_precision_score(y_test, proba[:, 1])))\u001b[0m\u001b[0;34m\u001b[0m\u001b[0;34m\u001b[0m\u001b[0;34m\u001b[0m\u001b[0m\n\u001b[0;32m---> 15\u001b[0;31m \u001b[0mprint\u001b[0m\u001b[0;34m(\u001b[0m\u001b[0;34m'ROC AUC: '\u001b[0m\u001b[0;34m+\u001b[0m \u001b[0mstr\u001b[0m\u001b[0;34m(\u001b[0m\u001b[0mroc_auc_score\u001b[0m\u001b[0;34m(\u001b[0m\u001b[0my_test\u001b[0m\u001b[0;34m,\u001b[0m \u001b[0mlabels\u001b[0m\u001b[0;34m,\u001b[0m \u001b[0mmulti_class\u001b[0m\u001b[0;34m=\u001b[0m\u001b[0;34m'ovr'\u001b[0m\u001b[0;34m,\u001b[0m \u001b[0maverage\u001b[0m \u001b[0;34m=\u001b[0m \u001b[0;34m'macro'\u001b[0m\u001b[0;34m)\u001b[0m\u001b[0;34m)\u001b[0m\u001b[0;34m)\u001b[0m\u001b[0;34m\u001b[0m\u001b[0;34m\u001b[0m\u001b[0m\n\u001b[0m",
            "\u001b[0;32m/usr/local/lib/python3.7/dist-packages/sklearn/metrics/_ranking.py\u001b[0m in \u001b[0;36mroc_auc_score\u001b[0;34m(y_true, y_score, average, sample_weight, max_fpr, multi_class, labels)\u001b[0m\n\u001b[1;32m    381\u001b[0m             \u001b[0;32mraise\u001b[0m \u001b[0mValueError\u001b[0m\u001b[0;34m(\u001b[0m\u001b[0;34m\"multi_class must be in ('ovo', 'ovr')\"\u001b[0m\u001b[0;34m)\u001b[0m\u001b[0;34m\u001b[0m\u001b[0;34m\u001b[0m\u001b[0m\n\u001b[1;32m    382\u001b[0m         return _multiclass_roc_auc_score(y_true, y_score, labels,\n\u001b[0;32m--> 383\u001b[0;31m                                          multi_class, average, sample_weight)\n\u001b[0m\u001b[1;32m    384\u001b[0m     \u001b[0;32melif\u001b[0m \u001b[0my_type\u001b[0m \u001b[0;34m==\u001b[0m \u001b[0;34m\"binary\"\u001b[0m\u001b[0;34m:\u001b[0m\u001b[0;34m\u001b[0m\u001b[0;34m\u001b[0m\u001b[0m\n\u001b[1;32m    385\u001b[0m         \u001b[0mlabels\u001b[0m \u001b[0;34m=\u001b[0m \u001b[0mnp\u001b[0m\u001b[0;34m.\u001b[0m\u001b[0munique\u001b[0m\u001b[0;34m(\u001b[0m\u001b[0my_true\u001b[0m\u001b[0;34m)\u001b[0m\u001b[0;34m\u001b[0m\u001b[0;34m\u001b[0m\u001b[0m\n",
            "\u001b[0;32m/usr/local/lib/python3.7/dist-packages/sklearn/metrics/_ranking.py\u001b[0m in \u001b[0;36m_multiclass_roc_auc_score\u001b[0;34m(y_true, y_score, labels, multi_class, average, sample_weight)\u001b[0m\n\u001b[1;32m    438\u001b[0m     \"\"\"\n\u001b[1;32m    439\u001b[0m     \u001b[0;31m# validation of the input y_score\u001b[0m\u001b[0;34m\u001b[0m\u001b[0;34m\u001b[0m\u001b[0;34m\u001b[0m\u001b[0m\n\u001b[0;32m--> 440\u001b[0;31m     \u001b[0;32mif\u001b[0m \u001b[0;32mnot\u001b[0m \u001b[0mnp\u001b[0m\u001b[0;34m.\u001b[0m\u001b[0mallclose\u001b[0m\u001b[0;34m(\u001b[0m\u001b[0;36m1\u001b[0m\u001b[0;34m,\u001b[0m \u001b[0my_score\u001b[0m\u001b[0;34m.\u001b[0m\u001b[0msum\u001b[0m\u001b[0;34m(\u001b[0m\u001b[0maxis\u001b[0m\u001b[0;34m=\u001b[0m\u001b[0;36m1\u001b[0m\u001b[0;34m)\u001b[0m\u001b[0;34m)\u001b[0m\u001b[0;34m:\u001b[0m\u001b[0;34m\u001b[0m\u001b[0;34m\u001b[0m\u001b[0m\n\u001b[0m\u001b[1;32m    441\u001b[0m         raise ValueError(\n\u001b[1;32m    442\u001b[0m             \u001b[0;34m\"Target scores need to be probabilities for multiclass \"\u001b[0m\u001b[0;34m\u001b[0m\u001b[0;34m\u001b[0m\u001b[0m\n",
            "\u001b[0;32m/usr/local/lib/python3.7/dist-packages/numpy/core/_methods.py\u001b[0m in \u001b[0;36m_sum\u001b[0;34m(a, axis, dtype, out, keepdims, initial, where)\u001b[0m\n\u001b[1;32m     45\u001b[0m def _sum(a, axis=None, dtype=None, out=None, keepdims=False,\n\u001b[1;32m     46\u001b[0m          initial=_NoValue, where=True):\n\u001b[0;32m---> 47\u001b[0;31m     \u001b[0;32mreturn\u001b[0m \u001b[0mumr_sum\u001b[0m\u001b[0;34m(\u001b[0m\u001b[0ma\u001b[0m\u001b[0;34m,\u001b[0m \u001b[0maxis\u001b[0m\u001b[0;34m,\u001b[0m \u001b[0mdtype\u001b[0m\u001b[0;34m,\u001b[0m \u001b[0mout\u001b[0m\u001b[0;34m,\u001b[0m \u001b[0mkeepdims\u001b[0m\u001b[0;34m,\u001b[0m \u001b[0minitial\u001b[0m\u001b[0;34m,\u001b[0m \u001b[0mwhere\u001b[0m\u001b[0;34m)\u001b[0m\u001b[0;34m\u001b[0m\u001b[0;34m\u001b[0m\u001b[0m\n\u001b[0m\u001b[1;32m     48\u001b[0m \u001b[0;34m\u001b[0m\u001b[0m\n\u001b[1;32m     49\u001b[0m def _prod(a, axis=None, dtype=None, out=None, keepdims=False,\n",
            "\u001b[0;31mAxisError\u001b[0m: axis 1 is out of bounds for array of dimension 1"
          ]
        }
      ]
    }
  ]
}