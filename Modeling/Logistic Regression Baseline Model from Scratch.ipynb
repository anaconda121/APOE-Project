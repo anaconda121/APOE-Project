{
 "cells": [
  {
   "cell_type": "code",
   "execution_count": 30,
   "id": "b0a39c45",
   "metadata": {},
   "outputs": [],
   "source": [
    "import pandas as pd\n",
    "import numpy as np\n",
    "import seaborn as sns\n",
    "import matplotlib.pyplot as plt\n",
    "import nltk\n",
    "from nltk.stem import PorterStemmer\n",
    "from nltk.tokenize import word_tokenize\n",
    "from nltk.corpus import stopwords\n",
    "import string\n",
    "\n",
    "import warnings\n",
    "warnings.filterwarnings('ignore')"
   ]
  },
  {
   "cell_type": "code",
   "execution_count": 26,
   "id": "d4aa3a80",
   "metadata": {},
   "outputs": [
    {
     "name": "stderr",
     "output_type": "stream",
     "text": [
      "[nltk_data] Downloading package punkt to\n",
      "[nltk_data]     C:\\Users\\tanis\\AppData\\Roaming\\nltk_data...\n",
      "[nltk_data]   Unzipping tokenizers\\punkt.zip.\n"
     ]
    },
    {
     "data": {
      "text/plain": [
       "True"
      ]
     },
     "execution_count": 26,
     "metadata": {},
     "output_type": "execute_result"
    }
   ],
   "source": [
    "nltk.download('punkt')"
   ]
  },
  {
   "cell_type": "code",
   "execution_count": 3,
   "id": "d7decd70",
   "metadata": {},
   "outputs": [],
   "source": [
    "yes = pd.read_csv(\"yes.csv\")\n",
    "yes = yes[\"sequence\"].to_list()\n",
    "\n",
    "no = pd.read_csv(\"no.csv\")\n",
    "no = no[\"sequence\"].to_list()\n",
    "\n",
    "neither = pd.read_csv(\"neither.csv\")\n",
    "neither = neither[\"sequence\"].to_list()"
   ]
  },
  {
   "cell_type": "code",
   "execution_count": 12,
   "id": "134ba335",
   "metadata": {},
   "outputs": [],
   "source": [
    "# creating train and test partitions for sequences\n",
    "train_yes = yes[:int(0.85 * len(yes))]\n",
    "test_yes = yes[int(0.85 * len(yes)):]\n",
    "\n",
    "train_no = no[:int(0.85 * len(no))]\n",
    "test_no = no[int(0.85 * len(no)):]\n",
    "\n",
    "train_neither = neither[:int(0.85 * len(neither))]\n",
    "test_neither = neither[int(0.85 * len(neither)):]\n",
    "\n",
    "train_x = train_yes + train_no + train_neither\n",
    "test_x = test_yes + test_no + test_neither"
   ]
  },
  {
   "cell_type": "code",
   "execution_count": 13,
   "id": "fa781475",
   "metadata": {},
   "outputs": [],
   "source": [
    "# creating train and test partitions for labels\n",
    "t_y = np.full(len(train_yes), 1)\n",
    "test_y = np.full(len(test_yes), 1)\n",
    "\n",
    "t_n = np.full((len(train_neither)), 0.5)\n",
    "test_n = np.full((len(test_neither)), 0.5)\n",
    "\n",
    "t_no = np.full((len(train_no)), 0)\n",
    "test_no_ = np.full(len(test_no), 0)\n",
    "\n",
    "train_y = np.concatenate((t_y, t_no, t_n), axis=0)\n",
    "test_y = np.concatenate((test_y, test_no_, test_n), axis=0)"
   ]
  },
  {
   "cell_type": "code",
   "execution_count": 31,
   "id": "8d31dcd2",
   "metadata": {},
   "outputs": [],
   "source": [
    "def process(sequence):\n",
    "    stemmer = PorterStemmer()\n",
    "    stopwords_english = stopwords.words('english')\n",
    "    \n",
    "    # tokenize sequences\n",
    "    tokens = word_tokenize(sequence)\n",
    "\n",
    "    sequences_clean = []\n",
    "    for word in tokens:\n",
    "        if (word not in stopwords_english and  # remove stopwords\n",
    "                word not in string.punctuation):  # remove punctuation\n",
    "            stem_word = stemmer.stem(word)  # stemming word\n",
    "            sequences_clean.append(stem_word)\n",
    "\n",
    "    return sequences_clean"
   ]
  },
  {
   "cell_type": "code",
   "execution_count": 32,
   "id": "7ecb3b52",
   "metadata": {},
   "outputs": [],
   "source": [
    "def build_freqs(sequences, ys):\n",
    "    \"\"\"Build frequencies.\n",
    "    Input:\n",
    "        sequences: sequences\n",
    "        ys: an m x 1 array with the sentiment label of each tweet\n",
    "            (either 0/0.5/1)\n",
    "    Output:\n",
    "        freqs: a dictionary mapping each (word, sentiment) pair to its\n",
    "        frequency\n",
    "    \"\"\"\n",
    "    # Convert np array to list since zip needs an iterable.\n",
    "    # The squeeze is necessary or the list ends up with one element.\n",
    "    # Also note that this is just a NOP if ys is already a list.\n",
    "    yslist = np.squeeze(ys).tolist()\n",
    "\n",
    "    # Start with an empty dictionary and populate it by looping over all tweets\n",
    "    # and over all processed words in each tweet.\n",
    "    freqs = {}\n",
    "    for y, seq in zip(yslist, sequences):\n",
    "        for word in process(seq):\n",
    "            pair = (word, y)\n",
    "            if pair in freqs:\n",
    "                freqs[pair] += 1\n",
    "            else:\n",
    "                freqs[pair] = 1\n",
    "\n",
    "    return freqs"
   ]
  },
  {
   "cell_type": "code",
   "execution_count": 35,
   "id": "227da920",
   "metadata": {},
   "outputs": [
    {
     "name": "stdout",
     "output_type": "stream",
     "text": [
      "type(freqs) = <class 'dict'>\n",
      "len(freqs) = 298\n"
     ]
    }
   ],
   "source": [
    "# create frequency dictionary\n",
    "freqs = build_freqs(train_x, train_y)\n",
    "\n",
    "# check the output\n",
    "print(\"type(freqs) = \" + str(type(freqs)))\n",
    "print(\"len(freqs) = \" + str(len(freqs.keys())))"
   ]
  },
  {
   "cell_type": "code",
   "execution_count": null,
   "id": "e4116da6",
   "metadata": {},
   "outputs": [],
   "source": []
  }
 ],
 "metadata": {
  "kernelspec": {
   "display_name": "spacy_env",
   "language": "python",
   "name": "spacy_env"
  },
  "language_info": {
   "codemirror_mode": {
    "name": "ipython",
    "version": 3
   },
   "file_extension": ".py",
   "mimetype": "text/x-python",
   "name": "python",
   "nbconvert_exporter": "python",
   "pygments_lexer": "ipython3",
   "version": "3.7.10"
  }
 },
 "nbformat": 4,
 "nbformat_minor": 5
}
