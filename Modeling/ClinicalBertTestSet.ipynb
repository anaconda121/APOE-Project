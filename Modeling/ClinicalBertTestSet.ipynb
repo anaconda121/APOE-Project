{
 "cells": [
  {
   "cell_type": "code",
   "execution_count": 3,
   "metadata": {},
   "outputs": [],
   "source": [
    "# base libraries\n",
    "import numpy as np\n",
    "import pandas as pd\n",
    "import regex as re\n",
    "import itertools\n",
    "import sklearn.metrics as sk\n",
    "from functools import reduce"
   ]
  },
  {
   "cell_type": "code",
   "execution_count": null,
   "metadata": {},
   "outputs": [],
   "source": [
    "# deep learning libraries\n",
    "import torch\n",
    "import transformers\n",
    "from sklearn.model_selection import train_test_split\n",
    "from simpletransformers.classification import ClassificationModel, ClassificationArgs\n",
    "\n",
    "# hyperparameter optimization\n",
    "import optuna\n",
    "from optuna.samplers import TPESampler\n",
    "import optuna.visualization.matplotlib as oviz\n",
    "\n",
    "# file system manipulation\n",
    "import os\n",
    "import shutil\n",
    "from pathlib import Path\n",
    "import pickle\n",
    "import copy\n",
    "\n",
    "# logging\n",
    "import logging\n",
    "import time"
   ]
  },
  {
   "cell_type": "code",
   "execution_count": 2,
   "metadata": {},
   "outputs": [
    {
     "name": "stdout",
     "output_type": "stream",
     "text": [
      "Is CUDA available?  Yes\n"
     ]
    }
   ],
   "source": [
    "# set seeds to make computations deterministic\n",
    "np.random.seed(42)\n",
    "torch.manual_seed(42)\n",
    "\n",
    "# check CUDA availability\n",
    "cuda_available = torch.cuda.is_available()\n",
    "print(\"Is CUDA available? \", \"Yes\" if cuda_available else \"No\")"
   ]
  },
  {
   "cell_type": "code",
   "execution_count": 46,
   "metadata": {},
   "outputs": [],
   "source": [
    "final_test = pd.read_csv(r\"Storage/Bert/test_8_11.csv\")\n",
    "final_test.columns = [\"PatientID\", \"text\", \"labels\"]"
   ]
  },
  {
   "cell_type": "code",
   "execution_count": 47,
   "metadata": {},
   "outputs": [],
   "source": [
    "best_model = ClassificationModel(\n",
    "    \"bert\",\n",
    "    \"Storage/Bert/NoHyperParameterTuningResults/trial_0\"\n",
    ")"
   ]
  },
  {
   "cell_type": "code",
   "execution_count": 48,
   "metadata": {},
   "outputs": [
    {
     "data": {
      "application/vnd.jupyter.widget-view+json": {
       "model_id": "078a2a4be53f41e8ab9cb5633b6868bb",
       "version_major": 2,
       "version_minor": 0
      },
      "text/plain": [
       "  0%|          | 0/293 [00:00<?, ?it/s]"
      ]
     },
     "metadata": {},
     "output_type": "display_data"
    },
    {
     "data": {
      "application/vnd.jupyter.widget-view+json": {
       "model_id": "57797d218d914f5fb624e9c5febb79ed",
       "version_major": 2,
       "version_minor": 0
      },
      "text/plain": [
       "Running Evaluation:   0%|          | 0/74 [00:00<?, ?it/s]"
      ]
     },
     "metadata": {},
     "output_type": "display_data"
    },
    {
     "name": "stderr",
     "output_type": "stream",
     "text": [
      "/space/mindds/2/projects/apoe-dl/apoe_slat/apoe-dl-env/lib/python3.8/site-packages/torch/nn/parallel/_functions.py:68: UserWarning: Was asked to gather along dimension 0, but all input tensors were scalars; will instead unsqueeze and return a vector.\n",
      "  warnings.warn('Was asked to gather along dimension 0, but all '\n"
     ]
    }
   ],
   "source": [
    "test_results, test_outputs, test_wrong = best_model.eval_model(\n",
    "    final_test,\n",
    ")"
   ]
  },
  {
   "cell_type": "code",
   "execution_count": 49,
   "metadata": {},
   "outputs": [],
   "source": [
    "max_prob_list = []\n",
    "test_prob_list = []\n",
    "test_pred_list = []\n",
    "for i in range(len(final_test)):\n",
    "    # prob_list = list(torch.softmax(torch.from_numpy(model_outputs[i]), axis=0)[:,1])\n",
    "    prob_list = torch.softmax(torch.from_numpy(test_outputs[i]), axis=0)\n",
    "    #print(\"Prob List: \", prob_list, type(prob_list))\n",
    "\n",
    "    extracted_prob_list = []\n",
    "    for i in range(len(prob_list)):\n",
    "        extracted_prob_list.append(float(prob_list[i]))\n",
    "\n",
    "    #print(\"Extracted Prob List: \", extracted_prob_list)\n",
    "    # find max one in each submatrix of length 3\n",
    "    max_proba = max(extracted_prob_list)\n",
    "\n",
    "    # identify model prediction based on location of max_proba within extracted_prob_list\n",
    "    if (extracted_prob_list[0] == max_proba):\n",
    "        test_pred_list.append(0)\n",
    "    elif (extracted_prob_list[1] == max_proba):\n",
    "        test_pred_list.append(1)\n",
    "    else:\n",
    "        test_pred_list.append(2)\n",
    "\n",
    "    max_prob_list.append(max_proba)\n",
    "    test_prob_list.append(extracted_prob_list)"
   ]
  },
  {
   "cell_type": "code",
   "execution_count": 50,
   "metadata": {},
   "outputs": [
    {
     "data": {
      "text/plain": [
       "0.856655290102389"
      ]
     },
     "execution_count": 50,
     "metadata": {},
     "output_type": "execute_result"
    }
   ],
   "source": [
    "sk.accuracy_score(test_pred_list, final_test[\"labels\"])"
   ]
  },
  {
   "cell_type": "code",
   "execution_count": 51,
   "metadata": {},
   "outputs": [],
   "source": [
    "final_test[\"pred\"] = test_pred_list\n",
    "final_test[\"proba\"] = max_prob_list"
   ]
  },
  {
   "cell_type": "code",
   "execution_count": 52,
   "metadata": {},
   "outputs": [
    {
     "data": {
      "text/html": [
       "<div>\n",
       "<style scoped>\n",
       "    .dataframe tbody tr th:only-of-type {\n",
       "        vertical-align: middle;\n",
       "    }\n",
       "\n",
       "    .dataframe tbody tr th {\n",
       "        vertical-align: top;\n",
       "    }\n",
       "\n",
       "    .dataframe thead th {\n",
       "        text-align: right;\n",
       "    }\n",
       "</style>\n",
       "<table border=\"1\" class=\"dataframe\">\n",
       "  <thead>\n",
       "    <tr style=\"text-align: right;\">\n",
       "      <th></th>\n",
       "      <th>PatientID</th>\n",
       "      <th>text</th>\n",
       "      <th>labels</th>\n",
       "      <th>pred</th>\n",
       "      <th>proba</th>\n",
       "    </tr>\n",
       "  </thead>\n",
       "  <tbody>\n",
       "    <tr>\n",
       "      <th>0</th>\n",
       "      <td>Z9096104</td>\n",
       "      <td>ital status: married civil union spouse name: ...</td>\n",
       "      <td>1</td>\n",
       "      <td>1</td>\n",
       "      <td>0.999421</td>\n",
       "    </tr>\n",
       "    <tr>\n",
       "      <th>1</th>\n",
       "      <td>Z7410349</td>\n",
       "      <td>history narrative social history tobacco quit ...</td>\n",
       "      <td>1</td>\n",
       "      <td>1</td>\n",
       "      <td>0.999419</td>\n",
       "    </tr>\n",
       "    <tr>\n",
       "      <th>2</th>\n",
       "      <td>Z7754903</td>\n",
       "      <td>ncy-based suicidal statements. suicidal homici...</td>\n",
       "      <td>0</td>\n",
       "      <td>0</td>\n",
       "      <td>0.999304</td>\n",
       "    </tr>\n",
       "    <tr>\n",
       "      <th>3</th>\n",
       "      <td>Z11959548</td>\n",
       "      <td>js; bjshingleton li61ao +21.5d target plano • ...</td>\n",
       "      <td>1</td>\n",
       "      <td>1</td>\n",
       "      <td>0.999390</td>\n",
       "    </tr>\n",
       "    <tr>\n",
       "      <th>4</th>\n",
       "      <td>Z7580275</td>\n",
       "      <td>rts pedal edema is worsened recently. current ...</td>\n",
       "      <td>2</td>\n",
       "      <td>2</td>\n",
       "      <td>0.997088</td>\n",
       "    </tr>\n",
       "  </tbody>\n",
       "</table>\n",
       "</div>"
      ],
      "text/plain": [
       "   PatientID                                               text  labels  pred  \\\n",
       "0   Z9096104  ital status: married civil union spouse name: ...       1     1   \n",
       "1   Z7410349  history narrative social history tobacco quit ...       1     1   \n",
       "2   Z7754903  ncy-based suicidal statements. suicidal homici...       0     0   \n",
       "3  Z11959548  js; bjshingleton li61ao +21.5d target plano • ...       1     1   \n",
       "4   Z7580275  rts pedal edema is worsened recently. current ...       2     2   \n",
       "\n",
       "      proba  \n",
       "0  0.999421  \n",
       "1  0.999419  \n",
       "2  0.999304  \n",
       "3  0.999390  \n",
       "4  0.997088  "
      ]
     },
     "execution_count": 52,
     "metadata": {},
     "output_type": "execute_result"
    }
   ],
   "source": [
    "final_test.head()"
   ]
  },
  {
   "cell_type": "code",
   "execution_count": 53,
   "metadata": {},
   "outputs": [
    {
     "data": {
      "text/plain": [
       "0.9569753382861237"
      ]
     },
     "execution_count": 53,
     "metadata": {},
     "output_type": "execute_result"
    }
   ],
   "source": [
    "sk.roc_auc_score(final_test[\"labels\"], test_prob_list, multi_class = \"ovr\", average = \"weighted\")"
   ]
  },
  {
   "cell_type": "code",
   "execution_count": 6,
   "metadata": {},
   "outputs": [],
   "source": [
    "wrong_preds = pd.read_csv(r\"Storage/Performance/test_set_results_trial_0_model.csv\") # final_test[final_test[\"labels\"] != final_test[\"pred\"]]\n",
    "wrong_preds = wrong_preds[wrong_preds[\"pred\"] != wrong_preds[\"labels\"]]"
   ]
  },
  {
   "cell_type": "code",
   "execution_count": 35,
   "metadata": {},
   "outputs": [
    {
     "data": {
      "text/plain": [
       "42"
      ]
     },
     "execution_count": 35,
     "metadata": {},
     "output_type": "execute_result"
    }
   ],
   "source": [
    "len(wrong_preds)"
   ]
  },
  {
   "cell_type": "code",
   "execution_count": 28,
   "metadata": {},
   "outputs": [],
   "source": [
    "always_pattern_regex = pd.read_csv(r\"../EDA/Data/always_patterns_8_1.csv\")\n",
    "always_pattern_regex = always_pattern_regex[\"Pattern\"].to_list()\n",
    "for i in range(len(always_pattern_regex)):\n",
    "    always_pattern_regex[i] = re.compile(always_pattern_regex[i], re.IGNORECASE)"
   ]
  },
  {
   "cell_type": "code",
   "execution_count": 41,
   "metadata": {},
   "outputs": [],
   "source": [
    "def find_always_pattern_matches(df, col, always_pattern_regex):\n",
    "    a = []\n",
    "    for seq in (df[col]):\n",
    "        curr = []\n",
    "        for regex_pattern in always_pattern_regex:\n",
    "            match = regex_pattern.search(seq)\n",
    "            if (match is not None):\n",
    "                curr.append(match.group())\n",
    "        a.append(curr)\n",
    "    \n",
    "    df[\"always_pattern_match\"] = a\n",
    "    \n",
    "    return df"
   ]
  },
  {
   "cell_type": "code",
   "execution_count": 42,
   "metadata": {},
   "outputs": [],
   "source": [
    "wrong_preds = find_always_pattern_matches(wrong_preds, \"text\", always_pattern_regex)"
   ]
  },
  {
   "cell_type": "code",
   "execution_count": 53,
   "metadata": {},
   "outputs": [],
   "source": [
    "wrong_preds.loc[213][\"text\"] # label 1, pred 0, shld be 0\n",
    "wrong_preds.at[213, \"labels\"] = 0"
   ]
  },
  {
   "cell_type": "code",
   "execution_count": 44,
   "metadata": {},
   "outputs": [
    {
     "data": {
      "text/plain": [
       "\"------------------------------------------------------------------------------------------------------------- history no chief complaint on file. hpi patient is a 75-year-old female with extensive past medical history including htn, obesity, left breast ca, type ii dm complicated by neuropathy's, spinal stenosis, djd, rcc cognitive impairment, aki, presenting with 2 3 weeks of intermittent right-sided chest pain feels like air bubble, brief lasting 5 to 10 minutes, no shortness of breath but little cough, not productive, not exertional, not pleuritic, not positional, not worse with movement but occasionally feels like a food bolus stuck in her chest denies any nausea, vomiting, diarrhea. seen at outpatient clinic a day found to have a temp\""
      ]
     },
     "execution_count": 44,
     "metadata": {},
     "output_type": "execute_result"
    }
   ],
   "source": [
    "wrong_preds.loc[209][\"text\"] # label 2, pred 0, shld be 2 interesting how model got this wrong"
   ]
  },
  {
   "cell_type": "code",
   "execution_count": 55,
   "metadata": {},
   "outputs": [],
   "source": [
    "wrong_preds.loc[206][\"text\"] # label 1, pred 0, shld be 0\n",
    "wrong_preds.at[206, \"labels\"] = 0"
   ]
  },
  {
   "cell_type": "code",
   "execution_count": 21,
   "metadata": {},
   "outputs": [
    {
     "data": {
      "text/plain": [
       "'c given diffuse intracranial atherosclerosis. stroke rehabilitation: the patient is continued on her current rehabilitation program with pt, ot, and slp. the patient is participating with therapy. secondary prevention: actively treating with aspirin, plavix x 21 days (started 12 18), optimal bp control, bs control and statin adl dysfunction motor function: actively treating with pt and ot cognition, dysarthria, expressive aphasia: actively treating with slp. pain: monitoring and offering tylenol as needed safety: actively treating with education and monitoring skin: actively assessing given risk of pressure sores from immobility elevated bun assessment & plan likely pre-renal due to volume depletion. elevated bun on 12 28, now downtrending s p ivfs. - encourage adequate po fluid int'"
      ]
     },
     "execution_count": 21,
     "metadata": {},
     "output_type": "execute_result"
    }
   ],
   "source": [
    "wrong_preds.loc[205][\"text\"] # label 2, pred 0, shld be _?"
   ]
  },
  {
   "cell_type": "code",
   "execution_count": 57,
   "metadata": {},
   "outputs": [],
   "source": [
    "wrong_preds.loc[204][\"text\"] # label 1, pred 2 ,shld be 2\n",
    "wrong_preds.at[204, \"labels\"] = 2"
   ]
  },
  {
   "cell_type": "code",
   "execution_count": 58,
   "metadata": {},
   "outputs": [],
   "source": [
    "wrong_preds.loc[232][\"text\"] # label 0 pred 1, should be 1 recognized context?\n",
    "wrong_preds.at[232, \"labels\"] = 1"
   ]
  },
  {
   "cell_type": "code",
   "execution_count": 18,
   "metadata": {},
   "outputs": [
    {
     "data": {
      "text/plain": [
       "'ain and falls. hematology allergic immunologic: negative for easy bruise bleed, and environmental allergies. endocrine: negative for polydipsia. neurological: negative for dizziness, tingling, tremors, sensory changes, speech changes, weakness, and seizure. psychiatric behavioral: negative for depression, suicidal ideas, drug and alcohol abuse, hallucinations, nervous or anxious, insomnia, and memory loss problem list patient active problem list diagnosis • urinary incontinence • deep vein thrombosis • benign prostatic hyperplasia • sleep apnea • obesity • hypertensive disorder • factor v leiden mutation • healthcare maintenance • hypertension • obstructive sleep apnea syndrome • neck pain • insomnia past surgical history past surgical history procedure laterality date • uncoded surgical h'"
      ]
     },
     "execution_count": 18,
     "metadata": {},
     "output_type": "execute_result"
    }
   ],
   "source": [
    "wrong_preds.loc[233][\"text\"] # label 1 pred 0 should be 1"
   ]
  },
  {
   "cell_type": "code",
   "execution_count": 59,
   "metadata": {},
   "outputs": [],
   "source": [
    "wrong_preds.loc[234][\"text\"] # label 1 pred 0 should be 0\n",
    "wrong_preds.at[234, \"labels\"] = 0"
   ]
  },
  {
   "cell_type": "code",
   "execution_count": 60,
   "metadata": {},
   "outputs": [],
   "source": [
    "wrong_preds.loc[236][\"text\"] # label 0, pred 1, should be 1 got context???\n",
    "wrong_preds.at[236, \"labels\"] = 1"
   ]
  },
  {
   "cell_type": "code",
   "execution_count": 61,
   "metadata": {},
   "outputs": [],
   "source": [
    "wrong_preds.loc[238][\"text\"] # label 1, pred 0, should be 0\n",
    "wrong_preds.at[238, \"labels\"] = 0"
   ]
  },
  {
   "cell_type": "code",
   "execution_count": 62,
   "metadata": {},
   "outputs": [],
   "source": [
    "wrong_preds.loc[239][\"text\"] # label 0, pred 2, should be 2\n",
    "wrong_preds.at[239, \"labels\"] = 2"
   ]
  },
  {
   "cell_type": "code",
   "execution_count": 63,
   "metadata": {},
   "outputs": [],
   "source": [
    "wrong_preds.loc[240][\"text\"] # label 1, pred 0, should be 2\n",
    "wrong_preds.at[240, \"labels\"] = 2"
   ]
  },
  {
   "cell_type": "code",
   "execution_count": 64,
   "metadata": {},
   "outputs": [],
   "source": [
    "wrong_preds.loc[241][\"text\"] # label 0, pred 2, shld be 2\n",
    "wrong_preds.at[241, \"labels\"] = 2"
   ]
  },
  {
   "cell_type": "code",
   "execution_count": 65,
   "metadata": {},
   "outputs": [],
   "source": [
    "wrong_preds.loc[248][\"text\"] # label 0, pred 2, should be 2\n",
    "wrong_preds.at[248, \"labels\"] = 2"
   ]
  },
  {
   "cell_type": "code",
   "execution_count": 66,
   "metadata": {},
   "outputs": [],
   "source": [
    "wrong_preds.loc[253][\"text\"] # label 0, pred 2, shld be 2\n",
    "wrong_preds.at[253, \"labels\"] = 2"
   ]
  },
  {
   "cell_type": "code",
   "execution_count": 67,
   "metadata": {},
   "outputs": [],
   "source": [
    "wrong_preds.loc[254][\"text\"] # label 1, pred 0, should be 0\n",
    "wrong_preds.at[254, \"labels\"] = 0"
   ]
  },
  {
   "cell_type": "code",
   "execution_count": 59,
   "metadata": {},
   "outputs": [
    {
     "data": {
      "text/plain": [
       "\"------- impression: no definite evidence of pneumonia or pulmonary edema. 2012 06 18 00:00:00 - ctbrw oc: impression: no evidence of intracranial hemorrhage, cerebral infarction, or mas lesion. several small scattered white matter hypodensities in the bilateral cerebral periventricular and subcortical white matter, which are likely related to patient's history of multiple sclerosis and grossly uncha ------- ulmonary edema. 2012 06 18 00:00:00 - ctbrw oc: impression: no evidence of intracranial hemorrhage, cerebral infarction, or mas lesion. several small scattered white matter hypodensities in the bilateral cerebral periventricular and subcortical white matter, which are likely related to patient's history of multiple sclerosis and grossly unchanged compared to the prior mri accounting for diff\""
      ]
     },
     "execution_count": 59,
     "metadata": {},
     "output_type": "execute_result"
    }
   ],
   "source": [
    "wrong_preds.loc[260][\"text\"] # label 1, predicted 0"
   ]
  },
  {
   "cell_type": "code",
   "execution_count": 68,
   "metadata": {},
   "outputs": [],
   "source": [
    "wrong_preds.loc[256][\"text\"] # label 1, predicted 0 shld be 1\n",
    "wrong_preds.at[256, \"labels\"] = 1"
   ]
  },
  {
   "cell_type": "code",
   "execution_count": 69,
   "metadata": {},
   "outputs": [],
   "source": [
    "wrong_preds.loc[275][\"text\"] # label 2, predicted 0 shld be 1\n",
    "wrong_preds.at[275, \"labels\"] = 1"
   ]
  },
  {
   "cell_type": "code",
   "execution_count": 70,
   "metadata": {},
   "outputs": [],
   "source": [
    "wrong_preds.loc[262][\"text\"] # label 1, predicted 0 shld be 0 no CI AP\n",
    "wrong_preds.at[262, \"labels\"] = 0"
   ]
  },
  {
   "cell_type": "code",
   "execution_count": 71,
   "metadata": {},
   "outputs": [],
   "source": [
    "wrong_preds.loc[264][\"text\"] # label 1, predicted 0 shld be 0 no memory always AP \n",
    "wrong_preds.at[264, \"labels\"] = 0"
   ]
  },
  {
   "cell_type": "code",
   "execution_count": 72,
   "metadata": {},
   "outputs": [],
   "source": [
    "wrong_preds.loc[265][\"text\"] # label 2, predicted 0 should be 1\n",
    "wrong_preds.at[265, \"labels\"] = 1"
   ]
  },
  {
   "cell_type": "code",
   "execution_count": 45,
   "metadata": {},
   "outputs": [
    {
     "data": {
      "text/plain": [
       "'r an evaluation of multiple medical problems including the following: seronegative erosive rheumatoid arthritis-now on cimzia and methotrexate history of ischemic colitis– we have avoided jak inhibitors and tocilizumab status post bilateral hip replacements with revisions status post bilateral knee replacements severe oa both shoulders carpal tunnel right greater than left hypertension early memory loss hypercholesterolemia spinal stenosis she comes in with a wheelchair with her daughter. the wheelchair is only for convenience. does not because of ongoing pain. she actually is doing reasonably well. she had 400 mg of cimzia only a few few weeks ago at most. she has been on and off of this and stopped it for a number of weeks–months because of expense. is now requesting a $200 a month w'"
      ]
     },
     "execution_count": 45,
     "metadata": {},
     "output_type": "execute_result"
    }
   ],
   "source": [
    "wrong_preds.loc[272][\"text\"] # label 2, predicted 1"
   ]
  },
  {
   "cell_type": "code",
   "execution_count": 73,
   "metadata": {},
   "outputs": [],
   "source": [
    "wrong_preds.loc[280][\"text\"] # label 0, predicted 2\n",
    "wrong_preds.at[280, \"labels\"] = 2"
   ]
  },
  {
   "cell_type": "code",
   "execution_count": 74,
   "metadata": {},
   "outputs": [],
   "source": [
    "wrong_preds.loc[288][\"text\"] # shld be 1, label 0, predicted 2 interesting, mistaked pt for having short term memory issues when it was actually pt's wife\n",
    "wrong_preds.at[288, \"labels\"] = 1"
   ]
  },
  {
   "cell_type": "code",
   "execution_count": 75,
   "metadata": {},
   "outputs": [],
   "source": [
    "wrong_preds.loc[290][\"text\"] # label 0, model predicted 2 shld be 2\n",
    "wrong_preds.at[290, \"labels\"] = 2"
   ]
  },
  {
   "cell_type": "code",
   "execution_count": 76,
   "metadata": {},
   "outputs": [],
   "source": [
    "wrong_preds.loc[292][\"text\"] # label 1, model predicted 0 shld be 0\n",
    "wrong_preds.at[292, \"labels\"] = 0"
   ]
  },
  {
   "cell_type": "code",
   "execution_count": 79,
   "metadata": {},
   "outputs": [
    {
     "data": {
      "text/plain": [
       "'62 acct: 3012038213 location: u4 adm date: 10 08 14 status: dis in fc: 01 unit #: 00273466 disch date: 10 09 14 attend md: gange,meghan e. m.d. discharge summary part 2 please refer to discharge summary part 1 for all other details. history of present illness: please refer to the full dictated h&p for complete details. briefly, stephanie barton is a 78-year-old female with a history of mild dementia, aortic stenosis, status post bioprosthetic valve, hypercholesterolemia, and hypertension, who presented with transient left-sided facial droop. hospital course by problem: 1. left facial droop. this completely resolved prior to admission to the hospital and was most suggestive of a tia. the patient had an mri mra of the brain, head, and neck, which were negative for evidence of stroke or a'"
      ]
     },
     "execution_count": 79,
     "metadata": {},
     "output_type": "execute_result"
    }
   ],
   "source": [
    "wrong_preds.loc[215][\"text\"] # label 2, pred 0, shld be 2\n",
    "# wrong_preds.at[292, \"labels\"] = 0"
   ]
  },
  {
   "cell_type": "code",
   "execution_count": 80,
   "metadata": {},
   "outputs": [
    {
     "data": {
      "text/plain": [
       "'midline with protrusion. no dysarthria. shoulder shrugs normal bilaterally. motor: no pronator drift or orbiting. strength 5 5 throughout bilateral upper and lower extremities. there is some slowing left finger sensation: diffusely intact to light touch reflexes: deep tendon reflexes 1+ and symmetric bilaterally at the triceps, biceps, brachioradialis, quadriceps and gastrocnemius soleus. cerebellar: finger-to-nose normal labs: 12.07* \\\\ 13.1* 293 41.1 \\\\ 10 24 1559 \\\\ no bmp past 72hr lab results component value date time pt 14.3 03 27 2018 04:00 pm inr 1.1 03 27 2018 04:00 pm aptt 31.5 03 27 2018 04:00 pm imaging: mri brain 10 24 2019: impression 1. early subacute small right frontoparietal infarct along the central sulcus just above the omega area. 2. no significant intracranial'"
      ]
     },
     "execution_count": 80,
     "metadata": {},
     "output_type": "execute_result"
    }
   ],
   "source": [
    "wrong_preds.loc[216][\"text\"] # label 1, pred 0, shld be 1"
   ]
  },
  {
   "cell_type": "code",
   "execution_count": 82,
   "metadata": {},
   "outputs": [],
   "source": [
    "wrong_preds.loc[218][\"text\"] # label 0,pred 2 , shld be 2\n",
    "wrong_preds.at[218,  \"labels\"] = 2"
   ]
  },
  {
   "cell_type": "code",
   "execution_count": 85,
   "metadata": {},
   "outputs": [
    {
     "data": {
      "text/plain": [
       "'------- with use of grab bars meal preparation supervision moderate good kitchen mobility and safety awareness around the kitchen. pt able to prepare meal with good effect and mobility. cognition: functional communication appears able to comprehend verbal written information, requires additiona ------- ntation level oriented x3 ability to follow commands follows 2-step commands, verbal cues attention memory comment requires assist to recall events however can recall basics of hosp course awareness judgmen ------- gth rue : able to perform adl tasks overall strength lue: able to perform adl tasks cognitive test: moca total score out of 30 (>=26 is normal) 18 impression: charlene mullins has made good progress in ot this week as evidenced by increased participation in adl routine, increased ac'"
      ]
     },
     "execution_count": 85,
     "metadata": {},
     "output_type": "execute_result"
    }
   ],
   "source": [
    "wrong_preds.loc[220][\"text\"] # label 0,pred 2 , shld be 0"
   ]
  },
  {
   "cell_type": "code",
   "execution_count": 87,
   "metadata": {},
   "outputs": [],
   "source": [
    "wrong_preds.loc[225][\"text\"] # label 1, pred 0 shld be 0\n",
    "wrong_preds.at[225, \"labels\"] = 0"
   ]
  },
  {
   "cell_type": "code",
   "execution_count": 89,
   "metadata": {},
   "outputs": [],
   "source": [
    "wrong_preds.loc[226][\"text\"] # label 1, pred 0 \n",
    "wrong_preds.at[226,  \"labels\"] = 0"
   ]
  },
  {
   "cell_type": "code",
   "execution_count": 91,
   "metadata": {},
   "outputs": [],
   "source": [
    "wrong_preds.loc[227][\"text\"] # label 2, pred 0 \n",
    "wrong_preds.at[227,  \"labels\"] = 2"
   ]
  },
  {
   "cell_type": "code",
   "execution_count": 93,
   "metadata": {},
   "outputs": [
    {
     "data": {
      "text/plain": [
       "\"-------------------------------------------------------------------------------------------------------------patient's daughter lilian called requesting to speak with someone regarding her mother, she states she is concerned because her mother has been extremely forgetful for the past couple of months, she says its getting worse with time and she is concerned her mother might have alzheimer's, please call. ------------------------------------------------------------------------------------------------------------\""
      ]
     },
     "execution_count": 93,
     "metadata": {},
     "output_type": "execute_result"
    }
   ],
   "source": [
    "wrong_preds.loc[228][\"text\"] # label 0, pred 1, what to do??"
   ]
  },
  {
   "cell_type": "code",
   "execution_count": 94,
   "metadata": {},
   "outputs": [
    {
     "data": {
      "text/plain": [
       "'------- gib (gastrointestinal bleeding) • rectal bleeding • ischemic colitis, enteritis, or enterocolitis • status post bilateral knee replacements • carpal tunnel syndrome of right wrist • other chest pain • corns and callosities • disease of nail • bilateral bunions • hammertoe, bilateral • memory loss • chronic otitis media medications reviewed include the following: scheduled meds: • certolizu ------- md review of systems except for overall pain but especially in her neck and shoulders unremarkable. memory is an issue. she has mild shortness of breath but rare. no edema. very uncomfortable woman sitting in a walker with her daughter present. bp 166 72 | pulse 80 | temp 37 °c (98.6 °f) (oral) | ht 154.9 cm (5\\' 1\") | wt 53.1 kg (117 lb) | spo2 99% | bmi 22.11 kg m² no nodules but synoviti'"
      ]
     },
     "execution_count": 94,
     "metadata": {},
     "output_type": "execute_result"
    }
   ],
   "source": [
    "wrong_preds.loc[231][\"text\"] # label 1, pred 0, shld be 2\n",
    "#wrong_preds.at[226,  \"labels\"] = 0"
   ]
  },
  {
   "cell_type": "code",
   "execution_count": 95,
   "metadata": {},
   "outputs": [
    {
     "data": {
      "text/html": [
       "<div>\n",
       "<style scoped>\n",
       "    .dataframe tbody tr th:only-of-type {\n",
       "        vertical-align: middle;\n",
       "    }\n",
       "\n",
       "    .dataframe tbody tr th {\n",
       "        vertical-align: top;\n",
       "    }\n",
       "\n",
       "    .dataframe thead th {\n",
       "        text-align: right;\n",
       "    }\n",
       "</style>\n",
       "<table border=\"1\" class=\"dataframe\">\n",
       "  <thead>\n",
       "    <tr style=\"text-align: right;\">\n",
       "      <th></th>\n",
       "      <th>PatientID</th>\n",
       "      <th>text</th>\n",
       "      <th>labels</th>\n",
       "      <th>pred</th>\n",
       "      <th>proba</th>\n",
       "      <th>always_pattern_match</th>\n",
       "    </tr>\n",
       "  </thead>\n",
       "  <tbody>\n",
       "    <tr>\n",
       "      <th>15</th>\n",
       "      <td>Z10612901</td>\n",
       "      <td>------- 25 mg (65 mg elemental) tablet take 32...</td>\n",
       "      <td>2</td>\n",
       "      <td>1</td>\n",
       "      <td>0.997182</td>\n",
       "      <td>[namenda take 1 tablet (10 mg total) by mouth ...</td>\n",
       "    </tr>\n",
       "    <tr>\n",
       "      <th>54</th>\n",
       "      <td>Z8642778</td>\n",
       "      <td>----------------------------------------------...</td>\n",
       "      <td>1</td>\n",
       "      <td>2</td>\n",
       "      <td>0.997195</td>\n",
       "      <td>[will do moca]</td>\n",
       "    </tr>\n",
       "    <tr>\n",
       "      <th>64</th>\n",
       "      <td>Z12253259</td>\n",
       "      <td>------- sents with • flank pain left sided pai...</td>\n",
       "      <td>2</td>\n",
       "      <td>1</td>\n",
       "      <td>0.999346</td>\n",
       "      <td>[father • type 2 diabetes father • hypertensio...</td>\n",
       "    </tr>\n",
       "    <tr>\n",
       "      <th>89</th>\n",
       "      <td>Z11408813</td>\n",
       "      <td>cation, transient ischemic attack. plan on win...</td>\n",
       "      <td>2</td>\n",
       "      <td>1</td>\n",
       "      <td>0.999233</td>\n",
       "      <td>[family medical history: alzheimer, history: a...</td>\n",
       "    </tr>\n",
       "    <tr>\n",
       "      <th>171</th>\n",
       "      <td>Z7878411</td>\n",
       "      <td>------- yme-abc results viewable i... ct brain...</td>\n",
       "      <td>2</td>\n",
       "      <td>0</td>\n",
       "      <td>0.555855</td>\n",
       "      <td>[impression and plan- bilateral vestibular fai...</td>\n",
       "    </tr>\n",
       "    <tr>\n",
       "      <th>204</th>\n",
       "      <td>Z8805927</td>\n",
       "      <td>------- osephine has been having some increasi...</td>\n",
       "      <td>2</td>\n",
       "      <td>2</td>\n",
       "      <td>0.997208</td>\n",
       "      <td>[]</td>\n",
       "    </tr>\n",
       "    <tr>\n",
       "      <th>205</th>\n",
       "      <td>Z9974098</td>\n",
       "      <td>c given diffuse intracranial atherosclerosis. ...</td>\n",
       "      <td>2</td>\n",
       "      <td>0</td>\n",
       "      <td>0.994733</td>\n",
       "      <td>[]</td>\n",
       "    </tr>\n",
       "    <tr>\n",
       "      <th>206</th>\n",
       "      <td>Z6623096</td>\n",
       "      <td>ty · not sleeping well because pain wakes her ...</td>\n",
       "      <td>0</td>\n",
       "      <td>0</td>\n",
       "      <td>0.833552</td>\n",
       "      <td>[]</td>\n",
       "    </tr>\n",
       "    <tr>\n",
       "      <th>209</th>\n",
       "      <td>Z7633862</td>\n",
       "      <td>----------------------------------------------...</td>\n",
       "      <td>2</td>\n",
       "      <td>0</td>\n",
       "      <td>0.483224</td>\n",
       "      <td>[]</td>\n",
       "    </tr>\n",
       "    <tr>\n",
       "      <th>213</th>\n",
       "      <td>Z9912403</td>\n",
       "      <td>eted. social history reviewed: living situatio...</td>\n",
       "      <td>0</td>\n",
       "      <td>0</td>\n",
       "      <td>0.996028</td>\n",
       "      <td>[]</td>\n",
       "    </tr>\n",
       "    <tr>\n",
       "      <th>215</th>\n",
       "      <td>Z7710025</td>\n",
       "      <td>62 acct: 3012038213 location: u4 adm date: 10 ...</td>\n",
       "      <td>2</td>\n",
       "      <td>0</td>\n",
       "      <td>0.817624</td>\n",
       "      <td>[]</td>\n",
       "    </tr>\n",
       "    <tr>\n",
       "      <th>216</th>\n",
       "      <td>Z10756022</td>\n",
       "      <td>midline with protrusion. no dysarthria. should...</td>\n",
       "      <td>1</td>\n",
       "      <td>0</td>\n",
       "      <td>0.997618</td>\n",
       "      <td>[]</td>\n",
       "    </tr>\n",
       "    <tr>\n",
       "      <th>218</th>\n",
       "      <td>Z8477369</td>\n",
       "      <td>------- ates she has a blood pressure cuff at ...</td>\n",
       "      <td>2</td>\n",
       "      <td>2</td>\n",
       "      <td>0.996984</td>\n",
       "      <td>[]</td>\n",
       "    </tr>\n",
       "    <tr>\n",
       "      <th>220</th>\n",
       "      <td>Z8164103</td>\n",
       "      <td>------- with use of grab bars meal preparation...</td>\n",
       "      <td>0</td>\n",
       "      <td>2</td>\n",
       "      <td>0.501071</td>\n",
       "      <td>[]</td>\n",
       "    </tr>\n",
       "    <tr>\n",
       "      <th>225</th>\n",
       "      <td>Z6798957</td>\n",
       "      <td>ic focus, but shows a self-management perspect...</td>\n",
       "      <td>0</td>\n",
       "      <td>0</td>\n",
       "      <td>0.879929</td>\n",
       "      <td>[]</td>\n",
       "    </tr>\n",
       "    <tr>\n",
       "      <th>226</th>\n",
       "      <td>Z8315332</td>\n",
       "      <td>bdomen: soft, nontender, normal bowel sounds. ...</td>\n",
       "      <td>0</td>\n",
       "      <td>0</td>\n",
       "      <td>0.997662</td>\n",
       "      <td>[]</td>\n",
       "    </tr>\n",
       "    <tr>\n",
       "      <th>227</th>\n",
       "      <td>Z6599492</td>\n",
       "      <td>ished in achilles and patella bilaterally. mus...</td>\n",
       "      <td>2</td>\n",
       "      <td>0</td>\n",
       "      <td>0.887957</td>\n",
       "      <td>[]</td>\n",
       "    </tr>\n",
       "    <tr>\n",
       "      <th>228</th>\n",
       "      <td>Z12119112</td>\n",
       "      <td>----------------------------------------------...</td>\n",
       "      <td>0</td>\n",
       "      <td>1</td>\n",
       "      <td>0.999216</td>\n",
       "      <td>[]</td>\n",
       "    </tr>\n",
       "    <tr>\n",
       "      <th>231</th>\n",
       "      <td>Z9213441</td>\n",
       "      <td>------- gib (gastrointestinal bleeding) • rect...</td>\n",
       "      <td>1</td>\n",
       "      <td>0</td>\n",
       "      <td>0.932016</td>\n",
       "      <td>[]</td>\n",
       "    </tr>\n",
       "    <tr>\n",
       "      <th>232</th>\n",
       "      <td>Z7694608</td>\n",
       "      <td>lent per week comment: 2-6 dinks-1-2x month • ...</td>\n",
       "      <td>1</td>\n",
       "      <td>1</td>\n",
       "      <td>0.868092</td>\n",
       "      <td>[]</td>\n",
       "    </tr>\n",
       "    <tr>\n",
       "      <th>233</th>\n",
       "      <td>Z12312693</td>\n",
       "      <td>ain and falls. hematology allergic immunologic...</td>\n",
       "      <td>1</td>\n",
       "      <td>0</td>\n",
       "      <td>0.994618</td>\n",
       "      <td>[]</td>\n",
       "    </tr>\n",
       "    <tr>\n",
       "      <th>234</th>\n",
       "      <td>Z7808104</td>\n",
       "      <td>°c (98.4 °f) (09 27 16 0803) | heart rate: 77 ...</td>\n",
       "      <td>0</td>\n",
       "      <td>0</td>\n",
       "      <td>0.849181</td>\n",
       "      <td>[]</td>\n",
       "    </tr>\n",
       "    <tr>\n",
       "      <th>236</th>\n",
       "      <td>Z9391803</td>\n",
       "      <td>----------------------------------------------...</td>\n",
       "      <td>1</td>\n",
       "      <td>1</td>\n",
       "      <td>0.587081</td>\n",
       "      <td>[]</td>\n",
       "    </tr>\n",
       "    <tr>\n",
       "      <th>238</th>\n",
       "      <td>Z8694609</td>\n",
       "      <td>------- alpated. no hernia. skin: (+) multiple...</td>\n",
       "      <td>0</td>\n",
       "      <td>0</td>\n",
       "      <td>0.988330</td>\n",
       "      <td>[]</td>\n",
       "    </tr>\n",
       "    <tr>\n",
       "      <th>239</th>\n",
       "      <td>Z8929456</td>\n",
       "      <td>------- ----------------------physical therapy...</td>\n",
       "      <td>2</td>\n",
       "      <td>2</td>\n",
       "      <td>0.995574</td>\n",
       "      <td>[]</td>\n",
       "    </tr>\n",
       "    <tr>\n",
       "      <th>240</th>\n",
       "      <td>Z7812740</td>\n",
       "      <td>----------------------------------------------...</td>\n",
       "      <td>2</td>\n",
       "      <td>0</td>\n",
       "      <td>0.955035</td>\n",
       "      <td>[]</td>\n",
       "    </tr>\n",
       "    <tr>\n",
       "      <th>241</th>\n",
       "      <td>Z10001839</td>\n",
       "      <td>------- bite on the right hand while gardening...</td>\n",
       "      <td>2</td>\n",
       "      <td>2</td>\n",
       "      <td>0.627899</td>\n",
       "      <td>[]</td>\n",
       "    </tr>\n",
       "    <tr>\n",
       "      <th>248</th>\n",
       "      <td>Z11227882</td>\n",
       "      <td>------- ompensating neurologic process, will r...</td>\n",
       "      <td>2</td>\n",
       "      <td>2</td>\n",
       "      <td>0.995842</td>\n",
       "      <td>[]</td>\n",
       "    </tr>\n",
       "    <tr>\n",
       "      <th>253</th>\n",
       "      <td>Z6672679</td>\n",
       "      <td>erbation. # chf exacerbation patient presentin...</td>\n",
       "      <td>2</td>\n",
       "      <td>2</td>\n",
       "      <td>0.899843</td>\n",
       "      <td>[]</td>\n",
       "    </tr>\n",
       "    <tr>\n",
       "      <th>254</th>\n",
       "      <td>Z7387799</td>\n",
       "      <td>ccessory muscle use, or crackles abd: normoact...</td>\n",
       "      <td>0</td>\n",
       "      <td>0</td>\n",
       "      <td>0.801374</td>\n",
       "      <td>[]</td>\n",
       "    </tr>\n",
       "    <tr>\n",
       "      <th>256</th>\n",
       "      <td>Z9096878</td>\n",
       "      <td>t night had pain in back while laying down. no...</td>\n",
       "      <td>1</td>\n",
       "      <td>0</td>\n",
       "      <td>0.424448</td>\n",
       "      <td>[]</td>\n",
       "    </tr>\n",
       "    <tr>\n",
       "      <th>260</th>\n",
       "      <td>Z7298570</td>\n",
       "      <td>------- impression: no definite evidence of pn...</td>\n",
       "      <td>1</td>\n",
       "      <td>0</td>\n",
       "      <td>0.992875</td>\n",
       "      <td>[]</td>\n",
       "    </tr>\n",
       "    <tr>\n",
       "      <th>262</th>\n",
       "      <td>Z9739931</td>\n",
       "      <td>y. she has not had any evidence of fracture. s...</td>\n",
       "      <td>0</td>\n",
       "      <td>0</td>\n",
       "      <td>0.918937</td>\n",
       "      <td>[]</td>\n",
       "    </tr>\n",
       "    <tr>\n",
       "      <th>264</th>\n",
       "      <td>Z6537813</td>\n",
       "      <td>neal body well supported. rectal negative for ...</td>\n",
       "      <td>0</td>\n",
       "      <td>0</td>\n",
       "      <td>0.986999</td>\n",
       "      <td>[]</td>\n",
       "    </tr>\n",
       "    <tr>\n",
       "      <th>265</th>\n",
       "      <td>Z8689178</td>\n",
       "      <td>----------------------------------------------...</td>\n",
       "      <td>1</td>\n",
       "      <td>0</td>\n",
       "      <td>0.469929</td>\n",
       "      <td>[]</td>\n",
       "    </tr>\n",
       "    <tr>\n",
       "      <th>270</th>\n",
       "      <td>Z6518977</td>\n",
       "      <td>------- els drained, depressed and anxious abo...</td>\n",
       "      <td>0</td>\n",
       "      <td>1</td>\n",
       "      <td>0.999396</td>\n",
       "      <td>[]</td>\n",
       "    </tr>\n",
       "    <tr>\n",
       "      <th>272</th>\n",
       "      <td>Z9408119</td>\n",
       "      <td>r an evaluation of multiple medical problems i...</td>\n",
       "      <td>2</td>\n",
       "      <td>1</td>\n",
       "      <td>0.635014</td>\n",
       "      <td>[]</td>\n",
       "    </tr>\n",
       "    <tr>\n",
       "      <th>275</th>\n",
       "      <td>Z10503295</td>\n",
       "      <td>hypertension, reflux, anxiety and depression, ...</td>\n",
       "      <td>1</td>\n",
       "      <td>0</td>\n",
       "      <td>0.987143</td>\n",
       "      <td>[]</td>\n",
       "    </tr>\n",
       "    <tr>\n",
       "      <th>280</th>\n",
       "      <td>Z7855082</td>\n",
       "      <td>----------------------------------------------...</td>\n",
       "      <td>2</td>\n",
       "      <td>2</td>\n",
       "      <td>0.997328</td>\n",
       "      <td>[]</td>\n",
       "    </tr>\n",
       "    <tr>\n",
       "      <th>288</th>\n",
       "      <td>Z7055023</td>\n",
       "      <td>rmin 2000 mg daily - loose stools every 4-5 da...</td>\n",
       "      <td>1</td>\n",
       "      <td>2</td>\n",
       "      <td>0.993889</td>\n",
       "      <td>[]</td>\n",
       "    </tr>\n",
       "    <tr>\n",
       "      <th>290</th>\n",
       "      <td>Z9191149</td>\n",
       "      <td>r in jamaica plain, or his aunt in roxbury. he...</td>\n",
       "      <td>2</td>\n",
       "      <td>2</td>\n",
       "      <td>0.978754</td>\n",
       "      <td>[]</td>\n",
       "    </tr>\n",
       "    <tr>\n",
       "      <th>292</th>\n",
       "      <td>Z10607507</td>\n",
       "      <td>clindamycin, doxycycline, furosemide, insulin,...</td>\n",
       "      <td>0</td>\n",
       "      <td>0</td>\n",
       "      <td>0.906619</td>\n",
       "      <td>[]</td>\n",
       "    </tr>\n",
       "  </tbody>\n",
       "</table>\n",
       "</div>"
      ],
      "text/plain": [
       "     PatientID                                               text  labels  \\\n",
       "15   Z10612901  ------- 25 mg (65 mg elemental) tablet take 32...       2   \n",
       "54    Z8642778  ----------------------------------------------...       1   \n",
       "64   Z12253259  ------- sents with • flank pain left sided pai...       2   \n",
       "89   Z11408813  cation, transient ischemic attack. plan on win...       2   \n",
       "171   Z7878411  ------- yme-abc results viewable i... ct brain...       2   \n",
       "204   Z8805927  ------- osephine has been having some increasi...       2   \n",
       "205   Z9974098  c given diffuse intracranial atherosclerosis. ...       2   \n",
       "206   Z6623096  ty · not sleeping well because pain wakes her ...       0   \n",
       "209   Z7633862  ----------------------------------------------...       2   \n",
       "213   Z9912403  eted. social history reviewed: living situatio...       0   \n",
       "215   Z7710025  62 acct: 3012038213 location: u4 adm date: 10 ...       2   \n",
       "216  Z10756022  midline with protrusion. no dysarthria. should...       1   \n",
       "218   Z8477369  ------- ates she has a blood pressure cuff at ...       2   \n",
       "220   Z8164103  ------- with use of grab bars meal preparation...       0   \n",
       "225   Z6798957  ic focus, but shows a self-management perspect...       0   \n",
       "226   Z8315332  bdomen: soft, nontender, normal bowel sounds. ...       0   \n",
       "227   Z6599492  ished in achilles and patella bilaterally. mus...       2   \n",
       "228  Z12119112  ----------------------------------------------...       0   \n",
       "231   Z9213441  ------- gib (gastrointestinal bleeding) • rect...       1   \n",
       "232   Z7694608  lent per week comment: 2-6 dinks-1-2x month • ...       1   \n",
       "233  Z12312693  ain and falls. hematology allergic immunologic...       1   \n",
       "234   Z7808104  °c (98.4 °f) (09 27 16 0803) | heart rate: 77 ...       0   \n",
       "236   Z9391803  ----------------------------------------------...       1   \n",
       "238   Z8694609  ------- alpated. no hernia. skin: (+) multiple...       0   \n",
       "239   Z8929456  ------- ----------------------physical therapy...       2   \n",
       "240   Z7812740  ----------------------------------------------...       2   \n",
       "241  Z10001839  ------- bite on the right hand while gardening...       2   \n",
       "248  Z11227882  ------- ompensating neurologic process, will r...       2   \n",
       "253   Z6672679  erbation. # chf exacerbation patient presentin...       2   \n",
       "254   Z7387799  ccessory muscle use, or crackles abd: normoact...       0   \n",
       "256   Z9096878  t night had pain in back while laying down. no...       1   \n",
       "260   Z7298570  ------- impression: no definite evidence of pn...       1   \n",
       "262   Z9739931  y. she has not had any evidence of fracture. s...       0   \n",
       "264   Z6537813  neal body well supported. rectal negative for ...       0   \n",
       "265   Z8689178  ----------------------------------------------...       1   \n",
       "270   Z6518977  ------- els drained, depressed and anxious abo...       0   \n",
       "272   Z9408119  r an evaluation of multiple medical problems i...       2   \n",
       "275  Z10503295  hypertension, reflux, anxiety and depression, ...       1   \n",
       "280   Z7855082  ----------------------------------------------...       2   \n",
       "288   Z7055023  rmin 2000 mg daily - loose stools every 4-5 da...       1   \n",
       "290   Z9191149  r in jamaica plain, or his aunt in roxbury. he...       2   \n",
       "292  Z10607507  clindamycin, doxycycline, furosemide, insulin,...       0   \n",
       "\n",
       "     pred     proba                               always_pattern_match  \n",
       "15      1  0.997182  [namenda take 1 tablet (10 mg total) by mouth ...  \n",
       "54      2  0.997195                                     [will do moca]  \n",
       "64      1  0.999346  [father • type 2 diabetes father • hypertensio...  \n",
       "89      1  0.999233  [family medical history: alzheimer, history: a...  \n",
       "171     0  0.555855  [impression and plan- bilateral vestibular fai...  \n",
       "204     2  0.997208                                                 []  \n",
       "205     0  0.994733                                                 []  \n",
       "206     0  0.833552                                                 []  \n",
       "209     0  0.483224                                                 []  \n",
       "213     0  0.996028                                                 []  \n",
       "215     0  0.817624                                                 []  \n",
       "216     0  0.997618                                                 []  \n",
       "218     2  0.996984                                                 []  \n",
       "220     2  0.501071                                                 []  \n",
       "225     0  0.879929                                                 []  \n",
       "226     0  0.997662                                                 []  \n",
       "227     0  0.887957                                                 []  \n",
       "228     1  0.999216                                                 []  \n",
       "231     0  0.932016                                                 []  \n",
       "232     1  0.868092                                                 []  \n",
       "233     0  0.994618                                                 []  \n",
       "234     0  0.849181                                                 []  \n",
       "236     1  0.587081                                                 []  \n",
       "238     0  0.988330                                                 []  \n",
       "239     2  0.995574                                                 []  \n",
       "240     0  0.955035                                                 []  \n",
       "241     2  0.627899                                                 []  \n",
       "248     2  0.995842                                                 []  \n",
       "253     2  0.899843                                                 []  \n",
       "254     0  0.801374                                                 []  \n",
       "256     0  0.424448                                                 []  \n",
       "260     0  0.992875                                                 []  \n",
       "262     0  0.918937                                                 []  \n",
       "264     0  0.986999                                                 []  \n",
       "265     0  0.469929                                                 []  \n",
       "270     1  0.999396                                                 []  \n",
       "272     1  0.635014                                                 []  \n",
       "275     0  0.987143                                                 []  \n",
       "280     2  0.997328                                                 []  \n",
       "288     2  0.993889                                                 []  \n",
       "290     2  0.978754                                                 []  \n",
       "292     0  0.906619                                                 []  "
      ]
     },
     "execution_count": 95,
     "metadata": {},
     "output_type": "execute_result"
    }
   ],
   "source": [
    "wrong_preds"
   ]
  },
  {
   "cell_type": "code",
   "execution_count": 96,
   "metadata": {},
   "outputs": [],
   "source": [
    "wrong_preds.to_csv(r\"Storage/Predictions/BertWrongPreds.csv\", index = False)"
   ]
  },
  {
   "cell_type": "code",
   "execution_count": 97,
   "metadata": {},
   "outputs": [
    {
     "data": {
      "text/plain": [
       "0.47619047619047616"
      ]
     },
     "execution_count": 97,
     "metadata": {},
     "output_type": "execute_result"
    }
   ],
   "source": [
    "sk.accuracy_score(wrong_preds[\"labels\"], wrong_preds[\"pred\"])"
   ]
  }
 ],
 "metadata": {
  "interpreter": {
   "hash": "b0168968bb7ecfa78684047e3c95d55595c46869da584ba4da41f68e310286ae"
  },
  "kernelspec": {
   "display_name": "Python 3",
   "language": "python",
   "name": "python3"
  },
  "language_info": {
   "codemirror_mode": {
    "name": "ipython",
    "version": 3
   },
   "file_extension": ".py",
   "mimetype": "text/x-python",
   "name": "python",
   "nbconvert_exporter": "python",
   "pygments_lexer": "ipython3",
   "version": "3.8.5"
  }
 },
 "nbformat": 4,
 "nbformat_minor": 4
}
