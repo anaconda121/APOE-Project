{
 "cells": [
  {
   "cell_type": "code",
   "execution_count": 46,
   "id": "bdacb166",
   "metadata": {},
   "outputs": [
    {
     "name": "stderr",
     "output_type": "stream",
     "text": [
      "c:\\myprograms\\anaconda332\\envs\\nlp_sentence\\lib\\site-packages\\ipykernel\\ipkernel.py:283: DeprecationWarning: `should_run_async` will not call `transform_cell` automatically in the future. Please pass the result to `transformed_cell` argument and any exception that happen during thetransform in `preprocessing_exc_tuple` in IPython 7.17 and above.\n",
      "  and should_run_async(code)\n"
     ]
    }
   ],
   "source": [
    "import pandas as pd\n",
    "import numpy as np\n",
    "import seaborn as sns\n",
    "import matplotlib.pyplot as plt\n",
    "import nltk\n",
    "\n",
    "from sklearn.pipeline import Pipeline\n",
    "from sklearn.feature_extraction.text import CountVectorizer, TfidfTransformer\n",
    "from sklearn.linear_model import LogisticRegression\n",
    "from sklearn.metrics import classification_report, multilabel_confusion_matrix, confusion_matrix\n",
    "from sklearn.metrics import precision_recall_fscore_support as score\n",
    "\n",
    "import warnings\n",
    "warnings.filterwarnings('ignore')"
   ]
  },
  {
   "cell_type": "code",
   "execution_count": 2,
   "id": "eb9f468c",
   "metadata": {},
   "outputs": [
    {
     "name": "stderr",
     "output_type": "stream",
     "text": [
      "[nltk_data] Downloading package stopwords to\n",
      "[nltk_data]     C:\\Users\\tanis\\AppData\\Roaming\\nltk_data...\n",
      "[nltk_data]   Unzipping corpora\\stopwords.zip.\n"
     ]
    },
    {
     "data": {
      "text/plain": [
       "True"
      ]
     },
     "execution_count": 2,
     "metadata": {},
     "output_type": "execute_result"
    }
   ],
   "source": [
    "nltk.download('stopwords')"
   ]
  },
  {
   "cell_type": "code",
   "execution_count": 21,
   "id": "b563c3fb",
   "metadata": {},
   "outputs": [
    {
     "data": {
      "text/html": [
       "<div>\n",
       "<style scoped>\n",
       "    .dataframe tbody tr th:only-of-type {\n",
       "        vertical-align: middle;\n",
       "    }\n",
       "\n",
       "    .dataframe tbody tr th {\n",
       "        vertical-align: top;\n",
       "    }\n",
       "\n",
       "    .dataframe thead th {\n",
       "        text-align: right;\n",
       "    }\n",
       "</style>\n",
       "<table border=\"1\" class=\"dataframe\">\n",
       "  <thead>\n",
       "    <tr style=\"text-align: right;\">\n",
       "      <th></th>\n",
       "      <th>patient_id</th>\n",
       "      <th>sequence</th>\n",
       "      <th>label</th>\n",
       "    </tr>\n",
       "  </thead>\n",
       "  <tbody>\n",
       "    <tr>\n",
       "      <th>0</th>\n",
       "      <td>Z8399761</td>\n",
       "      <td>(unclear history), venous insufficiency, PVD, ...</td>\n",
       "      <td>3</td>\n",
       "    </tr>\n",
       "    <tr>\n",
       "      <th>1</th>\n",
       "      <td>Z11957588</td>\n",
       "      <td>period. It apparently cuts car accident rates ...</td>\n",
       "      <td>1</td>\n",
       "    </tr>\n",
       "    <tr>\n",
       "      <th>2</th>\n",
       "      <td>Z10809276</td>\n",
       "      <td>(P) 5 Hearing: no concerns Vision: needs updat...</td>\n",
       "      <td>2</td>\n",
       "    </tr>\n",
       "    <tr>\n",
       "      <th>3</th>\n",
       "      <td>Z8539944</td>\n",
       "      <td>remission, s/p 1 suicide attempt, 3 IPLOC admi...</td>\n",
       "      <td>3</td>\n",
       "    </tr>\n",
       "    <tr>\n",
       "      <th>4</th>\n",
       "      <td>Z12696803</td>\n",
       "      <td>should be pursued at that point in time. He an...</td>\n",
       "      <td>1</td>\n",
       "    </tr>\n",
       "    <tr>\n",
       "      <th>5</th>\n",
       "      <td>Z7552077</td>\n",
       "      <td>since the hospital visit. The patient is accom...</td>\n",
       "      <td>2</td>\n",
       "    </tr>\n",
       "    <tr>\n",
       "      <th>6</th>\n",
       "      <td>Z11702635</td>\n",
       "      <td>71 y.o. female with has a past medical history...</td>\n",
       "      <td>3</td>\n",
       "    </tr>\n",
       "    <tr>\n",
       "      <th>7</th>\n",
       "      <td>Z15548862</td>\n",
       "      <td>in the Memory Diagnostic Clinic at McLean Hosp...</td>\n",
       "      <td>3</td>\n",
       "    </tr>\n",
       "    <tr>\n",
       "      <th>8</th>\n",
       "      <td>Z7648831</td>\n",
       "      <td>on back wound with significant output per RN. ...</td>\n",
       "      <td>3</td>\n",
       "    </tr>\n",
       "    <tr>\n",
       "      <th>9</th>\n",
       "      <td>Z7701777</td>\n",
       "      <td>lobes bilaterally and left parietal lobe. Thes...</td>\n",
       "      <td>3</td>\n",
       "    </tr>\n",
       "    <tr>\n",
       "      <th>10</th>\n",
       "      <td>Z7762556</td>\n",
       "      <td>Assistance: Verbal cues moderate, Physical ass...</td>\n",
       "      <td>2</td>\n",
       "    </tr>\n",
       "    <tr>\n",
       "      <th>11</th>\n",
       "      <td>Z8774192</td>\n",
       "      <td>renal stenting), MALT lymphoma of R parotid (s...</td>\n",
       "      <td>3</td>\n",
       "    </tr>\n",
       "    <tr>\n",
       "      <th>12</th>\n",
       "      <td>Z8291164</td>\n",
       "      <td>neurologist' as documented in the notes and I ...</td>\n",
       "      <td>3</td>\n",
       "    </tr>\n",
       "    <tr>\n",
       "      <th>13</th>\n",
       "      <td>Z7091114</td>\n",
       "      <td>no antiplatelets/anticoagulation, PMHx inflamm...</td>\n",
       "      <td>3</td>\n",
       "    </tr>\n",
       "    <tr>\n",
       "      <th>14</th>\n",
       "      <td>Z11702635</td>\n",
       "      <td>your patient, Joyce Alexander , in the Neurolo...</td>\n",
       "      <td>3</td>\n",
       "    </tr>\n",
       "    <tr>\n",
       "      <th>15</th>\n",
       "      <td>Z9302874</td>\n",
       "      <td>• Crab GI Upset • Pollen Extracts FAMILY HISTO...</td>\n",
       "      <td>2</td>\n",
       "    </tr>\n",
       "    <tr>\n",
       "      <th>16</th>\n",
       "      <td>Z11511001</td>\n",
       "      <td>• Hyperlipidemia • Hypothyroidism • Tracheomal...</td>\n",
       "      <td>2</td>\n",
       "    </tr>\n",
       "    <tr>\n",
       "      <th>17</th>\n",
       "      <td>Z6818854</td>\n",
       "      <td>MRN: 38611851 PCP: Anna A Manatis Referring Pr...</td>\n",
       "      <td>3</td>\n",
       "    </tr>\n",
       "  </tbody>\n",
       "</table>\n",
       "</div>"
      ],
      "text/plain": [
       "   patient_id                                           sequence  label\n",
       "0    Z8399761  (unclear history), venous insufficiency, PVD, ...      3\n",
       "1   Z11957588  period. It apparently cuts car accident rates ...      1\n",
       "2   Z10809276  (P) 5 Hearing: no concerns Vision: needs updat...      2\n",
       "3    Z8539944  remission, s/p 1 suicide attempt, 3 IPLOC admi...      3\n",
       "4   Z12696803  should be pursued at that point in time. He an...      1\n",
       "5    Z7552077  since the hospital visit. The patient is accom...      2\n",
       "6   Z11702635  71 y.o. female with has a past medical history...      3\n",
       "7   Z15548862  in the Memory Diagnostic Clinic at McLean Hosp...      3\n",
       "8    Z7648831  on back wound with significant output per RN. ...      3\n",
       "9    Z7701777  lobes bilaterally and left parietal lobe. Thes...      3\n",
       "10   Z7762556  Assistance: Verbal cues moderate, Physical ass...      2\n",
       "11   Z8774192  renal stenting), MALT lymphoma of R parotid (s...      3\n",
       "12   Z8291164  neurologist' as documented in the notes and I ...      3\n",
       "13   Z7091114  no antiplatelets/anticoagulation, PMHx inflamm...      3\n",
       "14  Z11702635  your patient, Joyce Alexander , in the Neurolo...      3\n",
       "15   Z9302874  • Crab GI Upset • Pollen Extracts FAMILY HISTO...      2\n",
       "16  Z11511001  • Hyperlipidemia • Hypothyroidism • Tracheomal...      2\n",
       "17   Z6818854  MRN: 38611851 PCP: Anna A Manatis Referring Pr...      3"
      ]
     },
     "execution_count": 21,
     "metadata": {},
     "output_type": "execute_result"
    }
   ],
   "source": [
    "train_df = pd.read_csv(\"input.csv\")\n",
    "\n",
    "train_df.drop(columns=['Unnamed: 0'])\n",
    "\n",
    "# yes = pd.read_csv(\"yes.csv\")\n",
    "# yes = yes[\"sequence\"].to_list()\n",
    "\n",
    "# no = pd.read_csv(\"no.csv\")\n",
    "# no = no[\"sequence\"].to_list()\n",
    "\n",
    "# neither = pd.read_csv(\"neither.csv\")\n",
    "# neither = neither[\"sequence\"].to_list()"
   ]
  },
  {
   "cell_type": "code",
   "execution_count": 26,
   "id": "59b260d9",
   "metadata": {},
   "outputs": [
    {
     "data": {
      "text/html": [
       "<div>\n",
       "<style scoped>\n",
       "    .dataframe tbody tr th:only-of-type {\n",
       "        vertical-align: middle;\n",
       "    }\n",
       "\n",
       "    .dataframe tbody tr th {\n",
       "        vertical-align: top;\n",
       "    }\n",
       "\n",
       "    .dataframe thead th {\n",
       "        text-align: right;\n",
       "    }\n",
       "</style>\n",
       "<table border=\"1\" class=\"dataframe\">\n",
       "  <thead>\n",
       "    <tr style=\"text-align: right;\">\n",
       "      <th></th>\n",
       "      <th>patient_id</th>\n",
       "      <th>sequence</th>\n",
       "      <th>label</th>\n",
       "    </tr>\n",
       "  </thead>\n",
       "  <tbody>\n",
       "    <tr>\n",
       "      <th>0</th>\n",
       "      <td>Z7766129</td>\n",
       "      <td>(akathisia) diphenhydramine (urinary retention...</td>\n",
       "      <td>2</td>\n",
       "    </tr>\n",
       "    <tr>\n",
       "      <th>1</th>\n",
       "      <td>Z12274682</td>\n",
       "      <td>is notable for maternal grandmother with epile...</td>\n",
       "      <td>1</td>\n",
       "    </tr>\n",
       "    <tr>\n",
       "      <th>2</th>\n",
       "      <td>Z10490939</td>\n",
       "      <td>Bundle branch block Cataract Nonexudative age-...</td>\n",
       "      <td>3</td>\n",
       "    </tr>\n",
       "  </tbody>\n",
       "</table>\n",
       "</div>"
      ],
      "text/plain": [
       "  patient_id                                           sequence  label\n",
       "0   Z7766129  (akathisia) diphenhydramine (urinary retention...      2\n",
       "1  Z12274682  is notable for maternal grandmother with epile...      1\n",
       "2  Z10490939  Bundle branch block Cataract Nonexudative age-...      3"
      ]
     },
     "execution_count": 26,
     "metadata": {},
     "output_type": "execute_result"
    }
   ],
   "source": [
    "test_df = pd.read_csv(\"input_test.csv\")\n",
    "\n",
    "test_df.drop(columns=['Unnamed: 0'])"
   ]
  },
  {
   "cell_type": "code",
   "execution_count": 14,
   "id": "c37c927b",
   "metadata": {},
   "outputs": [],
   "source": [
    "# train_yes = yes[:int(0.85 * len(yes))]\n",
    "# test_yes = yes[int(0.85 * len(yes)):]\n",
    "\n",
    "# train_no = no[:int(0.85 * len(no))]\n",
    "# test_no = no[int(0.85 * len(no)):]\n",
    "\n",
    "# train_neither = neither[:int(0.85 * len(neither))]\n",
    "# test_neither = neither[int(0.85 * len(neither)):]\n",
    "\n",
    "# train_x = train_yes + train_no + train_neither\n",
    "# test_x = test_yes + test_no + test_neither\n",
    "\n",
    "# train_y = np.append(np.ones((len(train_yes), 1)), np.zeros((len(train_neg), 1)), axis=0)\n",
    "# test_y = np.append(np.ones((len(test_pos), 1)), np.zeros((len(test_neg), 1)), axis=0)"
   ]
  },
  {
   "cell_type": "code",
   "execution_count": 23,
   "id": "3ddbc0db",
   "metadata": {},
   "outputs": [],
   "source": [
    "# Create a transformation pipeline\n",
    "# The pipeline sequentially applies a list of transforms and as a final estimator logistic regression \n",
    "pipeline_log = Pipeline([\n",
    "                ('count', CountVectorizer()),\n",
    "                ('tfidf', TfidfTransformer()),\n",
    "                ('clf', LogisticRegression(solver='liblinear', multi_class='auto')),\n",
    "        ])\n",
    "\n",
    "# Train model using the created sklearn pipeline\n",
    "model_name = 'logistic regression classifier'\n",
    "model_lgr = pipeline_log.fit(train_df['sequence'], train_df['label'])"
   ]
  },
  {
   "cell_type": "code",
   "execution_count": 40,
   "id": "3145450f",
   "metadata": {},
   "outputs": [],
   "source": [
    "def evaluate_results(model, test_df):\n",
    "    # Predict class labels using the learner function\n",
    "    test_df['pred'] = model_lgr.predict(test_df['sequence'])\n",
    "    y_true = test_df['label']\n",
    "    y_pred = test_df['pred']\n",
    "    target_names = ['negative', 'neither', 'positive']\n",
    "\n",
    "    # Print the Confusion Matrix\n",
    "    results_log = classification_report(y_true, y_pred, target_names=target_names, output_dict=True)\n",
    "    results_df_log = pd.DataFrame(results_log).transpose()\n",
    "    print(results_df_log)\n",
    "    matrix = confusion_matrix(y_true,  y_pred)\n",
    "    sns.heatmap(pd.DataFrame(matrix), \n",
    "                annot=True, fmt=\"d\", linewidths=.5, cmap=\"YlGnBu\")\n",
    "    plt.xlabel('Predictions')\n",
    "    plt.xlabel('Actual')\n",
    "\n",
    "    model_score = score(y_pred, y_true, average='macro')\n",
    "    return model_score"
   ]
  },
  {
   "cell_type": "code",
   "execution_count": 47,
   "id": "28b44b95",
   "metadata": {},
   "outputs": [
    {
     "name": "stdout",
     "output_type": "stream",
     "text": [
      "              precision    recall  f1-score   support\n",
      "negative       0.000000  0.000000  0.000000  1.000000\n",
      "neither        0.000000  0.000000  0.000000  1.000000\n",
      "positive       0.333333  1.000000  0.500000  1.000000\n",
      "accuracy       0.333333  0.333333  0.333333  0.333333\n",
      "macro avg      0.111111  0.333333  0.166667  3.000000\n",
      "weighted avg   0.111111  0.333333  0.166667  3.000000\n"
     ]
    },
    {
     "data": {
      "image/png": "[encoded data removed]",
      "text/plain": [
       "<Figure size 432x288 with 2 Axes>"
      ]
     },
     "metadata": {
      "needs_background": "light"
     },
     "output_type": "display_data"
    }
   ],
   "source": [
    "# Evaluate model performance\n",
    "model_score = evaluate_results(model_lgr, test_df)\n",
    "performance_df = pd.DataFrame().append({'model_name': model_name, \n",
    "                                    'f1_score': model_score[0], \n",
    "                                    'precision': model_score[1], \n",
    "                                    'recall': model_score[2]}, ignore_index=True) "
   ]
  },
  {
   "cell_type": "code",
   "execution_count": 43,
   "id": "5fe7e804",
   "metadata": {},
   "outputs": [
    {
     "name": "stdout",
     "output_type": "stream",
     "text": [
      "PHQ-2 Score: 0 Cognition Negative: no evidence of cognitive decline noted by patient or family; no memory problems causing dysfunction in daily activities Falls risk Time to rise from, walk 10 feet,-> Positive \n",
      "\n",
      "depression, but certainly does not appear depressed on exam - Dementia: MMSE on 5/21/16 23/30 c/w Mild cognitive impairment, which is NOT c/w profound weight loss - Gastroparesis: Hx of diabetes-> Positive \n",
      "\n"
     ]
    }
   ],
   "source": [
    "prediction_sequences = ['PHQ-2 Score: 0 Cognition Negative: no evidence of cognitive decline noted by patient or family; no memory problems causing dysfunction in daily activities Falls risk Time to rise from, walk 10 feet,', \n",
    "                       'depression, but certainly does not appear depressed on exam - Dementia: MMSE on 5/21/16 23/30 c/w Mild cognitive impairment, which is NOT c/w profound weight loss - Gastroparesis: Hx of diabetes']\n",
    "for seq in prediction_sequences:\n",
    "    ans = model_lgr.predict([seq])\n",
    "    d = {1: 'Negative', 2: 'Neither', 3: 'Positive'}\n",
    "    print(seq + '-> ' + d[ans[0]], \"\\n\")"
   ]
  }
 ],
 "metadata": {
  "kernelspec": {
   "display_name": "spacy_env",
   "language": "python",
   "name": "spacy_env"
  },
  "language_info": {
   "codemirror_mode": {
    "name": "ipython",
    "version": 3
   },
   "file_extension": ".py",
   "mimetype": "text/x-python",
   "name": "python",
   "nbconvert_exporter": "python",
   "pygments_lexer": "ipython3",
   "version": "3.7.10"
  }
 },
 "nbformat": 4,
 "nbformat_minor": 5
}
